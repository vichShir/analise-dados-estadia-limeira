{
  "nbformat": 4,
  "nbformat_minor": 0,
  "metadata": {
    "colab": {
      "name": "ADEL_1.webscraping_bairros.ipynb",
      "provenance": [],
      "collapsed_sections": []
    },
    "kernelspec": {
      "name": "python3",
      "display_name": "Python 3"
    },
    "language_info": {
      "name": "python"
    }
  },
  "cells": [
    {
      "cell_type": "markdown",
      "metadata": {
        "id": "y9wTQhFUeiK-"
      },
      "source": [
        "# Projeto ADEL (Análise Dados Estadia em Limeira) - Webscraping dos Bairros\n",
        "Neste notebook, realizarei a extração dos dados dos bairros em Limeira, SP. Coletarei as localizações dos bairros e a distância de cada da faculdade."
      ]
    },
    {
      "cell_type": "markdown",
      "metadata": {
        "id": "AaHRFWu7ee2I"
      },
      "source": [
        "## Geolocalização"
      ]
    },
    {
      "cell_type": "code",
      "metadata": {
        "id": "oV89Q513z86Q"
      },
      "source": [
        "from geopy.geocoders import Nominatim\n",
        "import geopy"
      ],
      "execution_count": null,
      "outputs": []
    },
    {
      "cell_type": "code",
      "metadata": {
        "id": "wDVL-Q0_z9st"
      },
      "source": [
        "geolocator = Nominatim(user_agent=\"EstadiaLimeiraApp\")"
      ],
      "execution_count": null,
      "outputs": []
    },
    {
      "cell_type": "code",
      "metadata": {
        "id": "AGrFjap11L4B"
      },
      "source": [
        "location = geolocator.geocode(\"MASP, São Paulo\")\n",
        "\n",
        "print(location.address)\n",
        "print((location.latitude, location.longitude))\n",
        "print(location.raw)"
      ],
      "execution_count": null,
      "outputs": []
    },
    {
      "cell_type": "markdown",
      "metadata": {
        "id": "atOqsD97eIqu"
      },
      "source": [
        "## Webscraping - Extração Bairros"
      ]
    },
    {
      "cell_type": "code",
      "metadata": {
        "id": "Uar9WlpQ3Zok"
      },
      "source": [
        "from bs4 import BeautifulSoup\n",
        "from urllib.request import urlopen\n",
        "import pandas as pd"
      ],
      "execution_count": null,
      "outputs": []
    },
    {
      "cell_type": "code",
      "metadata": {
        "id": "zEj9mdFc3Z2a"
      },
      "source": [
        "url = 'https://www.guiamais.com.br/bairros/limeira-sp'\n",
        "response = urlopen(url)\n",
        "html_bairros_limeira = response.read()\n",
        "soup_bairros_limeira = BeautifulSoup(html_bairros_limeira, 'html.parser')"
      ],
      "execution_count": null,
      "outputs": []
    },
    {
      "cell_type": "code",
      "metadata": {
        "colab": {
          "base_uri": "https://localhost:8080/"
        },
        "id": "-DY1o-nT3ynT",
        "outputId": "b5cab521-8fe9-4706-d7b3-b8755897883b"
      },
      "source": [
        "bairros = []\n",
        "\n",
        "# Coletando os bairros\n",
        "for bairro in soup_bairros_limeira.find('section', {'class': 'cities'}).find_all('a'):\n",
        "  bairros.append(bairro.get_text())\n",
        "\n",
        "bairros = pd.Series(bairros)\n",
        "print(bairros)"
      ],
      "execution_count": null,
      "outputs": [
        {
          "output_type": "stream",
          "name": "stdout",
          "text": [
            "0                     Anavec\n",
            "1      Área Rural de Limeira\n",
            "2            Bairro da Geada\n",
            "3           Bairro dos Lopes\n",
            "4           Bairro dos Pires\n",
            "               ...          \n",
            "247            Vila São João\n",
            "248            Vila São Luiz\n",
            "249           Vila São Roque\n",
            "250               Vila Solar\n",
            "251    Vila Teixeira Marques\n",
            "Length: 252, dtype: object\n"
          ]
        }
      ]
    },
    {
      "cell_type": "code",
      "metadata": {
        "id": "pvruHery4JgF"
      },
      "source": [
        "bairros_df = []\n",
        "lats = []\n",
        "longs = []\n",
        "\n",
        "# Determinar a localização de cada bairro\n",
        "for bairro in bairros:\n",
        "  location = geolocator.geocode(f\"{bairro}, Limeira, São Paulo, Brazil\")\n",
        "  if location is not None:\n",
        "    bairros_df.append(bairro)\n",
        "    lats.append(location.latitude)\n",
        "    longs.append(location.longitude)"
      ],
      "execution_count": null,
      "outputs": []
    },
    {
      "cell_type": "code",
      "metadata": {
        "colab": {
          "base_uri": "https://localhost:8080/",
          "height": 206
        },
        "id": "K4tXbT87Rj_s",
        "outputId": "d45f5e07-bd70-41a8-d088-78222c3a15a0"
      },
      "source": [
        "# Juntando os dados em um Data Frame\n",
        "df_bairros = pd.DataFrame(data=None, columns=['bairro', 'latitude', 'longitude'])\n",
        "df_bairros['bairro'] = bairros_df\n",
        "df_bairros['latitude'] = lats\n",
        "df_bairros['longitude'] = longs\n",
        "\n",
        "df_bairros.head()"
      ],
      "execution_count": null,
      "outputs": [
        {
          "output_type": "execute_result",
          "data": {
            "text/html": [
              "<div>\n",
              "<style scoped>\n",
              "    .dataframe tbody tr th:only-of-type {\n",
              "        vertical-align: middle;\n",
              "    }\n",
              "\n",
              "    .dataframe tbody tr th {\n",
              "        vertical-align: top;\n",
              "    }\n",
              "\n",
              "    .dataframe thead th {\n",
              "        text-align: right;\n",
              "    }\n",
              "</style>\n",
              "<table border=\"1\" class=\"dataframe\">\n",
              "  <thead>\n",
              "    <tr style=\"text-align: right;\">\n",
              "      <th></th>\n",
              "      <th>bairro</th>\n",
              "      <th>latitude</th>\n",
              "      <th>longitude</th>\n",
              "    </tr>\n",
              "  </thead>\n",
              "  <tbody>\n",
              "    <tr>\n",
              "      <th>0</th>\n",
              "      <td>Boa Vista</td>\n",
              "      <td>-22.606206</td>\n",
              "      <td>-47.548925</td>\n",
              "    </tr>\n",
              "    <tr>\n",
              "      <th>1</th>\n",
              "      <td>Centro</td>\n",
              "      <td>-22.565492</td>\n",
              "      <td>-47.403798</td>\n",
              "    </tr>\n",
              "    <tr>\n",
              "      <th>2</th>\n",
              "      <td>Chácara Antonieta</td>\n",
              "      <td>-22.555338</td>\n",
              "      <td>-47.436975</td>\n",
              "    </tr>\n",
              "    <tr>\n",
              "      <th>3</th>\n",
              "      <td>Chácara São José</td>\n",
              "      <td>-22.581140</td>\n",
              "      <td>-47.397673</td>\n",
              "    </tr>\n",
              "    <tr>\n",
              "      <th>4</th>\n",
              "      <td>Doutor João Batista Levy</td>\n",
              "      <td>-22.580151</td>\n",
              "      <td>-47.404356</td>\n",
              "    </tr>\n",
              "  </tbody>\n",
              "</table>\n",
              "</div>"
            ],
            "text/plain": [
              "                     bairro   latitude  longitude\n",
              "0                 Boa Vista -22.606206 -47.548925\n",
              "1                    Centro -22.565492 -47.403798\n",
              "2         Chácara Antonieta -22.555338 -47.436975\n",
              "3          Chácara São José -22.581140 -47.397673\n",
              "4  Doutor João Batista Levy -22.580151 -47.404356"
            ]
          },
          "metadata": {},
          "execution_count": 108
        }
      ]
    },
    {
      "cell_type": "code",
      "metadata": {
        "colab": {
          "base_uri": "https://localhost:8080/"
        },
        "id": "gjs0aOJe6fUM",
        "outputId": "eb4f2ed7-8ab2-4820-c4b4-f6e6cf6b6c15"
      },
      "source": [
        "num_bairros_inicial = len(df_bairros)\n",
        "print(f'Foram encontrados {num_bairros_inicial} bairros inicialmente.')"
      ],
      "execution_count": null,
      "outputs": [
        {
          "output_type": "stream",
          "name": "stdout",
          "text": [
            "Foram encontrados 43 bairros inicialmente.\n"
          ]
        }
      ]
    },
    {
      "cell_type": "markdown",
      "metadata": {
        "id": "f1CQbPAEfjjk"
      },
      "source": [
        "### Verificar bairros importantes"
      ]
    },
    {
      "cell_type": "code",
      "metadata": {
        "colab": {
          "base_uri": "https://localhost:8080/"
        },
        "id": "_BxlDvT-VKc5",
        "outputId": "3670a6d1-6e32-4bc0-8867-10c21ad5449f"
      },
      "source": [
        "!pip install unidecode"
      ],
      "execution_count": null,
      "outputs": [
        {
          "output_type": "stream",
          "name": "stdout",
          "text": [
            "Collecting unidecode\n",
            "  Downloading Unidecode-1.3.2-py3-none-any.whl (235 kB)\n",
            "\u001b[?25l\r\u001b[K     |█▍                              | 10 kB 20.3 MB/s eta 0:00:01\r\u001b[K     |██▉                             | 20 kB 26.3 MB/s eta 0:00:01\r\u001b[K     |████▏                           | 30 kB 15.8 MB/s eta 0:00:01\r\u001b[K     |█████▋                          | 40 kB 11.5 MB/s eta 0:00:01\r\u001b[K     |███████                         | 51 kB 5.6 MB/s eta 0:00:01\r\u001b[K     |████████▍                       | 61 kB 5.8 MB/s eta 0:00:01\r\u001b[K     |█████████▊                      | 71 kB 5.2 MB/s eta 0:00:01\r\u001b[K     |███████████▏                    | 81 kB 5.8 MB/s eta 0:00:01\r\u001b[K     |████████████▌                   | 92 kB 5.9 MB/s eta 0:00:01\r\u001b[K     |██████████████                  | 102 kB 5.2 MB/s eta 0:00:01\r\u001b[K     |███████████████▎                | 112 kB 5.2 MB/s eta 0:00:01\r\u001b[K     |████████████████▊               | 122 kB 5.2 MB/s eta 0:00:01\r\u001b[K     |██████████████████              | 133 kB 5.2 MB/s eta 0:00:01\r\u001b[K     |███████████████████▌            | 143 kB 5.2 MB/s eta 0:00:01\r\u001b[K     |████████████████████▉           | 153 kB 5.2 MB/s eta 0:00:01\r\u001b[K     |██████████████████████▎         | 163 kB 5.2 MB/s eta 0:00:01\r\u001b[K     |███████████████████████▋        | 174 kB 5.2 MB/s eta 0:00:01\r\u001b[K     |█████████████████████████       | 184 kB 5.2 MB/s eta 0:00:01\r\u001b[K     |██████████████████████████▍     | 194 kB 5.2 MB/s eta 0:00:01\r\u001b[K     |███████████████████████████▉    | 204 kB 5.2 MB/s eta 0:00:01\r\u001b[K     |█████████████████████████████▏  | 215 kB 5.2 MB/s eta 0:00:01\r\u001b[K     |██████████████████████████████▋ | 225 kB 5.2 MB/s eta 0:00:01\r\u001b[K     |████████████████████████████████| 235 kB 5.2 MB/s eta 0:00:01\r\u001b[K     |████████████████████████████████| 235 kB 5.2 MB/s \n",
            "\u001b[?25hInstalling collected packages: unidecode\n",
            "Successfully installed unidecode-1.3.2\n"
          ]
        }
      ]
    },
    {
      "cell_type": "code",
      "metadata": {
        "id": "Plf1dy9TR-kM"
      },
      "source": [
        "import unidecode\n",
        "\n",
        "def insert_row_to_df(df, row):\n",
        "  row_sr = pd.Series(row, index=['bairro', 'latitude', 'longitude'])\n",
        "\n",
        "  row_df = pd.DataFrame([row_sr])\n",
        "  df = pd.concat([row_df, df], ignore_index=True)\n",
        "  return df\n",
        "\n",
        "def checkBairro(df, bairros_to_check):\n",
        "  bairros = df_bairros['bairro'].map(lambda x: unidecode.unidecode(x).lower()).unique()\n",
        "  bairros_to_check = list(map(lambda x: unidecode.unidecode(x).lower(), bairros_to_check))\n",
        "  checksResult = []\n",
        "\n",
        "  for bairro in bairros_to_check:\n",
        "    checksResult.append(bairro in bairros)\n",
        "\n",
        "  checks = pd.Series(checksResult, index=bairros_to_check)\n",
        "  return checks"
      ],
      "execution_count": null,
      "outputs": []
    },
    {
      "cell_type": "code",
      "metadata": {
        "colab": {
          "base_uri": "https://localhost:8080/"
        },
        "id": "lcup4bhdUMDd",
        "outputId": "93848971-2f8a-4639-9582-4a2cb89a4bf5"
      },
      "source": [
        "bairros_to_check = ['jardim nova italia', \n",
        "                    'jardim paulista', \n",
        "                    'jardim sao paulo', \n",
        "                    'jardim morro azul', \n",
        "                    'jardim esmeralda',\n",
        "                    'jardim perola',\n",
        "                    'chacara antonieta',\n",
        "                    'cidade universitaria',\n",
        "                    'jardim santa fe',\n",
        "                    'jardim nossa sra. de fatima',\n",
        "                    'vila santa josefa',\n",
        "                    'jardim santa cecilia',\n",
        "                    'vila esteves',\n",
        "                    'vila santa rosalia',\n",
        "                    'parque real',\n",
        "                    'vila sao joao',\n",
        "                    'vila mathias',\n",
        "                    'vila anita',\n",
        "                    'parque sao bento',\n",
        "                    'parque centreville',\n",
        "                    'jardim aquarius',\n",
        "                    'vila rocha']\n",
        "\n",
        "# Retorna False se o bairro não está no dataframe\n",
        "series_bairros_check = checkBairro(df_bairros, bairros_to_check)\n",
        "series_bairros_check"
      ],
      "execution_count": null,
      "outputs": [
        {
          "output_type": "execute_result",
          "data": {
            "text/plain": [
              "jardim nova italia             False\n",
              "jardim paulista                False\n",
              "jardim sao paulo                True\n",
              "jardim morro azul              False\n",
              "jardim esmeralda               False\n",
              "jardim perola                  False\n",
              "chacara antonieta               True\n",
              "cidade universitaria           False\n",
              "jardim santa fe                False\n",
              "jardim nossa sra. de fatima    False\n",
              "vila santa josefa               True\n",
              "jardim santa cecilia            True\n",
              "vila esteves                    True\n",
              "vila santa rosalia             False\n",
              "parque real                     True\n",
              "vila sao joao                  False\n",
              "vila mathias                   False\n",
              "vila anita                     False\n",
              "parque sao bento               False\n",
              "parque centreville             False\n",
              "jardim aquarius                False\n",
              "vila rocha                     False\n",
              "dtype: bool"
            ]
          },
          "metadata": {},
          "execution_count": 64
        }
      ]
    },
    {
      "cell_type": "code",
      "metadata": {
        "colab": {
          "base_uri": "https://localhost:8080/"
        },
        "id": "iWZDsZaIYM8G",
        "outputId": "c77df965-97d7-4ed8-93b5-4195598e2cf2"
      },
      "source": [
        "# Saber os bairros importantes que não estão no dataframe\n",
        "series_bairros_check[series_bairros_check == False]"
      ],
      "execution_count": null,
      "outputs": [
        {
          "output_type": "execute_result",
          "data": {
            "text/plain": [
              "jardim nova italia             False\n",
              "jardim paulista                False\n",
              "jardim morro azul              False\n",
              "jardim esmeralda               False\n",
              "jardim perola                  False\n",
              "cidade universitaria           False\n",
              "jardim santa fe                False\n",
              "jardim nossa sra. de fatima    False\n",
              "vila santa rosalia             False\n",
              "vila sao joao                  False\n",
              "vila mathias                   False\n",
              "vila anita                     False\n",
              "parque sao bento               False\n",
              "parque centreville             False\n",
              "jardim aquarius                False\n",
              "vila rocha                     False\n",
              "dtype: bool"
            ]
          },
          "metadata": {},
          "execution_count": 65
        }
      ]
    },
    {
      "cell_type": "code",
      "metadata": {
        "colab": {
          "base_uri": "https://localhost:8080/"
        },
        "id": "um768l4Tcq2n",
        "outputId": "79f09bd9-35ba-492c-8e80-4c8669471896"
      },
      "source": [
        "num_bairros_to_add = len(series_bairros_check[series_bairros_check == False])\n",
        "print(f'{num_bairros_to_add} bairros que não estão no dataset! Adicioná-los manualmente.')"
      ],
      "execution_count": null,
      "outputs": [
        {
          "output_type": "stream",
          "name": "stdout",
          "text": [
            "16 bairros que não estão no dataset! Adicioná-los manualmente.\n"
          ]
        }
      ]
    },
    {
      "cell_type": "markdown",
      "metadata": {
        "id": "KvzxmryNaK60"
      },
      "source": [
        "#### Inserindo os bairros manualmente"
      ]
    },
    {
      "cell_type": "code",
      "metadata": {
        "id": "5oLmqEIiaNpO"
      },
      "source": [
        "df_bairros = insert_row_to_df(df_bairros, ['jardim nova italia', -22.559177655613762, -47.42176126705203])"
      ],
      "execution_count": null,
      "outputs": []
    },
    {
      "cell_type": "code",
      "metadata": {
        "id": "ySyRoyPjbBgK"
      },
      "source": [
        "df_bairros = insert_row_to_df(df_bairros, ['jardim paulista', -22.558299143228314, -47.42619275210369])"
      ],
      "execution_count": null,
      "outputs": []
    },
    {
      "cell_type": "code",
      "metadata": {
        "id": "GljEjBBNbBxh"
      },
      "source": [
        "df_bairros = insert_row_to_df(df_bairros, ['jardim morro azul', -22.5584169798876, -47.43045410500301])"
      ],
      "execution_count": null,
      "outputs": []
    },
    {
      "cell_type": "code",
      "metadata": {
        "id": "Uq_0YZh4baEk"
      },
      "source": [
        "df_bairros = insert_row_to_df(df_bairros, ['jardim esmeralda', -22.564260676816346, -47.435532311315484])"
      ],
      "execution_count": null,
      "outputs": []
    },
    {
      "cell_type": "code",
      "metadata": {
        "id": "0BVtoyCxbcBw"
      },
      "source": [
        "df_bairros = insert_row_to_df(df_bairros, ['jardim perola', -22.563011669111834, -47.438237176617655])"
      ],
      "execution_count": null,
      "outputs": []
    },
    {
      "cell_type": "code",
      "metadata": {
        "id": "WMw9gWmhbcLu"
      },
      "source": [
        "df_bairros = insert_row_to_df(df_bairros, ['cidade universitaria', -22.553112082481263, -47.433785919560094])"
      ],
      "execution_count": null,
      "outputs": []
    },
    {
      "cell_type": "code",
      "metadata": {
        "id": "NhAtA_yObcY1"
      },
      "source": [
        "df_bairros = insert_row_to_df(df_bairros, ['jardim santa fe', -22.565597998868245, -47.422697294285875])"
      ],
      "execution_count": null,
      "outputs": []
    },
    {
      "cell_type": "code",
      "metadata": {
        "id": "aQ2FljhVbcim"
      },
      "source": [
        "df_bairros = insert_row_to_df(df_bairros, ['jardim nossa sra. de fatima', -22.56550370773466, -47.426499662401234])"
      ],
      "execution_count": null,
      "outputs": []
    },
    {
      "cell_type": "code",
      "metadata": {
        "id": "Ql-k1OrIbcpm"
      },
      "source": [
        "df_bairros = insert_row_to_df(df_bairros, ['vila santa rosalia', -22.576232119192287, -47.406309958879994])"
      ],
      "execution_count": null,
      "outputs": []
    },
    {
      "cell_type": "code",
      "metadata": {
        "id": "F47KXLqxbcwW"
      },
      "source": [
        "df_bairros = insert_row_to_df(df_bairros, ['vila sao joao', -22.563403058144573, -47.41099287617916])"
      ],
      "execution_count": null,
      "outputs": []
    },
    {
      "cell_type": "code",
      "metadata": {
        "id": "QZYFV0F_bc21"
      },
      "source": [
        "df_bairros = insert_row_to_df(df_bairros, ['vila mathias', -22.560899389858037, -47.41035742731719])"
      ],
      "execution_count": null,
      "outputs": []
    },
    {
      "cell_type": "code",
      "metadata": {
        "id": "0SkyoOlAbc9V"
      },
      "source": [
        "df_bairros = insert_row_to_df(df_bairros, ['vila anita', -22.556810220964934, -47.410568487120784])"
      ],
      "execution_count": null,
      "outputs": []
    },
    {
      "cell_type": "code",
      "metadata": {
        "id": "7f8IFe2ibdEM"
      },
      "source": [
        "df_bairros = insert_row_to_df(df_bairros, ['parque sao bento', -22.552056052471702, -47.41803295839295])"
      ],
      "execution_count": null,
      "outputs": []
    },
    {
      "cell_type": "code",
      "metadata": {
        "id": "gu6Epm6dbdLQ"
      },
      "source": [
        "df_bairros = insert_row_to_df(df_bairros, ['parque centreville', -22.551580463658322, -47.42222150033637])"
      ],
      "execution_count": null,
      "outputs": []
    },
    {
      "cell_type": "code",
      "metadata": {
        "id": "pD9MZsLwbdR-"
      },
      "source": [
        "df_bairros = insert_row_to_df(df_bairros, ['jardim aquarius', -22.550608190589706, -47.41667575205869])"
      ],
      "execution_count": null,
      "outputs": []
    },
    {
      "cell_type": "code",
      "metadata": {
        "id": "ek1ymEzvbdru"
      },
      "source": [
        "df_bairros = insert_row_to_df(df_bairros, ['vila rocha', -22.577951583104493, -47.410891226604896])"
      ],
      "execution_count": null,
      "outputs": []
    },
    {
      "cell_type": "code",
      "metadata": {
        "colab": {
          "base_uri": "https://localhost:8080/",
          "height": 206
        },
        "id": "Nb4xhOH-cgBe",
        "outputId": "cda311d2-357f-4f8b-bca9-4b03153095c0"
      },
      "source": [
        "df_bairros.head()"
      ],
      "execution_count": null,
      "outputs": [
        {
          "output_type": "execute_result",
          "data": {
            "text/html": [
              "<div>\n",
              "<style scoped>\n",
              "    .dataframe tbody tr th:only-of-type {\n",
              "        vertical-align: middle;\n",
              "    }\n",
              "\n",
              "    .dataframe tbody tr th {\n",
              "        vertical-align: top;\n",
              "    }\n",
              "\n",
              "    .dataframe thead th {\n",
              "        text-align: right;\n",
              "    }\n",
              "</style>\n",
              "<table border=\"1\" class=\"dataframe\">\n",
              "  <thead>\n",
              "    <tr style=\"text-align: right;\">\n",
              "      <th></th>\n",
              "      <th>bairro</th>\n",
              "      <th>latitude</th>\n",
              "      <th>longitude</th>\n",
              "    </tr>\n",
              "  </thead>\n",
              "  <tbody>\n",
              "    <tr>\n",
              "      <th>0</th>\n",
              "      <td>vila rocha</td>\n",
              "      <td>-22.577952</td>\n",
              "      <td>-47.410891</td>\n",
              "    </tr>\n",
              "    <tr>\n",
              "      <th>1</th>\n",
              "      <td>jardim aquarius</td>\n",
              "      <td>-22.550608</td>\n",
              "      <td>-47.416676</td>\n",
              "    </tr>\n",
              "    <tr>\n",
              "      <th>2</th>\n",
              "      <td>parque centreville</td>\n",
              "      <td>-22.551580</td>\n",
              "      <td>-47.422222</td>\n",
              "    </tr>\n",
              "    <tr>\n",
              "      <th>3</th>\n",
              "      <td>parque sao bento</td>\n",
              "      <td>-22.552056</td>\n",
              "      <td>-47.418033</td>\n",
              "    </tr>\n",
              "    <tr>\n",
              "      <th>4</th>\n",
              "      <td>vila anita</td>\n",
              "      <td>-22.556810</td>\n",
              "      <td>-47.410568</td>\n",
              "    </tr>\n",
              "  </tbody>\n",
              "</table>\n",
              "</div>"
            ],
            "text/plain": [
              "               bairro   latitude  longitude\n",
              "0          vila rocha -22.577952 -47.410891\n",
              "1     jardim aquarius -22.550608 -47.416676\n",
              "2  parque centreville -22.551580 -47.422222\n",
              "3    parque sao bento -22.552056 -47.418033\n",
              "4          vila anita -22.556810 -47.410568"
            ]
          },
          "metadata": {},
          "execution_count": 128
        }
      ]
    },
    {
      "cell_type": "code",
      "metadata": {
        "id": "DPiLm75ScmqP"
      },
      "source": [
        "num_bairros_final = len(df_bairros)\n",
        "assert num_bairros_inicial + num_bairros_to_add == num_bairros_final"
      ],
      "execution_count": null,
      "outputs": []
    },
    {
      "cell_type": "code",
      "metadata": {
        "colab": {
          "base_uri": "https://localhost:8080/"
        },
        "id": "Sa06MUkYlVa-",
        "outputId": "a5623404-2bf9-45e6-c211-113cc78e4cba"
      },
      "source": [
        "print(f'O dataset contém {num_bairros_final} bairros.')\n",
        "print(f'Dos quais, {num_bairros_inicial} bairros com geopy e {num_bairros_to_add} adicionados manualmente.')"
      ],
      "execution_count": null,
      "outputs": [
        {
          "output_type": "stream",
          "name": "stdout",
          "text": [
            "O dataset contém 59 bairros.\n",
            "Dos quais, 43 bairros com geopy e 16 adicionados manualmente.\n"
          ]
        }
      ]
    },
    {
      "cell_type": "markdown",
      "metadata": {
        "id": "nNNkuRxwejft"
      },
      "source": [
        "### Adicionar distância dos bairros até a FT Unicamp"
      ]
    },
    {
      "cell_type": "code",
      "metadata": {
        "id": "7tAF4yk0cpJe"
      },
      "source": [
        "import geopy.distance\n",
        "\n",
        "# Localização da faculdade\n",
        "coords_ft_unicamp = (-22.561883227911103, -47.42418079671464)\n",
        "distances = []\n",
        "\n",
        "# Calcular as distâncias dos bairros até a faculdade\n",
        "for i in range(len(df_bairros)):\n",
        "  coords_aux = df_bairros.iloc[i, 1:]\n",
        "  dist = geopy.distance.vincenty(coords_ft_unicamp, coords_aux).km\n",
        "  distances.append(dist)"
      ],
      "execution_count": null,
      "outputs": []
    },
    {
      "cell_type": "code",
      "metadata": {
        "colab": {
          "base_uri": "https://localhost:8080/",
          "height": 206
        },
        "id": "mS6HfSled44m",
        "outputId": "320f6383-3bfb-4320-b282-75a3959124d9"
      },
      "source": [
        "# Adicionar as distâncias no dataframe\n",
        "df_bairros['distancia_unicamp'] = distances\n",
        "df_bairros.head()"
      ],
      "execution_count": null,
      "outputs": [
        {
          "output_type": "execute_result",
          "data": {
            "text/html": [
              "<div>\n",
              "<style scoped>\n",
              "    .dataframe tbody tr th:only-of-type {\n",
              "        vertical-align: middle;\n",
              "    }\n",
              "\n",
              "    .dataframe tbody tr th {\n",
              "        vertical-align: top;\n",
              "    }\n",
              "\n",
              "    .dataframe thead th {\n",
              "        text-align: right;\n",
              "    }\n",
              "</style>\n",
              "<table border=\"1\" class=\"dataframe\">\n",
              "  <thead>\n",
              "    <tr style=\"text-align: right;\">\n",
              "      <th></th>\n",
              "      <th>bairro</th>\n",
              "      <th>latitude</th>\n",
              "      <th>longitude</th>\n",
              "      <th>distancia_unicamp</th>\n",
              "    </tr>\n",
              "  </thead>\n",
              "  <tbody>\n",
              "    <tr>\n",
              "      <th>0</th>\n",
              "      <td>vila rocha</td>\n",
              "      <td>-22.577952</td>\n",
              "      <td>-47.410891</td>\n",
              "      <td>2.243706</td>\n",
              "    </tr>\n",
              "    <tr>\n",
              "      <th>1</th>\n",
              "      <td>jardim aquarius</td>\n",
              "      <td>-22.550608</td>\n",
              "      <td>-47.416676</td>\n",
              "      <td>1.467927</td>\n",
              "    </tr>\n",
              "    <tr>\n",
              "      <th>2</th>\n",
              "      <td>parque centreville</td>\n",
              "      <td>-22.551580</td>\n",
              "      <td>-47.422222</td>\n",
              "      <td>1.158567</td>\n",
              "    </tr>\n",
              "    <tr>\n",
              "      <th>3</th>\n",
              "      <td>parque sao bento</td>\n",
              "      <td>-22.552056</td>\n",
              "      <td>-47.418033</td>\n",
              "      <td>1.258614</td>\n",
              "    </tr>\n",
              "    <tr>\n",
              "      <th>4</th>\n",
              "      <td>vila anita</td>\n",
              "      <td>-22.556810</td>\n",
              "      <td>-47.410568</td>\n",
              "      <td>1.508559</td>\n",
              "    </tr>\n",
              "  </tbody>\n",
              "</table>\n",
              "</div>"
            ],
            "text/plain": [
              "               bairro   latitude  longitude  distancia_unicamp\n",
              "0          vila rocha -22.577952 -47.410891           2.243706\n",
              "1     jardim aquarius -22.550608 -47.416676           1.467927\n",
              "2  parque centreville -22.551580 -47.422222           1.158567\n",
              "3    parque sao bento -22.552056 -47.418033           1.258614\n",
              "4          vila anita -22.556810 -47.410568           1.508559"
            ]
          },
          "metadata": {},
          "execution_count": 87
        }
      ]
    },
    {
      "cell_type": "code",
      "metadata": {
        "colab": {
          "base_uri": "https://localhost:8080/",
          "height": 17
        },
        "id": "n-ay28DVfFC4",
        "outputId": "78488cd4-a942-4716-8b98-5b47c43d5d05"
      },
      "source": [
        "from google.colab import files\n",
        "\n",
        "# Exportar os dados\n",
        "df_bairros.to_csv(r'bairros.csv', index=False)\n",
        "files.download('bairros.csv')"
      ],
      "execution_count": null,
      "outputs": [
        {
          "output_type": "display_data",
          "data": {
            "application/javascript": [
              "\n",
              "    async function download(id, filename, size) {\n",
              "      if (!google.colab.kernel.accessAllowed) {\n",
              "        return;\n",
              "      }\n",
              "      const div = document.createElement('div');\n",
              "      const label = document.createElement('label');\n",
              "      label.textContent = `Downloading \"${filename}\": `;\n",
              "      div.appendChild(label);\n",
              "      const progress = document.createElement('progress');\n",
              "      progress.max = size;\n",
              "      div.appendChild(progress);\n",
              "      document.body.appendChild(div);\n",
              "\n",
              "      const buffers = [];\n",
              "      let downloaded = 0;\n",
              "\n",
              "      const channel = await google.colab.kernel.comms.open(id);\n",
              "      // Send a message to notify the kernel that we're ready.\n",
              "      channel.send({})\n",
              "\n",
              "      for await (const message of channel.messages) {\n",
              "        // Send a message to notify the kernel that we're ready.\n",
              "        channel.send({})\n",
              "        if (message.buffers) {\n",
              "          for (const buffer of message.buffers) {\n",
              "            buffers.push(buffer);\n",
              "            downloaded += buffer.byteLength;\n",
              "            progress.value = downloaded;\n",
              "          }\n",
              "        }\n",
              "      }\n",
              "      const blob = new Blob(buffers, {type: 'application/binary'});\n",
              "      const a = document.createElement('a');\n",
              "      a.href = window.URL.createObjectURL(blob);\n",
              "      a.download = filename;\n",
              "      div.appendChild(a);\n",
              "      a.click();\n",
              "      div.remove();\n",
              "    }\n",
              "  "
            ],
            "text/plain": [
              "<IPython.core.display.Javascript object>"
            ]
          },
          "metadata": {}
        },
        {
          "output_type": "display_data",
          "data": {
            "application/javascript": [
              "download(\"download_c4ac82a9-b549-488c-ba9b-35df31f61ad6\", \"bairros.csv\", 3923)"
            ],
            "text/plain": [
              "<IPython.core.display.Javascript object>"
            ]
          },
          "metadata": {}
        }
      ]
    }
  ]
}