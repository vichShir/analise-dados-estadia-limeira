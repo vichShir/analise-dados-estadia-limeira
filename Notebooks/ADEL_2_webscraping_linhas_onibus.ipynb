{
  "nbformat": 4,
  "nbformat_minor": 0,
  "metadata": {
    "colab": {
      "name": "ADEL_2.webscraping_linhas_onibus.ipynb",
      "provenance": [],
      "collapsed_sections": []
    },
    "kernelspec": {
      "name": "python3",
      "display_name": "Python 3"
    },
    "language_info": {
      "name": "python"
    }
  },
  "cells": [
    {
      "cell_type": "markdown",
      "metadata": {
        "id": "CrbhsMH3qt_J"
      },
      "source": [
        "# Projeto ADEL (Análise Dados Estadia em Limeira) - Webscraping das Linhas de Ônibus\n",
        "Neste notebook, realizarei a extração dos dados das linhas de ônibus em Limeira, SP. Coletarei as localizações dos pontos de cada linha e a distância de cada ponto da faculdade."
      ]
    },
    {
      "cell_type": "code",
      "metadata": {
        "id": "Sx9RiPF7qdtX"
      },
      "source": [
        "from bs4 import BeautifulSoup\n",
        "from urllib.request import urlopen\n",
        "from geopy.geocoders import Nominatim\n",
        "import geopy\n",
        "import pandas as pd"
      ],
      "execution_count": 6,
      "outputs": []
    },
    {
      "cell_type": "code",
      "metadata": {
        "id": "FkWoLVsFrFYC"
      },
      "source": [
        "url = 'https://moovitapp.com/index/pt-br/transporte_p%C3%BAblico-line-02_OLGA_VERONI_X_GEADA-Limeira-4161-908539-743590-0'\n",
        "response = urlopen(url)\n",
        "html_linhas_onibus = response.read()\n",
        "soup_linhas_onibus = BeautifulSoup(html_linhas_onibus, 'html.parser')"
      ],
      "execution_count": 2,
      "outputs": []
    },
    {
      "cell_type": "code",
      "metadata": {
        "id": "uTqkuqxErF8C"
      },
      "source": [
        "pontos = []\n",
        "\n",
        "for ponto in soup_linhas_onibus.find('ul', {'class': 'stops-list bordered'}).find_all('h3'):\n",
        "  pontos.append(ponto.get_text())"
      ],
      "execution_count": 3,
      "outputs": []
    },
    {
      "cell_type": "code",
      "metadata": {
        "colab": {
          "base_uri": "https://localhost:8080/"
        },
        "id": "vakcDMMSrHCp",
        "outputId": "d50b0e39-5aab-4932-8d23-553f5bb5df55"
      },
      "source": [
        "pontos = pd.Series(pontos)\n",
        "pontos = pontos.unique()\n",
        "pontos"
      ],
      "execution_count": 4,
      "outputs": [
        {
          "output_type": "execute_result",
          "data": {
            "text/plain": [
              "array(['Ponto Final Geada', 'Rua Elza Hergert Marostegan',\n",
              "       'Avenida Prefeito Ari Levi Pereira, 368-408',\n",
              "       'Avenida Canadá, 456-504',\n",
              "       'Avenida Estados Unidos Da América, 52-100',\n",
              "       'Rua Capitão Joaquim Manoel Pereira, 333-373',\n",
              "       'Avenida Doutor João Amaral Gama, 575-633',\n",
              "       'Avenida Doutor João Amaral Gama, 391 (Rapidão)',\n",
              "       'Rua Júlio Wenzel, 641-655',\n",
              "       'Rua Professor Rui Côrte Brilho, 816-880',\n",
              "       'Rua Oscár Vargas, 17-87', 'Rua Oswaldo Bertolini, 505',\n",
              "       'Praça Primeiro De Maio, 112-146',\n",
              "       'Avenida Cônego Manoel Alves, 775',\n",
              "       'Norte Avenida Doutor Fabrício Vampré, 975-991',\n",
              "       'Norte Avenida Doutor Fabrício Vampré, 685',\n",
              "       'Norte Avenida Doutor Fabrício Vampré, 131-181',\n",
              "       'Rua Capitão Francisco Sérgio De Toledo, 145-207', 'Nosso Clube',\n",
              "       'Medical B/C', 'Rua Barão De Campinas, 1027',\n",
              "       'Escola Brasil - Praça José Bonifácio B/C',\n",
              "       'Rua Barão De Campinas, 301', 'Terminal Central De Limeira',\n",
              "       'Supermercado Covabra', 'Inss', 'Rua Presidente Prudente, 402-492',\n",
              "       'Rua Presidente Prudente, 568-584', 'Rua Piauí, 426-472',\n",
              "       'Rua Professora Ceci Barbosa Neves Estéfano, 324-398',\n",
              "       'Avenida Campinas, 1152  (Rapidão)', 'Avenida Campinas, 1322-1374',\n",
              "       'Avenida Campinas, 1490', 'Avenida Campinas, 1760',\n",
              "       'Avenida Marechal Artur Da Costa E Silva, 111',\n",
              "       'Rua Pedro Elías, 214', 'Rua Pedro Elías, 546  (Rapidão)',\n",
              "       'Rua Pedro Elías, 966', 'Rua Pedro Elías, 1282',\n",
              "       'Rua Antônio Henrique De Araújo, 2-108',\n",
              "       'Rua José Bento Da Glória, 1345',\n",
              "       'Rua José Bento Da Glória, 679-827',\n",
              "       'Rua Professor Fariz Elías, 199', 'Ponto Final Olga Veroni'],\n",
              "      dtype=object)"
            ]
          },
          "metadata": {},
          "execution_count": 4
        }
      ]
    },
    {
      "cell_type": "code",
      "metadata": {
        "colab": {
          "base_uri": "https://localhost:8080/",
          "height": 821
        },
        "id": "RWsUWfzcrH4W",
        "outputId": "da37c981-cc7c-4492-e9dc-c3950a1428c7"
      },
      "source": [
        "lat = []\n",
        "lon = []\n",
        "\n",
        "geolocator = Nominatim(user_agent=\"EstadiaLimeiraApp\")\n",
        "\n",
        "for ponto in pontos:\n",
        "  location = geolocator.geocode(f\"{ponto}, Limeira, Brazil\")\n",
        "  if location == None:\n",
        "    coords = input(f\"Digite a coordenada de '{ponto}' (x, y): \")\n",
        "    coords = coords.split(',')\n",
        "    coords = (float(coords[0]), float(coords[1]))\n",
        "    lat.append(coords[0])\n",
        "    lon.append(coords[1])\n",
        "  else:\n",
        "    lat.append(location.latitude)\n",
        "    lon.append(location.longitude)"
      ],
      "execution_count": 9,
      "outputs": [
        {
          "name": "stdout",
          "output_type": "stream",
          "text": [
            "Digite a coordenada de 'Ponto Final Geada' (x, y): -22.54534799380873, -47.45448054085058\n",
            "Digite a coordenada de 'Avenida Doutor João Amaral Gama, 391 (Rapidão)' (x, y): -22.558555444439218, -47.442630355315096\n",
            "Digite a coordenada de 'Rua Professor Rui Côrte Brilho, 816-880' (x, y): -22.561134208423862, -47.43595336973164\n",
            "Digite a coordenada de 'Norte Avenida Doutor Fabrício Vampré, 975-991' (x, y): -22.559066875118823, -47.4229054440875\n",
            "Digite a coordenada de 'Norte Avenida Doutor Fabrício Vampré, 685' (x, y): -22.558620803921194, -47.42013176091486\n",
            "Digite a coordenada de 'Norte Avenida Doutor Fabrício Vampré, 131-181' (x, y): -22.560728231386136, -47.41555660069769\n",
            "Digite a coordenada de 'Rua Capitão Francisco Sérgio De Toledo, 145-207' (x, y): -22.558197007552785, -47.412828403187596\n",
            "Digite a coordenada de 'Nosso Clube' (x, y): -22.558720436605455, -47.409808033403905\n",
            "Digite a coordenada de 'Medical B/C' (x, y): -22.561011950736074, -47.40396744752847\n",
            "Digite a coordenada de 'Escola Brasil - Praça José Bonifácio B/C' (x, y): -22.569341176363963, -47.400102804456175\n",
            "Digite a coordenada de 'Inss' (x, y): -22.577078622765704, -47.39148226761585\n",
            "Digite a coordenada de 'Rua Professora Ceci Barbosa Neves Estéfano, 324-398' (x, y): -22.581854394170282, -47.38515237650475\n",
            "Digite a coordenada de 'Avenida Campinas, 1152  (Rapidão)' (x, y): -22.579961253882317, -47.381879508771206\n",
            "Digite a coordenada de 'Avenida Marechal Artur Da Costa E Silva, 111' (x, y): -22.581196104338872, -47.36869089689841\n"
          ]
        },
        {
          "output_type": "error",
          "ename": "KeyboardInterrupt",
          "evalue": "ignored",
          "traceback": [
            "\u001b[0;31m---------------------------------------------------------------------------\u001b[0m",
            "\u001b[0;31mKeyboardInterrupt\u001b[0m                         Traceback (most recent call last)",
            "\u001b[0;32m/usr/local/lib/python3.7/dist-packages/ipykernel/kernelbase.py\u001b[0m in \u001b[0;36m_input_request\u001b[0;34m(self, prompt, ident, parent, password)\u001b[0m\n\u001b[1;32m    728\u001b[0m             \u001b[0;32mtry\u001b[0m\u001b[0;34m:\u001b[0m\u001b[0;34m\u001b[0m\u001b[0;34m\u001b[0m\u001b[0m\n\u001b[0;32m--> 729\u001b[0;31m                 \u001b[0mident\u001b[0m\u001b[0;34m,\u001b[0m \u001b[0mreply\u001b[0m \u001b[0;34m=\u001b[0m \u001b[0mself\u001b[0m\u001b[0;34m.\u001b[0m\u001b[0msession\u001b[0m\u001b[0;34m.\u001b[0m\u001b[0mrecv\u001b[0m\u001b[0;34m(\u001b[0m\u001b[0mself\u001b[0m\u001b[0;34m.\u001b[0m\u001b[0mstdin_socket\u001b[0m\u001b[0;34m,\u001b[0m \u001b[0;36m0\u001b[0m\u001b[0;34m)\u001b[0m\u001b[0;34m\u001b[0m\u001b[0;34m\u001b[0m\u001b[0m\n\u001b[0m\u001b[1;32m    730\u001b[0m             \u001b[0;32mexcept\u001b[0m \u001b[0mException\u001b[0m\u001b[0;34m:\u001b[0m\u001b[0;34m\u001b[0m\u001b[0;34m\u001b[0m\u001b[0m\n",
            "\u001b[0;32m/usr/local/lib/python3.7/dist-packages/jupyter_client/session.py\u001b[0m in \u001b[0;36mrecv\u001b[0;34m(self, socket, mode, content, copy)\u001b[0m\n\u001b[1;32m    802\u001b[0m         \u001b[0;32mtry\u001b[0m\u001b[0;34m:\u001b[0m\u001b[0;34m\u001b[0m\u001b[0;34m\u001b[0m\u001b[0m\n\u001b[0;32m--> 803\u001b[0;31m             \u001b[0mmsg_list\u001b[0m \u001b[0;34m=\u001b[0m \u001b[0msocket\u001b[0m\u001b[0;34m.\u001b[0m\u001b[0mrecv_multipart\u001b[0m\u001b[0;34m(\u001b[0m\u001b[0mmode\u001b[0m\u001b[0;34m,\u001b[0m \u001b[0mcopy\u001b[0m\u001b[0;34m=\u001b[0m\u001b[0mcopy\u001b[0m\u001b[0;34m)\u001b[0m\u001b[0;34m\u001b[0m\u001b[0;34m\u001b[0m\u001b[0m\n\u001b[0m\u001b[1;32m    804\u001b[0m         \u001b[0;32mexcept\u001b[0m \u001b[0mzmq\u001b[0m\u001b[0;34m.\u001b[0m\u001b[0mZMQError\u001b[0m \u001b[0;32mas\u001b[0m \u001b[0me\u001b[0m\u001b[0;34m:\u001b[0m\u001b[0;34m\u001b[0m\u001b[0;34m\u001b[0m\u001b[0m\n",
            "\u001b[0;32m/usr/local/lib/python3.7/dist-packages/zmq/sugar/socket.py\u001b[0m in \u001b[0;36mrecv_multipart\u001b[0;34m(self, flags, copy, track)\u001b[0m\n\u001b[1;32m    624\u001b[0m         \"\"\"\n\u001b[0;32m--> 625\u001b[0;31m         \u001b[0mparts\u001b[0m \u001b[0;34m=\u001b[0m \u001b[0;34m[\u001b[0m\u001b[0mself\u001b[0m\u001b[0;34m.\u001b[0m\u001b[0mrecv\u001b[0m\u001b[0;34m(\u001b[0m\u001b[0mflags\u001b[0m\u001b[0;34m,\u001b[0m \u001b[0mcopy\u001b[0m\u001b[0;34m=\u001b[0m\u001b[0mcopy\u001b[0m\u001b[0;34m,\u001b[0m \u001b[0mtrack\u001b[0m\u001b[0;34m=\u001b[0m\u001b[0mtrack\u001b[0m\u001b[0;34m)\u001b[0m\u001b[0;34m]\u001b[0m\u001b[0;34m\u001b[0m\u001b[0;34m\u001b[0m\u001b[0m\n\u001b[0m\u001b[1;32m    626\u001b[0m         \u001b[0;31m# have first part already, only loop while more to receive\u001b[0m\u001b[0;34m\u001b[0m\u001b[0;34m\u001b[0m\u001b[0;34m\u001b[0m\u001b[0m\n",
            "\u001b[0;32mzmq/backend/cython/socket.pyx\u001b[0m in \u001b[0;36mzmq.backend.cython.socket.Socket.recv\u001b[0;34m()\u001b[0m\n",
            "\u001b[0;32mzmq/backend/cython/socket.pyx\u001b[0m in \u001b[0;36mzmq.backend.cython.socket.Socket.recv\u001b[0;34m()\u001b[0m\n",
            "\u001b[0;32mzmq/backend/cython/socket.pyx\u001b[0m in \u001b[0;36mzmq.backend.cython.socket._recv_copy\u001b[0;34m()\u001b[0m\n",
            "\u001b[0;32m/usr/local/lib/python3.7/dist-packages/zmq/backend/cython/checkrc.pxd\u001b[0m in \u001b[0;36mzmq.backend.cython.checkrc._check_rc\u001b[0;34m()\u001b[0m\n",
            "\u001b[0;31mKeyboardInterrupt\u001b[0m: ",
            "\nDuring handling of the above exception, another exception occurred:\n",
            "\u001b[0;31mKeyboardInterrupt\u001b[0m                         Traceback (most recent call last)",
            "\u001b[0;32m<ipython-input-9-10bb6e7d7e2c>\u001b[0m in \u001b[0;36m<module>\u001b[0;34m()\u001b[0m\n\u001b[1;32m      7\u001b[0m   \u001b[0mlocation\u001b[0m \u001b[0;34m=\u001b[0m \u001b[0mgeolocator\u001b[0m\u001b[0;34m.\u001b[0m\u001b[0mgeocode\u001b[0m\u001b[0;34m(\u001b[0m\u001b[0;34mf\"{ponto}, Limeira, Brazil\"\u001b[0m\u001b[0;34m)\u001b[0m\u001b[0;34m\u001b[0m\u001b[0;34m\u001b[0m\u001b[0m\n\u001b[1;32m      8\u001b[0m   \u001b[0;32mif\u001b[0m \u001b[0mlocation\u001b[0m \u001b[0;34m==\u001b[0m \u001b[0;32mNone\u001b[0m\u001b[0;34m:\u001b[0m\u001b[0;34m\u001b[0m\u001b[0;34m\u001b[0m\u001b[0m\n\u001b[0;32m----> 9\u001b[0;31m     \u001b[0mcoords\u001b[0m \u001b[0;34m=\u001b[0m \u001b[0minput\u001b[0m\u001b[0;34m(\u001b[0m\u001b[0;34mf\"Digite a coordenada de '{ponto}' (x, y): \"\u001b[0m\u001b[0;34m)\u001b[0m\u001b[0;34m\u001b[0m\u001b[0;34m\u001b[0m\u001b[0m\n\u001b[0m\u001b[1;32m     10\u001b[0m     \u001b[0mcoords\u001b[0m \u001b[0;34m=\u001b[0m \u001b[0mcoords\u001b[0m\u001b[0;34m.\u001b[0m\u001b[0msplit\u001b[0m\u001b[0;34m(\u001b[0m\u001b[0;34m','\u001b[0m\u001b[0;34m)\u001b[0m\u001b[0;34m\u001b[0m\u001b[0;34m\u001b[0m\u001b[0m\n\u001b[1;32m     11\u001b[0m     \u001b[0mcoords\u001b[0m \u001b[0;34m=\u001b[0m \u001b[0;34m(\u001b[0m\u001b[0mfloat\u001b[0m\u001b[0;34m(\u001b[0m\u001b[0mcoords\u001b[0m\u001b[0;34m[\u001b[0m\u001b[0;36m0\u001b[0m\u001b[0;34m]\u001b[0m\u001b[0;34m)\u001b[0m\u001b[0;34m,\u001b[0m \u001b[0mfloat\u001b[0m\u001b[0;34m(\u001b[0m\u001b[0mcoords\u001b[0m\u001b[0;34m[\u001b[0m\u001b[0;36m1\u001b[0m\u001b[0;34m]\u001b[0m\u001b[0;34m)\u001b[0m\u001b[0;34m)\u001b[0m\u001b[0;34m\u001b[0m\u001b[0;34m\u001b[0m\u001b[0m\n",
            "\u001b[0;32m/usr/local/lib/python3.7/dist-packages/ipykernel/kernelbase.py\u001b[0m in \u001b[0;36mraw_input\u001b[0;34m(self, prompt)\u001b[0m\n\u001b[1;32m    702\u001b[0m             \u001b[0mself\u001b[0m\u001b[0;34m.\u001b[0m\u001b[0m_parent_ident\u001b[0m\u001b[0;34m,\u001b[0m\u001b[0;34m\u001b[0m\u001b[0;34m\u001b[0m\u001b[0m\n\u001b[1;32m    703\u001b[0m             \u001b[0mself\u001b[0m\u001b[0;34m.\u001b[0m\u001b[0m_parent_header\u001b[0m\u001b[0;34m,\u001b[0m\u001b[0;34m\u001b[0m\u001b[0;34m\u001b[0m\u001b[0m\n\u001b[0;32m--> 704\u001b[0;31m             \u001b[0mpassword\u001b[0m\u001b[0;34m=\u001b[0m\u001b[0;32mFalse\u001b[0m\u001b[0;34m,\u001b[0m\u001b[0;34m\u001b[0m\u001b[0;34m\u001b[0m\u001b[0m\n\u001b[0m\u001b[1;32m    705\u001b[0m         )\n\u001b[1;32m    706\u001b[0m \u001b[0;34m\u001b[0m\u001b[0m\n",
            "\u001b[0;32m/usr/local/lib/python3.7/dist-packages/ipykernel/kernelbase.py\u001b[0m in \u001b[0;36m_input_request\u001b[0;34m(self, prompt, ident, parent, password)\u001b[0m\n\u001b[1;32m    732\u001b[0m             \u001b[0;32mexcept\u001b[0m \u001b[0mKeyboardInterrupt\u001b[0m\u001b[0;34m:\u001b[0m\u001b[0;34m\u001b[0m\u001b[0;34m\u001b[0m\u001b[0m\n\u001b[1;32m    733\u001b[0m                 \u001b[0;31m# re-raise KeyboardInterrupt, to truncate traceback\u001b[0m\u001b[0;34m\u001b[0m\u001b[0;34m\u001b[0m\u001b[0;34m\u001b[0m\u001b[0m\n\u001b[0;32m--> 734\u001b[0;31m                 \u001b[0;32mraise\u001b[0m \u001b[0mKeyboardInterrupt\u001b[0m\u001b[0;34m\u001b[0m\u001b[0;34m\u001b[0m\u001b[0m\n\u001b[0m\u001b[1;32m    735\u001b[0m             \u001b[0;32melse\u001b[0m\u001b[0;34m:\u001b[0m\u001b[0;34m\u001b[0m\u001b[0;34m\u001b[0m\u001b[0m\n\u001b[1;32m    736\u001b[0m                 \u001b[0;32mbreak\u001b[0m\u001b[0;34m\u001b[0m\u001b[0;34m\u001b[0m\u001b[0m\n",
            "\u001b[0;31mKeyboardInterrupt\u001b[0m: "
          ]
        }
      ]
    },
    {
      "cell_type": "code",
      "metadata": {
        "id": "9-nGz0eCrKar"
      },
      "source": [
        "'''\n",
        "1. -22.54534799380873, -47.45448054085058\n",
        "2. -22.558555444439218, -47.442630355315096\n",
        "3. -22.561134208423862, -47.43595336973164\n",
        "4. -22.559066875118823, -47.4229054440875\n",
        "5. -22.558620803921194, -47.42013176091486\n",
        "6. -22.560728231386136, -47.41555660069769\n",
        "7. -22.558197007552785, -47.412828403187596\n",
        "8. -22.558720436605455, -47.409808033403905\n",
        "9. -22.561011950736074, -47.40396744752847\n",
        "10. -22.569341176363963, -47.400102804456175\n",
        "11. -22.577078622765704, -47.39148226761585\n",
        "12. -22.581854394170282, -47.38515237650475\n",
        "13. -22.579961253882317, -47.381879508771206\n",
        "14. -22.581196104338872, -47.36869089689841\n",
        "'''"
      ],
      "execution_count": null,
      "outputs": []
    },
    {
      "cell_type": "code",
      "metadata": {
        "id": "rFnYLeazrLe7"
      },
      "source": [
        "df_ponto_02 = pd.DataFrame()\n",
        "df_ponto_02['ponto'] = pontos\n",
        "df_ponto_02['lat'] = lat\n",
        "df_ponto_02['lon'] = lon\n",
        "\n",
        "df_ponto_02.head()"
      ],
      "execution_count": null,
      "outputs": []
    },
    {
      "cell_type": "code",
      "metadata": {
        "id": "6smasQy1rMqC"
      },
      "source": [
        "print(f'Foram encontrados {len(df_ponto_02)} pontos de ônibus')"
      ],
      "execution_count": null,
      "outputs": []
    },
    {
      "cell_type": "code",
      "metadata": {
        "id": "cOevvI2OrMvi"
      },
      "source": [
        "import folium\n",
        "from pprint import pprint\n",
        "\n",
        "# Criação do mapa\n",
        "map = folium.Map(location=[-22.56508562812944, -47.40434392781407], tiles='cartodbpositron', zoom_start=20)\n",
        "\n",
        "# Tooltip\n",
        "tooltip_acomodacao = \"Clique para ver o nome do ponto\"\n",
        "\n",
        "# Markers\n",
        "for i in range(len(df_ponto_02)):\n",
        "  folium.Marker(df_ponto_02.iloc[i, 1:], popup=f\"<i>Ponto {i+1}: {df_ponto_02.iloc[i, 0]}</i>\", tooltip=tooltip_acomodacao,icon=folium.Icon(color=\"blue\", icon=\"bus\", prefix='fa')).add_to(map)\n",
        "\n",
        "map"
      ],
      "execution_count": null,
      "outputs": []
    }
  ]
}