{
  "nbformat": 4,
  "nbformat_minor": 0,
  "metadata": {
    "colab": {
      "name": "ADEL_7_analise_acomodacoes.ipynb",
      "provenance": [],
      "collapsed_sections": []
    },
    "kernelspec": {
      "name": "python3",
      "display_name": "Python 3"
    },
    "language_info": {
      "name": "python"
    }
  },
  "cells": [
    {
      "cell_type": "markdown",
      "metadata": {
        "id": "813oweQl2Oe6"
      },
      "source": [
        "# Projeto ADEL (Análise Dados Estadia em Limeira) - Análise das acomodações coletadas\n",
        "Neste notebook, realizarei a limpeza dos dados e determinarei o ranking das melhores acomodações do dataset gerado anteriormente."
      ]
    },
    {
      "cell_type": "markdown",
      "metadata": {
        "id": "5PIZYail2pW9"
      },
      "source": [
        "## Carregando os dados"
      ]
    },
    {
      "cell_type": "code",
      "metadata": {
        "id": "ynaiesHe1nik"
      },
      "source": [
        "from google.colab import files\n",
        "import pandas as pd\n",
        "import numpy as np\n",
        "import matplotlib.pyplot as plt\n",
        "import seaborn as sns\n",
        "import re\n",
        "\n",
        "%matplotlib inline"
      ],
      "execution_count": 99,
      "outputs": []
    },
    {
      "cell_type": "code",
      "metadata": {
        "colab": {
          "resources": {
            "http://localhost:8080/nbextensions/google.colab/files.js": {
              "data": "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",
              "ok": true,
              "headers": [
                [
                  "content-type",
                  "application/javascript"
                ]
              ],
              "status": 200,
              "status_text": "OK"
            }
          },
          "base_uri": "https://localhost:8080/",
          "height": 75
        },
        "id": "FtGz-PA010kV",
        "outputId": "1b816597-76c4-425c-b57e-07883864e905"
      },
      "source": [
        "file = files.upload()"
      ],
      "execution_count": 2,
      "outputs": [
        {
          "output_type": "display_data",
          "data": {
            "text/html": [
              "\n",
              "     <input type=\"file\" id=\"files-3498f82e-6dac-4c17-aca7-d4dce72a2b97\" name=\"files[]\" multiple disabled\n",
              "        style=\"border:none\" />\n",
              "     <output id=\"result-3498f82e-6dac-4c17-aca7-d4dce72a2b97\">\n",
              "      Upload widget is only available when the cell has been executed in the\n",
              "      current browser session. Please rerun this cell to enable.\n",
              "      </output>\n",
              "      <script src=\"/nbextensions/google.colab/files.js\"></script> "
            ],
            "text/plain": [
              "<IPython.core.display.HTML object>"
            ]
          },
          "metadata": {}
        },
        {
          "output_type": "stream",
          "name": "stdout",
          "text": [
            "Saving acomodacoes_hashcode.csv to acomodacoes_hashcode.csv\n"
          ]
        }
      ]
    },
    {
      "cell_type": "code",
      "metadata": {
        "colab": {
          "base_uri": "https://localhost:8080/",
          "height": 572
        },
        "id": "wQMIc1JV12rS",
        "outputId": "9bde9832-3e43-4736-ccef-456a2c891c03"
      },
      "source": [
        "df = pd.read_csv('acomodacoes_hashcode.csv')\n",
        "print(df.shape)\n",
        "df.head()"
      ],
      "execution_count": 118,
      "outputs": [
        {
          "output_type": "stream",
          "name": "stdout",
          "text": [
            "(80, 12)\n"
          ]
        },
        {
          "output_type": "execute_result",
          "data": {
            "text/html": [
              "<div>\n",
              "<style scoped>\n",
              "    .dataframe tbody tr th:only-of-type {\n",
              "        vertical-align: middle;\n",
              "    }\n",
              "\n",
              "    .dataframe tbody tr th {\n",
              "        vertical-align: top;\n",
              "    }\n",
              "\n",
              "    .dataframe thead th {\n",
              "        text-align: right;\n",
              "    }\n",
              "</style>\n",
              "<table border=\"1\" class=\"dataframe\">\n",
              "  <thead>\n",
              "    <tr style=\"text-align: right;\">\n",
              "      <th></th>\n",
              "      <th>imob</th>\n",
              "      <th>imovel_url</th>\n",
              "      <th>codigo</th>\n",
              "      <th>nome</th>\n",
              "      <th>bairro</th>\n",
              "      <th>aluguel</th>\n",
              "      <th>condominio</th>\n",
              "      <th>area</th>\n",
              "      <th>quartos</th>\n",
              "      <th>banheiros</th>\n",
              "      <th>vaga_garagem</th>\n",
              "      <th>descricao</th>\n",
              "    </tr>\n",
              "  </thead>\n",
              "  <tbody>\n",
              "    <tr>\n",
              "      <th>0</th>\n",
              "      <td>c7234506476bbf0aff48eda764ff9eba</td>\n",
              "      <td>475b51cf4a3bf4f29cb2414680851193</td>\n",
              "      <td>57544d6162644c4cec89720f0d0fb27b</td>\n",
              "      <td>245d9e8bab947ecf1ee8867fe9597ab2</td>\n",
              "      <td>CIDADE UNIVERSITARIA</td>\n",
              "      <td>R$1.000,00</td>\n",
              "      <td>\\n\\n                    + Condomínio R$0,00 i\\...</td>\n",
              "      <td>35      M2</td>\n",
              "      <td>1</td>\n",
              "      <td>1</td>\n",
              "      <td>0</td>\n",
              "      <td>Kitnet próxima à Unicamp (FCA) contendo quarto...</td>\n",
              "    </tr>\n",
              "    <tr>\n",
              "      <th>1</th>\n",
              "      <td>c7234506476bbf0aff48eda764ff9eba</td>\n",
              "      <td>f2ba6e963c17f9aff690f767c73a7f87</td>\n",
              "      <td>00f33a85f39b78148f5941eac174acd2</td>\n",
              "      <td>245d9e8bab947ecf1ee8867fe9597ab2</td>\n",
              "      <td>CIDADE UNIVERSITARIA</td>\n",
              "      <td>R$1.000,00</td>\n",
              "      <td>\\n\\n                    + Condomínio R$0,00 i\\...</td>\n",
              "      <td>35      M2</td>\n",
              "      <td>1</td>\n",
              "      <td>1</td>\n",
              "      <td>0</td>\n",
              "      <td>Kitnet próxima à Unicamp (FCA) contendo quarto...</td>\n",
              "    </tr>\n",
              "    <tr>\n",
              "      <th>2</th>\n",
              "      <td>c7234506476bbf0aff48eda764ff9eba</td>\n",
              "      <td>047b2a430e6e4409268af5251b53d3e1</td>\n",
              "      <td>b62fad32adf34709c628e9833d66b8df</td>\n",
              "      <td>245d9e8bab947ecf1ee8867fe9597ab2</td>\n",
              "      <td>CIDADE UNIVERSITARIA</td>\n",
              "      <td>R$1.000,00</td>\n",
              "      <td>\\n\\n                    + Condomínio R$0,00 i\\...</td>\n",
              "      <td>35      M2</td>\n",
              "      <td>1</td>\n",
              "      <td>1</td>\n",
              "      <td>0</td>\n",
              "      <td>Kitnet próxima à Unicamp (FCA) contendo quarto...</td>\n",
              "    </tr>\n",
              "    <tr>\n",
              "      <th>3</th>\n",
              "      <td>c7234506476bbf0aff48eda764ff9eba</td>\n",
              "      <td>e3b2a519bc4e229ab0444cb144c3c407</td>\n",
              "      <td>2d7097bf091516c6952950802bd49019</td>\n",
              "      <td>245d9e8bab947ecf1ee8867fe9597ab2</td>\n",
              "      <td>CIDADE UNIVERSITARIA</td>\n",
              "      <td>R$1.000,00</td>\n",
              "      <td>\\n\\n                    + Condomínio R$0,00 i\\...</td>\n",
              "      <td>35      M2</td>\n",
              "      <td>1</td>\n",
              "      <td>1</td>\n",
              "      <td>0</td>\n",
              "      <td>Kitnet próxima à Unicamp (FCA) contendo quarto...</td>\n",
              "    </tr>\n",
              "    <tr>\n",
              "      <th>4</th>\n",
              "      <td>c7234506476bbf0aff48eda764ff9eba</td>\n",
              "      <td>71edf6c4e8ad2dee47bf8c9b275c022a</td>\n",
              "      <td>12d0456fa8a537ce311abb5ea43c4b03</td>\n",
              "      <td>245d9e8bab947ecf1ee8867fe9597ab2</td>\n",
              "      <td>CIDADE UNIVERSITARIA</td>\n",
              "      <td>R$1.000,00</td>\n",
              "      <td>\\n\\n                    + Condomínio R$0,00 i\\...</td>\n",
              "      <td>35      M2</td>\n",
              "      <td>1</td>\n",
              "      <td>1</td>\n",
              "      <td>0</td>\n",
              "      <td>Kitnet próxima à Unicamp (FCA) contendo quarto...</td>\n",
              "    </tr>\n",
              "  </tbody>\n",
              "</table>\n",
              "</div>"
            ],
            "text/plain": [
              "                               imob  ...                                          descricao\n",
              "0  c7234506476bbf0aff48eda764ff9eba  ...  Kitnet próxima à Unicamp (FCA) contendo quarto...\n",
              "1  c7234506476bbf0aff48eda764ff9eba  ...  Kitnet próxima à Unicamp (FCA) contendo quarto...\n",
              "2  c7234506476bbf0aff48eda764ff9eba  ...  Kitnet próxima à Unicamp (FCA) contendo quarto...\n",
              "3  c7234506476bbf0aff48eda764ff9eba  ...  Kitnet próxima à Unicamp (FCA) contendo quarto...\n",
              "4  c7234506476bbf0aff48eda764ff9eba  ...  Kitnet próxima à Unicamp (FCA) contendo quarto...\n",
              "\n",
              "[5 rows x 12 columns]"
            ]
          },
          "metadata": {},
          "execution_count": 118
        }
      ]
    },
    {
      "cell_type": "markdown",
      "metadata": {
        "id": "0ZwzCLc_dzly"
      },
      "source": [
        "Realizar tratamentos nas colunas:\n",
        "* Aluguel\n",
        "* Condomínio\n",
        "* Área\n",
        "* Vaga garagem"
      ]
    },
    {
      "cell_type": "code",
      "metadata": {
        "colab": {
          "base_uri": "https://localhost:8080/"
        },
        "id": "qtg_nuqh1-qy",
        "outputId": "59963963-c965-4fad-9dd0-e8b10f32980d"
      },
      "source": [
        "df.info()"
      ],
      "execution_count": 119,
      "outputs": [
        {
          "output_type": "stream",
          "name": "stdout",
          "text": [
            "<class 'pandas.core.frame.DataFrame'>\n",
            "RangeIndex: 80 entries, 0 to 79\n",
            "Data columns (total 12 columns):\n",
            " #   Column        Non-Null Count  Dtype \n",
            "---  ------        --------------  ----- \n",
            " 0   imob          80 non-null     object\n",
            " 1   imovel_url    80 non-null     object\n",
            " 2   codigo        80 non-null     object\n",
            " 3   nome          80 non-null     object\n",
            " 4   bairro        80 non-null     object\n",
            " 5   aluguel       80 non-null     object\n",
            " 6   condominio    80 non-null     object\n",
            " 7   area          78 non-null     object\n",
            " 8   quartos       80 non-null     int64 \n",
            " 9   banheiros     80 non-null     int64 \n",
            " 10  vaga_garagem  37 non-null     object\n",
            " 11  descricao     80 non-null     object\n",
            "dtypes: int64(2), object(10)\n",
            "memory usage: 7.6+ KB\n"
          ]
        }
      ]
    },
    {
      "cell_type": "markdown",
      "metadata": {
        "id": "9quIz23l2zg0"
      },
      "source": [
        "Conferindo as 3 imobiliárias"
      ]
    },
    {
      "cell_type": "code",
      "metadata": {
        "colab": {
          "base_uri": "https://localhost:8080/"
        },
        "id": "aPxbF6W82wZQ",
        "outputId": "d093b83a-532a-4a4d-c9cf-4a70b8949d69"
      },
      "source": [
        "df['imob'].unique()"
      ],
      "execution_count": 120,
      "outputs": [
        {
          "output_type": "execute_result",
          "data": {
            "text/plain": [
              "array(['c7234506476bbf0aff48eda764ff9eba',\n",
              "       'ef23a7e1738f4b316011bbdd88e514a2',\n",
              "       '53dd1202c5ef8ce3878ffbd4b3c79bd2'], dtype=object)"
            ]
          },
          "metadata": {},
          "execution_count": 120
        }
      ]
    },
    {
      "cell_type": "markdown",
      "metadata": {
        "id": "MZia9Wxp2my-"
      },
      "source": [
        "## Limpeza dos dados"
      ]
    },
    {
      "cell_type": "code",
      "metadata": {
        "colab": {
          "base_uri": "https://localhost:8080/"
        },
        "id": "NHHZRVRL3Lr-",
        "outputId": "32565ebb-6e36-437d-d9a1-c7e29d45de5a"
      },
      "source": [
        "df.isnull().sum()"
      ],
      "execution_count": 121,
      "outputs": [
        {
          "output_type": "execute_result",
          "data": {
            "text/plain": [
              "imob             0\n",
              "imovel_url       0\n",
              "codigo           0\n",
              "nome             0\n",
              "bairro           0\n",
              "aluguel          0\n",
              "condominio       0\n",
              "area             2\n",
              "quartos          0\n",
              "banheiros        0\n",
              "vaga_garagem    43\n",
              "descricao        0\n",
              "dtype: int64"
            ]
          },
          "metadata": {},
          "execution_count": 121
        }
      ]
    },
    {
      "cell_type": "markdown",
      "metadata": {
        "id": "Q2ZhC7irfGxK"
      },
      "source": [
        "### Coluna: vaga de garagem"
      ]
    },
    {
      "cell_type": "code",
      "metadata": {
        "colab": {
          "base_uri": "https://localhost:8080/"
        },
        "id": "gIPSNTTN2jSh",
        "outputId": "5823b17b-6f10-44ee-b9c4-6f7b2605bf34"
      },
      "source": [
        "df['vaga_garagem'].unique()"
      ],
      "execution_count": 122,
      "outputs": [
        {
          "output_type": "execute_result",
          "data": {
            "text/plain": [
              "array(['0', '1', nan, 'Não', 'Sim'], dtype=object)"
            ]
          },
          "metadata": {},
          "execution_count": 122
        }
      ]
    },
    {
      "cell_type": "code",
      "metadata": {
        "colab": {
          "base_uri": "https://localhost:8080/"
        },
        "id": "RwMWIvu13dEl",
        "outputId": "29732382-219c-4442-8a4b-2a3abf602dfe"
      },
      "source": [
        "# Mapeando para inteiro\n",
        "map_vaga_garagem = {\n",
        "    'Não': 0,\n",
        "    'Sim': 1\n",
        "}\n",
        "\n",
        "df['vaga_garagem'] = df['vaga_garagem'].map(map_vaga_garagem)\n",
        "df['vaga_garagem'].unique()"
      ],
      "execution_count": 123,
      "outputs": [
        {
          "output_type": "execute_result",
          "data": {
            "text/plain": [
              "array([nan,  0.,  1.])"
            ]
          },
          "metadata": {},
          "execution_count": 123
        }
      ]
    },
    {
      "cell_type": "code",
      "metadata": {
        "colab": {
          "base_uri": "https://localhost:8080/"
        },
        "id": "WN5-Qj9_xSZs",
        "outputId": "003405a2-238e-4356-8d13-e9efbbdabfe8"
      },
      "source": [
        "print(df['vaga_garagem'].dtype)\n",
        "print(df['vaga_garagem'].unique())"
      ],
      "execution_count": 125,
      "outputs": [
        {
          "output_type": "stream",
          "name": "stdout",
          "text": [
            "float64\n",
            "[nan  0.  1.]\n"
          ]
        }
      ]
    },
    {
      "cell_type": "code",
      "metadata": {
        "colab": {
          "base_uri": "https://localhost:8080/"
        },
        "id": "hy7VZTK7fgRX",
        "outputId": "8cd2cad8-266d-432b-e0bd-c9d614f9b4f9"
      },
      "source": [
        "df['vaga_garagem']"
      ],
      "execution_count": 126,
      "outputs": [
        {
          "output_type": "execute_result",
          "data": {
            "text/plain": [
              "0     NaN\n",
              "1     NaN\n",
              "2     NaN\n",
              "3     NaN\n",
              "4     NaN\n",
              "     ... \n",
              "75    NaN\n",
              "76    1.0\n",
              "77    NaN\n",
              "78    0.0\n",
              "79    0.0\n",
              "Name: vaga_garagem, Length: 80, dtype: float64"
            ]
          },
          "metadata": {},
          "execution_count": 126
        }
      ]
    },
    {
      "cell_type": "markdown",
      "metadata": {
        "id": "MwGUXpelfhZL"
      },
      "source": [
        "### Coluna: área"
      ]
    },
    {
      "cell_type": "code",
      "metadata": {
        "colab": {
          "base_uri": "https://localhost:8080/"
        },
        "id": "J7IhfjFv4yl1",
        "outputId": "f8dbe6c2-83f2-40d7-9650-b40a64a2b0e9"
      },
      "source": [
        "df['area'].unique()"
      ],
      "execution_count": 127,
      "outputs": [
        {
          "output_type": "execute_result",
          "data": {
            "text/plain": [
              "array(['35      M2', '1       QUARTO CONJUGADO',\n",
              "       '1       QUARTO COM ARMARIO',\n",
              "       '1       QUARTO CONJUGADO COM A SALA',\n",
              "       '1       QUARTO CONJUGADO COM COZINHA', nan, '16      M2',\n",
              "       '1º      ANDAR', '25      M2', '0 m2', '50 m2', '250 m2', '20',\n",
              "       '30', '0'], dtype=object)"
            ]
          },
          "metadata": {},
          "execution_count": 127
        }
      ]
    },
    {
      "cell_type": "code",
      "metadata": {
        "id": "0hu3VEjn_jvv"
      },
      "source": [
        "# Preenchendo nulos com 0\n",
        "df['area'] = df['area'].fillna('0')"
      ],
      "execution_count": 12,
      "outputs": []
    },
    {
      "cell_type": "code",
      "metadata": {
        "colab": {
          "base_uri": "https://localhost:8080/"
        },
        "id": "wdJa6V6S-z1W",
        "outputId": "cb4542f7-49e9-4ee6-c7aa-37e89574e329"
      },
      "source": [
        "# Coletando apenas o número e convertendo para int\n",
        "areas = []\n",
        "for i in range(len(df['area'])):\n",
        "  try:\n",
        "    area_value = int(re.findall('\\d[0-9]+', df['area'][i])[0])\n",
        "  except:\n",
        "    area_value = np.nan\n",
        "  areas.append(area_value)\n",
        "areas"
      ],
      "execution_count": 128,
      "outputs": [
        {
          "output_type": "execute_result",
          "data": {
            "text/plain": [
              "[35,\n",
              " 35,\n",
              " 35,\n",
              " 35,\n",
              " 35,\n",
              " nan,\n",
              " nan,\n",
              " 35,\n",
              " nan,\n",
              " 35,\n",
              " 35,\n",
              " nan,\n",
              " 35,\n",
              " 35,\n",
              " nan,\n",
              " 35,\n",
              " 35,\n",
              " 35,\n",
              " 35,\n",
              " nan,\n",
              " 16,\n",
              " 16,\n",
              " nan,\n",
              " 16,\n",
              " 16,\n",
              " 25,\n",
              " 25,\n",
              " 16,\n",
              " nan,\n",
              " 50,\n",
              " 50,\n",
              " nan,\n",
              " 50,\n",
              " nan,\n",
              " nan,\n",
              " 50,\n",
              " nan,\n",
              " nan,\n",
              " nan,\n",
              " nan,\n",
              " nan,\n",
              " nan,\n",
              " nan,\n",
              " nan,\n",
              " nan,\n",
              " nan,\n",
              " nan,\n",
              " nan,\n",
              " nan,\n",
              " nan,\n",
              " nan,\n",
              " nan,\n",
              " nan,\n",
              " nan,\n",
              " nan,\n",
              " nan,\n",
              " nan,\n",
              " nan,\n",
              " nan,\n",
              " nan,\n",
              " nan,\n",
              " 250,\n",
              " nan,\n",
              " nan,\n",
              " 50,\n",
              " 50,\n",
              " nan,\n",
              " nan,\n",
              " nan,\n",
              " nan,\n",
              " nan,\n",
              " 20,\n",
              " 20,\n",
              " 20,\n",
              " 20,\n",
              " 30,\n",
              " 30,\n",
              " nan,\n",
              " nan,\n",
              " nan]"
            ]
          },
          "metadata": {},
          "execution_count": 128
        }
      ]
    },
    {
      "cell_type": "code",
      "metadata": {
        "colab": {
          "base_uri": "https://localhost:8080/"
        },
        "id": "LnkR6DeRBNjY",
        "outputId": "7ad2ec97-6288-465c-ea32-4f558aeeda24"
      },
      "source": [
        "# Fazendo o tratamento\n",
        "df['area'] = areas\n",
        "print(df['area'].dtype)\n",
        "print(df['area'].unique())"
      ],
      "execution_count": 129,
      "outputs": [
        {
          "output_type": "stream",
          "name": "stdout",
          "text": [
            "float64\n",
            "[ 35.  nan  16.  25.  50. 250.  20.  30.]\n"
          ]
        }
      ]
    },
    {
      "cell_type": "code",
      "metadata": {
        "colab": {
          "base_uri": "https://localhost:8080/",
          "height": 572
        },
        "id": "6lppRpqLBqRE",
        "outputId": "d4dfc160-6793-4e6f-9deb-617a0f96bc54"
      },
      "source": [
        "print(df.shape)\n",
        "df.head()"
      ],
      "execution_count": 130,
      "outputs": [
        {
          "output_type": "stream",
          "name": "stdout",
          "text": [
            "(80, 12)\n"
          ]
        },
        {
          "output_type": "execute_result",
          "data": {
            "text/html": [
              "<div>\n",
              "<style scoped>\n",
              "    .dataframe tbody tr th:only-of-type {\n",
              "        vertical-align: middle;\n",
              "    }\n",
              "\n",
              "    .dataframe tbody tr th {\n",
              "        vertical-align: top;\n",
              "    }\n",
              "\n",
              "    .dataframe thead th {\n",
              "        text-align: right;\n",
              "    }\n",
              "</style>\n",
              "<table border=\"1\" class=\"dataframe\">\n",
              "  <thead>\n",
              "    <tr style=\"text-align: right;\">\n",
              "      <th></th>\n",
              "      <th>imob</th>\n",
              "      <th>imovel_url</th>\n",
              "      <th>codigo</th>\n",
              "      <th>nome</th>\n",
              "      <th>bairro</th>\n",
              "      <th>aluguel</th>\n",
              "      <th>condominio</th>\n",
              "      <th>area</th>\n",
              "      <th>quartos</th>\n",
              "      <th>banheiros</th>\n",
              "      <th>vaga_garagem</th>\n",
              "      <th>descricao</th>\n",
              "    </tr>\n",
              "  </thead>\n",
              "  <tbody>\n",
              "    <tr>\n",
              "      <th>0</th>\n",
              "      <td>c7234506476bbf0aff48eda764ff9eba</td>\n",
              "      <td>475b51cf4a3bf4f29cb2414680851193</td>\n",
              "      <td>57544d6162644c4cec89720f0d0fb27b</td>\n",
              "      <td>245d9e8bab947ecf1ee8867fe9597ab2</td>\n",
              "      <td>CIDADE UNIVERSITARIA</td>\n",
              "      <td>R$1.000,00</td>\n",
              "      <td>\\n\\n                    + Condomínio R$0,00 i\\...</td>\n",
              "      <td>35.0</td>\n",
              "      <td>1</td>\n",
              "      <td>1</td>\n",
              "      <td>NaN</td>\n",
              "      <td>Kitnet próxima à Unicamp (FCA) contendo quarto...</td>\n",
              "    </tr>\n",
              "    <tr>\n",
              "      <th>1</th>\n",
              "      <td>c7234506476bbf0aff48eda764ff9eba</td>\n",
              "      <td>f2ba6e963c17f9aff690f767c73a7f87</td>\n",
              "      <td>00f33a85f39b78148f5941eac174acd2</td>\n",
              "      <td>245d9e8bab947ecf1ee8867fe9597ab2</td>\n",
              "      <td>CIDADE UNIVERSITARIA</td>\n",
              "      <td>R$1.000,00</td>\n",
              "      <td>\\n\\n                    + Condomínio R$0,00 i\\...</td>\n",
              "      <td>35.0</td>\n",
              "      <td>1</td>\n",
              "      <td>1</td>\n",
              "      <td>NaN</td>\n",
              "      <td>Kitnet próxima à Unicamp (FCA) contendo quarto...</td>\n",
              "    </tr>\n",
              "    <tr>\n",
              "      <th>2</th>\n",
              "      <td>c7234506476bbf0aff48eda764ff9eba</td>\n",
              "      <td>047b2a430e6e4409268af5251b53d3e1</td>\n",
              "      <td>b62fad32adf34709c628e9833d66b8df</td>\n",
              "      <td>245d9e8bab947ecf1ee8867fe9597ab2</td>\n",
              "      <td>CIDADE UNIVERSITARIA</td>\n",
              "      <td>R$1.000,00</td>\n",
              "      <td>\\n\\n                    + Condomínio R$0,00 i\\...</td>\n",
              "      <td>35.0</td>\n",
              "      <td>1</td>\n",
              "      <td>1</td>\n",
              "      <td>NaN</td>\n",
              "      <td>Kitnet próxima à Unicamp (FCA) contendo quarto...</td>\n",
              "    </tr>\n",
              "    <tr>\n",
              "      <th>3</th>\n",
              "      <td>c7234506476bbf0aff48eda764ff9eba</td>\n",
              "      <td>e3b2a519bc4e229ab0444cb144c3c407</td>\n",
              "      <td>2d7097bf091516c6952950802bd49019</td>\n",
              "      <td>245d9e8bab947ecf1ee8867fe9597ab2</td>\n",
              "      <td>CIDADE UNIVERSITARIA</td>\n",
              "      <td>R$1.000,00</td>\n",
              "      <td>\\n\\n                    + Condomínio R$0,00 i\\...</td>\n",
              "      <td>35.0</td>\n",
              "      <td>1</td>\n",
              "      <td>1</td>\n",
              "      <td>NaN</td>\n",
              "      <td>Kitnet próxima à Unicamp (FCA) contendo quarto...</td>\n",
              "    </tr>\n",
              "    <tr>\n",
              "      <th>4</th>\n",
              "      <td>c7234506476bbf0aff48eda764ff9eba</td>\n",
              "      <td>71edf6c4e8ad2dee47bf8c9b275c022a</td>\n",
              "      <td>12d0456fa8a537ce311abb5ea43c4b03</td>\n",
              "      <td>245d9e8bab947ecf1ee8867fe9597ab2</td>\n",
              "      <td>CIDADE UNIVERSITARIA</td>\n",
              "      <td>R$1.000,00</td>\n",
              "      <td>\\n\\n                    + Condomínio R$0,00 i\\...</td>\n",
              "      <td>35.0</td>\n",
              "      <td>1</td>\n",
              "      <td>1</td>\n",
              "      <td>NaN</td>\n",
              "      <td>Kitnet próxima à Unicamp (FCA) contendo quarto...</td>\n",
              "    </tr>\n",
              "  </tbody>\n",
              "</table>\n",
              "</div>"
            ],
            "text/plain": [
              "                               imob  ...                                          descricao\n",
              "0  c7234506476bbf0aff48eda764ff9eba  ...  Kitnet próxima à Unicamp (FCA) contendo quarto...\n",
              "1  c7234506476bbf0aff48eda764ff9eba  ...  Kitnet próxima à Unicamp (FCA) contendo quarto...\n",
              "2  c7234506476bbf0aff48eda764ff9eba  ...  Kitnet próxima à Unicamp (FCA) contendo quarto...\n",
              "3  c7234506476bbf0aff48eda764ff9eba  ...  Kitnet próxima à Unicamp (FCA) contendo quarto...\n",
              "4  c7234506476bbf0aff48eda764ff9eba  ...  Kitnet próxima à Unicamp (FCA) contendo quarto...\n",
              "\n",
              "[5 rows x 12 columns]"
            ]
          },
          "metadata": {},
          "execution_count": 130
        }
      ]
    },
    {
      "cell_type": "code",
      "metadata": {
        "colab": {
          "base_uri": "https://localhost:8080/"
        },
        "id": "yIRMX8eMBvUl",
        "outputId": "b18d1658-f664-4609-9ccf-da37b47f1973"
      },
      "source": [
        "df.info()"
      ],
      "execution_count": 131,
      "outputs": [
        {
          "output_type": "stream",
          "name": "stdout",
          "text": [
            "<class 'pandas.core.frame.DataFrame'>\n",
            "RangeIndex: 80 entries, 0 to 79\n",
            "Data columns (total 12 columns):\n",
            " #   Column        Non-Null Count  Dtype  \n",
            "---  ------        --------------  -----  \n",
            " 0   imob          80 non-null     object \n",
            " 1   imovel_url    80 non-null     object \n",
            " 2   codigo        80 non-null     object \n",
            " 3   nome          80 non-null     object \n",
            " 4   bairro        80 non-null     object \n",
            " 5   aluguel       80 non-null     object \n",
            " 6   condominio    80 non-null     object \n",
            " 7   area          34 non-null     float64\n",
            " 8   quartos       80 non-null     int64  \n",
            " 9   banheiros     80 non-null     int64  \n",
            " 10  vaga_garagem  5 non-null      float64\n",
            " 11  descricao     80 non-null     object \n",
            "dtypes: float64(2), int64(2), object(8)\n",
            "memory usage: 7.6+ KB\n"
          ]
        }
      ]
    },
    {
      "cell_type": "markdown",
      "metadata": {
        "id": "VL6ITTLxgJyw"
      },
      "source": [
        "### Coluna: aluguel"
      ]
    },
    {
      "cell_type": "code",
      "metadata": {
        "colab": {
          "base_uri": "https://localhost:8080/"
        },
        "id": "PoTFPkptDFLw",
        "outputId": "1891bf6a-5439-405c-c9f9-bba15ae7870c"
      },
      "source": [
        "df['aluguel'].unique()"
      ],
      "execution_count": 132,
      "outputs": [
        {
          "output_type": "execute_result",
          "data": {
            "text/plain": [
              "array(['R$1.000,00', 'R$850,00', 'R$750,00', 'R$950,00', 'R$ 1.000,00',\n",
              "       'R$ 900,00', 'R$ 850,00', 'R$ 800,00', 'R$ 780,00', 'R$ 700,00',\n",
              "       'R$ 500,00', 'Sob consulta', 'Locação:  R$ 780,00',\n",
              "       'Locação:  R$ 800,00', 'Locação:  R$ 850,00',\n",
              "       'Locação:  R$ 950,00', 'Locação:  R$ 1.000,00'], dtype=object)"
            ]
          },
          "metadata": {},
          "execution_count": 132
        }
      ]
    },
    {
      "cell_type": "code",
      "metadata": {
        "colab": {
          "base_uri": "https://localhost:8080/"
        },
        "id": "Qh_KD2MpCLoP",
        "outputId": "36e379fe-6132-4334-e4d1-8fe49127f0d6"
      },
      "source": [
        "# Extraindo numeros com ',' e convertendo para float\n",
        "values_extracted = []\n",
        "for i in range(len(df['aluguel'])):\n",
        "  try:\n",
        "    value_extracted = re.findall('[0-9]+[,]*', df['aluguel'][i])\n",
        "    value_extracted = float(''.join(value_extracted).replace(',', '.'))\n",
        "  except:\n",
        "    value_extracted = np.nan\n",
        "  values_extracted.append(value_extracted)\n",
        "values_extracted"
      ],
      "execution_count": 133,
      "outputs": [
        {
          "output_type": "execute_result",
          "data": {
            "text/plain": [
              "[1000.0,\n",
              " 1000.0,\n",
              " 1000.0,\n",
              " 1000.0,\n",
              " 1000.0,\n",
              " 850.0,\n",
              " 1000.0,\n",
              " 1000.0,\n",
              " 1000.0,\n",
              " 1000.0,\n",
              " 1000.0,\n",
              " 750.0,\n",
              " 1000.0,\n",
              " 1000.0,\n",
              " 1000.0,\n",
              " 1000.0,\n",
              " 1000.0,\n",
              " 1000.0,\n",
              " 1000.0,\n",
              " 1000.0,\n",
              " 950.0,\n",
              " 950.0,\n",
              " 950.0,\n",
              " 950.0,\n",
              " 950.0,\n",
              " 950.0,\n",
              " 950.0,\n",
              " 950.0,\n",
              " 1000.0,\n",
              " 1000.0,\n",
              " 1000.0,\n",
              " 1000.0,\n",
              " 1000.0,\n",
              " 1000.0,\n",
              " 1000.0,\n",
              " 1000.0,\n",
              " 1000.0,\n",
              " 1000.0,\n",
              " 1000.0,\n",
              " 1000.0,\n",
              " 1000.0,\n",
              " 1000.0,\n",
              " 1000.0,\n",
              " 1000.0,\n",
              " 1000.0,\n",
              " 1000.0,\n",
              " 1000.0,\n",
              " 1000.0,\n",
              " 1000.0,\n",
              " 1000.0,\n",
              " 1000.0,\n",
              " 900.0,\n",
              " 900.0,\n",
              " 900.0,\n",
              " 900.0,\n",
              " 900.0,\n",
              " 900.0,\n",
              " 850.0,\n",
              " 850.0,\n",
              " 850.0,\n",
              " 850.0,\n",
              " 800.0,\n",
              " 800.0,\n",
              " 800.0,\n",
              " 780.0,\n",
              " 780.0,\n",
              " 700.0,\n",
              " 700.0,\n",
              " 700.0,\n",
              " 500.0,\n",
              " nan,\n",
              " 780.0,\n",
              " 800.0,\n",
              " 800.0,\n",
              " 800.0,\n",
              " 850.0,\n",
              " 850.0,\n",
              " 950.0,\n",
              " 1000.0,\n",
              " 1000.0]"
            ]
          },
          "metadata": {},
          "execution_count": 133
        }
      ]
    },
    {
      "cell_type": "code",
      "metadata": {
        "colab": {
          "base_uri": "https://localhost:8080/"
        },
        "id": "7P0D1GlODLhE",
        "outputId": "d82c181a-a939-417b-be8e-0ec6a4eec299"
      },
      "source": [
        "# Fazendo tratamento\n",
        "df['aluguel'] = values_extracted\n",
        "print(df['aluguel'].dtype)\n",
        "print(df['aluguel'].unique())"
      ],
      "execution_count": 134,
      "outputs": [
        {
          "output_type": "stream",
          "name": "stdout",
          "text": [
            "float64\n",
            "[1000.  850.  750.  950.  900.  800.  780.  700.  500.   nan]\n"
          ]
        }
      ]
    },
    {
      "cell_type": "code",
      "metadata": {
        "colab": {
          "base_uri": "https://localhost:8080/",
          "height": 485
        },
        "id": "JtDBDldgECdi",
        "outputId": "b3c5e703-43ed-4f77-9975-5848a41370b3"
      },
      "source": [
        "print(df.shape)\n",
        "df.head()"
      ],
      "execution_count": 135,
      "outputs": [
        {
          "output_type": "stream",
          "name": "stdout",
          "text": [
            "(80, 12)\n"
          ]
        },
        {
          "output_type": "execute_result",
          "data": {
            "text/html": [
              "<div>\n",
              "<style scoped>\n",
              "    .dataframe tbody tr th:only-of-type {\n",
              "        vertical-align: middle;\n",
              "    }\n",
              "\n",
              "    .dataframe tbody tr th {\n",
              "        vertical-align: top;\n",
              "    }\n",
              "\n",
              "    .dataframe thead th {\n",
              "        text-align: right;\n",
              "    }\n",
              "</style>\n",
              "<table border=\"1\" class=\"dataframe\">\n",
              "  <thead>\n",
              "    <tr style=\"text-align: right;\">\n",
              "      <th></th>\n",
              "      <th>imob</th>\n",
              "      <th>imovel_url</th>\n",
              "      <th>codigo</th>\n",
              "      <th>nome</th>\n",
              "      <th>bairro</th>\n",
              "      <th>aluguel</th>\n",
              "      <th>condominio</th>\n",
              "      <th>area</th>\n",
              "      <th>quartos</th>\n",
              "      <th>banheiros</th>\n",
              "      <th>vaga_garagem</th>\n",
              "      <th>descricao</th>\n",
              "    </tr>\n",
              "  </thead>\n",
              "  <tbody>\n",
              "    <tr>\n",
              "      <th>0</th>\n",
              "      <td>c7234506476bbf0aff48eda764ff9eba</td>\n",
              "      <td>475b51cf4a3bf4f29cb2414680851193</td>\n",
              "      <td>57544d6162644c4cec89720f0d0fb27b</td>\n",
              "      <td>245d9e8bab947ecf1ee8867fe9597ab2</td>\n",
              "      <td>CIDADE UNIVERSITARIA</td>\n",
              "      <td>1000.0</td>\n",
              "      <td>\\n\\n                    + Condomínio R$0,00 i\\...</td>\n",
              "      <td>35.0</td>\n",
              "      <td>1</td>\n",
              "      <td>1</td>\n",
              "      <td>NaN</td>\n",
              "      <td>Kitnet próxima à Unicamp (FCA) contendo quarto...</td>\n",
              "    </tr>\n",
              "    <tr>\n",
              "      <th>1</th>\n",
              "      <td>c7234506476bbf0aff48eda764ff9eba</td>\n",
              "      <td>f2ba6e963c17f9aff690f767c73a7f87</td>\n",
              "      <td>00f33a85f39b78148f5941eac174acd2</td>\n",
              "      <td>245d9e8bab947ecf1ee8867fe9597ab2</td>\n",
              "      <td>CIDADE UNIVERSITARIA</td>\n",
              "      <td>1000.0</td>\n",
              "      <td>\\n\\n                    + Condomínio R$0,00 i\\...</td>\n",
              "      <td>35.0</td>\n",
              "      <td>1</td>\n",
              "      <td>1</td>\n",
              "      <td>NaN</td>\n",
              "      <td>Kitnet próxima à Unicamp (FCA) contendo quarto...</td>\n",
              "    </tr>\n",
              "    <tr>\n",
              "      <th>2</th>\n",
              "      <td>c7234506476bbf0aff48eda764ff9eba</td>\n",
              "      <td>047b2a430e6e4409268af5251b53d3e1</td>\n",
              "      <td>b62fad32adf34709c628e9833d66b8df</td>\n",
              "      <td>245d9e8bab947ecf1ee8867fe9597ab2</td>\n",
              "      <td>CIDADE UNIVERSITARIA</td>\n",
              "      <td>1000.0</td>\n",
              "      <td>\\n\\n                    + Condomínio R$0,00 i\\...</td>\n",
              "      <td>35.0</td>\n",
              "      <td>1</td>\n",
              "      <td>1</td>\n",
              "      <td>NaN</td>\n",
              "      <td>Kitnet próxima à Unicamp (FCA) contendo quarto...</td>\n",
              "    </tr>\n",
              "    <tr>\n",
              "      <th>3</th>\n",
              "      <td>c7234506476bbf0aff48eda764ff9eba</td>\n",
              "      <td>e3b2a519bc4e229ab0444cb144c3c407</td>\n",
              "      <td>2d7097bf091516c6952950802bd49019</td>\n",
              "      <td>245d9e8bab947ecf1ee8867fe9597ab2</td>\n",
              "      <td>CIDADE UNIVERSITARIA</td>\n",
              "      <td>1000.0</td>\n",
              "      <td>\\n\\n                    + Condomínio R$0,00 i\\...</td>\n",
              "      <td>35.0</td>\n",
              "      <td>1</td>\n",
              "      <td>1</td>\n",
              "      <td>NaN</td>\n",
              "      <td>Kitnet próxima à Unicamp (FCA) contendo quarto...</td>\n",
              "    </tr>\n",
              "    <tr>\n",
              "      <th>4</th>\n",
              "      <td>c7234506476bbf0aff48eda764ff9eba</td>\n",
              "      <td>71edf6c4e8ad2dee47bf8c9b275c022a</td>\n",
              "      <td>12d0456fa8a537ce311abb5ea43c4b03</td>\n",
              "      <td>245d9e8bab947ecf1ee8867fe9597ab2</td>\n",
              "      <td>CIDADE UNIVERSITARIA</td>\n",
              "      <td>1000.0</td>\n",
              "      <td>\\n\\n                    + Condomínio R$0,00 i\\...</td>\n",
              "      <td>35.0</td>\n",
              "      <td>1</td>\n",
              "      <td>1</td>\n",
              "      <td>NaN</td>\n",
              "      <td>Kitnet próxima à Unicamp (FCA) contendo quarto...</td>\n",
              "    </tr>\n",
              "  </tbody>\n",
              "</table>\n",
              "</div>"
            ],
            "text/plain": [
              "                               imob  ...                                          descricao\n",
              "0  c7234506476bbf0aff48eda764ff9eba  ...  Kitnet próxima à Unicamp (FCA) contendo quarto...\n",
              "1  c7234506476bbf0aff48eda764ff9eba  ...  Kitnet próxima à Unicamp (FCA) contendo quarto...\n",
              "2  c7234506476bbf0aff48eda764ff9eba  ...  Kitnet próxima à Unicamp (FCA) contendo quarto...\n",
              "3  c7234506476bbf0aff48eda764ff9eba  ...  Kitnet próxima à Unicamp (FCA) contendo quarto...\n",
              "4  c7234506476bbf0aff48eda764ff9eba  ...  Kitnet próxima à Unicamp (FCA) contendo quarto...\n",
              "\n",
              "[5 rows x 12 columns]"
            ]
          },
          "metadata": {},
          "execution_count": 135
        }
      ]
    },
    {
      "cell_type": "markdown",
      "metadata": {
        "id": "UX2MKXOugpeW"
      },
      "source": [
        "### Coluna: condomínio"
      ]
    },
    {
      "cell_type": "code",
      "metadata": {
        "colab": {
          "base_uri": "https://localhost:8080/"
        },
        "id": "3as0H3SzEG9T",
        "outputId": "eac85f2c-dd48-4f22-ec54-e046b148b69c"
      },
      "source": [
        "df['condominio'].unique()"
      ],
      "execution_count": 136,
      "outputs": [
        {
          "output_type": "execute_result",
          "data": {
            "text/plain": [
              "array(['\\n\\n                    + Condomínio R$0,00 i\\nValores sujeitos a alteração.\\n\\n+ IPTU R$0,00\\n',\n",
              "       '\\n\\n                    + Condomínio R$100,00 i\\nValores sujeitos a alteração.\\n\\n+ IPTU R$0,00\\n',\n",
              "       '0.0', '80.0'], dtype=object)"
            ]
          },
          "metadata": {},
          "execution_count": 136
        }
      ]
    },
    {
      "cell_type": "code",
      "metadata": {
        "colab": {
          "base_uri": "https://localhost:8080/"
        },
        "id": "cor09bfqgwnQ",
        "outputId": "da394cce-5c98-464d-976f-94f7d13a79f1"
      },
      "source": [
        "# Extraindo somente os numeros e convertendo para float\n",
        "values_extracted = []\n",
        "for i in range(len(df['condominio'])):\n",
        "  try:\n",
        "    value_extracted = re.findall('[0-9]+[,.][0-9]+', df['condominio'][i])\n",
        "    value_extracted = [float(x.replace(',', '.')) for x in value_extracted]\n",
        "    value_extracted = sum(value_extracted)\n",
        "  except:\n",
        "    value_extracted = np.nan\n",
        "  values_extracted.append(value_extracted)\n",
        "values_extracted"
      ],
      "execution_count": 137,
      "outputs": [
        {
          "output_type": "execute_result",
          "data": {
            "text/plain": [
              "[0.0,\n",
              " 0.0,\n",
              " 0.0,\n",
              " 0.0,\n",
              " 0.0,\n",
              " 0.0,\n",
              " 0.0,\n",
              " 0.0,\n",
              " 0.0,\n",
              " 0.0,\n",
              " 0.0,\n",
              " 0.0,\n",
              " 0.0,\n",
              " 0.0,\n",
              " 0.0,\n",
              " 0.0,\n",
              " 0.0,\n",
              " 0.0,\n",
              " 0.0,\n",
              " 0.0,\n",
              " 0.0,\n",
              " 0.0,\n",
              " 0.0,\n",
              " 0.0,\n",
              " 0.0,\n",
              " 100.0,\n",
              " 100.0,\n",
              " 0.0,\n",
              " 0.0,\n",
              " 0.0,\n",
              " 0.0,\n",
              " 0.0,\n",
              " 0.0,\n",
              " 0.0,\n",
              " 0.0,\n",
              " 0.0,\n",
              " 0.0,\n",
              " 0.0,\n",
              " 0.0,\n",
              " 0.0,\n",
              " 0.0,\n",
              " 0.0,\n",
              " 0.0,\n",
              " 0.0,\n",
              " 0.0,\n",
              " 0.0,\n",
              " 0.0,\n",
              " 0.0,\n",
              " 0.0,\n",
              " 0.0,\n",
              " 0.0,\n",
              " 0.0,\n",
              " 0.0,\n",
              " 0.0,\n",
              " 0.0,\n",
              " 0.0,\n",
              " 0.0,\n",
              " 0.0,\n",
              " 0.0,\n",
              " 0.0,\n",
              " 0.0,\n",
              " 0.0,\n",
              " 0.0,\n",
              " 0.0,\n",
              " 0.0,\n",
              " 0.0,\n",
              " 0.0,\n",
              " 0.0,\n",
              " 0.0,\n",
              " 0.0,\n",
              " 0.0,\n",
              " 0.0,\n",
              " 0.0,\n",
              " 80.0,\n",
              " 0.0,\n",
              " 0.0,\n",
              " 0.0,\n",
              " 0.0,\n",
              " 0.0,\n",
              " 0.0]"
            ]
          },
          "metadata": {},
          "execution_count": 137
        }
      ]
    },
    {
      "cell_type": "code",
      "metadata": {
        "colab": {
          "base_uri": "https://localhost:8080/"
        },
        "id": "OW0bYs4hmcZT",
        "outputId": "1d8b9c47-7732-4fd4-f801-4f57c857d081"
      },
      "source": [
        "# Fazendo tratamento\n",
        "df['condominio'] = values_extracted\n",
        "print(df['condominio'].dtype)\n",
        "print(df['condominio'].unique())"
      ],
      "execution_count": 138,
      "outputs": [
        {
          "output_type": "stream",
          "name": "stdout",
          "text": [
            "float64\n",
            "[  0. 100.  80.]\n"
          ]
        }
      ]
    },
    {
      "cell_type": "code",
      "metadata": {
        "colab": {
          "base_uri": "https://localhost:8080/",
          "height": 572
        },
        "id": "j_DAFnrkmevQ",
        "outputId": "58993b16-eaaf-46c2-b0f1-b9852eb31ffa"
      },
      "source": [
        "print(df.shape)\n",
        "df.sample(5)"
      ],
      "execution_count": 139,
      "outputs": [
        {
          "output_type": "stream",
          "name": "stdout",
          "text": [
            "(80, 12)\n"
          ]
        },
        {
          "output_type": "execute_result",
          "data": {
            "text/html": [
              "<div>\n",
              "<style scoped>\n",
              "    .dataframe tbody tr th:only-of-type {\n",
              "        vertical-align: middle;\n",
              "    }\n",
              "\n",
              "    .dataframe tbody tr th {\n",
              "        vertical-align: top;\n",
              "    }\n",
              "\n",
              "    .dataframe thead th {\n",
              "        text-align: right;\n",
              "    }\n",
              "</style>\n",
              "<table border=\"1\" class=\"dataframe\">\n",
              "  <thead>\n",
              "    <tr style=\"text-align: right;\">\n",
              "      <th></th>\n",
              "      <th>imob</th>\n",
              "      <th>imovel_url</th>\n",
              "      <th>codigo</th>\n",
              "      <th>nome</th>\n",
              "      <th>bairro</th>\n",
              "      <th>aluguel</th>\n",
              "      <th>condominio</th>\n",
              "      <th>area</th>\n",
              "      <th>quartos</th>\n",
              "      <th>banheiros</th>\n",
              "      <th>vaga_garagem</th>\n",
              "      <th>descricao</th>\n",
              "    </tr>\n",
              "  </thead>\n",
              "  <tbody>\n",
              "    <tr>\n",
              "      <th>53</th>\n",
              "      <td>ef23a7e1738f4b316011bbdd88e514a2</td>\n",
              "      <td>f9e143fd88cff8563a467df71cc70b44</td>\n",
              "      <td>d81e604fe471f170cc3cc19ee73c20dc</td>\n",
              "      <td>fc5f4e72ac82ea901f0f4f77ab0e9281</td>\n",
              "      <td>Jardim Paulista - Limeira/Sp</td>\n",
              "      <td>900.0</td>\n",
              "      <td>0.0</td>\n",
              "      <td>NaN</td>\n",
              "      <td>1</td>\n",
              "      <td>1</td>\n",
              "      <td>NaN</td>\n",
              "      <td>Imóvel totalmente reformado para atender espec...</td>\n",
              "    </tr>\n",
              "    <tr>\n",
              "      <th>7</th>\n",
              "      <td>c7234506476bbf0aff48eda764ff9eba</td>\n",
              "      <td>3c4f789084c796e08666b8db67e710b3</td>\n",
              "      <td>0236a38d5e4d324ecebfb8c807b7f238</td>\n",
              "      <td>245d9e8bab947ecf1ee8867fe9597ab2</td>\n",
              "      <td>CIDADE UNIVERSITARIA</td>\n",
              "      <td>1000.0</td>\n",
              "      <td>0.0</td>\n",
              "      <td>35.0</td>\n",
              "      <td>1</td>\n",
              "      <td>1</td>\n",
              "      <td>NaN</td>\n",
              "      <td>Kitnet próxima à Unicamp (FCA) contendo quarto...</td>\n",
              "    </tr>\n",
              "    <tr>\n",
              "      <th>48</th>\n",
              "      <td>ef23a7e1738f4b316011bbdd88e514a2</td>\n",
              "      <td>426efdfedb177f22cf060a2db44dd31a</td>\n",
              "      <td>941707c7ec03960821a488b2754bd59a</td>\n",
              "      <td>0ef98b2b924d268967e63d0747a4bd65</td>\n",
              "      <td>Jardim Cidade Universitária I - Limeira/Sp</td>\n",
              "      <td>1000.0</td>\n",
              "      <td>0.0</td>\n",
              "      <td>NaN</td>\n",
              "      <td>1</td>\n",
              "      <td>1</td>\n",
              "      <td>NaN</td>\n",
              "      <td>Imóvel muito bem localizado Conta com sala  e ...</td>\n",
              "    </tr>\n",
              "    <tr>\n",
              "      <th>18</th>\n",
              "      <td>c7234506476bbf0aff48eda764ff9eba</td>\n",
              "      <td>a1821f50b18cd950131c1906d6fc2750</td>\n",
              "      <td>02ae405e9d8013cc5d033c272e2a800d</td>\n",
              "      <td>245d9e8bab947ecf1ee8867fe9597ab2</td>\n",
              "      <td>CIDADE UNIVERSITARIA</td>\n",
              "      <td>1000.0</td>\n",
              "      <td>0.0</td>\n",
              "      <td>35.0</td>\n",
              "      <td>1</td>\n",
              "      <td>1</td>\n",
              "      <td>NaN</td>\n",
              "      <td>Kitnet próxima à Unicamp (FCA) contendo quarto...</td>\n",
              "    </tr>\n",
              "    <tr>\n",
              "      <th>37</th>\n",
              "      <td>ef23a7e1738f4b316011bbdd88e514a2</td>\n",
              "      <td>1ea21866cc1dce17743884bf5f572aec</td>\n",
              "      <td>8fb0a0798b0f5b56b77aaf7df6294525</td>\n",
              "      <td>0ef98b2b924d268967e63d0747a4bd65</td>\n",
              "      <td>Jardim Cidade Universitária I - Limeira/Sp</td>\n",
              "      <td>1000.0</td>\n",
              "      <td>0.0</td>\n",
              "      <td>NaN</td>\n",
              "      <td>1</td>\n",
              "      <td>1</td>\n",
              "      <td>NaN</td>\n",
              "      <td>Imóvel próximo à Unicamp e também com entrada ...</td>\n",
              "    </tr>\n",
              "  </tbody>\n",
              "</table>\n",
              "</div>"
            ],
            "text/plain": [
              "                                imob  ...                                          descricao\n",
              "53  ef23a7e1738f4b316011bbdd88e514a2  ...  Imóvel totalmente reformado para atender espec...\n",
              "7   c7234506476bbf0aff48eda764ff9eba  ...  Kitnet próxima à Unicamp (FCA) contendo quarto...\n",
              "48  ef23a7e1738f4b316011bbdd88e514a2  ...  Imóvel muito bem localizado Conta com sala  e ...\n",
              "18  c7234506476bbf0aff48eda764ff9eba  ...  Kitnet próxima à Unicamp (FCA) contendo quarto...\n",
              "37  ef23a7e1738f4b316011bbdd88e514a2  ...  Imóvel próximo à Unicamp e também com entrada ...\n",
              "\n",
              "[5 rows x 12 columns]"
            ]
          },
          "metadata": {},
          "execution_count": 139
        }
      ]
    },
    {
      "cell_type": "code",
      "metadata": {
        "colab": {
          "base_uri": "https://localhost:8080/"
        },
        "id": "iTJi-BEEmndi",
        "outputId": "5533b247-9cf2-43dc-9cd1-c71ccd2a972e"
      },
      "source": [
        "df.info()"
      ],
      "execution_count": 140,
      "outputs": [
        {
          "output_type": "stream",
          "name": "stdout",
          "text": [
            "<class 'pandas.core.frame.DataFrame'>\n",
            "RangeIndex: 80 entries, 0 to 79\n",
            "Data columns (total 12 columns):\n",
            " #   Column        Non-Null Count  Dtype  \n",
            "---  ------        --------------  -----  \n",
            " 0   imob          80 non-null     object \n",
            " 1   imovel_url    80 non-null     object \n",
            " 2   codigo        80 non-null     object \n",
            " 3   nome          80 non-null     object \n",
            " 4   bairro        80 non-null     object \n",
            " 5   aluguel       79 non-null     float64\n",
            " 6   condominio    80 non-null     float64\n",
            " 7   area          34 non-null     float64\n",
            " 8   quartos       80 non-null     int64  \n",
            " 9   banheiros     80 non-null     int64  \n",
            " 10  vaga_garagem  5 non-null      float64\n",
            " 11  descricao     80 non-null     object \n",
            "dtypes: float64(4), int64(2), object(6)\n",
            "memory usage: 7.6+ KB\n"
          ]
        }
      ]
    },
    {
      "cell_type": "markdown",
      "metadata": {
        "id": "kT2yNzIkmx6j"
      },
      "source": [
        "### Coluna: bairro"
      ]
    },
    {
      "cell_type": "markdown",
      "metadata": {
        "id": "n4xylje2m6I3"
      },
      "source": [
        "Remover cidade e estado do bairro"
      ]
    },
    {
      "cell_type": "code",
      "metadata": {
        "colab": {
          "base_uri": "https://localhost:8080/"
        },
        "id": "abBOKry_moAq",
        "outputId": "e8733eae-dcdd-44d4-d9a2-32917619790f"
      },
      "source": [
        "df['bairro'].unique()"
      ],
      "execution_count": 141,
      "outputs": [
        {
          "output_type": "execute_result",
          "data": {
            "text/plain": [
              "array([' CIDADE UNIVERSITARIA', ' JD. PAULISTA',\n",
              "       'Jardim Paulista - Limeira/Sp',\n",
              "       'Jardim Cidade Universitária I - Limeira/Sp',\n",
              "       'Jardim Cidade Universitária I - Limeira/Sp ',\n",
              "       'Jardim São Paulo - Limeira/Sp ',\n",
              "       'Jardim Morro Azul - Limeira/Sp ',\n",
              "       'Jardim Cidade Universitaria I - Limeira/SP',\n",
              "       'Chacara Antonieta - Limeira/SP'], dtype=object)"
            ]
          },
          "metadata": {},
          "execution_count": 141
        }
      ]
    },
    {
      "cell_type": "code",
      "metadata": {
        "colab": {
          "base_uri": "https://localhost:8080/"
        },
        "id": "67Yh82ypnbxa",
        "outputId": "393a016f-ea9e-44b7-efe0-a3a1bb0cad07"
      },
      "source": [
        "texts_extracted = [x.split('-')[0].strip() for x in df['bairro']]\n",
        "df['bairro'] = texts_extracted\n",
        "df['bairro'].unique()"
      ],
      "execution_count": 142,
      "outputs": [
        {
          "output_type": "execute_result",
          "data": {
            "text/plain": [
              "array(['CIDADE UNIVERSITARIA', 'JD. PAULISTA', 'Jardim Paulista',\n",
              "       'Jardim Cidade Universitária I', 'Jardim São Paulo',\n",
              "       'Jardim Morro Azul', 'Jardim Cidade Universitaria I',\n",
              "       'Chacara Antonieta'], dtype=object)"
            ]
          },
          "metadata": {},
          "execution_count": 142
        }
      ]
    },
    {
      "cell_type": "code",
      "metadata": {
        "colab": {
          "base_uri": "https://localhost:8080/",
          "height": 537
        },
        "id": "w4P3ZRaCoHM4",
        "outputId": "09820243-99ec-4f39-c7a0-2cfc31a6a83d"
      },
      "source": [
        "print(df.shape)\n",
        "df.sample(5)"
      ],
      "execution_count": 143,
      "outputs": [
        {
          "output_type": "stream",
          "name": "stdout",
          "text": [
            "(80, 12)\n"
          ]
        },
        {
          "output_type": "execute_result",
          "data": {
            "text/html": [
              "<div>\n",
              "<style scoped>\n",
              "    .dataframe tbody tr th:only-of-type {\n",
              "        vertical-align: middle;\n",
              "    }\n",
              "\n",
              "    .dataframe tbody tr th {\n",
              "        vertical-align: top;\n",
              "    }\n",
              "\n",
              "    .dataframe thead th {\n",
              "        text-align: right;\n",
              "    }\n",
              "</style>\n",
              "<table border=\"1\" class=\"dataframe\">\n",
              "  <thead>\n",
              "    <tr style=\"text-align: right;\">\n",
              "      <th></th>\n",
              "      <th>imob</th>\n",
              "      <th>imovel_url</th>\n",
              "      <th>codigo</th>\n",
              "      <th>nome</th>\n",
              "      <th>bairro</th>\n",
              "      <th>aluguel</th>\n",
              "      <th>condominio</th>\n",
              "      <th>area</th>\n",
              "      <th>quartos</th>\n",
              "      <th>banheiros</th>\n",
              "      <th>vaga_garagem</th>\n",
              "      <th>descricao</th>\n",
              "    </tr>\n",
              "  </thead>\n",
              "  <tbody>\n",
              "    <tr>\n",
              "      <th>20</th>\n",
              "      <td>c7234506476bbf0aff48eda764ff9eba</td>\n",
              "      <td>8281ee9fcc5eba6b80e3975d7692515a</td>\n",
              "      <td>b3b477f0632310b03bde750706df4596</td>\n",
              "      <td>245d9e8bab947ecf1ee8867fe9597ab2</td>\n",
              "      <td>JD. PAULISTA</td>\n",
              "      <td>950.0</td>\n",
              "      <td>0.0</td>\n",
              "      <td>16.0</td>\n",
              "      <td>1</td>\n",
              "      <td>1</td>\n",
              "      <td>NaN</td>\n",
              "      <td>Kitnet localizada próximo à Unicamp (FCA) cont...</td>\n",
              "    </tr>\n",
              "    <tr>\n",
              "      <th>17</th>\n",
              "      <td>c7234506476bbf0aff48eda764ff9eba</td>\n",
              "      <td>fdc3e007e30b39592c7e0b25c154a6be</td>\n",
              "      <td>d41f3ff29acc315dd5302d634301606b</td>\n",
              "      <td>245d9e8bab947ecf1ee8867fe9597ab2</td>\n",
              "      <td>CIDADE UNIVERSITARIA</td>\n",
              "      <td>1000.0</td>\n",
              "      <td>0.0</td>\n",
              "      <td>35.0</td>\n",
              "      <td>1</td>\n",
              "      <td>1</td>\n",
              "      <td>NaN</td>\n",
              "      <td>Kitnet próximo à Unicamp (FCA) sendo quarto e ...</td>\n",
              "    </tr>\n",
              "    <tr>\n",
              "      <th>69</th>\n",
              "      <td>ef23a7e1738f4b316011bbdd88e514a2</td>\n",
              "      <td>fe8b785ca524fe5068969271479bcb44</td>\n",
              "      <td>39a6db2728600ac4a1ef144ab6635476</td>\n",
              "      <td>3e72ebb916cf78b0770a12cbc2c1fafa</td>\n",
              "      <td>Jardim Morro Azul</td>\n",
              "      <td>500.0</td>\n",
              "      <td>0.0</td>\n",
              "      <td>NaN</td>\n",
              "      <td>1</td>\n",
              "      <td>1</td>\n",
              "      <td>NaN</td>\n",
              "      <td>Kitnet com 1 dormitório, 1 cozinha e 1 banheir...</td>\n",
              "    </tr>\n",
              "    <tr>\n",
              "      <th>15</th>\n",
              "      <td>c7234506476bbf0aff48eda764ff9eba</td>\n",
              "      <td>ff827e86e926255a970c108652fd6e7d</td>\n",
              "      <td>7500856834d96bce86e5e6343d8ef15f</td>\n",
              "      <td>245d9e8bab947ecf1ee8867fe9597ab2</td>\n",
              "      <td>CIDADE UNIVERSITARIA</td>\n",
              "      <td>1000.0</td>\n",
              "      <td>0.0</td>\n",
              "      <td>35.0</td>\n",
              "      <td>1</td>\n",
              "      <td>1</td>\n",
              "      <td>NaN</td>\n",
              "      <td>Kitnet próxima à Unicamp (FCA) contendo quarto...</td>\n",
              "    </tr>\n",
              "    <tr>\n",
              "      <th>36</th>\n",
              "      <td>ef23a7e1738f4b316011bbdd88e514a2</td>\n",
              "      <td>0ba85ac82e015afbcfa90463af2a8aec</td>\n",
              "      <td>e3ac2c5e0d51230d756de5db78c7452d</td>\n",
              "      <td>0ef98b2b924d268967e63d0747a4bd65</td>\n",
              "      <td>Jardim Cidade Universitária I</td>\n",
              "      <td>1000.0</td>\n",
              "      <td>0.0</td>\n",
              "      <td>NaN</td>\n",
              "      <td>1</td>\n",
              "      <td>1</td>\n",
              "      <td>NaN</td>\n",
              "      <td>Imóvel em frente à portaria principal da Unica...</td>\n",
              "    </tr>\n",
              "  </tbody>\n",
              "</table>\n",
              "</div>"
            ],
            "text/plain": [
              "                                imob  ...                                          descricao\n",
              "20  c7234506476bbf0aff48eda764ff9eba  ...  Kitnet localizada próximo à Unicamp (FCA) cont...\n",
              "17  c7234506476bbf0aff48eda764ff9eba  ...  Kitnet próximo à Unicamp (FCA) sendo quarto e ...\n",
              "69  ef23a7e1738f4b316011bbdd88e514a2  ...  Kitnet com 1 dormitório, 1 cozinha e 1 banheir...\n",
              "15  c7234506476bbf0aff48eda764ff9eba  ...  Kitnet próxima à Unicamp (FCA) contendo quarto...\n",
              "36  ef23a7e1738f4b316011bbdd88e514a2  ...  Imóvel em frente à portaria principal da Unica...\n",
              "\n",
              "[5 rows x 12 columns]"
            ]
          },
          "metadata": {},
          "execution_count": 143
        }
      ]
    },
    {
      "cell_type": "code",
      "metadata": {
        "colab": {
          "base_uri": "https://localhost:8080/"
        },
        "id": "mPuXY0l6oOzH",
        "outputId": "ba29df9b-c08d-4b22-bcdf-16717d3c8fb3"
      },
      "source": [
        "df.info()"
      ],
      "execution_count": 144,
      "outputs": [
        {
          "output_type": "stream",
          "name": "stdout",
          "text": [
            "<class 'pandas.core.frame.DataFrame'>\n",
            "RangeIndex: 80 entries, 0 to 79\n",
            "Data columns (total 12 columns):\n",
            " #   Column        Non-Null Count  Dtype  \n",
            "---  ------        --------------  -----  \n",
            " 0   imob          80 non-null     object \n",
            " 1   imovel_url    80 non-null     object \n",
            " 2   codigo        80 non-null     object \n",
            " 3   nome          80 non-null     object \n",
            " 4   bairro        80 non-null     object \n",
            " 5   aluguel       79 non-null     float64\n",
            " 6   condominio    80 non-null     float64\n",
            " 7   area          34 non-null     float64\n",
            " 8   quartos       80 non-null     int64  \n",
            " 9   banheiros     80 non-null     int64  \n",
            " 10  vaga_garagem  5 non-null      float64\n",
            " 11  descricao     80 non-null     object \n",
            "dtypes: float64(4), int64(2), object(6)\n",
            "memory usage: 7.6+ KB\n"
          ]
        }
      ]
    },
    {
      "cell_type": "markdown",
      "metadata": {
        "id": "q9UjojsOofa_"
      },
      "source": [
        "### Removendo colunas desnecessarias"
      ]
    },
    {
      "cell_type": "code",
      "metadata": {
        "colab": {
          "base_uri": "https://localhost:8080/",
          "height": 381
        },
        "id": "hktUwOhzoiVp",
        "outputId": "f18d3bf9-aef4-4477-8865-8387897d313c"
      },
      "source": [
        "df = df.drop(columns=['imovel_url', 'nome'])\n",
        "print(df.shape)\n",
        "df.sample(10)"
      ],
      "execution_count": 145,
      "outputs": [
        {
          "output_type": "stream",
          "name": "stdout",
          "text": [
            "(80, 10)\n"
          ]
        },
        {
          "output_type": "execute_result",
          "data": {
            "text/html": [
              "<div>\n",
              "<style scoped>\n",
              "    .dataframe tbody tr th:only-of-type {\n",
              "        vertical-align: middle;\n",
              "    }\n",
              "\n",
              "    .dataframe tbody tr th {\n",
              "        vertical-align: top;\n",
              "    }\n",
              "\n",
              "    .dataframe thead th {\n",
              "        text-align: right;\n",
              "    }\n",
              "</style>\n",
              "<table border=\"1\" class=\"dataframe\">\n",
              "  <thead>\n",
              "    <tr style=\"text-align: right;\">\n",
              "      <th></th>\n",
              "      <th>imob</th>\n",
              "      <th>codigo</th>\n",
              "      <th>bairro</th>\n",
              "      <th>aluguel</th>\n",
              "      <th>condominio</th>\n",
              "      <th>area</th>\n",
              "      <th>quartos</th>\n",
              "      <th>banheiros</th>\n",
              "      <th>vaga_garagem</th>\n",
              "      <th>descricao</th>\n",
              "    </tr>\n",
              "  </thead>\n",
              "  <tbody>\n",
              "    <tr>\n",
              "      <th>76</th>\n",
              "      <td>53dd1202c5ef8ce3878ffbd4b3c79bd2</td>\n",
              "      <td>a92a6e35acca298c33b9d2c83bde3505</td>\n",
              "      <td>Chacara Antonieta</td>\n",
              "      <td>850.0</td>\n",
              "      <td>0.0</td>\n",
              "      <td>30.0</td>\n",
              "      <td>1</td>\n",
              "      <td>1</td>\n",
              "      <td>1.0</td>\n",
              "      <td>CAMA,  GUARDA-ROUPA, GELADEIRA, BANCADA, TANQU...</td>\n",
              "    </tr>\n",
              "    <tr>\n",
              "      <th>21</th>\n",
              "      <td>c7234506476bbf0aff48eda764ff9eba</td>\n",
              "      <td>d7605883477939a58e52e551391d5dcb</td>\n",
              "      <td>JD. PAULISTA</td>\n",
              "      <td>950.0</td>\n",
              "      <td>0.0</td>\n",
              "      <td>16.0</td>\n",
              "      <td>1</td>\n",
              "      <td>1</td>\n",
              "      <td>NaN</td>\n",
              "      <td>Kitnet localizada próximo à Unicamp (FCA) cont...</td>\n",
              "    </tr>\n",
              "    <tr>\n",
              "      <th>36</th>\n",
              "      <td>ef23a7e1738f4b316011bbdd88e514a2</td>\n",
              "      <td>e3ac2c5e0d51230d756de5db78c7452d</td>\n",
              "      <td>Jardim Cidade Universitária I</td>\n",
              "      <td>1000.0</td>\n",
              "      <td>0.0</td>\n",
              "      <td>NaN</td>\n",
              "      <td>1</td>\n",
              "      <td>1</td>\n",
              "      <td>NaN</td>\n",
              "      <td>Imóvel em frente à portaria principal da Unica...</td>\n",
              "    </tr>\n",
              "    <tr>\n",
              "      <th>23</th>\n",
              "      <td>c7234506476bbf0aff48eda764ff9eba</td>\n",
              "      <td>6a079dd44e0e8cc401934fe33492d0bc</td>\n",
              "      <td>JD. PAULISTA</td>\n",
              "      <td>950.0</td>\n",
              "      <td>0.0</td>\n",
              "      <td>16.0</td>\n",
              "      <td>1</td>\n",
              "      <td>1</td>\n",
              "      <td>NaN</td>\n",
              "      <td>Kitnet localizada próximo à Unicamp (FCA) cont...</td>\n",
              "    </tr>\n",
              "    <tr>\n",
              "      <th>25</th>\n",
              "      <td>c7234506476bbf0aff48eda764ff9eba</td>\n",
              "      <td>48cf0deecd859f082300f8bb8f2ee7c6</td>\n",
              "      <td>CIDADE UNIVERSITARIA</td>\n",
              "      <td>950.0</td>\n",
              "      <td>100.0</td>\n",
              "      <td>25.0</td>\n",
              "      <td>1</td>\n",
              "      <td>1</td>\n",
              "      <td>NaN</td>\n",
              "      <td>Apartamento localizado no Chacara Antonieta co...</td>\n",
              "    </tr>\n",
              "    <tr>\n",
              "      <th>26</th>\n",
              "      <td>c7234506476bbf0aff48eda764ff9eba</td>\n",
              "      <td>ded7b202961dd5bb3fd74353a755c6de</td>\n",
              "      <td>CIDADE UNIVERSITARIA</td>\n",
              "      <td>950.0</td>\n",
              "      <td>100.0</td>\n",
              "      <td>25.0</td>\n",
              "      <td>1</td>\n",
              "      <td>1</td>\n",
              "      <td>NaN</td>\n",
              "      <td>Apartamento localizado no Chacara Antonieta co...</td>\n",
              "    </tr>\n",
              "    <tr>\n",
              "      <th>74</th>\n",
              "      <td>53dd1202c5ef8ce3878ffbd4b3c79bd2</td>\n",
              "      <td>350e21033122ce335fd0fd5f0031179d</td>\n",
              "      <td>Jardim Cidade Universitaria I</td>\n",
              "      <td>800.0</td>\n",
              "      <td>0.0</td>\n",
              "      <td>20.0</td>\n",
              "      <td>1</td>\n",
              "      <td>1</td>\n",
              "      <td>1.0</td>\n",
              "      <td>COZINHA COM GELADEIRA COM DISPENSER NA PORTA, ...</td>\n",
              "    </tr>\n",
              "    <tr>\n",
              "      <th>31</th>\n",
              "      <td>ef23a7e1738f4b316011bbdd88e514a2</td>\n",
              "      <td>2c8c9e9121145fbc37ef67c0a5ea3869</td>\n",
              "      <td>Jardim Cidade Universitária I</td>\n",
              "      <td>1000.0</td>\n",
              "      <td>0.0</td>\n",
              "      <td>NaN</td>\n",
              "      <td>1</td>\n",
              "      <td>1</td>\n",
              "      <td>NaN</td>\n",
              "      <td>Imóvel muito bem localizado. Conta com sala  e...</td>\n",
              "    </tr>\n",
              "    <tr>\n",
              "      <th>34</th>\n",
              "      <td>ef23a7e1738f4b316011bbdd88e514a2</td>\n",
              "      <td>7ef0dfe78be61f5fd8392d3948fb860c</td>\n",
              "      <td>Jardim Cidade Universitária I</td>\n",
              "      <td>1000.0</td>\n",
              "      <td>0.0</td>\n",
              "      <td>NaN</td>\n",
              "      <td>1</td>\n",
              "      <td>1</td>\n",
              "      <td>NaN</td>\n",
              "      <td>Imóvel com: geladeira, fogão, gabinete e mesa ...</td>\n",
              "    </tr>\n",
              "    <tr>\n",
              "      <th>11</th>\n",
              "      <td>c7234506476bbf0aff48eda764ff9eba</td>\n",
              "      <td>17e432c6fd9c0be3a2cbf043f3bd8387</td>\n",
              "      <td>CIDADE UNIVERSITARIA</td>\n",
              "      <td>750.0</td>\n",
              "      <td>0.0</td>\n",
              "      <td>NaN</td>\n",
              "      <td>1</td>\n",
              "      <td>1</td>\n",
              "      <td>NaN</td>\n",
              "      <td>Kitinet localizada na Cidade Universitária pró...</td>\n",
              "    </tr>\n",
              "  </tbody>\n",
              "</table>\n",
              "</div>"
            ],
            "text/plain": [
              "                                imob  ...                                          descricao\n",
              "76  53dd1202c5ef8ce3878ffbd4b3c79bd2  ...  CAMA,  GUARDA-ROUPA, GELADEIRA, BANCADA, TANQU...\n",
              "21  c7234506476bbf0aff48eda764ff9eba  ...  Kitnet localizada próximo à Unicamp (FCA) cont...\n",
              "36  ef23a7e1738f4b316011bbdd88e514a2  ...  Imóvel em frente à portaria principal da Unica...\n",
              "23  c7234506476bbf0aff48eda764ff9eba  ...  Kitnet localizada próximo à Unicamp (FCA) cont...\n",
              "25  c7234506476bbf0aff48eda764ff9eba  ...  Apartamento localizado no Chacara Antonieta co...\n",
              "26  c7234506476bbf0aff48eda764ff9eba  ...  Apartamento localizado no Chacara Antonieta co...\n",
              "74  53dd1202c5ef8ce3878ffbd4b3c79bd2  ...  COZINHA COM GELADEIRA COM DISPENSER NA PORTA, ...\n",
              "31  ef23a7e1738f4b316011bbdd88e514a2  ...  Imóvel muito bem localizado. Conta com sala  e...\n",
              "34  ef23a7e1738f4b316011bbdd88e514a2  ...  Imóvel com: geladeira, fogão, gabinete e mesa ...\n",
              "11  c7234506476bbf0aff48eda764ff9eba  ...  Kitinet localizada na Cidade Universitária pró...\n",
              "\n",
              "[10 rows x 10 columns]"
            ]
          },
          "metadata": {},
          "execution_count": 145
        }
      ]
    },
    {
      "cell_type": "markdown",
      "metadata": {
        "id": "DkwFaQFRoZ6T"
      },
      "source": [
        "## Análise exploratória"
      ]
    },
    {
      "cell_type": "code",
      "metadata": {
        "colab": {
          "base_uri": "https://localhost:8080/",
          "height": 225
        },
        "id": "QgRgk-8Mobfx",
        "outputId": "71ac4682-2a56-45d3-8d2b-a819f3668534"
      },
      "source": [
        "df_acomodacoes = df.copy()\n",
        "print(df_acomodacoes.shape)\n",
        "df_acomodacoes.head()"
      ],
      "execution_count": 184,
      "outputs": [
        {
          "output_type": "stream",
          "name": "stdout",
          "text": [
            "(80, 10)\n"
          ]
        },
        {
          "output_type": "execute_result",
          "data": {
            "text/html": [
              "<div>\n",
              "<style scoped>\n",
              "    .dataframe tbody tr th:only-of-type {\n",
              "        vertical-align: middle;\n",
              "    }\n",
              "\n",
              "    .dataframe tbody tr th {\n",
              "        vertical-align: top;\n",
              "    }\n",
              "\n",
              "    .dataframe thead th {\n",
              "        text-align: right;\n",
              "    }\n",
              "</style>\n",
              "<table border=\"1\" class=\"dataframe\">\n",
              "  <thead>\n",
              "    <tr style=\"text-align: right;\">\n",
              "      <th></th>\n",
              "      <th>imob</th>\n",
              "      <th>codigo</th>\n",
              "      <th>bairro</th>\n",
              "      <th>aluguel</th>\n",
              "      <th>condominio</th>\n",
              "      <th>area</th>\n",
              "      <th>quartos</th>\n",
              "      <th>banheiros</th>\n",
              "      <th>vaga_garagem</th>\n",
              "      <th>descricao</th>\n",
              "    </tr>\n",
              "  </thead>\n",
              "  <tbody>\n",
              "    <tr>\n",
              "      <th>0</th>\n",
              "      <td>c7234506476bbf0aff48eda764ff9eba</td>\n",
              "      <td>57544d6162644c4cec89720f0d0fb27b</td>\n",
              "      <td>CIDADE UNIVERSITARIA</td>\n",
              "      <td>1000.0</td>\n",
              "      <td>0.0</td>\n",
              "      <td>35.0</td>\n",
              "      <td>1</td>\n",
              "      <td>1</td>\n",
              "      <td>NaN</td>\n",
              "      <td>Kitnet próxima à Unicamp (FCA) contendo quarto...</td>\n",
              "    </tr>\n",
              "    <tr>\n",
              "      <th>1</th>\n",
              "      <td>c7234506476bbf0aff48eda764ff9eba</td>\n",
              "      <td>00f33a85f39b78148f5941eac174acd2</td>\n",
              "      <td>CIDADE UNIVERSITARIA</td>\n",
              "      <td>1000.0</td>\n",
              "      <td>0.0</td>\n",
              "      <td>35.0</td>\n",
              "      <td>1</td>\n",
              "      <td>1</td>\n",
              "      <td>NaN</td>\n",
              "      <td>Kitnet próxima à Unicamp (FCA) contendo quarto...</td>\n",
              "    </tr>\n",
              "    <tr>\n",
              "      <th>2</th>\n",
              "      <td>c7234506476bbf0aff48eda764ff9eba</td>\n",
              "      <td>b62fad32adf34709c628e9833d66b8df</td>\n",
              "      <td>CIDADE UNIVERSITARIA</td>\n",
              "      <td>1000.0</td>\n",
              "      <td>0.0</td>\n",
              "      <td>35.0</td>\n",
              "      <td>1</td>\n",
              "      <td>1</td>\n",
              "      <td>NaN</td>\n",
              "      <td>Kitnet próxima à Unicamp (FCA) contendo quarto...</td>\n",
              "    </tr>\n",
              "    <tr>\n",
              "      <th>3</th>\n",
              "      <td>c7234506476bbf0aff48eda764ff9eba</td>\n",
              "      <td>2d7097bf091516c6952950802bd49019</td>\n",
              "      <td>CIDADE UNIVERSITARIA</td>\n",
              "      <td>1000.0</td>\n",
              "      <td>0.0</td>\n",
              "      <td>35.0</td>\n",
              "      <td>1</td>\n",
              "      <td>1</td>\n",
              "      <td>NaN</td>\n",
              "      <td>Kitnet próxima à Unicamp (FCA) contendo quarto...</td>\n",
              "    </tr>\n",
              "    <tr>\n",
              "      <th>4</th>\n",
              "      <td>c7234506476bbf0aff48eda764ff9eba</td>\n",
              "      <td>12d0456fa8a537ce311abb5ea43c4b03</td>\n",
              "      <td>CIDADE UNIVERSITARIA</td>\n",
              "      <td>1000.0</td>\n",
              "      <td>0.0</td>\n",
              "      <td>35.0</td>\n",
              "      <td>1</td>\n",
              "      <td>1</td>\n",
              "      <td>NaN</td>\n",
              "      <td>Kitnet próxima à Unicamp (FCA) contendo quarto...</td>\n",
              "    </tr>\n",
              "  </tbody>\n",
              "</table>\n",
              "</div>"
            ],
            "text/plain": [
              "                               imob  ...                                          descricao\n",
              "0  c7234506476bbf0aff48eda764ff9eba  ...  Kitnet próxima à Unicamp (FCA) contendo quarto...\n",
              "1  c7234506476bbf0aff48eda764ff9eba  ...  Kitnet próxima à Unicamp (FCA) contendo quarto...\n",
              "2  c7234506476bbf0aff48eda764ff9eba  ...  Kitnet próxima à Unicamp (FCA) contendo quarto...\n",
              "3  c7234506476bbf0aff48eda764ff9eba  ...  Kitnet próxima à Unicamp (FCA) contendo quarto...\n",
              "4  c7234506476bbf0aff48eda764ff9eba  ...  Kitnet próxima à Unicamp (FCA) contendo quarto...\n",
              "\n",
              "[5 rows x 10 columns]"
            ]
          },
          "metadata": {},
          "execution_count": 184
        }
      ]
    },
    {
      "cell_type": "markdown",
      "metadata": {
        "id": "9TSmqkteznfr"
      },
      "source": [
        "### Tratamento"
      ]
    },
    {
      "cell_type": "code",
      "metadata": {
        "colab": {
          "base_uri": "https://localhost:8080/"
        },
        "id": "EhAORdckr7du",
        "outputId": "2ad786b3-4b5a-4d16-ea9e-ecc5352e67c0"
      },
      "source": [
        "df_acomodacoes['imob'].unique()"
      ],
      "execution_count": 185,
      "outputs": [
        {
          "output_type": "execute_result",
          "data": {
            "text/plain": [
              "array(['c7234506476bbf0aff48eda764ff9eba',\n",
              "       'ef23a7e1738f4b316011bbdd88e514a2',\n",
              "       '53dd1202c5ef8ce3878ffbd4b3c79bd2'], dtype=object)"
            ]
          },
          "metadata": {},
          "execution_count": 185
        }
      ]
    },
    {
      "cell_type": "code",
      "metadata": {
        "colab": {
          "base_uri": "https://localhost:8080/",
          "height": 206
        },
        "id": "NDYEsswMr4Lm",
        "outputId": "e04c3bb4-7953-467e-eae3-e23256d3fea2"
      },
      "source": [
        "imob_map = {\n",
        "    '53dd1202c5ef8ce3878ffbd4b3c79bd2': 'A',\n",
        "    'ef23a7e1738f4b316011bbdd88e514a2': 'B',\n",
        "    'c7234506476bbf0aff48eda764ff9eba': 'C'\n",
        "}\n",
        "\n",
        "df_acomodacoes['imob'] = df_acomodacoes['imob'].map(imob_map)\n",
        "df_acomodacoes.sample(5)"
      ],
      "execution_count": 186,
      "outputs": [
        {
          "output_type": "execute_result",
          "data": {
            "text/html": [
              "<div>\n",
              "<style scoped>\n",
              "    .dataframe tbody tr th:only-of-type {\n",
              "        vertical-align: middle;\n",
              "    }\n",
              "\n",
              "    .dataframe tbody tr th {\n",
              "        vertical-align: top;\n",
              "    }\n",
              "\n",
              "    .dataframe thead th {\n",
              "        text-align: right;\n",
              "    }\n",
              "</style>\n",
              "<table border=\"1\" class=\"dataframe\">\n",
              "  <thead>\n",
              "    <tr style=\"text-align: right;\">\n",
              "      <th></th>\n",
              "      <th>imob</th>\n",
              "      <th>codigo</th>\n",
              "      <th>bairro</th>\n",
              "      <th>aluguel</th>\n",
              "      <th>condominio</th>\n",
              "      <th>area</th>\n",
              "      <th>quartos</th>\n",
              "      <th>banheiros</th>\n",
              "      <th>vaga_garagem</th>\n",
              "      <th>descricao</th>\n",
              "    </tr>\n",
              "  </thead>\n",
              "  <tbody>\n",
              "    <tr>\n",
              "      <th>58</th>\n",
              "      <td>B</td>\n",
              "      <td>97bcff626e416e4682240b08bfe240e9</td>\n",
              "      <td>Jardim Cidade Universitária I</td>\n",
              "      <td>850.0</td>\n",
              "      <td>0.0</td>\n",
              "      <td>NaN</td>\n",
              "      <td>1</td>\n",
              "      <td>1</td>\n",
              "      <td>NaN</td>\n",
              "      <td>Kitnet no bairro Universitário, próximo a Unic...</td>\n",
              "    </tr>\n",
              "    <tr>\n",
              "      <th>71</th>\n",
              "      <td>A</td>\n",
              "      <td>c5a84c8eb6b4f9c7389fd32afa1e5357</td>\n",
              "      <td>Jardim Cidade Universitaria I</td>\n",
              "      <td>780.0</td>\n",
              "      <td>0.0</td>\n",
              "      <td>20.0</td>\n",
              "      <td>1</td>\n",
              "      <td>1</td>\n",
              "      <td>0.0</td>\n",
              "      <td>KITNET COM CAMA, ARMÁRIOS, ESCRIVANINHA,COZINH...</td>\n",
              "    </tr>\n",
              "    <tr>\n",
              "      <th>8</th>\n",
              "      <td>C</td>\n",
              "      <td>72d0a25bdc4aa78facc3b05f3b7dc2b9</td>\n",
              "      <td>CIDADE UNIVERSITARIA</td>\n",
              "      <td>1000.0</td>\n",
              "      <td>0.0</td>\n",
              "      <td>NaN</td>\n",
              "      <td>1</td>\n",
              "      <td>1</td>\n",
              "      <td>NaN</td>\n",
              "      <td>Kitnet próxima à Unicamp (FCA) contendo quarto...</td>\n",
              "    </tr>\n",
              "    <tr>\n",
              "      <th>63</th>\n",
              "      <td>B</td>\n",
              "      <td>c18e0e8dc2d9c9e19e50d86b8903cfa7</td>\n",
              "      <td>Jardim Cidade Universitária I</td>\n",
              "      <td>800.0</td>\n",
              "      <td>0.0</td>\n",
              "      <td>NaN</td>\n",
              "      <td>1</td>\n",
              "      <td>1</td>\n",
              "      <td>NaN</td>\n",
              "      <td>Ótimo apartamento na Cidade Universitária com ...</td>\n",
              "    </tr>\n",
              "    <tr>\n",
              "      <th>1</th>\n",
              "      <td>C</td>\n",
              "      <td>00f33a85f39b78148f5941eac174acd2</td>\n",
              "      <td>CIDADE UNIVERSITARIA</td>\n",
              "      <td>1000.0</td>\n",
              "      <td>0.0</td>\n",
              "      <td>35.0</td>\n",
              "      <td>1</td>\n",
              "      <td>1</td>\n",
              "      <td>NaN</td>\n",
              "      <td>Kitnet próxima à Unicamp (FCA) contendo quarto...</td>\n",
              "    </tr>\n",
              "  </tbody>\n",
              "</table>\n",
              "</div>"
            ],
            "text/plain": [
              "   imob  ...                                          descricao\n",
              "58    B  ...  Kitnet no bairro Universitário, próximo a Unic...\n",
              "71    A  ...  KITNET COM CAMA, ARMÁRIOS, ESCRIVANINHA,COZINH...\n",
              "8     C  ...  Kitnet próxima à Unicamp (FCA) contendo quarto...\n",
              "63    B  ...  Ótimo apartamento na Cidade Universitária com ...\n",
              "1     C  ...  Kitnet próxima à Unicamp (FCA) contendo quarto...\n",
              "\n",
              "[5 rows x 10 columns]"
            ]
          },
          "metadata": {},
          "execution_count": 186
        }
      ]
    },
    {
      "cell_type": "code",
      "metadata": {
        "colab": {
          "base_uri": "https://localhost:8080/",
          "height": 225
        },
        "id": "Eonz_fJguY9U",
        "outputId": "6c758db1-c81a-4d59-cd1e-eca38eb27d6b"
      },
      "source": [
        "df_acomodacoes['total'] = df_acomodacoes['aluguel'] + df_acomodacoes['condominio']\n",
        "print(df_acomodacoes.shape)\n",
        "df_acomodacoes.sample(5)"
      ],
      "execution_count": 187,
      "outputs": [
        {
          "output_type": "stream",
          "name": "stdout",
          "text": [
            "(80, 11)\n"
          ]
        },
        {
          "output_type": "execute_result",
          "data": {
            "text/html": [
              "<div>\n",
              "<style scoped>\n",
              "    .dataframe tbody tr th:only-of-type {\n",
              "        vertical-align: middle;\n",
              "    }\n",
              "\n",
              "    .dataframe tbody tr th {\n",
              "        vertical-align: top;\n",
              "    }\n",
              "\n",
              "    .dataframe thead th {\n",
              "        text-align: right;\n",
              "    }\n",
              "</style>\n",
              "<table border=\"1\" class=\"dataframe\">\n",
              "  <thead>\n",
              "    <tr style=\"text-align: right;\">\n",
              "      <th></th>\n",
              "      <th>imob</th>\n",
              "      <th>codigo</th>\n",
              "      <th>bairro</th>\n",
              "      <th>aluguel</th>\n",
              "      <th>condominio</th>\n",
              "      <th>area</th>\n",
              "      <th>quartos</th>\n",
              "      <th>banheiros</th>\n",
              "      <th>vaga_garagem</th>\n",
              "      <th>descricao</th>\n",
              "      <th>total</th>\n",
              "    </tr>\n",
              "  </thead>\n",
              "  <tbody>\n",
              "    <tr>\n",
              "      <th>23</th>\n",
              "      <td>C</td>\n",
              "      <td>6a079dd44e0e8cc401934fe33492d0bc</td>\n",
              "      <td>JD. PAULISTA</td>\n",
              "      <td>950.0</td>\n",
              "      <td>0.0</td>\n",
              "      <td>16.0</td>\n",
              "      <td>1</td>\n",
              "      <td>1</td>\n",
              "      <td>NaN</td>\n",
              "      <td>Kitnet localizada próximo à Unicamp (FCA) cont...</td>\n",
              "      <td>950.0</td>\n",
              "    </tr>\n",
              "    <tr>\n",
              "      <th>73</th>\n",
              "      <td>A</td>\n",
              "      <td>f773fe72ae9c3ae06183ea91d181347a</td>\n",
              "      <td>Jardim Cidade Universitaria I</td>\n",
              "      <td>800.0</td>\n",
              "      <td>80.0</td>\n",
              "      <td>20.0</td>\n",
              "      <td>1</td>\n",
              "      <td>1</td>\n",
              "      <td>NaN</td>\n",
              "      <td>COZINHA COM GELADEIRA COM DISPENSER NA PORTA, ...</td>\n",
              "      <td>880.0</td>\n",
              "    </tr>\n",
              "    <tr>\n",
              "      <th>25</th>\n",
              "      <td>C</td>\n",
              "      <td>48cf0deecd859f082300f8bb8f2ee7c6</td>\n",
              "      <td>CIDADE UNIVERSITARIA</td>\n",
              "      <td>950.0</td>\n",
              "      <td>100.0</td>\n",
              "      <td>25.0</td>\n",
              "      <td>1</td>\n",
              "      <td>1</td>\n",
              "      <td>NaN</td>\n",
              "      <td>Apartamento localizado no Chacara Antonieta co...</td>\n",
              "      <td>1050.0</td>\n",
              "    </tr>\n",
              "    <tr>\n",
              "      <th>44</th>\n",
              "      <td>B</td>\n",
              "      <td>f35ab38d7e2c5a4b5e0a009ccc32d452</td>\n",
              "      <td>Jardim Cidade Universitária I</td>\n",
              "      <td>1000.0</td>\n",
              "      <td>0.0</td>\n",
              "      <td>NaN</td>\n",
              "      <td>1</td>\n",
              "      <td>1</td>\n",
              "      <td>NaN</td>\n",
              "      <td>Imóvel novo 1 locação próximo à Unicamp e tamb...</td>\n",
              "      <td>1000.0</td>\n",
              "    </tr>\n",
              "    <tr>\n",
              "      <th>50</th>\n",
              "      <td>B</td>\n",
              "      <td>8a4aa098922c72013ace92f92de73cc9</td>\n",
              "      <td>Jardim Cidade Universitária I</td>\n",
              "      <td>1000.0</td>\n",
              "      <td>0.0</td>\n",
              "      <td>NaN</td>\n",
              "      <td>1</td>\n",
              "      <td>1</td>\n",
              "      <td>NaN</td>\n",
              "      <td>Imóvel novo, 1º locação, em frente à portaria ...</td>\n",
              "      <td>1000.0</td>\n",
              "    </tr>\n",
              "  </tbody>\n",
              "</table>\n",
              "</div>"
            ],
            "text/plain": [
              "   imob  ...   total\n",
              "23    C  ...   950.0\n",
              "73    A  ...   880.0\n",
              "25    C  ...  1050.0\n",
              "44    B  ...  1000.0\n",
              "50    B  ...  1000.0\n",
              "\n",
              "[5 rows x 11 columns]"
            ]
          },
          "metadata": {},
          "execution_count": 187
        }
      ]
    },
    {
      "cell_type": "code",
      "metadata": {
        "colab": {
          "base_uri": "https://localhost:8080/",
          "height": 225
        },
        "id": "TXvt_Q7euggO",
        "outputId": "480e43b8-446b-4277-de66-a4a4b972406e"
      },
      "source": [
        "df_acomodacoes['preco_m2'] = df_acomodacoes['total'] / df_acomodacoes['area']\n",
        "df_acomodacoes['preco_m2'] = df_acomodacoes['preco_m2'].replace(np.inf, np.nan)\n",
        "\n",
        "print(df_acomodacoes.shape)\n",
        "df_acomodacoes.sample(5)"
      ],
      "execution_count": 188,
      "outputs": [
        {
          "output_type": "stream",
          "name": "stdout",
          "text": [
            "(80, 12)\n"
          ]
        },
        {
          "output_type": "execute_result",
          "data": {
            "text/html": [
              "<div>\n",
              "<style scoped>\n",
              "    .dataframe tbody tr th:only-of-type {\n",
              "        vertical-align: middle;\n",
              "    }\n",
              "\n",
              "    .dataframe tbody tr th {\n",
              "        vertical-align: top;\n",
              "    }\n",
              "\n",
              "    .dataframe thead th {\n",
              "        text-align: right;\n",
              "    }\n",
              "</style>\n",
              "<table border=\"1\" class=\"dataframe\">\n",
              "  <thead>\n",
              "    <tr style=\"text-align: right;\">\n",
              "      <th></th>\n",
              "      <th>imob</th>\n",
              "      <th>codigo</th>\n",
              "      <th>bairro</th>\n",
              "      <th>aluguel</th>\n",
              "      <th>condominio</th>\n",
              "      <th>area</th>\n",
              "      <th>quartos</th>\n",
              "      <th>banheiros</th>\n",
              "      <th>vaga_garagem</th>\n",
              "      <th>descricao</th>\n",
              "      <th>total</th>\n",
              "      <th>preco_m2</th>\n",
              "    </tr>\n",
              "  </thead>\n",
              "  <tbody>\n",
              "    <tr>\n",
              "      <th>22</th>\n",
              "      <td>C</td>\n",
              "      <td>7b17e06caa3474661e0d2ac8f44da80f</td>\n",
              "      <td>JD. PAULISTA</td>\n",
              "      <td>950.0</td>\n",
              "      <td>0.0</td>\n",
              "      <td>NaN</td>\n",
              "      <td>1</td>\n",
              "      <td>1</td>\n",
              "      <td>NaN</td>\n",
              "      <td>Kitnet localizada próximo à Unicamp (FCA) cont...</td>\n",
              "      <td>950.0</td>\n",
              "      <td>NaN</td>\n",
              "    </tr>\n",
              "    <tr>\n",
              "      <th>48</th>\n",
              "      <td>B</td>\n",
              "      <td>941707c7ec03960821a488b2754bd59a</td>\n",
              "      <td>Jardim Cidade Universitária I</td>\n",
              "      <td>1000.0</td>\n",
              "      <td>0.0</td>\n",
              "      <td>NaN</td>\n",
              "      <td>1</td>\n",
              "      <td>1</td>\n",
              "      <td>NaN</td>\n",
              "      <td>Imóvel muito bem localizado Conta com sala  e ...</td>\n",
              "      <td>1000.0</td>\n",
              "      <td>NaN</td>\n",
              "    </tr>\n",
              "    <tr>\n",
              "      <th>50</th>\n",
              "      <td>B</td>\n",
              "      <td>8a4aa098922c72013ace92f92de73cc9</td>\n",
              "      <td>Jardim Cidade Universitária I</td>\n",
              "      <td>1000.0</td>\n",
              "      <td>0.0</td>\n",
              "      <td>NaN</td>\n",
              "      <td>1</td>\n",
              "      <td>1</td>\n",
              "      <td>NaN</td>\n",
              "      <td>Imóvel novo, 1º locação, em frente à portaria ...</td>\n",
              "      <td>1000.0</td>\n",
              "      <td>NaN</td>\n",
              "    </tr>\n",
              "    <tr>\n",
              "      <th>40</th>\n",
              "      <td>B</td>\n",
              "      <td>8dae04e0c3ca32298ab313770631283a</td>\n",
              "      <td>Jardim Cidade Universitária I</td>\n",
              "      <td>1000.0</td>\n",
              "      <td>0.0</td>\n",
              "      <td>NaN</td>\n",
              "      <td>1</td>\n",
              "      <td>1</td>\n",
              "      <td>NaN</td>\n",
              "      <td>Imóvel muito bem localizado. Conta com sala e ...</td>\n",
              "      <td>1000.0</td>\n",
              "      <td>NaN</td>\n",
              "    </tr>\n",
              "    <tr>\n",
              "      <th>18</th>\n",
              "      <td>C</td>\n",
              "      <td>02ae405e9d8013cc5d033c272e2a800d</td>\n",
              "      <td>CIDADE UNIVERSITARIA</td>\n",
              "      <td>1000.0</td>\n",
              "      <td>0.0</td>\n",
              "      <td>35.0</td>\n",
              "      <td>1</td>\n",
              "      <td>1</td>\n",
              "      <td>NaN</td>\n",
              "      <td>Kitnet próxima à Unicamp (FCA) contendo quarto...</td>\n",
              "      <td>1000.0</td>\n",
              "      <td>28.571429</td>\n",
              "    </tr>\n",
              "  </tbody>\n",
              "</table>\n",
              "</div>"
            ],
            "text/plain": [
              "   imob                            codigo  ...   total   preco_m2\n",
              "22    C  7b17e06caa3474661e0d2ac8f44da80f  ...   950.0        NaN\n",
              "48    B  941707c7ec03960821a488b2754bd59a  ...  1000.0        NaN\n",
              "50    B  8a4aa098922c72013ace92f92de73cc9  ...  1000.0        NaN\n",
              "40    B  8dae04e0c3ca32298ab313770631283a  ...  1000.0        NaN\n",
              "18    C  02ae405e9d8013cc5d033c272e2a800d  ...  1000.0  28.571429\n",
              "\n",
              "[5 rows x 12 columns]"
            ]
          },
          "metadata": {},
          "execution_count": 188
        }
      ]
    },
    {
      "cell_type": "code",
      "metadata": {
        "colab": {
          "base_uri": "https://localhost:8080/",
          "height": 300
        },
        "id": "Ilve_8oUpJwh",
        "outputId": "3a0417f3-05ef-44f3-9287-a2e3b5d8d5df"
      },
      "source": [
        "df_acomodacoes.describe()"
      ],
      "execution_count": 189,
      "outputs": [
        {
          "output_type": "execute_result",
          "data": {
            "text/html": [
              "<div>\n",
              "<style scoped>\n",
              "    .dataframe tbody tr th:only-of-type {\n",
              "        vertical-align: middle;\n",
              "    }\n",
              "\n",
              "    .dataframe tbody tr th {\n",
              "        vertical-align: top;\n",
              "    }\n",
              "\n",
              "    .dataframe thead th {\n",
              "        text-align: right;\n",
              "    }\n",
              "</style>\n",
              "<table border=\"1\" class=\"dataframe\">\n",
              "  <thead>\n",
              "    <tr style=\"text-align: right;\">\n",
              "      <th></th>\n",
              "      <th>aluguel</th>\n",
              "      <th>condominio</th>\n",
              "      <th>area</th>\n",
              "      <th>quartos</th>\n",
              "      <th>banheiros</th>\n",
              "      <th>vaga_garagem</th>\n",
              "      <th>total</th>\n",
              "      <th>preco_m2</th>\n",
              "    </tr>\n",
              "  </thead>\n",
              "  <tbody>\n",
              "    <tr>\n",
              "      <th>count</th>\n",
              "      <td>79.000000</td>\n",
              "      <td>80.000000</td>\n",
              "      <td>34.000000</td>\n",
              "      <td>80.0</td>\n",
              "      <td>80.0</td>\n",
              "      <td>5.000000</td>\n",
              "      <td>79.000000</td>\n",
              "      <td>34.000000</td>\n",
              "    </tr>\n",
              "    <tr>\n",
              "      <th>mean</th>\n",
              "      <td>928.987342</td>\n",
              "      <td>3.500000</td>\n",
              "      <td>38.529412</td>\n",
              "      <td>1.0</td>\n",
              "      <td>1.0</td>\n",
              "      <td>0.400000</td>\n",
              "      <td>932.531646</td>\n",
              "      <td>32.792402</td>\n",
              "    </tr>\n",
              "    <tr>\n",
              "      <th>std</th>\n",
              "      <td>101.862085</td>\n",
              "      <td>17.938009</td>\n",
              "      <td>38.966369</td>\n",
              "      <td>0.0</td>\n",
              "      <td>0.0</td>\n",
              "      <td>0.547723</td>\n",
              "      <td>102.687831</td>\n",
              "      <td>13.905988</td>\n",
              "    </tr>\n",
              "    <tr>\n",
              "      <th>min</th>\n",
              "      <td>500.000000</td>\n",
              "      <td>0.000000</td>\n",
              "      <td>16.000000</td>\n",
              "      <td>1.0</td>\n",
              "      <td>1.0</td>\n",
              "      <td>0.000000</td>\n",
              "      <td>500.000000</td>\n",
              "      <td>3.200000</td>\n",
              "    </tr>\n",
              "    <tr>\n",
              "      <th>25%</th>\n",
              "      <td>850.000000</td>\n",
              "      <td>0.000000</td>\n",
              "      <td>21.250000</td>\n",
              "      <td>1.0</td>\n",
              "      <td>1.0</td>\n",
              "      <td>0.000000</td>\n",
              "      <td>865.000000</td>\n",
              "      <td>28.392857</td>\n",
              "    </tr>\n",
              "    <tr>\n",
              "      <th>50%</th>\n",
              "      <td>1000.000000</td>\n",
              "      <td>0.000000</td>\n",
              "      <td>35.000000</td>\n",
              "      <td>1.0</td>\n",
              "      <td>1.0</td>\n",
              "      <td>0.000000</td>\n",
              "      <td>1000.000000</td>\n",
              "      <td>28.571429</td>\n",
              "    </tr>\n",
              "    <tr>\n",
              "      <th>75%</th>\n",
              "      <td>1000.000000</td>\n",
              "      <td>0.000000</td>\n",
              "      <td>35.000000</td>\n",
              "      <td>1.0</td>\n",
              "      <td>1.0</td>\n",
              "      <td>1.000000</td>\n",
              "      <td>1000.000000</td>\n",
              "      <td>40.000000</td>\n",
              "    </tr>\n",
              "    <tr>\n",
              "      <th>max</th>\n",
              "      <td>1000.000000</td>\n",
              "      <td>100.000000</td>\n",
              "      <td>250.000000</td>\n",
              "      <td>1.0</td>\n",
              "      <td>1.0</td>\n",
              "      <td>1.000000</td>\n",
              "      <td>1050.000000</td>\n",
              "      <td>59.375000</td>\n",
              "    </tr>\n",
              "  </tbody>\n",
              "</table>\n",
              "</div>"
            ],
            "text/plain": [
              "           aluguel  condominio  ...        total   preco_m2\n",
              "count    79.000000   80.000000  ...    79.000000  34.000000\n",
              "mean    928.987342    3.500000  ...   932.531646  32.792402\n",
              "std     101.862085   17.938009  ...   102.687831  13.905988\n",
              "min     500.000000    0.000000  ...   500.000000   3.200000\n",
              "25%     850.000000    0.000000  ...   865.000000  28.392857\n",
              "50%    1000.000000    0.000000  ...  1000.000000  28.571429\n",
              "75%    1000.000000    0.000000  ...  1000.000000  40.000000\n",
              "max    1000.000000  100.000000  ...  1050.000000  59.375000\n",
              "\n",
              "[8 rows x 8 columns]"
            ]
          },
          "metadata": {},
          "execution_count": 189
        }
      ]
    },
    {
      "cell_type": "code",
      "metadata": {
        "colab": {
          "base_uri": "https://localhost:8080/"
        },
        "id": "rIR7m2Fs0HM6",
        "outputId": "e603151c-e1e6-4327-96cc-51123098d566"
      },
      "source": [
        "df_acomodacoes['bairro'].value_counts()"
      ],
      "execution_count": 190,
      "outputs": [
        {
          "output_type": "execute_result",
          "data": {
            "text/plain": [
              "Jardim Cidade Universitária I    32\n",
              "CIDADE UNIVERSITARIA             22\n",
              "Jardim Cidade Universitaria I     7\n",
              "Jardim Paulista                   7\n",
              "JD. PAULISTA                      6\n",
              "Jardim Morro Azul                 3\n",
              "Chacara Antonieta                 2\n",
              "Jardim São Paulo                  1\n",
              "Name: bairro, dtype: int64"
            ]
          },
          "metadata": {},
          "execution_count": 190
        }
      ]
    },
    {
      "cell_type": "code",
      "metadata": {
        "colab": {
          "base_uri": "https://localhost:8080/",
          "height": 445
        },
        "id": "i0J7-pgZ0Ui3",
        "outputId": "32bed41a-fa80-4cbe-d361-4d2444270cb4"
      },
      "source": [
        "plt.figure(figsize=(10, 6))\n",
        "sns.barplot(x=df_acomodacoes['bairro'].value_counts().index, y=df_acomodacoes['bairro'].value_counts())\n",
        "plt.xticks(rotation=30)\n",
        "plt.show()"
      ],
      "execution_count": 191,
      "outputs": [
        {
          "output_type": "display_data",
          "data": {
            "image/png": "[encoded data removed]",
            "text/plain": [
              "<Figure size 720x432 with 1 Axes>"
            ]
          },
          "metadata": {
            "needs_background": "light"
          }
        }
      ]
    },
    {
      "cell_type": "code",
      "metadata": {
        "colab": {
          "base_uri": "https://localhost:8080/"
        },
        "id": "ENkWF7ry00K7",
        "outputId": "bdffb990-d0d7-4d5b-e2c0-772fc17240b3"
      },
      "source": [
        "bairro_map = {\n",
        "    'Jardim Cidade Universitária I': 'JD. Cidade Universitária I',\n",
        "    'CIDADE UNIVERSITARIA': 'JD. Cidade Universitária I',\n",
        "    'Jardim Cidade Universitaria I': 'JD. Cidade Universitária I',\n",
        "    'Jardim Paulista': 'JD. Paulista',\n",
        "    'JD. PAULISTA': 'JD. Paulista',\n",
        "    'Jardim Morro Azul': 'JD. Morro Azul',\n",
        "    'Chacara Antonieta': 'Chácara Antonieta',\n",
        "    'Jardim São Paulo': 'JD. São Paulo'\n",
        "}\n",
        "\n",
        "df_acomodacoes['bairro'] = df_acomodacoes['bairro'].map(bairro_map)\n",
        "print(df_acomodacoes.shape)\n",
        "df_acomodacoes['bairro'].unique()"
      ],
      "execution_count": 192,
      "outputs": [
        {
          "output_type": "stream",
          "name": "stdout",
          "text": [
            "(80, 12)\n"
          ]
        },
        {
          "output_type": "execute_result",
          "data": {
            "text/plain": [
              "array(['JD. Cidade Universitária I', 'JD. Paulista', 'JD. São Paulo',\n",
              "       'JD. Morro Azul', 'Chácara Antonieta'], dtype=object)"
            ]
          },
          "metadata": {},
          "execution_count": 192
        }
      ]
    },
    {
      "cell_type": "code",
      "metadata": {
        "colab": {
          "base_uri": "https://localhost:8080/",
          "height": 436
        },
        "id": "8mMo1Waz19_Q",
        "outputId": "5daa597f-b8d0-4993-d47c-63a2dc2fe263"
      },
      "source": [
        "plt.figure(figsize=(10, 6))\n",
        "sns.barplot(x=df_acomodacoes['bairro'].value_counts().index, y=df_acomodacoes['bairro'].value_counts())\n",
        "plt.xticks(rotation=30)\n",
        "plt.show()"
      ],
      "execution_count": 193,
      "outputs": [
        {
          "output_type": "display_data",
          "data": {
            "image/png": "[encoded data removed]",
            "text/plain": [
              "<Figure size 720x432 with 1 Axes>"
            ]
          },
          "metadata": {
            "needs_background": "light"
          }
        }
      ]
    },
    {
      "cell_type": "markdown",
      "metadata": {
        "id": "0owhWGD46NUg"
      },
      "source": [
        "Importando dados dos bairros eleitos"
      ]
    },
    {
      "cell_type": "code",
      "metadata": {
        "colab": {
          "resources": {
            "http://localhost:8080/nbextensions/google.colab/files.js": {
              "data": "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",
              "ok": true,
              "headers": [
                [
                  "content-type",
                  "application/javascript"
                ]
              ],
              "status": 200,
              "status_text": "OK"
            }
          },
          "base_uri": "https://localhost:8080/",
          "height": 75
        },
        "id": "OwdD_r-D2Xdl",
        "outputId": "7cf1bb47-4ee6-4070-b8a3-5d602b1b3076"
      },
      "source": [
        "bairros_eleitos_file = files.upload()"
      ],
      "execution_count": 194,
      "outputs": [
        {
          "output_type": "display_data",
          "data": {
            "text/html": [
              "\n",
              "     <input type=\"file\" id=\"files-42cbaf88-7df3-48bd-83d0-d7ecaaa8ec3a\" name=\"files[]\" multiple disabled\n",
              "        style=\"border:none\" />\n",
              "     <output id=\"result-42cbaf88-7df3-48bd-83d0-d7ecaaa8ec3a\">\n",
              "      Upload widget is only available when the cell has been executed in the\n",
              "      current browser session. Please rerun this cell to enable.\n",
              "      </output>\n",
              "      <script src=\"/nbextensions/google.colab/files.js\"></script> "
            ],
            "text/plain": [
              "<IPython.core.display.HTML object>"
            ]
          },
          "metadata": {}
        },
        {
          "output_type": "stream",
          "name": "stdout",
          "text": [
            "Saving bairros_eleitos.csv to bairros_eleitos.csv\n"
          ]
        }
      ]
    },
    {
      "cell_type": "code",
      "metadata": {
        "colab": {
          "base_uri": "https://localhost:8080/",
          "height": 865
        },
        "id": "rJ7aKlOp2dvu",
        "outputId": "429ad5c5-0dc1-48ee-944c-92328489f4be"
      },
      "source": [
        "df_bairros = pd.read_csv('bairros_eleitos.csv')\n",
        "df_bairros = df_bairros.drop(columns=['lat', 'lon'])\n",
        "df_bairros"
      ],
      "execution_count": 212,
      "outputs": [
        {
          "output_type": "execute_result",
          "data": {
            "text/html": [
              "<div>\n",
              "<style scoped>\n",
              "    .dataframe tbody tr th:only-of-type {\n",
              "        vertical-align: middle;\n",
              "    }\n",
              "\n",
              "    .dataframe tbody tr th {\n",
              "        vertical-align: top;\n",
              "    }\n",
              "\n",
              "    .dataframe thead th {\n",
              "        text-align: right;\n",
              "    }\n",
              "</style>\n",
              "<table border=\"1\" class=\"dataframe\">\n",
              "  <thead>\n",
              "    <tr style=\"text-align: right;\">\n",
              "      <th></th>\n",
              "      <th>bairro</th>\n",
              "      <th>dist</th>\n",
              "    </tr>\n",
              "  </thead>\n",
              "  <tbody>\n",
              "    <tr>\n",
              "      <th>0</th>\n",
              "      <td>jardim aquarius</td>\n",
              "      <td>1.467927</td>\n",
              "    </tr>\n",
              "    <tr>\n",
              "      <th>1</th>\n",
              "      <td>parque centreville</td>\n",
              "      <td>1.158567</td>\n",
              "    </tr>\n",
              "    <tr>\n",
              "      <th>2</th>\n",
              "      <td>parque sao bento</td>\n",
              "      <td>1.258614</td>\n",
              "    </tr>\n",
              "    <tr>\n",
              "      <th>3</th>\n",
              "      <td>vila mathias</td>\n",
              "      <td>1.425913</td>\n",
              "    </tr>\n",
              "    <tr>\n",
              "      <th>4</th>\n",
              "      <td>vila sao joao</td>\n",
              "      <td>1.366778</td>\n",
              "    </tr>\n",
              "    <tr>\n",
              "      <th>5</th>\n",
              "      <td>jardim nossa sra. de fatima</td>\n",
              "      <td>0.466497</td>\n",
              "    </tr>\n",
              "    <tr>\n",
              "      <th>6</th>\n",
              "      <td>jardim santa fe</td>\n",
              "      <td>0.438750</td>\n",
              "    </tr>\n",
              "    <tr>\n",
              "      <th>7</th>\n",
              "      <td>cidade universitaria</td>\n",
              "      <td>1.385428</td>\n",
              "    </tr>\n",
              "    <tr>\n",
              "      <th>8</th>\n",
              "      <td>jardim perola</td>\n",
              "      <td>1.451089</td>\n",
              "    </tr>\n",
              "    <tr>\n",
              "      <th>9</th>\n",
              "      <td>jardim esmeralda</td>\n",
              "      <td>1.196814</td>\n",
              "    </tr>\n",
              "    <tr>\n",
              "      <th>10</th>\n",
              "      <td>jardim morro azul</td>\n",
              "      <td>0.750764</td>\n",
              "    </tr>\n",
              "    <tr>\n",
              "      <th>11</th>\n",
              "      <td>jardim paulista</td>\n",
              "      <td>0.447600</td>\n",
              "    </tr>\n",
              "    <tr>\n",
              "      <th>12</th>\n",
              "      <td>jardim nova italia</td>\n",
              "      <td>0.389478</td>\n",
              "    </tr>\n",
              "    <tr>\n",
              "      <th>13</th>\n",
              "      <td>Jardim Nossa Senhora do Amparo</td>\n",
              "      <td>0.931768</td>\n",
              "    </tr>\n",
              "    <tr>\n",
              "      <th>14</th>\n",
              "      <td>Jardim Santa Cecília</td>\n",
              "      <td>1.480474</td>\n",
              "    </tr>\n",
              "    <tr>\n",
              "      <th>15</th>\n",
              "      <td>Vila Santa Josefa</td>\n",
              "      <td>0.888707</td>\n",
              "    </tr>\n",
              "    <tr>\n",
              "      <th>16</th>\n",
              "      <td>vila anita</td>\n",
              "      <td>1.508559</td>\n",
              "    </tr>\n",
              "    <tr>\n",
              "      <th>17</th>\n",
              "      <td>vila santa rosalia</td>\n",
              "      <td>2.429568</td>\n",
              "    </tr>\n",
              "    <tr>\n",
              "      <th>18</th>\n",
              "      <td>Centro</td>\n",
              "      <td>2.134072</td>\n",
              "    </tr>\n",
              "    <tr>\n",
              "      <th>19</th>\n",
              "      <td>Chácara Antonieta</td>\n",
              "      <td>1.502339</td>\n",
              "    </tr>\n",
              "    <tr>\n",
              "      <th>20</th>\n",
              "      <td>Jardim Maria Flora</td>\n",
              "      <td>3.432218</td>\n",
              "    </tr>\n",
              "    <tr>\n",
              "      <th>21</th>\n",
              "      <td>Jardim Mediterrâneo</td>\n",
              "      <td>1.926653</td>\n",
              "    </tr>\n",
              "    <tr>\n",
              "      <th>22</th>\n",
              "      <td>Jardim Mercedes</td>\n",
              "      <td>2.325004</td>\n",
              "    </tr>\n",
              "    <tr>\n",
              "      <th>23</th>\n",
              "      <td>Vila Cláudia</td>\n",
              "      <td>3.246188</td>\n",
              "    </tr>\n",
              "    <tr>\n",
              "      <th>24</th>\n",
              "      <td>Vila Cristovam</td>\n",
              "      <td>2.476853</td>\n",
              "    </tr>\n",
              "    <tr>\n",
              "      <th>25</th>\n",
              "      <td>Vila Santa Lina</td>\n",
              "      <td>2.790540</td>\n",
              "    </tr>\n",
              "  </tbody>\n",
              "</table>\n",
              "</div>"
            ],
            "text/plain": [
              "                            bairro      dist\n",
              "0                  jardim aquarius  1.467927\n",
              "1               parque centreville  1.158567\n",
              "2                 parque sao bento  1.258614\n",
              "3                     vila mathias  1.425913\n",
              "4                    vila sao joao  1.366778\n",
              "5      jardim nossa sra. de fatima  0.466497\n",
              "6                  jardim santa fe  0.438750\n",
              "7             cidade universitaria  1.385428\n",
              "8                    jardim perola  1.451089\n",
              "9                 jardim esmeralda  1.196814\n",
              "10               jardim morro azul  0.750764\n",
              "11                 jardim paulista  0.447600\n",
              "12              jardim nova italia  0.389478\n",
              "13  Jardim Nossa Senhora do Amparo  0.931768\n",
              "14            Jardim Santa Cecília  1.480474\n",
              "15               Vila Santa Josefa  0.888707\n",
              "16                      vila anita  1.508559\n",
              "17              vila santa rosalia  2.429568\n",
              "18                          Centro  2.134072\n",
              "19               Chácara Antonieta  1.502339\n",
              "20              Jardim Maria Flora  3.432218\n",
              "21             Jardim Mediterrâneo  1.926653\n",
              "22                 Jardim Mercedes  2.325004\n",
              "23                    Vila Cláudia  3.246188\n",
              "24                  Vila Cristovam  2.476853\n",
              "25                 Vila Santa Lina  2.790540"
            ]
          },
          "metadata": {},
          "execution_count": 212
        }
      ]
    },
    {
      "cell_type": "code",
      "metadata": {
        "colab": {
          "base_uri": "https://localhost:8080/",
          "height": 175
        },
        "id": "e-52lDvW3JMy",
        "outputId": "0aa294a0-20de-4cf8-d4b3-96b0ee558cf0"
      },
      "source": [
        "df_bairros = df_bairros.iloc[[7, 11, 10, 19],:]\n",
        "df_bairros = df_bairros.sort_values(by='dist').reset_index(drop=True)\n",
        "df_bairros.head()"
      ],
      "execution_count": 213,
      "outputs": [
        {
          "output_type": "execute_result",
          "data": {
            "text/html": [
              "<div>\n",
              "<style scoped>\n",
              "    .dataframe tbody tr th:only-of-type {\n",
              "        vertical-align: middle;\n",
              "    }\n",
              "\n",
              "    .dataframe tbody tr th {\n",
              "        vertical-align: top;\n",
              "    }\n",
              "\n",
              "    .dataframe thead th {\n",
              "        text-align: right;\n",
              "    }\n",
              "</style>\n",
              "<table border=\"1\" class=\"dataframe\">\n",
              "  <thead>\n",
              "    <tr style=\"text-align: right;\">\n",
              "      <th></th>\n",
              "      <th>bairro</th>\n",
              "      <th>dist</th>\n",
              "    </tr>\n",
              "  </thead>\n",
              "  <tbody>\n",
              "    <tr>\n",
              "      <th>0</th>\n",
              "      <td>jardim paulista</td>\n",
              "      <td>0.447600</td>\n",
              "    </tr>\n",
              "    <tr>\n",
              "      <th>1</th>\n",
              "      <td>jardim morro azul</td>\n",
              "      <td>0.750764</td>\n",
              "    </tr>\n",
              "    <tr>\n",
              "      <th>2</th>\n",
              "      <td>cidade universitaria</td>\n",
              "      <td>1.385428</td>\n",
              "    </tr>\n",
              "    <tr>\n",
              "      <th>3</th>\n",
              "      <td>Chácara Antonieta</td>\n",
              "      <td>1.502339</td>\n",
              "    </tr>\n",
              "  </tbody>\n",
              "</table>\n",
              "</div>"
            ],
            "text/plain": [
              "                 bairro      dist\n",
              "0       jardim paulista  0.447600\n",
              "1     jardim morro azul  0.750764\n",
              "2  cidade universitaria  1.385428\n",
              "3     Chácara Antonieta  1.502339"
            ]
          },
          "metadata": {},
          "execution_count": 213
        }
      ]
    },
    {
      "cell_type": "code",
      "metadata": {
        "colab": {
          "base_uri": "https://localhost:8080/"
        },
        "id": "suHyi9VX39fW",
        "outputId": "5cdf61de-f910-4862-dc16-48b28cfd1076"
      },
      "source": [
        "dists_unicamp = []\n",
        "\n",
        "for bairro in df_acomodacoes['bairro']:\n",
        "  if bairro == 'JD. Cidade Universitária I':\n",
        "    dists_unicamp.append(df_bairros.loc[2, 'dist'])\n",
        "  elif bairro == 'JD. Paulista':\n",
        "    dists_unicamp.append(df_bairros.loc[0, 'dist'])\n",
        "  elif bairro == 'JD. Morro Azul':\n",
        "    dists_unicamp.append(df_bairros.loc[1, 'dist'])\n",
        "  elif bairro == 'Chácara Antonieta':\n",
        "    dists_unicamp.append(df_bairros.loc[3, 'dist'])\n",
        "  elif bairro == 'JD. São Paulo':\n",
        "    dists_unicamp.append(np.nan)\n",
        "dists_unicamp"
      ],
      "execution_count": 216,
      "outputs": [
        {
          "output_type": "execute_result",
          "data": {
            "text/plain": [
              "[1.3854276880650611,\n",
              " 1.3854276880650611,\n",
              " 1.3854276880650611,\n",
              " 1.3854276880650611,\n",
              " 1.3854276880650611,\n",
              " 1.3854276880650611,\n",
              " 1.3854276880650611,\n",
              " 1.3854276880650611,\n",
              " 1.3854276880650611,\n",
              " 1.3854276880650611,\n",
              " 1.3854276880650611,\n",
              " 1.3854276880650611,\n",
              " 1.3854276880650611,\n",
              " 1.3854276880650611,\n",
              " 1.3854276880650611,\n",
              " 1.3854276880650611,\n",
              " 1.3854276880650611,\n",
              " 1.3854276880650611,\n",
              " 1.3854276880650611,\n",
              " 1.3854276880650611,\n",
              " 0.4476004851487637,\n",
              " 0.4476004851487637,\n",
              " 0.4476004851487637,\n",
              " 0.4476004851487637,\n",
              " 0.4476004851487637,\n",
              " 1.3854276880650611,\n",
              " 1.3854276880650611,\n",
              " 0.4476004851487637,\n",
              " 0.4476004851487637,\n",
              " 1.3854276880650611,\n",
              " 1.3854276880650611,\n",
              " 1.3854276880650611,\n",
              " 1.3854276880650611,\n",
              " 1.3854276880650611,\n",
              " 1.3854276880650611,\n",
              " 1.3854276880650611,\n",
              " 1.3854276880650611,\n",
              " 1.3854276880650611,\n",
              " 1.3854276880650611,\n",
              " 1.3854276880650611,\n",
              " 1.3854276880650611,\n",
              " 1.3854276880650611,\n",
              " 1.3854276880650611,\n",
              " 1.3854276880650611,\n",
              " 1.3854276880650611,\n",
              " 1.3854276880650611,\n",
              " 1.3854276880650611,\n",
              " 1.3854276880650611,\n",
              " 1.3854276880650611,\n",
              " 1.3854276880650611,\n",
              " 1.3854276880650611,\n",
              " 0.4476004851487637,\n",
              " 0.4476004851487637,\n",
              " 0.4476004851487637,\n",
              " 0.4476004851487637,\n",
              " 0.4476004851487637,\n",
              " 0.4476004851487637,\n",
              " 1.3854276880650611,\n",
              " 1.3854276880650611,\n",
              " 1.3854276880650611,\n",
              " 1.3854276880650611,\n",
              " 1.3854276880650611,\n",
              " 1.3854276880650611,\n",
              " 1.3854276880650611,\n",
              " 1.3854276880650611,\n",
              " nan,\n",
              " 0.7507639025607419,\n",
              " 1.3854276880650611,\n",
              " 0.7507639025607419,\n",
              " 0.7507639025607419,\n",
              " 1.3854276880650611,\n",
              " 1.3854276880650611,\n",
              " 1.3854276880650611,\n",
              " 1.3854276880650611,\n",
              " 1.3854276880650611,\n",
              " 1.5023394363777396,\n",
              " 1.5023394363777396,\n",
              " 1.3854276880650611,\n",
              " 1.3854276880650611,\n",
              " 1.3854276880650611]"
            ]
          },
          "metadata": {},
          "execution_count": 216
        }
      ]
    },
    {
      "cell_type": "code",
      "metadata": {
        "colab": {
          "base_uri": "https://localhost:8080/",
          "height": 225
        },
        "id": "A9ILpnhG4v5r",
        "outputId": "7e4e7d0f-201d-4cef-c5e6-7a8fb94a4783"
      },
      "source": [
        "df_acomodacoes['dist_unicamp'] = dists_unicamp\n",
        "print(df_acomodacoes.shape)\n",
        "df_acomodacoes.sample(5)"
      ],
      "execution_count": 217,
      "outputs": [
        {
          "output_type": "stream",
          "name": "stdout",
          "text": [
            "(80, 13)\n"
          ]
        },
        {
          "output_type": "execute_result",
          "data": {
            "text/html": [
              "<div>\n",
              "<style scoped>\n",
              "    .dataframe tbody tr th:only-of-type {\n",
              "        vertical-align: middle;\n",
              "    }\n",
              "\n",
              "    .dataframe tbody tr th {\n",
              "        vertical-align: top;\n",
              "    }\n",
              "\n",
              "    .dataframe thead th {\n",
              "        text-align: right;\n",
              "    }\n",
              "</style>\n",
              "<table border=\"1\" class=\"dataframe\">\n",
              "  <thead>\n",
              "    <tr style=\"text-align: right;\">\n",
              "      <th></th>\n",
              "      <th>imob</th>\n",
              "      <th>codigo</th>\n",
              "      <th>bairro</th>\n",
              "      <th>aluguel</th>\n",
              "      <th>condominio</th>\n",
              "      <th>area</th>\n",
              "      <th>quartos</th>\n",
              "      <th>banheiros</th>\n",
              "      <th>vaga_garagem</th>\n",
              "      <th>descricao</th>\n",
              "      <th>total</th>\n",
              "      <th>preco_m2</th>\n",
              "      <th>dist_unicamp</th>\n",
              "    </tr>\n",
              "  </thead>\n",
              "  <tbody>\n",
              "    <tr>\n",
              "      <th>15</th>\n",
              "      <td>C</td>\n",
              "      <td>7500856834d96bce86e5e6343d8ef15f</td>\n",
              "      <td>JD. Cidade Universitária I</td>\n",
              "      <td>1000.0</td>\n",
              "      <td>0.0</td>\n",
              "      <td>35.0</td>\n",
              "      <td>1</td>\n",
              "      <td>1</td>\n",
              "      <td>NaN</td>\n",
              "      <td>Kitnet próxima à Unicamp (FCA) contendo quarto...</td>\n",
              "      <td>1000.0</td>\n",
              "      <td>28.571429</td>\n",
              "      <td>1.385428</td>\n",
              "    </tr>\n",
              "    <tr>\n",
              "      <th>21</th>\n",
              "      <td>C</td>\n",
              "      <td>d7605883477939a58e52e551391d5dcb</td>\n",
              "      <td>JD. Paulista</td>\n",
              "      <td>950.0</td>\n",
              "      <td>0.0</td>\n",
              "      <td>16.0</td>\n",
              "      <td>1</td>\n",
              "      <td>1</td>\n",
              "      <td>NaN</td>\n",
              "      <td>Kitnet localizada próximo à Unicamp (FCA) cont...</td>\n",
              "      <td>950.0</td>\n",
              "      <td>59.375000</td>\n",
              "      <td>0.447600</td>\n",
              "    </tr>\n",
              "    <tr>\n",
              "      <th>61</th>\n",
              "      <td>B</td>\n",
              "      <td>ccbc8c34f1aafff2ded08a18d8826c6f</td>\n",
              "      <td>JD. Cidade Universitária I</td>\n",
              "      <td>800.0</td>\n",
              "      <td>0.0</td>\n",
              "      <td>250.0</td>\n",
              "      <td>1</td>\n",
              "      <td>1</td>\n",
              "      <td>NaN</td>\n",
              "      <td>Ótimo apartamento na Cidade Universitária com ...</td>\n",
              "      <td>800.0</td>\n",
              "      <td>3.200000</td>\n",
              "      <td>1.385428</td>\n",
              "    </tr>\n",
              "    <tr>\n",
              "      <th>78</th>\n",
              "      <td>A</td>\n",
              "      <td>57c6964ba64836c81a7a7a782a4d0eb1</td>\n",
              "      <td>JD. Cidade Universitária I</td>\n",
              "      <td>1000.0</td>\n",
              "      <td>0.0</td>\n",
              "      <td>NaN</td>\n",
              "      <td>1</td>\n",
              "      <td>1</td>\n",
              "      <td>0.0</td>\n",
              "      <td>1 QUARTO COM ARMÁRIO E AR CONDICIONADO;1 SALA ...</td>\n",
              "      <td>1000.0</td>\n",
              "      <td>NaN</td>\n",
              "      <td>1.385428</td>\n",
              "    </tr>\n",
              "    <tr>\n",
              "      <th>53</th>\n",
              "      <td>B</td>\n",
              "      <td>d81e604fe471f170cc3cc19ee73c20dc</td>\n",
              "      <td>JD. Paulista</td>\n",
              "      <td>900.0</td>\n",
              "      <td>0.0</td>\n",
              "      <td>NaN</td>\n",
              "      <td>1</td>\n",
              "      <td>1</td>\n",
              "      <td>NaN</td>\n",
              "      <td>Imóvel totalmente reformado para atender espec...</td>\n",
              "      <td>900.0</td>\n",
              "      <td>NaN</td>\n",
              "      <td>0.447600</td>\n",
              "    </tr>\n",
              "  </tbody>\n",
              "</table>\n",
              "</div>"
            ],
            "text/plain": [
              "   imob                            codigo  ...   preco_m2  dist_unicamp\n",
              "15    C  7500856834d96bce86e5e6343d8ef15f  ...  28.571429      1.385428\n",
              "21    C  d7605883477939a58e52e551391d5dcb  ...  59.375000      0.447600\n",
              "61    B  ccbc8c34f1aafff2ded08a18d8826c6f  ...   3.200000      1.385428\n",
              "78    A  57c6964ba64836c81a7a7a782a4d0eb1  ...        NaN      1.385428\n",
              "53    B  d81e604fe471f170cc3cc19ee73c20dc  ...        NaN      0.447600\n",
              "\n",
              "[5 rows x 13 columns]"
            ]
          },
          "metadata": {},
          "execution_count": 217
        }
      ]
    },
    {
      "cell_type": "code",
      "metadata": {
        "colab": {
          "base_uri": "https://localhost:8080/"
        },
        "id": "AmWMks7l5Gyv",
        "outputId": "0fd265e7-c347-4dbb-f57f-8e6df6dbffde"
      },
      "source": [
        "df_acomodacoes.info()"
      ],
      "execution_count": 218,
      "outputs": [
        {
          "output_type": "stream",
          "name": "stdout",
          "text": [
            "<class 'pandas.core.frame.DataFrame'>\n",
            "RangeIndex: 80 entries, 0 to 79\n",
            "Data columns (total 13 columns):\n",
            " #   Column        Non-Null Count  Dtype  \n",
            "---  ------        --------------  -----  \n",
            " 0   imob          80 non-null     object \n",
            " 1   codigo        80 non-null     object \n",
            " 2   bairro        80 non-null     object \n",
            " 3   aluguel       79 non-null     float64\n",
            " 4   condominio    80 non-null     float64\n",
            " 5   area          34 non-null     float64\n",
            " 6   quartos       80 non-null     int64  \n",
            " 7   banheiros     80 non-null     int64  \n",
            " 8   vaga_garagem  5 non-null      float64\n",
            " 9   descricao     80 non-null     object \n",
            " 10  total         79 non-null     float64\n",
            " 11  preco_m2      34 non-null     float64\n",
            " 12  dist_unicamp  79 non-null     float64\n",
            "dtypes: float64(7), int64(2), object(4)\n",
            "memory usage: 8.2+ KB\n"
          ]
        }
      ]
    },
    {
      "cell_type": "markdown",
      "metadata": {
        "id": "xK7Wzzwt5Af3"
      },
      "source": [
        "### Análise"
      ]
    },
    {
      "cell_type": "code",
      "metadata": {
        "colab": {
          "base_uri": "https://localhost:8080/",
          "height": 328
        },
        "id": "Eo2oD2dT5lew",
        "outputId": "f0957245-b3ed-494a-8284-b402a3fc7e9b"
      },
      "source": [
        "sns.barplot(x='bairro', y='dist', data=df_bairros)\n",
        "plt.xticks(rotation=30)\n",
        "plt.show()"
      ],
      "execution_count": 221,
      "outputs": [
        {
          "output_type": "display_data",
          "data": {
            "image/png": "[encoded data removed]",
            "text/plain": [
              "<Figure size 432x288 with 1 Axes>"
            ]
          },
          "metadata": {
            "needs_background": "light"
          }
        }
      ]
    },
    {
      "cell_type": "code",
      "metadata": {
        "colab": {
          "base_uri": "https://localhost:8080/",
          "height": 388
        },
        "id": "ys_rsLgwpKeB",
        "outputId": "211c8099-46f3-4791-d96f-4e83240bb09f"
      },
      "source": [
        "plt.figure(figsize=(10, 6))\n",
        "sns.histplot(data=df_acomodacoes, x=\"aluguel\")\n",
        "plt.show()"
      ],
      "execution_count": 223,
      "outputs": [
        {
          "output_type": "display_data",
          "data": {
            "image/png": "[encoded data removed]",
            "text/plain": [
              "<Figure size 720x432 with 1 Axes>"
            ]
          },
          "metadata": {
            "needs_background": "light"
          }
        }
      ]
    },
    {
      "cell_type": "code",
      "metadata": {
        "colab": {
          "base_uri": "https://localhost:8080/",
          "height": 388
        },
        "id": "1XiZGZY756Vy",
        "outputId": "8512c655-4005-4897-d745-7621206a85b4"
      },
      "source": [
        "plt.figure(figsize=(10, 6))\n",
        "sns.histplot(data=df_acomodacoes, x=\"total\")\n",
        "plt.show()"
      ],
      "execution_count": 224,
      "outputs": [
        {
          "output_type": "display_data",
          "data": {
            "image/png": "[encoded data removed]",
            "text/plain": [
              "<Figure size 720x432 with 1 Axes>"
            ]
          },
          "metadata": {
            "needs_background": "light"
          }
        }
      ]
    },
    {
      "cell_type": "code",
      "metadata": {
        "colab": {
          "base_uri": "https://localhost:8080/",
          "height": 361
        },
        "id": "jerfOkZZp1NS",
        "outputId": "3b1b977e-3d2d-42bc-d6f6-f83ae3be0d19"
      },
      "source": [
        "plt.figure(figsize=(10, 6))\n",
        "sns.boxplot(data=df_acomodacoes, y='aluguel')\n",
        "plt.show()"
      ],
      "execution_count": 161,
      "outputs": [
        {
          "output_type": "display_data",
          "data": {
            "image/png": "[encoded data removed]",
            "text/plain": [
              "<Figure size 720x432 with 1 Axes>"
            ]
          },
          "metadata": {
            "needs_background": "light"
          }
        }
      ]
    },
    {
      "cell_type": "code",
      "metadata": {
        "colab": {
          "base_uri": "https://localhost:8080/",
          "height": 389
        },
        "id": "OQbKaxljp8Ci",
        "outputId": "52ec7f1d-0729-4676-c53c-c926750cce10"
      },
      "source": [
        "plt.figure(figsize=(10, 6))\n",
        "sns.histplot(data=df_acomodacoes, x=\"condominio\")\n",
        "plt.show()"
      ],
      "execution_count": 162,
      "outputs": [
        {
          "output_type": "display_data",
          "data": {
            "image/png": "[encoded data removed]",
            "text/plain": [
              "<Figure size 720x432 with 1 Axes>"
            ]
          },
          "metadata": {
            "needs_background": "light"
          }
        }
      ]
    },
    {
      "cell_type": "code",
      "metadata": {
        "colab": {
          "base_uri": "https://localhost:8080/",
          "height": 361
        },
        "id": "Nrm5u79OqJ-5",
        "outputId": "b4815b82-f9e8-4187-95e3-9fa084b1c56a"
      },
      "source": [
        "plt.figure(figsize=(10, 6))\n",
        "sns.boxplot(data=df_acomodacoes, y='condominio')\n",
        "plt.show()"
      ],
      "execution_count": 163,
      "outputs": [
        {
          "output_type": "display_data",
          "data": {
            "image/png": "[encoded data removed]",
            "text/plain": [
              "<Figure size 720x432 with 1 Axes>"
            ]
          },
          "metadata": {
            "needs_background": "light"
          }
        }
      ]
    },
    {
      "cell_type": "code",
      "metadata": {
        "colab": {
          "base_uri": "https://localhost:8080/",
          "height": 388
        },
        "id": "mHt1ywfbqpFz",
        "outputId": "70379361-97a6-4ed1-9bd2-92acf0bd903d"
      },
      "source": [
        "plt.figure(figsize=(10, 6))\n",
        "sns.histplot(data=df_acomodacoes, x=\"area\")\n",
        "plt.show()"
      ],
      "execution_count": 164,
      "outputs": [
        {
          "output_type": "display_data",
          "data": {
            "image/png": "[encoded data removed]",
            "text/plain": [
              "<Figure size 720x432 with 1 Axes>"
            ]
          },
          "metadata": {
            "needs_background": "light"
          }
        }
      ]
    },
    {
      "cell_type": "code",
      "metadata": {
        "colab": {
          "base_uri": "https://localhost:8080/",
          "height": 361
        },
        "id": "AP9pm6C9qzYM",
        "outputId": "7595ad60-d7fc-4fb6-8eb2-b8874278203c"
      },
      "source": [
        "plt.figure(figsize=(10, 6))\n",
        "sns.boxplot(data=df_acomodacoes, y='area')\n",
        "plt.show()"
      ],
      "execution_count": 165,
      "outputs": [
        {
          "output_type": "display_data",
          "data": {
            "image/png": "[encoded data removed]",
            "text/plain": [
              "<Figure size 720x432 with 1 Axes>"
            ]
          },
          "metadata": {
            "needs_background": "light"
          }
        }
      ]
    },
    {
      "cell_type": "code",
      "metadata": {
        "colab": {
          "base_uri": "https://localhost:8080/",
          "height": 388
        },
        "id": "K-Ul2TpsqMZ5",
        "outputId": "e63022bc-edb6-4bd0-9713-03e973019343"
      },
      "source": [
        "plt.figure(figsize=(10, 6))\n",
        "sns.scatterplot(x='aluguel', y='area', data=df_acomodacoes)\n",
        "plt.show()"
      ],
      "execution_count": 166,
      "outputs": [
        {
          "output_type": "display_data",
          "data": {
            "image/png": "[encoded data removed]",
            "text/plain": [
              "<Figure size 720x432 with 1 Axes>"
            ]
          },
          "metadata": {
            "needs_background": "light"
          }
        }
      ]
    },
    {
      "cell_type": "code",
      "metadata": {
        "colab": {
          "base_uri": "https://localhost:8080/",
          "height": 1000
        },
        "id": "whl08ZOZqfCq",
        "outputId": "abc98ae2-28d6-46bf-a6ac-e845de6b5ca0"
      },
      "source": [
        "sns.pairplot(df_acomodacoes, hue='imob')\n",
        "plt.show()"
      ],
      "execution_count": 219,
      "outputs": [
        {
          "output_type": "display_data",
          "data": {
            "image/png": "[encoded data removed]",
            "text/plain": [
              "<Figure size 1662.88x1620 with 90 Axes>"
            ]
          },
          "metadata": {
            "needs_background": "light"
          }
        }
      ]
    },
    {
      "cell_type": "code",
      "metadata": {
        "colab": {
          "base_uri": "https://localhost:8080/",
          "height": 388
        },
        "id": "8Yc3BvqktcoH",
        "outputId": "122fda2f-92f9-4a2e-d1ee-0b990bc2f5f6"
      },
      "source": [
        "plt.figure(figsize=(10, 6))\n",
        "sns.barplot(y='total', x='imob', data=df_acomodacoes)\n",
        "plt.show()"
      ],
      "execution_count": 171,
      "outputs": [
        {
          "output_type": "display_data",
          "data": {
            "image/png": "[encoded data removed]",
            "text/plain": [
              "<Figure size 720x432 with 1 Axes>"
            ]
          },
          "metadata": {
            "needs_background": "light"
          }
        }
      ]
    },
    {
      "cell_type": "code",
      "metadata": {
        "colab": {
          "base_uri": "https://localhost:8080/"
        },
        "id": "2LjbU4ZPt_P-",
        "outputId": "ab06fbb9-d651-46ca-f294-4311ef2ed462"
      },
      "source": [
        "df_acomodacoes['condominio'].value_counts()"
      ],
      "execution_count": 169,
      "outputs": [
        {
          "output_type": "execute_result",
          "data": {
            "text/plain": [
              "0.0      77\n",
              "100.0     2\n",
              "80.0      1\n",
              "Name: condominio, dtype: int64"
            ]
          },
          "metadata": {},
          "execution_count": 169
        }
      ]
    },
    {
      "cell_type": "code",
      "metadata": {
        "colab": {
          "base_uri": "https://localhost:8080/",
          "height": 388
        },
        "id": "eFM_kYR-t6Q5",
        "outputId": "3809bd7d-77ec-489c-cfb7-629b0b1ee72d"
      },
      "source": [
        "plt.figure(figsize=(10, 6))\n",
        "sns.barplot(y='condominio', x='imob', data=df_acomodacoes)\n",
        "plt.show()"
      ],
      "execution_count": 170,
      "outputs": [
        {
          "output_type": "display_data",
          "data": {
            "image/png": "[encoded data removed]",
            "text/plain": [
              "<Figure size 720x432 with 1 Axes>"
            ]
          },
          "metadata": {
            "needs_background": "light"
          }
        }
      ]
    }
  ]
}