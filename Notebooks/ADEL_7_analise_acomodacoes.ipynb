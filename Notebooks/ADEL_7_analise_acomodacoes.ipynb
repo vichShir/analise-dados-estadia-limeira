{
  "nbformat": 4,
  "nbformat_minor": 0,
  "metadata": {
    "colab": {
      "name": "ADEL_7_analise_acomodacoes.ipynb",
      "provenance": [],
      "collapsed_sections": [
        "5PIZYail2pW9",
        "MZia9Wxp2my-",
        "Q2ZhC7irfGxK",
        "MwGUXpelfhZL",
        "VL6ITTLxgJyw",
        "UX2MKXOugpeW",
        "kT2yNzIkmx6j",
        "q9UjojsOofa_",
        "DkwFaQFRoZ6T",
        "9TSmqkteznfr",
        "xI1_c7i8FzWm",
        "1237BuINF2C-",
        "OrHUajuv0SGh",
        "FjPKlf-8WHpB",
        "9tjxSvQDouqh",
        "aSF85LRrM9A3",
        "xbni_p6Uunoz",
        "xeMbjXp-UXEn",
        "hVwyW_5QvztR",
        "LoTLp3PONgfo",
        "ekrMN2qeXoZ4",
        "xkH3TKq0Xza0",
        "ApzUxP7Ms6ik",
        "aPNE3Ig8wuNW",
        "DbJ3MLtOaH4J",
        "LvWxCGc8sNtJ",
        "xwcBflERaw_5",
        "eHyWqCUAx7zp",
        "Mwios-3H9ObG"
      ]
    },
    "kernelspec": {
      "name": "python3",
      "display_name": "Python 3"
    },
    "language_info": {
      "name": "python"
    }
  },
  "cells": [
    {
      "cell_type": "markdown",
      "metadata": {
        "id": "813oweQl2Oe6"
      },
      "source": [
        "# Projeto ADEL (Análise Dados Estadia em Limeira) - Análise das acomodações coletadas\n",
        "Neste notebook, realizarei a limpeza dos dados e determinarei o ranking das melhores acomodações do dataset gerado anteriormente."
      ]
    },
    {
      "cell_type": "markdown",
      "metadata": {
        "id": "5PIZYail2pW9"
      },
      "source": [
        "## Carregando os dados"
      ]
    },
    {
      "cell_type": "code",
      "metadata": {
        "id": "ynaiesHe1nik"
      },
      "source": [
        "from google.colab import files\n",
        "import pandas as pd\n",
        "import numpy as np\n",
        "import matplotlib.pyplot as plt\n",
        "import seaborn as sns\n",
        "import re\n",
        "\n",
        "%matplotlib inline"
      ],
      "execution_count": 99,
      "outputs": []
    },
    {
      "cell_type": "code",
      "metadata": {
        "colab": {
          "resources": {
            "http://localhost:8080/nbextensions/google.colab/files.js": {
              "data": "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",
              "ok": true,
              "headers": [
                [
                  "content-type",
                  "application/javascript"
                ]
              ],
              "status": 200,
              "status_text": "OK"
            }
          },
          "base_uri": "https://localhost:8080/",
          "height": 75
        },
        "id": "FtGz-PA010kV",
        "outputId": "1b816597-76c4-425c-b57e-07883864e905"
      },
      "source": [
        "file = files.upload()"
      ],
      "execution_count": 2,
      "outputs": [
        {
          "output_type": "display_data",
          "data": {
            "text/html": [
              "\n",
              "     <input type=\"file\" id=\"files-3498f82e-6dac-4c17-aca7-d4dce72a2b97\" name=\"files[]\" multiple disabled\n",
              "        style=\"border:none\" />\n",
              "     <output id=\"result-3498f82e-6dac-4c17-aca7-d4dce72a2b97\">\n",
              "      Upload widget is only available when the cell has been executed in the\n",
              "      current browser session. Please rerun this cell to enable.\n",
              "      </output>\n",
              "      <script src=\"/nbextensions/google.colab/files.js\"></script> "
            ],
            "text/plain": [
              "<IPython.core.display.HTML object>"
            ]
          },
          "metadata": {}
        },
        {
          "output_type": "stream",
          "name": "stdout",
          "text": [
            "Saving acomodacoes_hashcode.csv to acomodacoes_hashcode.csv\n"
          ]
        }
      ]
    },
    {
      "cell_type": "code",
      "metadata": {
        "colab": {
          "base_uri": "https://localhost:8080/",
          "height": 572
        },
        "id": "wQMIc1JV12rS",
        "outputId": "9bde9832-3e43-4736-ccef-456a2c891c03"
      },
      "source": [
        "df = pd.read_csv('acomodacoes_hashcode.csv')\n",
        "print(df.shape)\n",
        "df.head()"
      ],
      "execution_count": 118,
      "outputs": [
        {
          "output_type": "stream",
          "name": "stdout",
          "text": [
            "(80, 12)\n"
          ]
        },
        {
          "output_type": "execute_result",
          "data": {
            "text/html": [
              "<div>\n",
              "<style scoped>\n",
              "    .dataframe tbody tr th:only-of-type {\n",
              "        vertical-align: middle;\n",
              "    }\n",
              "\n",
              "    .dataframe tbody tr th {\n",
              "        vertical-align: top;\n",
              "    }\n",
              "\n",
              "    .dataframe thead th {\n",
              "        text-align: right;\n",
              "    }\n",
              "</style>\n",
              "<table border=\"1\" class=\"dataframe\">\n",
              "  <thead>\n",
              "    <tr style=\"text-align: right;\">\n",
              "      <th></th>\n",
              "      <th>imob</th>\n",
              "      <th>imovel_url</th>\n",
              "      <th>codigo</th>\n",
              "      <th>nome</th>\n",
              "      <th>bairro</th>\n",
              "      <th>aluguel</th>\n",
              "      <th>condominio</th>\n",
              "      <th>area</th>\n",
              "      <th>quartos</th>\n",
              "      <th>banheiros</th>\n",
              "      <th>vaga_garagem</th>\n",
              "      <th>descricao</th>\n",
              "    </tr>\n",
              "  </thead>\n",
              "  <tbody>\n",
              "    <tr>\n",
              "      <th>0</th>\n",
              "      <td>c7234506476bbf0aff48eda764ff9eba</td>\n",
              "      <td>475b51cf4a3bf4f29cb2414680851193</td>\n",
              "      <td>57544d6162644c4cec89720f0d0fb27b</td>\n",
              "      <td>245d9e8bab947ecf1ee8867fe9597ab2</td>\n",
              "      <td>CIDADE UNIVERSITARIA</td>\n",
              "      <td>R$1.000,00</td>\n",
              "      <td>\\n\\n                    + Condomínio R$0,00 i\\...</td>\n",
              "      <td>35      M2</td>\n",
              "      <td>1</td>\n",
              "      <td>1</td>\n",
              "      <td>0</td>\n",
              "      <td>Kitnet próxima à Unicamp (FCA) contendo quarto...</td>\n",
              "    </tr>\n",
              "    <tr>\n",
              "      <th>1</th>\n",
              "      <td>c7234506476bbf0aff48eda764ff9eba</td>\n",
              "      <td>f2ba6e963c17f9aff690f767c73a7f87</td>\n",
              "      <td>00f33a85f39b78148f5941eac174acd2</td>\n",
              "      <td>245d9e8bab947ecf1ee8867fe9597ab2</td>\n",
              "      <td>CIDADE UNIVERSITARIA</td>\n",
              "      <td>R$1.000,00</td>\n",
              "      <td>\\n\\n                    + Condomínio R$0,00 i\\...</td>\n",
              "      <td>35      M2</td>\n",
              "      <td>1</td>\n",
              "      <td>1</td>\n",
              "      <td>0</td>\n",
              "      <td>Kitnet próxima à Unicamp (FCA) contendo quarto...</td>\n",
              "    </tr>\n",
              "    <tr>\n",
              "      <th>2</th>\n",
              "      <td>c7234506476bbf0aff48eda764ff9eba</td>\n",
              "      <td>047b2a430e6e4409268af5251b53d3e1</td>\n",
              "      <td>b62fad32adf34709c628e9833d66b8df</td>\n",
              "      <td>245d9e8bab947ecf1ee8867fe9597ab2</td>\n",
              "      <td>CIDADE UNIVERSITARIA</td>\n",
              "      <td>R$1.000,00</td>\n",
              "      <td>\\n\\n                    + Condomínio R$0,00 i\\...</td>\n",
              "      <td>35      M2</td>\n",
              "      <td>1</td>\n",
              "      <td>1</td>\n",
              "      <td>0</td>\n",
              "      <td>Kitnet próxima à Unicamp (FCA) contendo quarto...</td>\n",
              "    </tr>\n",
              "    <tr>\n",
              "      <th>3</th>\n",
              "      <td>c7234506476bbf0aff48eda764ff9eba</td>\n",
              "      <td>e3b2a519bc4e229ab0444cb144c3c407</td>\n",
              "      <td>2d7097bf091516c6952950802bd49019</td>\n",
              "      <td>245d9e8bab947ecf1ee8867fe9597ab2</td>\n",
              "      <td>CIDADE UNIVERSITARIA</td>\n",
              "      <td>R$1.000,00</td>\n",
              "      <td>\\n\\n                    + Condomínio R$0,00 i\\...</td>\n",
              "      <td>35      M2</td>\n",
              "      <td>1</td>\n",
              "      <td>1</td>\n",
              "      <td>0</td>\n",
              "      <td>Kitnet próxima à Unicamp (FCA) contendo quarto...</td>\n",
              "    </tr>\n",
              "    <tr>\n",
              "      <th>4</th>\n",
              "      <td>c7234506476bbf0aff48eda764ff9eba</td>\n",
              "      <td>71edf6c4e8ad2dee47bf8c9b275c022a</td>\n",
              "      <td>12d0456fa8a537ce311abb5ea43c4b03</td>\n",
              "      <td>245d9e8bab947ecf1ee8867fe9597ab2</td>\n",
              "      <td>CIDADE UNIVERSITARIA</td>\n",
              "      <td>R$1.000,00</td>\n",
              "      <td>\\n\\n                    + Condomínio R$0,00 i\\...</td>\n",
              "      <td>35      M2</td>\n",
              "      <td>1</td>\n",
              "      <td>1</td>\n",
              "      <td>0</td>\n",
              "      <td>Kitnet próxima à Unicamp (FCA) contendo quarto...</td>\n",
              "    </tr>\n",
              "  </tbody>\n",
              "</table>\n",
              "</div>"
            ],
            "text/plain": [
              "                               imob  ...                                          descricao\n",
              "0  c7234506476bbf0aff48eda764ff9eba  ...  Kitnet próxima à Unicamp (FCA) contendo quarto...\n",
              "1  c7234506476bbf0aff48eda764ff9eba  ...  Kitnet próxima à Unicamp (FCA) contendo quarto...\n",
              "2  c7234506476bbf0aff48eda764ff9eba  ...  Kitnet próxima à Unicamp (FCA) contendo quarto...\n",
              "3  c7234506476bbf0aff48eda764ff9eba  ...  Kitnet próxima à Unicamp (FCA) contendo quarto...\n",
              "4  c7234506476bbf0aff48eda764ff9eba  ...  Kitnet próxima à Unicamp (FCA) contendo quarto...\n",
              "\n",
              "[5 rows x 12 columns]"
            ]
          },
          "metadata": {},
          "execution_count": 118
        }
      ]
    },
    {
      "cell_type": "markdown",
      "metadata": {
        "id": "0ZwzCLc_dzly"
      },
      "source": [
        "Realizar tratamentos nas colunas:\n",
        "* Aluguel\n",
        "* Condomínio\n",
        "* Área\n",
        "* Vaga garagem"
      ]
    },
    {
      "cell_type": "code",
      "metadata": {
        "colab": {
          "base_uri": "https://localhost:8080/"
        },
        "id": "qtg_nuqh1-qy",
        "outputId": "59963963-c965-4fad-9dd0-e8b10f32980d"
      },
      "source": [
        "df.info()"
      ],
      "execution_count": 119,
      "outputs": [
        {
          "output_type": "stream",
          "name": "stdout",
          "text": [
            "<class 'pandas.core.frame.DataFrame'>\n",
            "RangeIndex: 80 entries, 0 to 79\n",
            "Data columns (total 12 columns):\n",
            " #   Column        Non-Null Count  Dtype \n",
            "---  ------        --------------  ----- \n",
            " 0   imob          80 non-null     object\n",
            " 1   imovel_url    80 non-null     object\n",
            " 2   codigo        80 non-null     object\n",
            " 3   nome          80 non-null     object\n",
            " 4   bairro        80 non-null     object\n",
            " 5   aluguel       80 non-null     object\n",
            " 6   condominio    80 non-null     object\n",
            " 7   area          78 non-null     object\n",
            " 8   quartos       80 non-null     int64 \n",
            " 9   banheiros     80 non-null     int64 \n",
            " 10  vaga_garagem  37 non-null     object\n",
            " 11  descricao     80 non-null     object\n",
            "dtypes: int64(2), object(10)\n",
            "memory usage: 7.6+ KB\n"
          ]
        }
      ]
    },
    {
      "cell_type": "markdown",
      "metadata": {
        "id": "9quIz23l2zg0"
      },
      "source": [
        "Conferindo as 3 imobiliárias"
      ]
    },
    {
      "cell_type": "code",
      "metadata": {
        "colab": {
          "base_uri": "https://localhost:8080/"
        },
        "id": "aPxbF6W82wZQ",
        "outputId": "d093b83a-532a-4a4d-c9cf-4a70b8949d69"
      },
      "source": [
        "df['imob'].unique()"
      ],
      "execution_count": 120,
      "outputs": [
        {
          "output_type": "execute_result",
          "data": {
            "text/plain": [
              "array(['c7234506476bbf0aff48eda764ff9eba',\n",
              "       'ef23a7e1738f4b316011bbdd88e514a2',\n",
              "       '53dd1202c5ef8ce3878ffbd4b3c79bd2'], dtype=object)"
            ]
          },
          "metadata": {},
          "execution_count": 120
        }
      ]
    },
    {
      "cell_type": "markdown",
      "metadata": {
        "id": "MZia9Wxp2my-"
      },
      "source": [
        "## Limpeza dos dados"
      ]
    },
    {
      "cell_type": "code",
      "metadata": {
        "colab": {
          "base_uri": "https://localhost:8080/"
        },
        "id": "NHHZRVRL3Lr-",
        "outputId": "32565ebb-6e36-437d-d9a1-c7e29d45de5a"
      },
      "source": [
        "df.isnull().sum()"
      ],
      "execution_count": 121,
      "outputs": [
        {
          "output_type": "execute_result",
          "data": {
            "text/plain": [
              "imob             0\n",
              "imovel_url       0\n",
              "codigo           0\n",
              "nome             0\n",
              "bairro           0\n",
              "aluguel          0\n",
              "condominio       0\n",
              "area             2\n",
              "quartos          0\n",
              "banheiros        0\n",
              "vaga_garagem    43\n",
              "descricao        0\n",
              "dtype: int64"
            ]
          },
          "metadata": {},
          "execution_count": 121
        }
      ]
    },
    {
      "cell_type": "markdown",
      "metadata": {
        "id": "Q2ZhC7irfGxK"
      },
      "source": [
        "### Coluna: vaga de garagem"
      ]
    },
    {
      "cell_type": "code",
      "metadata": {
        "colab": {
          "base_uri": "https://localhost:8080/"
        },
        "id": "gIPSNTTN2jSh",
        "outputId": "5823b17b-6f10-44ee-b9c4-6f7b2605bf34"
      },
      "source": [
        "df['vaga_garagem'].unique()"
      ],
      "execution_count": 122,
      "outputs": [
        {
          "output_type": "execute_result",
          "data": {
            "text/plain": [
              "array(['0', '1', nan, 'Não', 'Sim'], dtype=object)"
            ]
          },
          "metadata": {},
          "execution_count": 122
        }
      ]
    },
    {
      "cell_type": "code",
      "metadata": {
        "colab": {
          "base_uri": "https://localhost:8080/"
        },
        "id": "RwMWIvu13dEl",
        "outputId": "29732382-219c-4442-8a4b-2a3abf602dfe"
      },
      "source": [
        "# Mapeando para inteiro\n",
        "map_vaga_garagem = {\n",
        "    'Não': 0,\n",
        "    'Sim': 1\n",
        "}\n",
        "\n",
        "df['vaga_garagem'] = df['vaga_garagem'].map(map_vaga_garagem)\n",
        "df['vaga_garagem'].unique()"
      ],
      "execution_count": 123,
      "outputs": [
        {
          "output_type": "execute_result",
          "data": {
            "text/plain": [
              "array([nan,  0.,  1.])"
            ]
          },
          "metadata": {},
          "execution_count": 123
        }
      ]
    },
    {
      "cell_type": "code",
      "metadata": {
        "colab": {
          "base_uri": "https://localhost:8080/"
        },
        "id": "WN5-Qj9_xSZs",
        "outputId": "003405a2-238e-4356-8d13-e9efbbdabfe8"
      },
      "source": [
        "print(df['vaga_garagem'].dtype)\n",
        "print(df['vaga_garagem'].unique())"
      ],
      "execution_count": 125,
      "outputs": [
        {
          "output_type": "stream",
          "name": "stdout",
          "text": [
            "float64\n",
            "[nan  0.  1.]\n"
          ]
        }
      ]
    },
    {
      "cell_type": "code",
      "metadata": {
        "colab": {
          "base_uri": "https://localhost:8080/"
        },
        "id": "hy7VZTK7fgRX",
        "outputId": "8cd2cad8-266d-432b-e0bd-c9d614f9b4f9"
      },
      "source": [
        "df['vaga_garagem']"
      ],
      "execution_count": 126,
      "outputs": [
        {
          "output_type": "execute_result",
          "data": {
            "text/plain": [
              "0     NaN\n",
              "1     NaN\n",
              "2     NaN\n",
              "3     NaN\n",
              "4     NaN\n",
              "     ... \n",
              "75    NaN\n",
              "76    1.0\n",
              "77    NaN\n",
              "78    0.0\n",
              "79    0.0\n",
              "Name: vaga_garagem, Length: 80, dtype: float64"
            ]
          },
          "metadata": {},
          "execution_count": 126
        }
      ]
    },
    {
      "cell_type": "markdown",
      "metadata": {
        "id": "MwGUXpelfhZL"
      },
      "source": [
        "### Coluna: área"
      ]
    },
    {
      "cell_type": "code",
      "metadata": {
        "colab": {
          "base_uri": "https://localhost:8080/"
        },
        "id": "J7IhfjFv4yl1",
        "outputId": "f8dbe6c2-83f2-40d7-9650-b40a64a2b0e9"
      },
      "source": [
        "df['area'].unique()"
      ],
      "execution_count": 127,
      "outputs": [
        {
          "output_type": "execute_result",
          "data": {
            "text/plain": [
              "array(['35      M2', '1       QUARTO CONJUGADO',\n",
              "       '1       QUARTO COM ARMARIO',\n",
              "       '1       QUARTO CONJUGADO COM A SALA',\n",
              "       '1       QUARTO CONJUGADO COM COZINHA', nan, '16      M2',\n",
              "       '1º      ANDAR', '25      M2', '0 m2', '50 m2', '250 m2', '20',\n",
              "       '30', '0'], dtype=object)"
            ]
          },
          "metadata": {},
          "execution_count": 127
        }
      ]
    },
    {
      "cell_type": "code",
      "metadata": {
        "id": "0hu3VEjn_jvv"
      },
      "source": [
        "# Preenchendo nulos com 0\n",
        "df['area'] = df['area'].fillna('0')"
      ],
      "execution_count": 12,
      "outputs": []
    },
    {
      "cell_type": "code",
      "metadata": {
        "colab": {
          "base_uri": "https://localhost:8080/"
        },
        "id": "wdJa6V6S-z1W",
        "outputId": "cb4542f7-49e9-4ee6-c7aa-37e89574e329"
      },
      "source": [
        "# Coletando apenas o número e convertendo para int\n",
        "areas = []\n",
        "for i in range(len(df['area'])):\n",
        "  try:\n",
        "    area_value = int(re.findall('\\d[0-9]+', df['area'][i])[0])\n",
        "  except:\n",
        "    area_value = np.nan\n",
        "  areas.append(area_value)\n",
        "areas"
      ],
      "execution_count": 128,
      "outputs": [
        {
          "output_type": "execute_result",
          "data": {
            "text/plain": [
              "[35,\n",
              " 35,\n",
              " 35,\n",
              " 35,\n",
              " 35,\n",
              " nan,\n",
              " nan,\n",
              " 35,\n",
              " nan,\n",
              " 35,\n",
              " 35,\n",
              " nan,\n",
              " 35,\n",
              " 35,\n",
              " nan,\n",
              " 35,\n",
              " 35,\n",
              " 35,\n",
              " 35,\n",
              " nan,\n",
              " 16,\n",
              " 16,\n",
              " nan,\n",
              " 16,\n",
              " 16,\n",
              " 25,\n",
              " 25,\n",
              " 16,\n",
              " nan,\n",
              " 50,\n",
              " 50,\n",
              " nan,\n",
              " 50,\n",
              " nan,\n",
              " nan,\n",
              " 50,\n",
              " nan,\n",
              " nan,\n",
              " nan,\n",
              " nan,\n",
              " nan,\n",
              " nan,\n",
              " nan,\n",
              " nan,\n",
              " nan,\n",
              " nan,\n",
              " nan,\n",
              " nan,\n",
              " nan,\n",
              " nan,\n",
              " nan,\n",
              " nan,\n",
              " nan,\n",
              " nan,\n",
              " nan,\n",
              " nan,\n",
              " nan,\n",
              " nan,\n",
              " nan,\n",
              " nan,\n",
              " nan,\n",
              " 250,\n",
              " nan,\n",
              " nan,\n",
              " 50,\n",
              " 50,\n",
              " nan,\n",
              " nan,\n",
              " nan,\n",
              " nan,\n",
              " nan,\n",
              " 20,\n",
              " 20,\n",
              " 20,\n",
              " 20,\n",
              " 30,\n",
              " 30,\n",
              " nan,\n",
              " nan,\n",
              " nan]"
            ]
          },
          "metadata": {},
          "execution_count": 128
        }
      ]
    },
    {
      "cell_type": "code",
      "metadata": {
        "colab": {
          "base_uri": "https://localhost:8080/"
        },
        "id": "LnkR6DeRBNjY",
        "outputId": "7ad2ec97-6288-465c-ea32-4f558aeeda24"
      },
      "source": [
        "# Fazendo o tratamento\n",
        "df['area'] = areas\n",
        "print(df['area'].dtype)\n",
        "print(df['area'].unique())"
      ],
      "execution_count": 129,
      "outputs": [
        {
          "output_type": "stream",
          "name": "stdout",
          "text": [
            "float64\n",
            "[ 35.  nan  16.  25.  50. 250.  20.  30.]\n"
          ]
        }
      ]
    },
    {
      "cell_type": "code",
      "metadata": {
        "colab": {
          "base_uri": "https://localhost:8080/",
          "height": 572
        },
        "id": "6lppRpqLBqRE",
        "outputId": "d4dfc160-6793-4e6f-9deb-617a0f96bc54"
      },
      "source": [
        "print(df.shape)\n",
        "df.head()"
      ],
      "execution_count": 130,
      "outputs": [
        {
          "output_type": "stream",
          "name": "stdout",
          "text": [
            "(80, 12)\n"
          ]
        },
        {
          "output_type": "execute_result",
          "data": {
            "text/html": [
              "<div>\n",
              "<style scoped>\n",
              "    .dataframe tbody tr th:only-of-type {\n",
              "        vertical-align: middle;\n",
              "    }\n",
              "\n",
              "    .dataframe tbody tr th {\n",
              "        vertical-align: top;\n",
              "    }\n",
              "\n",
              "    .dataframe thead th {\n",
              "        text-align: right;\n",
              "    }\n",
              "</style>\n",
              "<table border=\"1\" class=\"dataframe\">\n",
              "  <thead>\n",
              "    <tr style=\"text-align: right;\">\n",
              "      <th></th>\n",
              "      <th>imob</th>\n",
              "      <th>imovel_url</th>\n",
              "      <th>codigo</th>\n",
              "      <th>nome</th>\n",
              "      <th>bairro</th>\n",
              "      <th>aluguel</th>\n",
              "      <th>condominio</th>\n",
              "      <th>area</th>\n",
              "      <th>quartos</th>\n",
              "      <th>banheiros</th>\n",
              "      <th>vaga_garagem</th>\n",
              "      <th>descricao</th>\n",
              "    </tr>\n",
              "  </thead>\n",
              "  <tbody>\n",
              "    <tr>\n",
              "      <th>0</th>\n",
              "      <td>c7234506476bbf0aff48eda764ff9eba</td>\n",
              "      <td>475b51cf4a3bf4f29cb2414680851193</td>\n",
              "      <td>57544d6162644c4cec89720f0d0fb27b</td>\n",
              "      <td>245d9e8bab947ecf1ee8867fe9597ab2</td>\n",
              "      <td>CIDADE UNIVERSITARIA</td>\n",
              "      <td>R$1.000,00</td>\n",
              "      <td>\\n\\n                    + Condomínio R$0,00 i\\...</td>\n",
              "      <td>35.0</td>\n",
              "      <td>1</td>\n",
              "      <td>1</td>\n",
              "      <td>NaN</td>\n",
              "      <td>Kitnet próxima à Unicamp (FCA) contendo quarto...</td>\n",
              "    </tr>\n",
              "    <tr>\n",
              "      <th>1</th>\n",
              "      <td>c7234506476bbf0aff48eda764ff9eba</td>\n",
              "      <td>f2ba6e963c17f9aff690f767c73a7f87</td>\n",
              "      <td>00f33a85f39b78148f5941eac174acd2</td>\n",
              "      <td>245d9e8bab947ecf1ee8867fe9597ab2</td>\n",
              "      <td>CIDADE UNIVERSITARIA</td>\n",
              "      <td>R$1.000,00</td>\n",
              "      <td>\\n\\n                    + Condomínio R$0,00 i\\...</td>\n",
              "      <td>35.0</td>\n",
              "      <td>1</td>\n",
              "      <td>1</td>\n",
              "      <td>NaN</td>\n",
              "      <td>Kitnet próxima à Unicamp (FCA) contendo quarto...</td>\n",
              "    </tr>\n",
              "    <tr>\n",
              "      <th>2</th>\n",
              "      <td>c7234506476bbf0aff48eda764ff9eba</td>\n",
              "      <td>047b2a430e6e4409268af5251b53d3e1</td>\n",
              "      <td>b62fad32adf34709c628e9833d66b8df</td>\n",
              "      <td>245d9e8bab947ecf1ee8867fe9597ab2</td>\n",
              "      <td>CIDADE UNIVERSITARIA</td>\n",
              "      <td>R$1.000,00</td>\n",
              "      <td>\\n\\n                    + Condomínio R$0,00 i\\...</td>\n",
              "      <td>35.0</td>\n",
              "      <td>1</td>\n",
              "      <td>1</td>\n",
              "      <td>NaN</td>\n",
              "      <td>Kitnet próxima à Unicamp (FCA) contendo quarto...</td>\n",
              "    </tr>\n",
              "    <tr>\n",
              "      <th>3</th>\n",
              "      <td>c7234506476bbf0aff48eda764ff9eba</td>\n",
              "      <td>e3b2a519bc4e229ab0444cb144c3c407</td>\n",
              "      <td>2d7097bf091516c6952950802bd49019</td>\n",
              "      <td>245d9e8bab947ecf1ee8867fe9597ab2</td>\n",
              "      <td>CIDADE UNIVERSITARIA</td>\n",
              "      <td>R$1.000,00</td>\n",
              "      <td>\\n\\n                    + Condomínio R$0,00 i\\...</td>\n",
              "      <td>35.0</td>\n",
              "      <td>1</td>\n",
              "      <td>1</td>\n",
              "      <td>NaN</td>\n",
              "      <td>Kitnet próxima à Unicamp (FCA) contendo quarto...</td>\n",
              "    </tr>\n",
              "    <tr>\n",
              "      <th>4</th>\n",
              "      <td>c7234506476bbf0aff48eda764ff9eba</td>\n",
              "      <td>71edf6c4e8ad2dee47bf8c9b275c022a</td>\n",
              "      <td>12d0456fa8a537ce311abb5ea43c4b03</td>\n",
              "      <td>245d9e8bab947ecf1ee8867fe9597ab2</td>\n",
              "      <td>CIDADE UNIVERSITARIA</td>\n",
              "      <td>R$1.000,00</td>\n",
              "      <td>\\n\\n                    + Condomínio R$0,00 i\\...</td>\n",
              "      <td>35.0</td>\n",
              "      <td>1</td>\n",
              "      <td>1</td>\n",
              "      <td>NaN</td>\n",
              "      <td>Kitnet próxima à Unicamp (FCA) contendo quarto...</td>\n",
              "    </tr>\n",
              "  </tbody>\n",
              "</table>\n",
              "</div>"
            ],
            "text/plain": [
              "                               imob  ...                                          descricao\n",
              "0  c7234506476bbf0aff48eda764ff9eba  ...  Kitnet próxima à Unicamp (FCA) contendo quarto...\n",
              "1  c7234506476bbf0aff48eda764ff9eba  ...  Kitnet próxima à Unicamp (FCA) contendo quarto...\n",
              "2  c7234506476bbf0aff48eda764ff9eba  ...  Kitnet próxima à Unicamp (FCA) contendo quarto...\n",
              "3  c7234506476bbf0aff48eda764ff9eba  ...  Kitnet próxima à Unicamp (FCA) contendo quarto...\n",
              "4  c7234506476bbf0aff48eda764ff9eba  ...  Kitnet próxima à Unicamp (FCA) contendo quarto...\n",
              "\n",
              "[5 rows x 12 columns]"
            ]
          },
          "metadata": {},
          "execution_count": 130
        }
      ]
    },
    {
      "cell_type": "code",
      "metadata": {
        "colab": {
          "base_uri": "https://localhost:8080/"
        },
        "id": "yIRMX8eMBvUl",
        "outputId": "b18d1658-f664-4609-9ccf-da37b47f1973"
      },
      "source": [
        "df.info()"
      ],
      "execution_count": 131,
      "outputs": [
        {
          "output_type": "stream",
          "name": "stdout",
          "text": [
            "<class 'pandas.core.frame.DataFrame'>\n",
            "RangeIndex: 80 entries, 0 to 79\n",
            "Data columns (total 12 columns):\n",
            " #   Column        Non-Null Count  Dtype  \n",
            "---  ------        --------------  -----  \n",
            " 0   imob          80 non-null     object \n",
            " 1   imovel_url    80 non-null     object \n",
            " 2   codigo        80 non-null     object \n",
            " 3   nome          80 non-null     object \n",
            " 4   bairro        80 non-null     object \n",
            " 5   aluguel       80 non-null     object \n",
            " 6   condominio    80 non-null     object \n",
            " 7   area          34 non-null     float64\n",
            " 8   quartos       80 non-null     int64  \n",
            " 9   banheiros     80 non-null     int64  \n",
            " 10  vaga_garagem  5 non-null      float64\n",
            " 11  descricao     80 non-null     object \n",
            "dtypes: float64(2), int64(2), object(8)\n",
            "memory usage: 7.6+ KB\n"
          ]
        }
      ]
    },
    {
      "cell_type": "markdown",
      "metadata": {
        "id": "VL6ITTLxgJyw"
      },
      "source": [
        "### Coluna: aluguel"
      ]
    },
    {
      "cell_type": "code",
      "metadata": {
        "colab": {
          "base_uri": "https://localhost:8080/"
        },
        "id": "PoTFPkptDFLw",
        "outputId": "1891bf6a-5439-405c-c9f9-bba15ae7870c"
      },
      "source": [
        "df['aluguel'].unique()"
      ],
      "execution_count": 132,
      "outputs": [
        {
          "output_type": "execute_result",
          "data": {
            "text/plain": [
              "array(['R$1.000,00', 'R$850,00', 'R$750,00', 'R$950,00', 'R$ 1.000,00',\n",
              "       'R$ 900,00', 'R$ 850,00', 'R$ 800,00', 'R$ 780,00', 'R$ 700,00',\n",
              "       'R$ 500,00', 'Sob consulta', 'Locação:  R$ 780,00',\n",
              "       'Locação:  R$ 800,00', 'Locação:  R$ 850,00',\n",
              "       'Locação:  R$ 950,00', 'Locação:  R$ 1.000,00'], dtype=object)"
            ]
          },
          "metadata": {},
          "execution_count": 132
        }
      ]
    },
    {
      "cell_type": "code",
      "metadata": {
        "colab": {
          "base_uri": "https://localhost:8080/"
        },
        "id": "Qh_KD2MpCLoP",
        "outputId": "36e379fe-6132-4334-e4d1-8fe49127f0d6"
      },
      "source": [
        "# Extraindo numeros com ',' e convertendo para float\n",
        "values_extracted = []\n",
        "for i in range(len(df['aluguel'])):\n",
        "  try:\n",
        "    value_extracted = re.findall('[0-9]+[,]*', df['aluguel'][i])\n",
        "    value_extracted = float(''.join(value_extracted).replace(',', '.'))\n",
        "  except:\n",
        "    value_extracted = np.nan\n",
        "  values_extracted.append(value_extracted)\n",
        "values_extracted"
      ],
      "execution_count": 133,
      "outputs": [
        {
          "output_type": "execute_result",
          "data": {
            "text/plain": [
              "[1000.0,\n",
              " 1000.0,\n",
              " 1000.0,\n",
              " 1000.0,\n",
              " 1000.0,\n",
              " 850.0,\n",
              " 1000.0,\n",
              " 1000.0,\n",
              " 1000.0,\n",
              " 1000.0,\n",
              " 1000.0,\n",
              " 750.0,\n",
              " 1000.0,\n",
              " 1000.0,\n",
              " 1000.0,\n",
              " 1000.0,\n",
              " 1000.0,\n",
              " 1000.0,\n",
              " 1000.0,\n",
              " 1000.0,\n",
              " 950.0,\n",
              " 950.0,\n",
              " 950.0,\n",
              " 950.0,\n",
              " 950.0,\n",
              " 950.0,\n",
              " 950.0,\n",
              " 950.0,\n",
              " 1000.0,\n",
              " 1000.0,\n",
              " 1000.0,\n",
              " 1000.0,\n",
              " 1000.0,\n",
              " 1000.0,\n",
              " 1000.0,\n",
              " 1000.0,\n",
              " 1000.0,\n",
              " 1000.0,\n",
              " 1000.0,\n",
              " 1000.0,\n",
              " 1000.0,\n",
              " 1000.0,\n",
              " 1000.0,\n",
              " 1000.0,\n",
              " 1000.0,\n",
              " 1000.0,\n",
              " 1000.0,\n",
              " 1000.0,\n",
              " 1000.0,\n",
              " 1000.0,\n",
              " 1000.0,\n",
              " 900.0,\n",
              " 900.0,\n",
              " 900.0,\n",
              " 900.0,\n",
              " 900.0,\n",
              " 900.0,\n",
              " 850.0,\n",
              " 850.0,\n",
              " 850.0,\n",
              " 850.0,\n",
              " 800.0,\n",
              " 800.0,\n",
              " 800.0,\n",
              " 780.0,\n",
              " 780.0,\n",
              " 700.0,\n",
              " 700.0,\n",
              " 700.0,\n",
              " 500.0,\n",
              " nan,\n",
              " 780.0,\n",
              " 800.0,\n",
              " 800.0,\n",
              " 800.0,\n",
              " 850.0,\n",
              " 850.0,\n",
              " 950.0,\n",
              " 1000.0,\n",
              " 1000.0]"
            ]
          },
          "metadata": {},
          "execution_count": 133
        }
      ]
    },
    {
      "cell_type": "code",
      "metadata": {
        "colab": {
          "base_uri": "https://localhost:8080/"
        },
        "id": "7P0D1GlODLhE",
        "outputId": "d82c181a-a939-417b-be8e-0ec6a4eec299"
      },
      "source": [
        "# Fazendo tratamento\n",
        "df['aluguel'] = values_extracted\n",
        "print(df['aluguel'].dtype)\n",
        "print(df['aluguel'].unique())"
      ],
      "execution_count": 134,
      "outputs": [
        {
          "output_type": "stream",
          "name": "stdout",
          "text": [
            "float64\n",
            "[1000.  850.  750.  950.  900.  800.  780.  700.  500.   nan]\n"
          ]
        }
      ]
    },
    {
      "cell_type": "code",
      "metadata": {
        "colab": {
          "base_uri": "https://localhost:8080/",
          "height": 485
        },
        "id": "JtDBDldgECdi",
        "outputId": "b3c5e703-43ed-4f77-9975-5848a41370b3"
      },
      "source": [
        "print(df.shape)\n",
        "df.head()"
      ],
      "execution_count": 135,
      "outputs": [
        {
          "output_type": "stream",
          "name": "stdout",
          "text": [
            "(80, 12)\n"
          ]
        },
        {
          "output_type": "execute_result",
          "data": {
            "text/html": [
              "<div>\n",
              "<style scoped>\n",
              "    .dataframe tbody tr th:only-of-type {\n",
              "        vertical-align: middle;\n",
              "    }\n",
              "\n",
              "    .dataframe tbody tr th {\n",
              "        vertical-align: top;\n",
              "    }\n",
              "\n",
              "    .dataframe thead th {\n",
              "        text-align: right;\n",
              "    }\n",
              "</style>\n",
              "<table border=\"1\" class=\"dataframe\">\n",
              "  <thead>\n",
              "    <tr style=\"text-align: right;\">\n",
              "      <th></th>\n",
              "      <th>imob</th>\n",
              "      <th>imovel_url</th>\n",
              "      <th>codigo</th>\n",
              "      <th>nome</th>\n",
              "      <th>bairro</th>\n",
              "      <th>aluguel</th>\n",
              "      <th>condominio</th>\n",
              "      <th>area</th>\n",
              "      <th>quartos</th>\n",
              "      <th>banheiros</th>\n",
              "      <th>vaga_garagem</th>\n",
              "      <th>descricao</th>\n",
              "    </tr>\n",
              "  </thead>\n",
              "  <tbody>\n",
              "    <tr>\n",
              "      <th>0</th>\n",
              "      <td>c7234506476bbf0aff48eda764ff9eba</td>\n",
              "      <td>475b51cf4a3bf4f29cb2414680851193</td>\n",
              "      <td>57544d6162644c4cec89720f0d0fb27b</td>\n",
              "      <td>245d9e8bab947ecf1ee8867fe9597ab2</td>\n",
              "      <td>CIDADE UNIVERSITARIA</td>\n",
              "      <td>1000.0</td>\n",
              "      <td>\\n\\n                    + Condomínio R$0,00 i\\...</td>\n",
              "      <td>35.0</td>\n",
              "      <td>1</td>\n",
              "      <td>1</td>\n",
              "      <td>NaN</td>\n",
              "      <td>Kitnet próxima à Unicamp (FCA) contendo quarto...</td>\n",
              "    </tr>\n",
              "    <tr>\n",
              "      <th>1</th>\n",
              "      <td>c7234506476bbf0aff48eda764ff9eba</td>\n",
              "      <td>f2ba6e963c17f9aff690f767c73a7f87</td>\n",
              "      <td>00f33a85f39b78148f5941eac174acd2</td>\n",
              "      <td>245d9e8bab947ecf1ee8867fe9597ab2</td>\n",
              "      <td>CIDADE UNIVERSITARIA</td>\n",
              "      <td>1000.0</td>\n",
              "      <td>\\n\\n                    + Condomínio R$0,00 i\\...</td>\n",
              "      <td>35.0</td>\n",
              "      <td>1</td>\n",
              "      <td>1</td>\n",
              "      <td>NaN</td>\n",
              "      <td>Kitnet próxima à Unicamp (FCA) contendo quarto...</td>\n",
              "    </tr>\n",
              "    <tr>\n",
              "      <th>2</th>\n",
              "      <td>c7234506476bbf0aff48eda764ff9eba</td>\n",
              "      <td>047b2a430e6e4409268af5251b53d3e1</td>\n",
              "      <td>b62fad32adf34709c628e9833d66b8df</td>\n",
              "      <td>245d9e8bab947ecf1ee8867fe9597ab2</td>\n",
              "      <td>CIDADE UNIVERSITARIA</td>\n",
              "      <td>1000.0</td>\n",
              "      <td>\\n\\n                    + Condomínio R$0,00 i\\...</td>\n",
              "      <td>35.0</td>\n",
              "      <td>1</td>\n",
              "      <td>1</td>\n",
              "      <td>NaN</td>\n",
              "      <td>Kitnet próxima à Unicamp (FCA) contendo quarto...</td>\n",
              "    </tr>\n",
              "    <tr>\n",
              "      <th>3</th>\n",
              "      <td>c7234506476bbf0aff48eda764ff9eba</td>\n",
              "      <td>e3b2a519bc4e229ab0444cb144c3c407</td>\n",
              "      <td>2d7097bf091516c6952950802bd49019</td>\n",
              "      <td>245d9e8bab947ecf1ee8867fe9597ab2</td>\n",
              "      <td>CIDADE UNIVERSITARIA</td>\n",
              "      <td>1000.0</td>\n",
              "      <td>\\n\\n                    + Condomínio R$0,00 i\\...</td>\n",
              "      <td>35.0</td>\n",
              "      <td>1</td>\n",
              "      <td>1</td>\n",
              "      <td>NaN</td>\n",
              "      <td>Kitnet próxima à Unicamp (FCA) contendo quarto...</td>\n",
              "    </tr>\n",
              "    <tr>\n",
              "      <th>4</th>\n",
              "      <td>c7234506476bbf0aff48eda764ff9eba</td>\n",
              "      <td>71edf6c4e8ad2dee47bf8c9b275c022a</td>\n",
              "      <td>12d0456fa8a537ce311abb5ea43c4b03</td>\n",
              "      <td>245d9e8bab947ecf1ee8867fe9597ab2</td>\n",
              "      <td>CIDADE UNIVERSITARIA</td>\n",
              "      <td>1000.0</td>\n",
              "      <td>\\n\\n                    + Condomínio R$0,00 i\\...</td>\n",
              "      <td>35.0</td>\n",
              "      <td>1</td>\n",
              "      <td>1</td>\n",
              "      <td>NaN</td>\n",
              "      <td>Kitnet próxima à Unicamp (FCA) contendo quarto...</td>\n",
              "    </tr>\n",
              "  </tbody>\n",
              "</table>\n",
              "</div>"
            ],
            "text/plain": [
              "                               imob  ...                                          descricao\n",
              "0  c7234506476bbf0aff48eda764ff9eba  ...  Kitnet próxima à Unicamp (FCA) contendo quarto...\n",
              "1  c7234506476bbf0aff48eda764ff9eba  ...  Kitnet próxima à Unicamp (FCA) contendo quarto...\n",
              "2  c7234506476bbf0aff48eda764ff9eba  ...  Kitnet próxima à Unicamp (FCA) contendo quarto...\n",
              "3  c7234506476bbf0aff48eda764ff9eba  ...  Kitnet próxima à Unicamp (FCA) contendo quarto...\n",
              "4  c7234506476bbf0aff48eda764ff9eba  ...  Kitnet próxima à Unicamp (FCA) contendo quarto...\n",
              "\n",
              "[5 rows x 12 columns]"
            ]
          },
          "metadata": {},
          "execution_count": 135
        }
      ]
    },
    {
      "cell_type": "markdown",
      "metadata": {
        "id": "UX2MKXOugpeW"
      },
      "source": [
        "### Coluna: condomínio"
      ]
    },
    {
      "cell_type": "code",
      "metadata": {
        "colab": {
          "base_uri": "https://localhost:8080/"
        },
        "id": "3as0H3SzEG9T",
        "outputId": "eac85f2c-dd48-4f22-ec54-e046b148b69c"
      },
      "source": [
        "df['condominio'].unique()"
      ],
      "execution_count": 136,
      "outputs": [
        {
          "output_type": "execute_result",
          "data": {
            "text/plain": [
              "array(['\\n\\n                    + Condomínio R$0,00 i\\nValores sujeitos a alteração.\\n\\n+ IPTU R$0,00\\n',\n",
              "       '\\n\\n                    + Condomínio R$100,00 i\\nValores sujeitos a alteração.\\n\\n+ IPTU R$0,00\\n',\n",
              "       '0.0', '80.0'], dtype=object)"
            ]
          },
          "metadata": {},
          "execution_count": 136
        }
      ]
    },
    {
      "cell_type": "code",
      "metadata": {
        "colab": {
          "base_uri": "https://localhost:8080/"
        },
        "id": "cor09bfqgwnQ",
        "outputId": "da394cce-5c98-464d-976f-94f7d13a79f1"
      },
      "source": [
        "# Extraindo somente os numeros e convertendo para float\n",
        "values_extracted = []\n",
        "for i in range(len(df['condominio'])):\n",
        "  try:\n",
        "    value_extracted = re.findall('[0-9]+[,.][0-9]+', df['condominio'][i])\n",
        "    value_extracted = [float(x.replace(',', '.')) for x in value_extracted]\n",
        "    value_extracted = sum(value_extracted)\n",
        "  except:\n",
        "    value_extracted = np.nan\n",
        "  values_extracted.append(value_extracted)\n",
        "values_extracted"
      ],
      "execution_count": 137,
      "outputs": [
        {
          "output_type": "execute_result",
          "data": {
            "text/plain": [
              "[0.0,\n",
              " 0.0,\n",
              " 0.0,\n",
              " 0.0,\n",
              " 0.0,\n",
              " 0.0,\n",
              " 0.0,\n",
              " 0.0,\n",
              " 0.0,\n",
              " 0.0,\n",
              " 0.0,\n",
              " 0.0,\n",
              " 0.0,\n",
              " 0.0,\n",
              " 0.0,\n",
              " 0.0,\n",
              " 0.0,\n",
              " 0.0,\n",
              " 0.0,\n",
              " 0.0,\n",
              " 0.0,\n",
              " 0.0,\n",
              " 0.0,\n",
              " 0.0,\n",
              " 0.0,\n",
              " 100.0,\n",
              " 100.0,\n",
              " 0.0,\n",
              " 0.0,\n",
              " 0.0,\n",
              " 0.0,\n",
              " 0.0,\n",
              " 0.0,\n",
              " 0.0,\n",
              " 0.0,\n",
              " 0.0,\n",
              " 0.0,\n",
              " 0.0,\n",
              " 0.0,\n",
              " 0.0,\n",
              " 0.0,\n",
              " 0.0,\n",
              " 0.0,\n",
              " 0.0,\n",
              " 0.0,\n",
              " 0.0,\n",
              " 0.0,\n",
              " 0.0,\n",
              " 0.0,\n",
              " 0.0,\n",
              " 0.0,\n",
              " 0.0,\n",
              " 0.0,\n",
              " 0.0,\n",
              " 0.0,\n",
              " 0.0,\n",
              " 0.0,\n",
              " 0.0,\n",
              " 0.0,\n",
              " 0.0,\n",
              " 0.0,\n",
              " 0.0,\n",
              " 0.0,\n",
              " 0.0,\n",
              " 0.0,\n",
              " 0.0,\n",
              " 0.0,\n",
              " 0.0,\n",
              " 0.0,\n",
              " 0.0,\n",
              " 0.0,\n",
              " 0.0,\n",
              " 0.0,\n",
              " 80.0,\n",
              " 0.0,\n",
              " 0.0,\n",
              " 0.0,\n",
              " 0.0,\n",
              " 0.0,\n",
              " 0.0]"
            ]
          },
          "metadata": {},
          "execution_count": 137
        }
      ]
    },
    {
      "cell_type": "code",
      "metadata": {
        "colab": {
          "base_uri": "https://localhost:8080/"
        },
        "id": "OW0bYs4hmcZT",
        "outputId": "1d8b9c47-7732-4fd4-f801-4f57c857d081"
      },
      "source": [
        "# Fazendo tratamento\n",
        "df['condominio'] = values_extracted\n",
        "print(df['condominio'].dtype)\n",
        "print(df['condominio'].unique())"
      ],
      "execution_count": 138,
      "outputs": [
        {
          "output_type": "stream",
          "name": "stdout",
          "text": [
            "float64\n",
            "[  0. 100.  80.]\n"
          ]
        }
      ]
    },
    {
      "cell_type": "code",
      "metadata": {
        "colab": {
          "base_uri": "https://localhost:8080/",
          "height": 572
        },
        "id": "j_DAFnrkmevQ",
        "outputId": "58993b16-eaaf-46c2-b0f1-b9852eb31ffa"
      },
      "source": [
        "print(df.shape)\n",
        "df.sample(5)"
      ],
      "execution_count": 139,
      "outputs": [
        {
          "output_type": "stream",
          "name": "stdout",
          "text": [
            "(80, 12)\n"
          ]
        },
        {
          "output_type": "execute_result",
          "data": {
            "text/html": [
              "<div>\n",
              "<style scoped>\n",
              "    .dataframe tbody tr th:only-of-type {\n",
              "        vertical-align: middle;\n",
              "    }\n",
              "\n",
              "    .dataframe tbody tr th {\n",
              "        vertical-align: top;\n",
              "    }\n",
              "\n",
              "    .dataframe thead th {\n",
              "        text-align: right;\n",
              "    }\n",
              "</style>\n",
              "<table border=\"1\" class=\"dataframe\">\n",
              "  <thead>\n",
              "    <tr style=\"text-align: right;\">\n",
              "      <th></th>\n",
              "      <th>imob</th>\n",
              "      <th>imovel_url</th>\n",
              "      <th>codigo</th>\n",
              "      <th>nome</th>\n",
              "      <th>bairro</th>\n",
              "      <th>aluguel</th>\n",
              "      <th>condominio</th>\n",
              "      <th>area</th>\n",
              "      <th>quartos</th>\n",
              "      <th>banheiros</th>\n",
              "      <th>vaga_garagem</th>\n",
              "      <th>descricao</th>\n",
              "    </tr>\n",
              "  </thead>\n",
              "  <tbody>\n",
              "    <tr>\n",
              "      <th>53</th>\n",
              "      <td>ef23a7e1738f4b316011bbdd88e514a2</td>\n",
              "      <td>f9e143fd88cff8563a467df71cc70b44</td>\n",
              "      <td>d81e604fe471f170cc3cc19ee73c20dc</td>\n",
              "      <td>fc5f4e72ac82ea901f0f4f77ab0e9281</td>\n",
              "      <td>Jardim Paulista - Limeira/Sp</td>\n",
              "      <td>900.0</td>\n",
              "      <td>0.0</td>\n",
              "      <td>NaN</td>\n",
              "      <td>1</td>\n",
              "      <td>1</td>\n",
              "      <td>NaN</td>\n",
              "      <td>Imóvel totalmente reformado para atender espec...</td>\n",
              "    </tr>\n",
              "    <tr>\n",
              "      <th>7</th>\n",
              "      <td>c7234506476bbf0aff48eda764ff9eba</td>\n",
              "      <td>3c4f789084c796e08666b8db67e710b3</td>\n",
              "      <td>0236a38d5e4d324ecebfb8c807b7f238</td>\n",
              "      <td>245d9e8bab947ecf1ee8867fe9597ab2</td>\n",
              "      <td>CIDADE UNIVERSITARIA</td>\n",
              "      <td>1000.0</td>\n",
              "      <td>0.0</td>\n",
              "      <td>35.0</td>\n",
              "      <td>1</td>\n",
              "      <td>1</td>\n",
              "      <td>NaN</td>\n",
              "      <td>Kitnet próxima à Unicamp (FCA) contendo quarto...</td>\n",
              "    </tr>\n",
              "    <tr>\n",
              "      <th>48</th>\n",
              "      <td>ef23a7e1738f4b316011bbdd88e514a2</td>\n",
              "      <td>426efdfedb177f22cf060a2db44dd31a</td>\n",
              "      <td>941707c7ec03960821a488b2754bd59a</td>\n",
              "      <td>0ef98b2b924d268967e63d0747a4bd65</td>\n",
              "      <td>Jardim Cidade Universitária I - Limeira/Sp</td>\n",
              "      <td>1000.0</td>\n",
              "      <td>0.0</td>\n",
              "      <td>NaN</td>\n",
              "      <td>1</td>\n",
              "      <td>1</td>\n",
              "      <td>NaN</td>\n",
              "      <td>Imóvel muito bem localizado Conta com sala  e ...</td>\n",
              "    </tr>\n",
              "    <tr>\n",
              "      <th>18</th>\n",
              "      <td>c7234506476bbf0aff48eda764ff9eba</td>\n",
              "      <td>a1821f50b18cd950131c1906d6fc2750</td>\n",
              "      <td>02ae405e9d8013cc5d033c272e2a800d</td>\n",
              "      <td>245d9e8bab947ecf1ee8867fe9597ab2</td>\n",
              "      <td>CIDADE UNIVERSITARIA</td>\n",
              "      <td>1000.0</td>\n",
              "      <td>0.0</td>\n",
              "      <td>35.0</td>\n",
              "      <td>1</td>\n",
              "      <td>1</td>\n",
              "      <td>NaN</td>\n",
              "      <td>Kitnet próxima à Unicamp (FCA) contendo quarto...</td>\n",
              "    </tr>\n",
              "    <tr>\n",
              "      <th>37</th>\n",
              "      <td>ef23a7e1738f4b316011bbdd88e514a2</td>\n",
              "      <td>1ea21866cc1dce17743884bf5f572aec</td>\n",
              "      <td>8fb0a0798b0f5b56b77aaf7df6294525</td>\n",
              "      <td>0ef98b2b924d268967e63d0747a4bd65</td>\n",
              "      <td>Jardim Cidade Universitária I - Limeira/Sp</td>\n",
              "      <td>1000.0</td>\n",
              "      <td>0.0</td>\n",
              "      <td>NaN</td>\n",
              "      <td>1</td>\n",
              "      <td>1</td>\n",
              "      <td>NaN</td>\n",
              "      <td>Imóvel próximo à Unicamp e também com entrada ...</td>\n",
              "    </tr>\n",
              "  </tbody>\n",
              "</table>\n",
              "</div>"
            ],
            "text/plain": [
              "                                imob  ...                                          descricao\n",
              "53  ef23a7e1738f4b316011bbdd88e514a2  ...  Imóvel totalmente reformado para atender espec...\n",
              "7   c7234506476bbf0aff48eda764ff9eba  ...  Kitnet próxima à Unicamp (FCA) contendo quarto...\n",
              "48  ef23a7e1738f4b316011bbdd88e514a2  ...  Imóvel muito bem localizado Conta com sala  e ...\n",
              "18  c7234506476bbf0aff48eda764ff9eba  ...  Kitnet próxima à Unicamp (FCA) contendo quarto...\n",
              "37  ef23a7e1738f4b316011bbdd88e514a2  ...  Imóvel próximo à Unicamp e também com entrada ...\n",
              "\n",
              "[5 rows x 12 columns]"
            ]
          },
          "metadata": {},
          "execution_count": 139
        }
      ]
    },
    {
      "cell_type": "code",
      "metadata": {
        "colab": {
          "base_uri": "https://localhost:8080/"
        },
        "id": "iTJi-BEEmndi",
        "outputId": "5533b247-9cf2-43dc-9cd1-c71ccd2a972e"
      },
      "source": [
        "df.info()"
      ],
      "execution_count": 140,
      "outputs": [
        {
          "output_type": "stream",
          "name": "stdout",
          "text": [
            "<class 'pandas.core.frame.DataFrame'>\n",
            "RangeIndex: 80 entries, 0 to 79\n",
            "Data columns (total 12 columns):\n",
            " #   Column        Non-Null Count  Dtype  \n",
            "---  ------        --------------  -----  \n",
            " 0   imob          80 non-null     object \n",
            " 1   imovel_url    80 non-null     object \n",
            " 2   codigo        80 non-null     object \n",
            " 3   nome          80 non-null     object \n",
            " 4   bairro        80 non-null     object \n",
            " 5   aluguel       79 non-null     float64\n",
            " 6   condominio    80 non-null     float64\n",
            " 7   area          34 non-null     float64\n",
            " 8   quartos       80 non-null     int64  \n",
            " 9   banheiros     80 non-null     int64  \n",
            " 10  vaga_garagem  5 non-null      float64\n",
            " 11  descricao     80 non-null     object \n",
            "dtypes: float64(4), int64(2), object(6)\n",
            "memory usage: 7.6+ KB\n"
          ]
        }
      ]
    },
    {
      "cell_type": "markdown",
      "metadata": {
        "id": "kT2yNzIkmx6j"
      },
      "source": [
        "### Coluna: bairro"
      ]
    },
    {
      "cell_type": "markdown",
      "metadata": {
        "id": "n4xylje2m6I3"
      },
      "source": [
        "Remover cidade e estado do bairro"
      ]
    },
    {
      "cell_type": "code",
      "metadata": {
        "colab": {
          "base_uri": "https://localhost:8080/"
        },
        "id": "abBOKry_moAq",
        "outputId": "e8733eae-dcdd-44d4-d9a2-32917619790f"
      },
      "source": [
        "df['bairro'].unique()"
      ],
      "execution_count": 141,
      "outputs": [
        {
          "output_type": "execute_result",
          "data": {
            "text/plain": [
              "array([' CIDADE UNIVERSITARIA', ' JD. PAULISTA',\n",
              "       'Jardim Paulista - Limeira/Sp',\n",
              "       'Jardim Cidade Universitária I - Limeira/Sp',\n",
              "       'Jardim Cidade Universitária I - Limeira/Sp ',\n",
              "       'Jardim São Paulo - Limeira/Sp ',\n",
              "       'Jardim Morro Azul - Limeira/Sp ',\n",
              "       'Jardim Cidade Universitaria I - Limeira/SP',\n",
              "       'Chacara Antonieta - Limeira/SP'], dtype=object)"
            ]
          },
          "metadata": {},
          "execution_count": 141
        }
      ]
    },
    {
      "cell_type": "code",
      "metadata": {
        "colab": {
          "base_uri": "https://localhost:8080/"
        },
        "id": "67Yh82ypnbxa",
        "outputId": "393a016f-ea9e-44b7-efe0-a3a1bb0cad07"
      },
      "source": [
        "texts_extracted = [x.split('-')[0].strip() for x in df['bairro']]\n",
        "df['bairro'] = texts_extracted\n",
        "df['bairro'].unique()"
      ],
      "execution_count": 142,
      "outputs": [
        {
          "output_type": "execute_result",
          "data": {
            "text/plain": [
              "array(['CIDADE UNIVERSITARIA', 'JD. PAULISTA', 'Jardim Paulista',\n",
              "       'Jardim Cidade Universitária I', 'Jardim São Paulo',\n",
              "       'Jardim Morro Azul', 'Jardim Cidade Universitaria I',\n",
              "       'Chacara Antonieta'], dtype=object)"
            ]
          },
          "metadata": {},
          "execution_count": 142
        }
      ]
    },
    {
      "cell_type": "code",
      "metadata": {
        "colab": {
          "base_uri": "https://localhost:8080/",
          "height": 537
        },
        "id": "w4P3ZRaCoHM4",
        "outputId": "09820243-99ec-4f39-c7a0-2cfc31a6a83d"
      },
      "source": [
        "print(df.shape)\n",
        "df.sample(5)"
      ],
      "execution_count": 143,
      "outputs": [
        {
          "output_type": "stream",
          "name": "stdout",
          "text": [
            "(80, 12)\n"
          ]
        },
        {
          "output_type": "execute_result",
          "data": {
            "text/html": [
              "<div>\n",
              "<style scoped>\n",
              "    .dataframe tbody tr th:only-of-type {\n",
              "        vertical-align: middle;\n",
              "    }\n",
              "\n",
              "    .dataframe tbody tr th {\n",
              "        vertical-align: top;\n",
              "    }\n",
              "\n",
              "    .dataframe thead th {\n",
              "        text-align: right;\n",
              "    }\n",
              "</style>\n",
              "<table border=\"1\" class=\"dataframe\">\n",
              "  <thead>\n",
              "    <tr style=\"text-align: right;\">\n",
              "      <th></th>\n",
              "      <th>imob</th>\n",
              "      <th>imovel_url</th>\n",
              "      <th>codigo</th>\n",
              "      <th>nome</th>\n",
              "      <th>bairro</th>\n",
              "      <th>aluguel</th>\n",
              "      <th>condominio</th>\n",
              "      <th>area</th>\n",
              "      <th>quartos</th>\n",
              "      <th>banheiros</th>\n",
              "      <th>vaga_garagem</th>\n",
              "      <th>descricao</th>\n",
              "    </tr>\n",
              "  </thead>\n",
              "  <tbody>\n",
              "    <tr>\n",
              "      <th>20</th>\n",
              "      <td>c7234506476bbf0aff48eda764ff9eba</td>\n",
              "      <td>8281ee9fcc5eba6b80e3975d7692515a</td>\n",
              "      <td>b3b477f0632310b03bde750706df4596</td>\n",
              "      <td>245d9e8bab947ecf1ee8867fe9597ab2</td>\n",
              "      <td>JD. PAULISTA</td>\n",
              "      <td>950.0</td>\n",
              "      <td>0.0</td>\n",
              "      <td>16.0</td>\n",
              "      <td>1</td>\n",
              "      <td>1</td>\n",
              "      <td>NaN</td>\n",
              "      <td>Kitnet localizada próximo à Unicamp (FCA) cont...</td>\n",
              "    </tr>\n",
              "    <tr>\n",
              "      <th>17</th>\n",
              "      <td>c7234506476bbf0aff48eda764ff9eba</td>\n",
              "      <td>fdc3e007e30b39592c7e0b25c154a6be</td>\n",
              "      <td>d41f3ff29acc315dd5302d634301606b</td>\n",
              "      <td>245d9e8bab947ecf1ee8867fe9597ab2</td>\n",
              "      <td>CIDADE UNIVERSITARIA</td>\n",
              "      <td>1000.0</td>\n",
              "      <td>0.0</td>\n",
              "      <td>35.0</td>\n",
              "      <td>1</td>\n",
              "      <td>1</td>\n",
              "      <td>NaN</td>\n",
              "      <td>Kitnet próximo à Unicamp (FCA) sendo quarto e ...</td>\n",
              "    </tr>\n",
              "    <tr>\n",
              "      <th>69</th>\n",
              "      <td>ef23a7e1738f4b316011bbdd88e514a2</td>\n",
              "      <td>fe8b785ca524fe5068969271479bcb44</td>\n",
              "      <td>39a6db2728600ac4a1ef144ab6635476</td>\n",
              "      <td>3e72ebb916cf78b0770a12cbc2c1fafa</td>\n",
              "      <td>Jardim Morro Azul</td>\n",
              "      <td>500.0</td>\n",
              "      <td>0.0</td>\n",
              "      <td>NaN</td>\n",
              "      <td>1</td>\n",
              "      <td>1</td>\n",
              "      <td>NaN</td>\n",
              "      <td>Kitnet com 1 dormitório, 1 cozinha e 1 banheir...</td>\n",
              "    </tr>\n",
              "    <tr>\n",
              "      <th>15</th>\n",
              "      <td>c7234506476bbf0aff48eda764ff9eba</td>\n",
              "      <td>ff827e86e926255a970c108652fd6e7d</td>\n",
              "      <td>7500856834d96bce86e5e6343d8ef15f</td>\n",
              "      <td>245d9e8bab947ecf1ee8867fe9597ab2</td>\n",
              "      <td>CIDADE UNIVERSITARIA</td>\n",
              "      <td>1000.0</td>\n",
              "      <td>0.0</td>\n",
              "      <td>35.0</td>\n",
              "      <td>1</td>\n",
              "      <td>1</td>\n",
              "      <td>NaN</td>\n",
              "      <td>Kitnet próxima à Unicamp (FCA) contendo quarto...</td>\n",
              "    </tr>\n",
              "    <tr>\n",
              "      <th>36</th>\n",
              "      <td>ef23a7e1738f4b316011bbdd88e514a2</td>\n",
              "      <td>0ba85ac82e015afbcfa90463af2a8aec</td>\n",
              "      <td>e3ac2c5e0d51230d756de5db78c7452d</td>\n",
              "      <td>0ef98b2b924d268967e63d0747a4bd65</td>\n",
              "      <td>Jardim Cidade Universitária I</td>\n",
              "      <td>1000.0</td>\n",
              "      <td>0.0</td>\n",
              "      <td>NaN</td>\n",
              "      <td>1</td>\n",
              "      <td>1</td>\n",
              "      <td>NaN</td>\n",
              "      <td>Imóvel em frente à portaria principal da Unica...</td>\n",
              "    </tr>\n",
              "  </tbody>\n",
              "</table>\n",
              "</div>"
            ],
            "text/plain": [
              "                                imob  ...                                          descricao\n",
              "20  c7234506476bbf0aff48eda764ff9eba  ...  Kitnet localizada próximo à Unicamp (FCA) cont...\n",
              "17  c7234506476bbf0aff48eda764ff9eba  ...  Kitnet próximo à Unicamp (FCA) sendo quarto e ...\n",
              "69  ef23a7e1738f4b316011bbdd88e514a2  ...  Kitnet com 1 dormitório, 1 cozinha e 1 banheir...\n",
              "15  c7234506476bbf0aff48eda764ff9eba  ...  Kitnet próxima à Unicamp (FCA) contendo quarto...\n",
              "36  ef23a7e1738f4b316011bbdd88e514a2  ...  Imóvel em frente à portaria principal da Unica...\n",
              "\n",
              "[5 rows x 12 columns]"
            ]
          },
          "metadata": {},
          "execution_count": 143
        }
      ]
    },
    {
      "cell_type": "code",
      "metadata": {
        "colab": {
          "base_uri": "https://localhost:8080/"
        },
        "id": "mPuXY0l6oOzH",
        "outputId": "ba29df9b-c08d-4b22-bcdf-16717d3c8fb3"
      },
      "source": [
        "df.info()"
      ],
      "execution_count": 144,
      "outputs": [
        {
          "output_type": "stream",
          "name": "stdout",
          "text": [
            "<class 'pandas.core.frame.DataFrame'>\n",
            "RangeIndex: 80 entries, 0 to 79\n",
            "Data columns (total 12 columns):\n",
            " #   Column        Non-Null Count  Dtype  \n",
            "---  ------        --------------  -----  \n",
            " 0   imob          80 non-null     object \n",
            " 1   imovel_url    80 non-null     object \n",
            " 2   codigo        80 non-null     object \n",
            " 3   nome          80 non-null     object \n",
            " 4   bairro        80 non-null     object \n",
            " 5   aluguel       79 non-null     float64\n",
            " 6   condominio    80 non-null     float64\n",
            " 7   area          34 non-null     float64\n",
            " 8   quartos       80 non-null     int64  \n",
            " 9   banheiros     80 non-null     int64  \n",
            " 10  vaga_garagem  5 non-null      float64\n",
            " 11  descricao     80 non-null     object \n",
            "dtypes: float64(4), int64(2), object(6)\n",
            "memory usage: 7.6+ KB\n"
          ]
        }
      ]
    },
    {
      "cell_type": "markdown",
      "metadata": {
        "id": "q9UjojsOofa_"
      },
      "source": [
        "### Removendo colunas desnecessarias"
      ]
    },
    {
      "cell_type": "code",
      "metadata": {
        "colab": {
          "base_uri": "https://localhost:8080/",
          "height": 381
        },
        "id": "hktUwOhzoiVp",
        "outputId": "f18d3bf9-aef4-4477-8865-8387897d313c"
      },
      "source": [
        "df = df.drop(columns=['imovel_url', 'nome'])\n",
        "print(df.shape)\n",
        "df.sample(10)"
      ],
      "execution_count": 145,
      "outputs": [
        {
          "output_type": "stream",
          "name": "stdout",
          "text": [
            "(80, 10)\n"
          ]
        },
        {
          "output_type": "execute_result",
          "data": {
            "text/html": [
              "<div>\n",
              "<style scoped>\n",
              "    .dataframe tbody tr th:only-of-type {\n",
              "        vertical-align: middle;\n",
              "    }\n",
              "\n",
              "    .dataframe tbody tr th {\n",
              "        vertical-align: top;\n",
              "    }\n",
              "\n",
              "    .dataframe thead th {\n",
              "        text-align: right;\n",
              "    }\n",
              "</style>\n",
              "<table border=\"1\" class=\"dataframe\">\n",
              "  <thead>\n",
              "    <tr style=\"text-align: right;\">\n",
              "      <th></th>\n",
              "      <th>imob</th>\n",
              "      <th>codigo</th>\n",
              "      <th>bairro</th>\n",
              "      <th>aluguel</th>\n",
              "      <th>condominio</th>\n",
              "      <th>area</th>\n",
              "      <th>quartos</th>\n",
              "      <th>banheiros</th>\n",
              "      <th>vaga_garagem</th>\n",
              "      <th>descricao</th>\n",
              "    </tr>\n",
              "  </thead>\n",
              "  <tbody>\n",
              "    <tr>\n",
              "      <th>76</th>\n",
              "      <td>53dd1202c5ef8ce3878ffbd4b3c79bd2</td>\n",
              "      <td>a92a6e35acca298c33b9d2c83bde3505</td>\n",
              "      <td>Chacara Antonieta</td>\n",
              "      <td>850.0</td>\n",
              "      <td>0.0</td>\n",
              "      <td>30.0</td>\n",
              "      <td>1</td>\n",
              "      <td>1</td>\n",
              "      <td>1.0</td>\n",
              "      <td>CAMA,  GUARDA-ROUPA, GELADEIRA, BANCADA, TANQU...</td>\n",
              "    </tr>\n",
              "    <tr>\n",
              "      <th>21</th>\n",
              "      <td>c7234506476bbf0aff48eda764ff9eba</td>\n",
              "      <td>d7605883477939a58e52e551391d5dcb</td>\n",
              "      <td>JD. PAULISTA</td>\n",
              "      <td>950.0</td>\n",
              "      <td>0.0</td>\n",
              "      <td>16.0</td>\n",
              "      <td>1</td>\n",
              "      <td>1</td>\n",
              "      <td>NaN</td>\n",
              "      <td>Kitnet localizada próximo à Unicamp (FCA) cont...</td>\n",
              "    </tr>\n",
              "    <tr>\n",
              "      <th>36</th>\n",
              "      <td>ef23a7e1738f4b316011bbdd88e514a2</td>\n",
              "      <td>e3ac2c5e0d51230d756de5db78c7452d</td>\n",
              "      <td>Jardim Cidade Universitária I</td>\n",
              "      <td>1000.0</td>\n",
              "      <td>0.0</td>\n",
              "      <td>NaN</td>\n",
              "      <td>1</td>\n",
              "      <td>1</td>\n",
              "      <td>NaN</td>\n",
              "      <td>Imóvel em frente à portaria principal da Unica...</td>\n",
              "    </tr>\n",
              "    <tr>\n",
              "      <th>23</th>\n",
              "      <td>c7234506476bbf0aff48eda764ff9eba</td>\n",
              "      <td>6a079dd44e0e8cc401934fe33492d0bc</td>\n",
              "      <td>JD. PAULISTA</td>\n",
              "      <td>950.0</td>\n",
              "      <td>0.0</td>\n",
              "      <td>16.0</td>\n",
              "      <td>1</td>\n",
              "      <td>1</td>\n",
              "      <td>NaN</td>\n",
              "      <td>Kitnet localizada próximo à Unicamp (FCA) cont...</td>\n",
              "    </tr>\n",
              "    <tr>\n",
              "      <th>25</th>\n",
              "      <td>c7234506476bbf0aff48eda764ff9eba</td>\n",
              "      <td>48cf0deecd859f082300f8bb8f2ee7c6</td>\n",
              "      <td>CIDADE UNIVERSITARIA</td>\n",
              "      <td>950.0</td>\n",
              "      <td>100.0</td>\n",
              "      <td>25.0</td>\n",
              "      <td>1</td>\n",
              "      <td>1</td>\n",
              "      <td>NaN</td>\n",
              "      <td>Apartamento localizado no Chacara Antonieta co...</td>\n",
              "    </tr>\n",
              "    <tr>\n",
              "      <th>26</th>\n",
              "      <td>c7234506476bbf0aff48eda764ff9eba</td>\n",
              "      <td>ded7b202961dd5bb3fd74353a755c6de</td>\n",
              "      <td>CIDADE UNIVERSITARIA</td>\n",
              "      <td>950.0</td>\n",
              "      <td>100.0</td>\n",
              "      <td>25.0</td>\n",
              "      <td>1</td>\n",
              "      <td>1</td>\n",
              "      <td>NaN</td>\n",
              "      <td>Apartamento localizado no Chacara Antonieta co...</td>\n",
              "    </tr>\n",
              "    <tr>\n",
              "      <th>74</th>\n",
              "      <td>53dd1202c5ef8ce3878ffbd4b3c79bd2</td>\n",
              "      <td>350e21033122ce335fd0fd5f0031179d</td>\n",
              "      <td>Jardim Cidade Universitaria I</td>\n",
              "      <td>800.0</td>\n",
              "      <td>0.0</td>\n",
              "      <td>20.0</td>\n",
              "      <td>1</td>\n",
              "      <td>1</td>\n",
              "      <td>1.0</td>\n",
              "      <td>COZINHA COM GELADEIRA COM DISPENSER NA PORTA, ...</td>\n",
              "    </tr>\n",
              "    <tr>\n",
              "      <th>31</th>\n",
              "      <td>ef23a7e1738f4b316011bbdd88e514a2</td>\n",
              "      <td>2c8c9e9121145fbc37ef67c0a5ea3869</td>\n",
              "      <td>Jardim Cidade Universitária I</td>\n",
              "      <td>1000.0</td>\n",
              "      <td>0.0</td>\n",
              "      <td>NaN</td>\n",
              "      <td>1</td>\n",
              "      <td>1</td>\n",
              "      <td>NaN</td>\n",
              "      <td>Imóvel muito bem localizado. Conta com sala  e...</td>\n",
              "    </tr>\n",
              "    <tr>\n",
              "      <th>34</th>\n",
              "      <td>ef23a7e1738f4b316011bbdd88e514a2</td>\n",
              "      <td>7ef0dfe78be61f5fd8392d3948fb860c</td>\n",
              "      <td>Jardim Cidade Universitária I</td>\n",
              "      <td>1000.0</td>\n",
              "      <td>0.0</td>\n",
              "      <td>NaN</td>\n",
              "      <td>1</td>\n",
              "      <td>1</td>\n",
              "      <td>NaN</td>\n",
              "      <td>Imóvel com: geladeira, fogão, gabinete e mesa ...</td>\n",
              "    </tr>\n",
              "    <tr>\n",
              "      <th>11</th>\n",
              "      <td>c7234506476bbf0aff48eda764ff9eba</td>\n",
              "      <td>17e432c6fd9c0be3a2cbf043f3bd8387</td>\n",
              "      <td>CIDADE UNIVERSITARIA</td>\n",
              "      <td>750.0</td>\n",
              "      <td>0.0</td>\n",
              "      <td>NaN</td>\n",
              "      <td>1</td>\n",
              "      <td>1</td>\n",
              "      <td>NaN</td>\n",
              "      <td>Kitinet localizada na Cidade Universitária pró...</td>\n",
              "    </tr>\n",
              "  </tbody>\n",
              "</table>\n",
              "</div>"
            ],
            "text/plain": [
              "                                imob  ...                                          descricao\n",
              "76  53dd1202c5ef8ce3878ffbd4b3c79bd2  ...  CAMA,  GUARDA-ROUPA, GELADEIRA, BANCADA, TANQU...\n",
              "21  c7234506476bbf0aff48eda764ff9eba  ...  Kitnet localizada próximo à Unicamp (FCA) cont...\n",
              "36  ef23a7e1738f4b316011bbdd88e514a2  ...  Imóvel em frente à portaria principal da Unica...\n",
              "23  c7234506476bbf0aff48eda764ff9eba  ...  Kitnet localizada próximo à Unicamp (FCA) cont...\n",
              "25  c7234506476bbf0aff48eda764ff9eba  ...  Apartamento localizado no Chacara Antonieta co...\n",
              "26  c7234506476bbf0aff48eda764ff9eba  ...  Apartamento localizado no Chacara Antonieta co...\n",
              "74  53dd1202c5ef8ce3878ffbd4b3c79bd2  ...  COZINHA COM GELADEIRA COM DISPENSER NA PORTA, ...\n",
              "31  ef23a7e1738f4b316011bbdd88e514a2  ...  Imóvel muito bem localizado. Conta com sala  e...\n",
              "34  ef23a7e1738f4b316011bbdd88e514a2  ...  Imóvel com: geladeira, fogão, gabinete e mesa ...\n",
              "11  c7234506476bbf0aff48eda764ff9eba  ...  Kitinet localizada na Cidade Universitária pró...\n",
              "\n",
              "[10 rows x 10 columns]"
            ]
          },
          "metadata": {},
          "execution_count": 145
        }
      ]
    },
    {
      "cell_type": "markdown",
      "metadata": {
        "id": "DkwFaQFRoZ6T"
      },
      "source": [
        "## Análise exploratória"
      ]
    },
    {
      "cell_type": "code",
      "metadata": {
        "colab": {
          "base_uri": "https://localhost:8080/",
          "height": 225
        },
        "id": "QgRgk-8Mobfx",
        "outputId": "44caddf6-a956-4502-bccb-70530e33e5f9"
      },
      "source": [
        "df_acomodacoes = df.copy()\n",
        "print(df_acomodacoes.shape)\n",
        "df_acomodacoes.head()"
      ],
      "execution_count": 231,
      "outputs": [
        {
          "output_type": "stream",
          "name": "stdout",
          "text": [
            "(80, 10)\n"
          ]
        },
        {
          "output_type": "execute_result",
          "data": {
            "text/html": [
              "<div>\n",
              "<style scoped>\n",
              "    .dataframe tbody tr th:only-of-type {\n",
              "        vertical-align: middle;\n",
              "    }\n",
              "\n",
              "    .dataframe tbody tr th {\n",
              "        vertical-align: top;\n",
              "    }\n",
              "\n",
              "    .dataframe thead th {\n",
              "        text-align: right;\n",
              "    }\n",
              "</style>\n",
              "<table border=\"1\" class=\"dataframe\">\n",
              "  <thead>\n",
              "    <tr style=\"text-align: right;\">\n",
              "      <th></th>\n",
              "      <th>imob</th>\n",
              "      <th>codigo</th>\n",
              "      <th>bairro</th>\n",
              "      <th>aluguel</th>\n",
              "      <th>condominio</th>\n",
              "      <th>area</th>\n",
              "      <th>quartos</th>\n",
              "      <th>banheiros</th>\n",
              "      <th>vaga_garagem</th>\n",
              "      <th>descricao</th>\n",
              "    </tr>\n",
              "  </thead>\n",
              "  <tbody>\n",
              "    <tr>\n",
              "      <th>0</th>\n",
              "      <td>c7234506476bbf0aff48eda764ff9eba</td>\n",
              "      <td>57544d6162644c4cec89720f0d0fb27b</td>\n",
              "      <td>CIDADE UNIVERSITARIA</td>\n",
              "      <td>1000.0</td>\n",
              "      <td>0.0</td>\n",
              "      <td>35.0</td>\n",
              "      <td>1</td>\n",
              "      <td>1</td>\n",
              "      <td>NaN</td>\n",
              "      <td>Kitnet próxima à Unicamp (FCA) contendo quarto...</td>\n",
              "    </tr>\n",
              "    <tr>\n",
              "      <th>1</th>\n",
              "      <td>c7234506476bbf0aff48eda764ff9eba</td>\n",
              "      <td>00f33a85f39b78148f5941eac174acd2</td>\n",
              "      <td>CIDADE UNIVERSITARIA</td>\n",
              "      <td>1000.0</td>\n",
              "      <td>0.0</td>\n",
              "      <td>35.0</td>\n",
              "      <td>1</td>\n",
              "      <td>1</td>\n",
              "      <td>NaN</td>\n",
              "      <td>Kitnet próxima à Unicamp (FCA) contendo quarto...</td>\n",
              "    </tr>\n",
              "    <tr>\n",
              "      <th>2</th>\n",
              "      <td>c7234506476bbf0aff48eda764ff9eba</td>\n",
              "      <td>b62fad32adf34709c628e9833d66b8df</td>\n",
              "      <td>CIDADE UNIVERSITARIA</td>\n",
              "      <td>1000.0</td>\n",
              "      <td>0.0</td>\n",
              "      <td>35.0</td>\n",
              "      <td>1</td>\n",
              "      <td>1</td>\n",
              "      <td>NaN</td>\n",
              "      <td>Kitnet próxima à Unicamp (FCA) contendo quarto...</td>\n",
              "    </tr>\n",
              "    <tr>\n",
              "      <th>3</th>\n",
              "      <td>c7234506476bbf0aff48eda764ff9eba</td>\n",
              "      <td>2d7097bf091516c6952950802bd49019</td>\n",
              "      <td>CIDADE UNIVERSITARIA</td>\n",
              "      <td>1000.0</td>\n",
              "      <td>0.0</td>\n",
              "      <td>35.0</td>\n",
              "      <td>1</td>\n",
              "      <td>1</td>\n",
              "      <td>NaN</td>\n",
              "      <td>Kitnet próxima à Unicamp (FCA) contendo quarto...</td>\n",
              "    </tr>\n",
              "    <tr>\n",
              "      <th>4</th>\n",
              "      <td>c7234506476bbf0aff48eda764ff9eba</td>\n",
              "      <td>12d0456fa8a537ce311abb5ea43c4b03</td>\n",
              "      <td>CIDADE UNIVERSITARIA</td>\n",
              "      <td>1000.0</td>\n",
              "      <td>0.0</td>\n",
              "      <td>35.0</td>\n",
              "      <td>1</td>\n",
              "      <td>1</td>\n",
              "      <td>NaN</td>\n",
              "      <td>Kitnet próxima à Unicamp (FCA) contendo quarto...</td>\n",
              "    </tr>\n",
              "  </tbody>\n",
              "</table>\n",
              "</div>"
            ],
            "text/plain": [
              "                               imob  ...                                          descricao\n",
              "0  c7234506476bbf0aff48eda764ff9eba  ...  Kitnet próxima à Unicamp (FCA) contendo quarto...\n",
              "1  c7234506476bbf0aff48eda764ff9eba  ...  Kitnet próxima à Unicamp (FCA) contendo quarto...\n",
              "2  c7234506476bbf0aff48eda764ff9eba  ...  Kitnet próxima à Unicamp (FCA) contendo quarto...\n",
              "3  c7234506476bbf0aff48eda764ff9eba  ...  Kitnet próxima à Unicamp (FCA) contendo quarto...\n",
              "4  c7234506476bbf0aff48eda764ff9eba  ...  Kitnet próxima à Unicamp (FCA) contendo quarto...\n",
              "\n",
              "[5 rows x 10 columns]"
            ]
          },
          "metadata": {},
          "execution_count": 231
        }
      ]
    },
    {
      "cell_type": "markdown",
      "metadata": {
        "id": "9TSmqkteznfr"
      },
      "source": [
        "### Tratamento"
      ]
    },
    {
      "cell_type": "code",
      "metadata": {
        "colab": {
          "base_uri": "https://localhost:8080/"
        },
        "id": "EhAORdckr7du",
        "outputId": "b6a5e391-68fa-4234-d3cd-a6ca772de447"
      },
      "source": [
        "df_acomodacoes['imob'].unique()"
      ],
      "execution_count": 232,
      "outputs": [
        {
          "output_type": "execute_result",
          "data": {
            "text/plain": [
              "array(['c7234506476bbf0aff48eda764ff9eba',\n",
              "       'ef23a7e1738f4b316011bbdd88e514a2',\n",
              "       '53dd1202c5ef8ce3878ffbd4b3c79bd2'], dtype=object)"
            ]
          },
          "metadata": {},
          "execution_count": 232
        }
      ]
    },
    {
      "cell_type": "code",
      "metadata": {
        "colab": {
          "base_uri": "https://localhost:8080/",
          "height": 206
        },
        "id": "NDYEsswMr4Lm",
        "outputId": "aa7d7f6e-d73c-4eba-b54f-b627dbac346a"
      },
      "source": [
        "imob_map = {\n",
        "    '53dd1202c5ef8ce3878ffbd4b3c79bd2': 'A',\n",
        "    'ef23a7e1738f4b316011bbdd88e514a2': 'B',\n",
        "    'c7234506476bbf0aff48eda764ff9eba': 'C'\n",
        "}\n",
        "\n",
        "df_acomodacoes['imob'] = df_acomodacoes['imob'].map(imob_map)\n",
        "df_acomodacoes.sample(5)"
      ],
      "execution_count": 233,
      "outputs": [
        {
          "output_type": "execute_result",
          "data": {
            "text/html": [
              "<div>\n",
              "<style scoped>\n",
              "    .dataframe tbody tr th:only-of-type {\n",
              "        vertical-align: middle;\n",
              "    }\n",
              "\n",
              "    .dataframe tbody tr th {\n",
              "        vertical-align: top;\n",
              "    }\n",
              "\n",
              "    .dataframe thead th {\n",
              "        text-align: right;\n",
              "    }\n",
              "</style>\n",
              "<table border=\"1\" class=\"dataframe\">\n",
              "  <thead>\n",
              "    <tr style=\"text-align: right;\">\n",
              "      <th></th>\n",
              "      <th>imob</th>\n",
              "      <th>codigo</th>\n",
              "      <th>bairro</th>\n",
              "      <th>aluguel</th>\n",
              "      <th>condominio</th>\n",
              "      <th>area</th>\n",
              "      <th>quartos</th>\n",
              "      <th>banheiros</th>\n",
              "      <th>vaga_garagem</th>\n",
              "      <th>descricao</th>\n",
              "    </tr>\n",
              "  </thead>\n",
              "  <tbody>\n",
              "    <tr>\n",
              "      <th>37</th>\n",
              "      <td>B</td>\n",
              "      <td>8fb0a0798b0f5b56b77aaf7df6294525</td>\n",
              "      <td>Jardim Cidade Universitária I</td>\n",
              "      <td>1000.0</td>\n",
              "      <td>0.0</td>\n",
              "      <td>NaN</td>\n",
              "      <td>1</td>\n",
              "      <td>1</td>\n",
              "      <td>NaN</td>\n",
              "      <td>Imóvel próximo à Unicamp e também com entrada ...</td>\n",
              "    </tr>\n",
              "    <tr>\n",
              "      <th>13</th>\n",
              "      <td>C</td>\n",
              "      <td>a264ee68837c839ccf3a90ee71c91b41</td>\n",
              "      <td>CIDADE UNIVERSITARIA</td>\n",
              "      <td>1000.0</td>\n",
              "      <td>0.0</td>\n",
              "      <td>35.0</td>\n",
              "      <td>1</td>\n",
              "      <td>1</td>\n",
              "      <td>NaN</td>\n",
              "      <td>Kitnet próxima à Unicamp (FCA) contendo quarto...</td>\n",
              "    </tr>\n",
              "    <tr>\n",
              "      <th>36</th>\n",
              "      <td>B</td>\n",
              "      <td>e3ac2c5e0d51230d756de5db78c7452d</td>\n",
              "      <td>Jardim Cidade Universitária I</td>\n",
              "      <td>1000.0</td>\n",
              "      <td>0.0</td>\n",
              "      <td>NaN</td>\n",
              "      <td>1</td>\n",
              "      <td>1</td>\n",
              "      <td>NaN</td>\n",
              "      <td>Imóvel em frente à portaria principal da Unica...</td>\n",
              "    </tr>\n",
              "    <tr>\n",
              "      <th>58</th>\n",
              "      <td>B</td>\n",
              "      <td>97bcff626e416e4682240b08bfe240e9</td>\n",
              "      <td>Jardim Cidade Universitária I</td>\n",
              "      <td>850.0</td>\n",
              "      <td>0.0</td>\n",
              "      <td>NaN</td>\n",
              "      <td>1</td>\n",
              "      <td>1</td>\n",
              "      <td>NaN</td>\n",
              "      <td>Kitnet no bairro Universitário, próximo a Unic...</td>\n",
              "    </tr>\n",
              "    <tr>\n",
              "      <th>62</th>\n",
              "      <td>B</td>\n",
              "      <td>decee23146cd497fccdaa119dd7f51b8</td>\n",
              "      <td>Jardim Cidade Universitária I</td>\n",
              "      <td>800.0</td>\n",
              "      <td>0.0</td>\n",
              "      <td>NaN</td>\n",
              "      <td>1</td>\n",
              "      <td>1</td>\n",
              "      <td>NaN</td>\n",
              "      <td>Ótimo apartamento na Cidade Universitária com ...</td>\n",
              "    </tr>\n",
              "  </tbody>\n",
              "</table>\n",
              "</div>"
            ],
            "text/plain": [
              "   imob  ...                                          descricao\n",
              "37    B  ...  Imóvel próximo à Unicamp e também com entrada ...\n",
              "13    C  ...  Kitnet próxima à Unicamp (FCA) contendo quarto...\n",
              "36    B  ...  Imóvel em frente à portaria principal da Unica...\n",
              "58    B  ...  Kitnet no bairro Universitário, próximo a Unic...\n",
              "62    B  ...  Ótimo apartamento na Cidade Universitária com ...\n",
              "\n",
              "[5 rows x 10 columns]"
            ]
          },
          "metadata": {},
          "execution_count": 233
        }
      ]
    },
    {
      "cell_type": "code",
      "metadata": {
        "colab": {
          "base_uri": "https://localhost:8080/",
          "height": 225
        },
        "id": "Eonz_fJguY9U",
        "outputId": "845ce77c-d5b5-4ed6-f5b8-16021bad79e4"
      },
      "source": [
        "df_acomodacoes['total'] = df_acomodacoes['aluguel'] + df_acomodacoes['condominio']\n",
        "print(df_acomodacoes.shape)\n",
        "df_acomodacoes.sample(5)"
      ],
      "execution_count": 234,
      "outputs": [
        {
          "output_type": "stream",
          "name": "stdout",
          "text": [
            "(80, 11)\n"
          ]
        },
        {
          "output_type": "execute_result",
          "data": {
            "text/html": [
              "<div>\n",
              "<style scoped>\n",
              "    .dataframe tbody tr th:only-of-type {\n",
              "        vertical-align: middle;\n",
              "    }\n",
              "\n",
              "    .dataframe tbody tr th {\n",
              "        vertical-align: top;\n",
              "    }\n",
              "\n",
              "    .dataframe thead th {\n",
              "        text-align: right;\n",
              "    }\n",
              "</style>\n",
              "<table border=\"1\" class=\"dataframe\">\n",
              "  <thead>\n",
              "    <tr style=\"text-align: right;\">\n",
              "      <th></th>\n",
              "      <th>imob</th>\n",
              "      <th>codigo</th>\n",
              "      <th>bairro</th>\n",
              "      <th>aluguel</th>\n",
              "      <th>condominio</th>\n",
              "      <th>area</th>\n",
              "      <th>quartos</th>\n",
              "      <th>banheiros</th>\n",
              "      <th>vaga_garagem</th>\n",
              "      <th>descricao</th>\n",
              "      <th>total</th>\n",
              "    </tr>\n",
              "  </thead>\n",
              "  <tbody>\n",
              "    <tr>\n",
              "      <th>10</th>\n",
              "      <td>C</td>\n",
              "      <td>8621c612207ad3dbf1da43a0c56d6116</td>\n",
              "      <td>CIDADE UNIVERSITARIA</td>\n",
              "      <td>1000.0</td>\n",
              "      <td>0.0</td>\n",
              "      <td>35.0</td>\n",
              "      <td>1</td>\n",
              "      <td>1</td>\n",
              "      <td>NaN</td>\n",
              "      <td>Kitnet próxima à Unicamp (FCA) contendo quarto...</td>\n",
              "      <td>1000.0</td>\n",
              "    </tr>\n",
              "    <tr>\n",
              "      <th>27</th>\n",
              "      <td>C</td>\n",
              "      <td>b2d83e2253d0695b33e339b8fdd48a94</td>\n",
              "      <td>JD. PAULISTA</td>\n",
              "      <td>950.0</td>\n",
              "      <td>0.0</td>\n",
              "      <td>16.0</td>\n",
              "      <td>1</td>\n",
              "      <td>1</td>\n",
              "      <td>NaN</td>\n",
              "      <td>Kitinet medindo 16 m² próximo à Faculdade Unic...</td>\n",
              "      <td>950.0</td>\n",
              "    </tr>\n",
              "    <tr>\n",
              "      <th>35</th>\n",
              "      <td>B</td>\n",
              "      <td>5416c9b0aba5eb43b419b107d3975a76</td>\n",
              "      <td>Jardim Cidade Universitária I</td>\n",
              "      <td>1000.0</td>\n",
              "      <td>0.0</td>\n",
              "      <td>50.0</td>\n",
              "      <td>1</td>\n",
              "      <td>1</td>\n",
              "      <td>NaN</td>\n",
              "      <td>Imóvel muito bem localizado Conta com sala  e ...</td>\n",
              "      <td>1000.0</td>\n",
              "    </tr>\n",
              "    <tr>\n",
              "      <th>63</th>\n",
              "      <td>B</td>\n",
              "      <td>c18e0e8dc2d9c9e19e50d86b8903cfa7</td>\n",
              "      <td>Jardim Cidade Universitária I</td>\n",
              "      <td>800.0</td>\n",
              "      <td>0.0</td>\n",
              "      <td>NaN</td>\n",
              "      <td>1</td>\n",
              "      <td>1</td>\n",
              "      <td>NaN</td>\n",
              "      <td>Ótimo apartamento na Cidade Universitária com ...</td>\n",
              "      <td>800.0</td>\n",
              "    </tr>\n",
              "    <tr>\n",
              "      <th>44</th>\n",
              "      <td>B</td>\n",
              "      <td>f35ab38d7e2c5a4b5e0a009ccc32d452</td>\n",
              "      <td>Jardim Cidade Universitária I</td>\n",
              "      <td>1000.0</td>\n",
              "      <td>0.0</td>\n",
              "      <td>NaN</td>\n",
              "      <td>1</td>\n",
              "      <td>1</td>\n",
              "      <td>NaN</td>\n",
              "      <td>Imóvel novo 1 locação próximo à Unicamp e tamb...</td>\n",
              "      <td>1000.0</td>\n",
              "    </tr>\n",
              "  </tbody>\n",
              "</table>\n",
              "</div>"
            ],
            "text/plain": [
              "   imob  ...   total\n",
              "10    C  ...  1000.0\n",
              "27    C  ...   950.0\n",
              "35    B  ...  1000.0\n",
              "63    B  ...   800.0\n",
              "44    B  ...  1000.0\n",
              "\n",
              "[5 rows x 11 columns]"
            ]
          },
          "metadata": {},
          "execution_count": 234
        }
      ]
    },
    {
      "cell_type": "code",
      "metadata": {
        "colab": {
          "base_uri": "https://localhost:8080/",
          "height": 225
        },
        "id": "TXvt_Q7euggO",
        "outputId": "3ea1d2b4-4e32-4edd-8453-e258c55325fc"
      },
      "source": [
        "df_acomodacoes['preco_m2'] = df_acomodacoes['total'] / df_acomodacoes['area']\n",
        "df_acomodacoes['preco_m2'] = df_acomodacoes['preco_m2'].replace(np.inf, np.nan)\n",
        "\n",
        "print(df_acomodacoes.shape)\n",
        "df_acomodacoes.sample(5)"
      ],
      "execution_count": 235,
      "outputs": [
        {
          "output_type": "stream",
          "name": "stdout",
          "text": [
            "(80, 12)\n"
          ]
        },
        {
          "output_type": "execute_result",
          "data": {
            "text/html": [
              "<div>\n",
              "<style scoped>\n",
              "    .dataframe tbody tr th:only-of-type {\n",
              "        vertical-align: middle;\n",
              "    }\n",
              "\n",
              "    .dataframe tbody tr th {\n",
              "        vertical-align: top;\n",
              "    }\n",
              "\n",
              "    .dataframe thead th {\n",
              "        text-align: right;\n",
              "    }\n",
              "</style>\n",
              "<table border=\"1\" class=\"dataframe\">\n",
              "  <thead>\n",
              "    <tr style=\"text-align: right;\">\n",
              "      <th></th>\n",
              "      <th>imob</th>\n",
              "      <th>codigo</th>\n",
              "      <th>bairro</th>\n",
              "      <th>aluguel</th>\n",
              "      <th>condominio</th>\n",
              "      <th>area</th>\n",
              "      <th>quartos</th>\n",
              "      <th>banheiros</th>\n",
              "      <th>vaga_garagem</th>\n",
              "      <th>descricao</th>\n",
              "      <th>total</th>\n",
              "      <th>preco_m2</th>\n",
              "    </tr>\n",
              "  </thead>\n",
              "  <tbody>\n",
              "    <tr>\n",
              "      <th>79</th>\n",
              "      <td>A</td>\n",
              "      <td>4cc0e019beccf19b1e1182b9e896f089</td>\n",
              "      <td>Jardim Cidade Universitaria I</td>\n",
              "      <td>1000.0</td>\n",
              "      <td>0.0</td>\n",
              "      <td>NaN</td>\n",
              "      <td>1</td>\n",
              "      <td>1</td>\n",
              "      <td>0.0</td>\n",
              "      <td>1 QUARTO COM ARMÁRIO E AR CONDICIONADO;1 SALA ...</td>\n",
              "      <td>1000.0</td>\n",
              "      <td>NaN</td>\n",
              "    </tr>\n",
              "    <tr>\n",
              "      <th>20</th>\n",
              "      <td>C</td>\n",
              "      <td>b3b477f0632310b03bde750706df4596</td>\n",
              "      <td>JD. PAULISTA</td>\n",
              "      <td>950.0</td>\n",
              "      <td>0.0</td>\n",
              "      <td>16.0</td>\n",
              "      <td>1</td>\n",
              "      <td>1</td>\n",
              "      <td>NaN</td>\n",
              "      <td>Kitnet localizada próximo à Unicamp (FCA) cont...</td>\n",
              "      <td>950.0</td>\n",
              "      <td>59.375000</td>\n",
              "    </tr>\n",
              "    <tr>\n",
              "      <th>69</th>\n",
              "      <td>B</td>\n",
              "      <td>39a6db2728600ac4a1ef144ab6635476</td>\n",
              "      <td>Jardim Morro Azul</td>\n",
              "      <td>500.0</td>\n",
              "      <td>0.0</td>\n",
              "      <td>NaN</td>\n",
              "      <td>1</td>\n",
              "      <td>1</td>\n",
              "      <td>NaN</td>\n",
              "      <td>Kitnet com 1 dormitório, 1 cozinha e 1 banheir...</td>\n",
              "      <td>500.0</td>\n",
              "      <td>NaN</td>\n",
              "    </tr>\n",
              "    <tr>\n",
              "      <th>10</th>\n",
              "      <td>C</td>\n",
              "      <td>8621c612207ad3dbf1da43a0c56d6116</td>\n",
              "      <td>CIDADE UNIVERSITARIA</td>\n",
              "      <td>1000.0</td>\n",
              "      <td>0.0</td>\n",
              "      <td>35.0</td>\n",
              "      <td>1</td>\n",
              "      <td>1</td>\n",
              "      <td>NaN</td>\n",
              "      <td>Kitnet próxima à Unicamp (FCA) contendo quarto...</td>\n",
              "      <td>1000.0</td>\n",
              "      <td>28.571429</td>\n",
              "    </tr>\n",
              "    <tr>\n",
              "      <th>50</th>\n",
              "      <td>B</td>\n",
              "      <td>8a4aa098922c72013ace92f92de73cc9</td>\n",
              "      <td>Jardim Cidade Universitária I</td>\n",
              "      <td>1000.0</td>\n",
              "      <td>0.0</td>\n",
              "      <td>NaN</td>\n",
              "      <td>1</td>\n",
              "      <td>1</td>\n",
              "      <td>NaN</td>\n",
              "      <td>Imóvel novo, 1º locação, em frente à portaria ...</td>\n",
              "      <td>1000.0</td>\n",
              "      <td>NaN</td>\n",
              "    </tr>\n",
              "  </tbody>\n",
              "</table>\n",
              "</div>"
            ],
            "text/plain": [
              "   imob                            codigo  ...   total   preco_m2\n",
              "79    A  4cc0e019beccf19b1e1182b9e896f089  ...  1000.0        NaN\n",
              "20    C  b3b477f0632310b03bde750706df4596  ...   950.0  59.375000\n",
              "69    B  39a6db2728600ac4a1ef144ab6635476  ...   500.0        NaN\n",
              "10    C  8621c612207ad3dbf1da43a0c56d6116  ...  1000.0  28.571429\n",
              "50    B  8a4aa098922c72013ace92f92de73cc9  ...  1000.0        NaN\n",
              "\n",
              "[5 rows x 12 columns]"
            ]
          },
          "metadata": {},
          "execution_count": 235
        }
      ]
    },
    {
      "cell_type": "code",
      "metadata": {
        "colab": {
          "base_uri": "https://localhost:8080/",
          "height": 300
        },
        "id": "Ilve_8oUpJwh",
        "outputId": "1c0a1483-c876-4215-bbda-8c57524f8455"
      },
      "source": [
        "df_acomodacoes.describe()"
      ],
      "execution_count": 236,
      "outputs": [
        {
          "output_type": "execute_result",
          "data": {
            "text/html": [
              "<div>\n",
              "<style scoped>\n",
              "    .dataframe tbody tr th:only-of-type {\n",
              "        vertical-align: middle;\n",
              "    }\n",
              "\n",
              "    .dataframe tbody tr th {\n",
              "        vertical-align: top;\n",
              "    }\n",
              "\n",
              "    .dataframe thead th {\n",
              "        text-align: right;\n",
              "    }\n",
              "</style>\n",
              "<table border=\"1\" class=\"dataframe\">\n",
              "  <thead>\n",
              "    <tr style=\"text-align: right;\">\n",
              "      <th></th>\n",
              "      <th>aluguel</th>\n",
              "      <th>condominio</th>\n",
              "      <th>area</th>\n",
              "      <th>quartos</th>\n",
              "      <th>banheiros</th>\n",
              "      <th>vaga_garagem</th>\n",
              "      <th>total</th>\n",
              "      <th>preco_m2</th>\n",
              "    </tr>\n",
              "  </thead>\n",
              "  <tbody>\n",
              "    <tr>\n",
              "      <th>count</th>\n",
              "      <td>79.000000</td>\n",
              "      <td>80.000000</td>\n",
              "      <td>34.000000</td>\n",
              "      <td>80.0</td>\n",
              "      <td>80.0</td>\n",
              "      <td>5.000000</td>\n",
              "      <td>79.000000</td>\n",
              "      <td>34.000000</td>\n",
              "    </tr>\n",
              "    <tr>\n",
              "      <th>mean</th>\n",
              "      <td>928.987342</td>\n",
              "      <td>3.500000</td>\n",
              "      <td>38.529412</td>\n",
              "      <td>1.0</td>\n",
              "      <td>1.0</td>\n",
              "      <td>0.400000</td>\n",
              "      <td>932.531646</td>\n",
              "      <td>32.792402</td>\n",
              "    </tr>\n",
              "    <tr>\n",
              "      <th>std</th>\n",
              "      <td>101.862085</td>\n",
              "      <td>17.938009</td>\n",
              "      <td>38.966369</td>\n",
              "      <td>0.0</td>\n",
              "      <td>0.0</td>\n",
              "      <td>0.547723</td>\n",
              "      <td>102.687831</td>\n",
              "      <td>13.905988</td>\n",
              "    </tr>\n",
              "    <tr>\n",
              "      <th>min</th>\n",
              "      <td>500.000000</td>\n",
              "      <td>0.000000</td>\n",
              "      <td>16.000000</td>\n",
              "      <td>1.0</td>\n",
              "      <td>1.0</td>\n",
              "      <td>0.000000</td>\n",
              "      <td>500.000000</td>\n",
              "      <td>3.200000</td>\n",
              "    </tr>\n",
              "    <tr>\n",
              "      <th>25%</th>\n",
              "      <td>850.000000</td>\n",
              "      <td>0.000000</td>\n",
              "      <td>21.250000</td>\n",
              "      <td>1.0</td>\n",
              "      <td>1.0</td>\n",
              "      <td>0.000000</td>\n",
              "      <td>865.000000</td>\n",
              "      <td>28.392857</td>\n",
              "    </tr>\n",
              "    <tr>\n",
              "      <th>50%</th>\n",
              "      <td>1000.000000</td>\n",
              "      <td>0.000000</td>\n",
              "      <td>35.000000</td>\n",
              "      <td>1.0</td>\n",
              "      <td>1.0</td>\n",
              "      <td>0.000000</td>\n",
              "      <td>1000.000000</td>\n",
              "      <td>28.571429</td>\n",
              "    </tr>\n",
              "    <tr>\n",
              "      <th>75%</th>\n",
              "      <td>1000.000000</td>\n",
              "      <td>0.000000</td>\n",
              "      <td>35.000000</td>\n",
              "      <td>1.0</td>\n",
              "      <td>1.0</td>\n",
              "      <td>1.000000</td>\n",
              "      <td>1000.000000</td>\n",
              "      <td>40.000000</td>\n",
              "    </tr>\n",
              "    <tr>\n",
              "      <th>max</th>\n",
              "      <td>1000.000000</td>\n",
              "      <td>100.000000</td>\n",
              "      <td>250.000000</td>\n",
              "      <td>1.0</td>\n",
              "      <td>1.0</td>\n",
              "      <td>1.000000</td>\n",
              "      <td>1050.000000</td>\n",
              "      <td>59.375000</td>\n",
              "    </tr>\n",
              "  </tbody>\n",
              "</table>\n",
              "</div>"
            ],
            "text/plain": [
              "           aluguel  condominio  ...        total   preco_m2\n",
              "count    79.000000   80.000000  ...    79.000000  34.000000\n",
              "mean    928.987342    3.500000  ...   932.531646  32.792402\n",
              "std     101.862085   17.938009  ...   102.687831  13.905988\n",
              "min     500.000000    0.000000  ...   500.000000   3.200000\n",
              "25%     850.000000    0.000000  ...   865.000000  28.392857\n",
              "50%    1000.000000    0.000000  ...  1000.000000  28.571429\n",
              "75%    1000.000000    0.000000  ...  1000.000000  40.000000\n",
              "max    1000.000000  100.000000  ...  1050.000000  59.375000\n",
              "\n",
              "[8 rows x 8 columns]"
            ]
          },
          "metadata": {},
          "execution_count": 236
        }
      ]
    },
    {
      "cell_type": "code",
      "metadata": {
        "colab": {
          "base_uri": "https://localhost:8080/"
        },
        "id": "rIR7m2Fs0HM6",
        "outputId": "1ff142a7-964d-44b1-f3db-343efa64bbf4"
      },
      "source": [
        "df_acomodacoes['bairro'].value_counts()"
      ],
      "execution_count": 237,
      "outputs": [
        {
          "output_type": "execute_result",
          "data": {
            "text/plain": [
              "Jardim Cidade Universitária I    32\n",
              "CIDADE UNIVERSITARIA             22\n",
              "Jardim Cidade Universitaria I     7\n",
              "Jardim Paulista                   7\n",
              "JD. PAULISTA                      6\n",
              "Jardim Morro Azul                 3\n",
              "Chacara Antonieta                 2\n",
              "Jardim São Paulo                  1\n",
              "Name: bairro, dtype: int64"
            ]
          },
          "metadata": {},
          "execution_count": 237
        }
      ]
    },
    {
      "cell_type": "code",
      "metadata": {
        "colab": {
          "base_uri": "https://localhost:8080/",
          "height": 445
        },
        "id": "i0J7-pgZ0Ui3",
        "outputId": "54d9f14e-5a46-46a7-feac-df5b8269e15f"
      },
      "source": [
        "plt.figure(figsize=(10, 6))\n",
        "sns.barplot(x=df_acomodacoes['bairro'].value_counts().index, y=df_acomodacoes['bairro'].value_counts())\n",
        "plt.xticks(rotation=30)\n",
        "plt.show()"
      ],
      "execution_count": 238,
      "outputs": [
        {
          "output_type": "display_data",
          "data": {
            "image/png": "[encoded data removed]",
            "text/plain": [
              "<Figure size 720x432 with 1 Axes>"
            ]
          },
          "metadata": {
            "needs_background": "light"
          }
        }
      ]
    },
    {
      "cell_type": "code",
      "metadata": {
        "colab": {
          "base_uri": "https://localhost:8080/"
        },
        "id": "ENkWF7ry00K7",
        "outputId": "957caa53-35ef-4e6e-a386-f9d5162d3f1a"
      },
      "source": [
        "bairro_map = {\n",
        "    'Jardim Cidade Universitária I': 'JD. Cidade Universitária I',\n",
        "    'CIDADE UNIVERSITARIA': 'JD. Cidade Universitária I',\n",
        "    'Jardim Cidade Universitaria I': 'JD. Cidade Universitária I',\n",
        "    'Jardim Paulista': 'JD. Paulista',\n",
        "    'JD. PAULISTA': 'JD. Paulista',\n",
        "    'Jardim Morro Azul': 'JD. Morro Azul',\n",
        "    'Chacara Antonieta': 'Chácara Antonieta',\n",
        "    'Jardim São Paulo': 'JD. São Paulo'\n",
        "}\n",
        "\n",
        "df_acomodacoes['bairro'] = df_acomodacoes['bairro'].map(bairro_map)\n",
        "print(df_acomodacoes.shape)\n",
        "df_acomodacoes['bairro'].unique()"
      ],
      "execution_count": 239,
      "outputs": [
        {
          "output_type": "stream",
          "name": "stdout",
          "text": [
            "(80, 12)\n"
          ]
        },
        {
          "output_type": "execute_result",
          "data": {
            "text/plain": [
              "array(['JD. Cidade Universitária I', 'JD. Paulista', 'JD. São Paulo',\n",
              "       'JD. Morro Azul', 'Chácara Antonieta'], dtype=object)"
            ]
          },
          "metadata": {},
          "execution_count": 239
        }
      ]
    },
    {
      "cell_type": "code",
      "metadata": {
        "colab": {
          "base_uri": "https://localhost:8080/",
          "height": 436
        },
        "id": "8mMo1Waz19_Q",
        "outputId": "ff7f208e-8baa-489e-cc4f-e3a2f263945a"
      },
      "source": [
        "plt.figure(figsize=(10, 6))\n",
        "sns.barplot(x=df_acomodacoes['bairro'].value_counts().index, y=df_acomodacoes['bairro'].value_counts())\n",
        "plt.xticks(rotation=30)\n",
        "plt.show()"
      ],
      "execution_count": 240,
      "outputs": [
        {
          "output_type": "display_data",
          "data": {
            "image/png": "[encoded data removed]",
            "text/plain": [
              "<Figure size 720x432 with 1 Axes>"
            ]
          },
          "metadata": {
            "needs_background": "light"
          }
        }
      ]
    },
    {
      "cell_type": "markdown",
      "metadata": {
        "id": "0owhWGD46NUg"
      },
      "source": [
        "Importando dados dos bairros eleitos"
      ]
    },
    {
      "cell_type": "code",
      "metadata": {
        "colab": {
          "resources": {
            "http://localhost:8080/nbextensions/google.colab/files.js": {
              "data": "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",
              "ok": true,
              "headers": [
                [
                  "content-type",
                  "application/javascript"
                ]
              ],
              "status": 200,
              "status_text": "OK"
            }
          },
          "base_uri": "https://localhost:8080/",
          "height": 75
        },
        "id": "OwdD_r-D2Xdl",
        "outputId": "8de0e4df-54a1-461e-f103-4cecdf96ee40"
      },
      "source": [
        "bairros_eleitos_file = files.upload()"
      ],
      "execution_count": 241,
      "outputs": [
        {
          "output_type": "display_data",
          "data": {
            "text/html": [
              "\n",
              "     <input type=\"file\" id=\"files-db086ea3-6cf0-492e-8277-d1b791c97bf4\" name=\"files[]\" multiple disabled\n",
              "        style=\"border:none\" />\n",
              "     <output id=\"result-db086ea3-6cf0-492e-8277-d1b791c97bf4\">\n",
              "      Upload widget is only available when the cell has been executed in the\n",
              "      current browser session. Please rerun this cell to enable.\n",
              "      </output>\n",
              "      <script src=\"/nbextensions/google.colab/files.js\"></script> "
            ],
            "text/plain": [
              "<IPython.core.display.HTML object>"
            ]
          },
          "metadata": {}
        },
        {
          "output_type": "stream",
          "name": "stdout",
          "text": [
            "Saving bairros_eleitos.csv to bairros_eleitos (1).csv\n"
          ]
        }
      ]
    },
    {
      "cell_type": "code",
      "metadata": {
        "colab": {
          "base_uri": "https://localhost:8080/",
          "height": 865
        },
        "id": "rJ7aKlOp2dvu",
        "outputId": "dc15ba11-15bf-48f9-aded-7925035f42e7"
      },
      "source": [
        "df_bairros = pd.read_csv('bairros_eleitos.csv')\n",
        "df_bairros = df_bairros.drop(columns=['lat', 'lon'])\n",
        "df_bairros"
      ],
      "execution_count": 242,
      "outputs": [
        {
          "output_type": "execute_result",
          "data": {
            "text/html": [
              "<div>\n",
              "<style scoped>\n",
              "    .dataframe tbody tr th:only-of-type {\n",
              "        vertical-align: middle;\n",
              "    }\n",
              "\n",
              "    .dataframe tbody tr th {\n",
              "        vertical-align: top;\n",
              "    }\n",
              "\n",
              "    .dataframe thead th {\n",
              "        text-align: right;\n",
              "    }\n",
              "</style>\n",
              "<table border=\"1\" class=\"dataframe\">\n",
              "  <thead>\n",
              "    <tr style=\"text-align: right;\">\n",
              "      <th></th>\n",
              "      <th>bairro</th>\n",
              "      <th>dist</th>\n",
              "    </tr>\n",
              "  </thead>\n",
              "  <tbody>\n",
              "    <tr>\n",
              "      <th>0</th>\n",
              "      <td>jardim aquarius</td>\n",
              "      <td>1.467927</td>\n",
              "    </tr>\n",
              "    <tr>\n",
              "      <th>1</th>\n",
              "      <td>parque centreville</td>\n",
              "      <td>1.158567</td>\n",
              "    </tr>\n",
              "    <tr>\n",
              "      <th>2</th>\n",
              "      <td>parque sao bento</td>\n",
              "      <td>1.258614</td>\n",
              "    </tr>\n",
              "    <tr>\n",
              "      <th>3</th>\n",
              "      <td>vila mathias</td>\n",
              "      <td>1.425913</td>\n",
              "    </tr>\n",
              "    <tr>\n",
              "      <th>4</th>\n",
              "      <td>vila sao joao</td>\n",
              "      <td>1.366778</td>\n",
              "    </tr>\n",
              "    <tr>\n",
              "      <th>5</th>\n",
              "      <td>jardim nossa sra. de fatima</td>\n",
              "      <td>0.466497</td>\n",
              "    </tr>\n",
              "    <tr>\n",
              "      <th>6</th>\n",
              "      <td>jardim santa fe</td>\n",
              "      <td>0.438750</td>\n",
              "    </tr>\n",
              "    <tr>\n",
              "      <th>7</th>\n",
              "      <td>cidade universitaria</td>\n",
              "      <td>1.385428</td>\n",
              "    </tr>\n",
              "    <tr>\n",
              "      <th>8</th>\n",
              "      <td>jardim perola</td>\n",
              "      <td>1.451089</td>\n",
              "    </tr>\n",
              "    <tr>\n",
              "      <th>9</th>\n",
              "      <td>jardim esmeralda</td>\n",
              "      <td>1.196814</td>\n",
              "    </tr>\n",
              "    <tr>\n",
              "      <th>10</th>\n",
              "      <td>jardim morro azul</td>\n",
              "      <td>0.750764</td>\n",
              "    </tr>\n",
              "    <tr>\n",
              "      <th>11</th>\n",
              "      <td>jardim paulista</td>\n",
              "      <td>0.447600</td>\n",
              "    </tr>\n",
              "    <tr>\n",
              "      <th>12</th>\n",
              "      <td>jardim nova italia</td>\n",
              "      <td>0.389478</td>\n",
              "    </tr>\n",
              "    <tr>\n",
              "      <th>13</th>\n",
              "      <td>Jardim Nossa Senhora do Amparo</td>\n",
              "      <td>0.931768</td>\n",
              "    </tr>\n",
              "    <tr>\n",
              "      <th>14</th>\n",
              "      <td>Jardim Santa Cecília</td>\n",
              "      <td>1.480474</td>\n",
              "    </tr>\n",
              "    <tr>\n",
              "      <th>15</th>\n",
              "      <td>Vila Santa Josefa</td>\n",
              "      <td>0.888707</td>\n",
              "    </tr>\n",
              "    <tr>\n",
              "      <th>16</th>\n",
              "      <td>vila anita</td>\n",
              "      <td>1.508559</td>\n",
              "    </tr>\n",
              "    <tr>\n",
              "      <th>17</th>\n",
              "      <td>vila santa rosalia</td>\n",
              "      <td>2.429568</td>\n",
              "    </tr>\n",
              "    <tr>\n",
              "      <th>18</th>\n",
              "      <td>Centro</td>\n",
              "      <td>2.134072</td>\n",
              "    </tr>\n",
              "    <tr>\n",
              "      <th>19</th>\n",
              "      <td>Chácara Antonieta</td>\n",
              "      <td>1.502339</td>\n",
              "    </tr>\n",
              "    <tr>\n",
              "      <th>20</th>\n",
              "      <td>Jardim Maria Flora</td>\n",
              "      <td>3.432218</td>\n",
              "    </tr>\n",
              "    <tr>\n",
              "      <th>21</th>\n",
              "      <td>Jardim Mediterrâneo</td>\n",
              "      <td>1.926653</td>\n",
              "    </tr>\n",
              "    <tr>\n",
              "      <th>22</th>\n",
              "      <td>Jardim Mercedes</td>\n",
              "      <td>2.325004</td>\n",
              "    </tr>\n",
              "    <tr>\n",
              "      <th>23</th>\n",
              "      <td>Vila Cláudia</td>\n",
              "      <td>3.246188</td>\n",
              "    </tr>\n",
              "    <tr>\n",
              "      <th>24</th>\n",
              "      <td>Vila Cristovam</td>\n",
              "      <td>2.476853</td>\n",
              "    </tr>\n",
              "    <tr>\n",
              "      <th>25</th>\n",
              "      <td>Vila Santa Lina</td>\n",
              "      <td>2.790540</td>\n",
              "    </tr>\n",
              "  </tbody>\n",
              "</table>\n",
              "</div>"
            ],
            "text/plain": [
              "                            bairro      dist\n",
              "0                  jardim aquarius  1.467927\n",
              "1               parque centreville  1.158567\n",
              "2                 parque sao bento  1.258614\n",
              "3                     vila mathias  1.425913\n",
              "4                    vila sao joao  1.366778\n",
              "5      jardim nossa sra. de fatima  0.466497\n",
              "6                  jardim santa fe  0.438750\n",
              "7             cidade universitaria  1.385428\n",
              "8                    jardim perola  1.451089\n",
              "9                 jardim esmeralda  1.196814\n",
              "10               jardim morro azul  0.750764\n",
              "11                 jardim paulista  0.447600\n",
              "12              jardim nova italia  0.389478\n",
              "13  Jardim Nossa Senhora do Amparo  0.931768\n",
              "14            Jardim Santa Cecília  1.480474\n",
              "15               Vila Santa Josefa  0.888707\n",
              "16                      vila anita  1.508559\n",
              "17              vila santa rosalia  2.429568\n",
              "18                          Centro  2.134072\n",
              "19               Chácara Antonieta  1.502339\n",
              "20              Jardim Maria Flora  3.432218\n",
              "21             Jardim Mediterrâneo  1.926653\n",
              "22                 Jardim Mercedes  2.325004\n",
              "23                    Vila Cláudia  3.246188\n",
              "24                  Vila Cristovam  2.476853\n",
              "25                 Vila Santa Lina  2.790540"
            ]
          },
          "metadata": {},
          "execution_count": 242
        }
      ]
    },
    {
      "cell_type": "code",
      "metadata": {
        "colab": {
          "base_uri": "https://localhost:8080/",
          "height": 175
        },
        "id": "e-52lDvW3JMy",
        "outputId": "ae0d542d-cd5d-4089-dd27-6add4b245edc"
      },
      "source": [
        "df_bairros = df_bairros.iloc[[7, 11, 10, 19],:]\n",
        "df_bairros = df_bairros.sort_values(by='dist').reset_index(drop=True)\n",
        "df_bairros.head()"
      ],
      "execution_count": 243,
      "outputs": [
        {
          "output_type": "execute_result",
          "data": {
            "text/html": [
              "<div>\n",
              "<style scoped>\n",
              "    .dataframe tbody tr th:only-of-type {\n",
              "        vertical-align: middle;\n",
              "    }\n",
              "\n",
              "    .dataframe tbody tr th {\n",
              "        vertical-align: top;\n",
              "    }\n",
              "\n",
              "    .dataframe thead th {\n",
              "        text-align: right;\n",
              "    }\n",
              "</style>\n",
              "<table border=\"1\" class=\"dataframe\">\n",
              "  <thead>\n",
              "    <tr style=\"text-align: right;\">\n",
              "      <th></th>\n",
              "      <th>bairro</th>\n",
              "      <th>dist</th>\n",
              "    </tr>\n",
              "  </thead>\n",
              "  <tbody>\n",
              "    <tr>\n",
              "      <th>0</th>\n",
              "      <td>jardim paulista</td>\n",
              "      <td>0.447600</td>\n",
              "    </tr>\n",
              "    <tr>\n",
              "      <th>1</th>\n",
              "      <td>jardim morro azul</td>\n",
              "      <td>0.750764</td>\n",
              "    </tr>\n",
              "    <tr>\n",
              "      <th>2</th>\n",
              "      <td>cidade universitaria</td>\n",
              "      <td>1.385428</td>\n",
              "    </tr>\n",
              "    <tr>\n",
              "      <th>3</th>\n",
              "      <td>Chácara Antonieta</td>\n",
              "      <td>1.502339</td>\n",
              "    </tr>\n",
              "  </tbody>\n",
              "</table>\n",
              "</div>"
            ],
            "text/plain": [
              "                 bairro      dist\n",
              "0       jardim paulista  0.447600\n",
              "1     jardim morro azul  0.750764\n",
              "2  cidade universitaria  1.385428\n",
              "3     Chácara Antonieta  1.502339"
            ]
          },
          "metadata": {},
          "execution_count": 243
        }
      ]
    },
    {
      "cell_type": "code",
      "metadata": {
        "colab": {
          "base_uri": "https://localhost:8080/"
        },
        "id": "suHyi9VX39fW",
        "outputId": "3f91f56d-c04e-4664-828f-b4c0a2ec937f"
      },
      "source": [
        "dists_unicamp = []\n",
        "\n",
        "for bairro in df_acomodacoes['bairro']:\n",
        "  if bairro == 'JD. Cidade Universitária I':\n",
        "    dists_unicamp.append(df_bairros.loc[2, 'dist'])\n",
        "  elif bairro == 'JD. Paulista':\n",
        "    dists_unicamp.append(df_bairros.loc[0, 'dist'])\n",
        "  elif bairro == 'JD. Morro Azul':\n",
        "    dists_unicamp.append(df_bairros.loc[1, 'dist'])\n",
        "  elif bairro == 'Chácara Antonieta':\n",
        "    dists_unicamp.append(df_bairros.loc[3, 'dist'])\n",
        "  elif bairro == 'JD. São Paulo':\n",
        "    dists_unicamp.append(np.nan)\n",
        "dists_unicamp"
      ],
      "execution_count": 244,
      "outputs": [
        {
          "output_type": "execute_result",
          "data": {
            "text/plain": [
              "[1.3854276880650611,\n",
              " 1.3854276880650611,\n",
              " 1.3854276880650611,\n",
              " 1.3854276880650611,\n",
              " 1.3854276880650611,\n",
              " 1.3854276880650611,\n",
              " 1.3854276880650611,\n",
              " 1.3854276880650611,\n",
              " 1.3854276880650611,\n",
              " 1.3854276880650611,\n",
              " 1.3854276880650611,\n",
              " 1.3854276880650611,\n",
              " 1.3854276880650611,\n",
              " 1.3854276880650611,\n",
              " 1.3854276880650611,\n",
              " 1.3854276880650611,\n",
              " 1.3854276880650611,\n",
              " 1.3854276880650611,\n",
              " 1.3854276880650611,\n",
              " 1.3854276880650611,\n",
              " 0.4476004851487637,\n",
              " 0.4476004851487637,\n",
              " 0.4476004851487637,\n",
              " 0.4476004851487637,\n",
              " 0.4476004851487637,\n",
              " 1.3854276880650611,\n",
              " 1.3854276880650611,\n",
              " 0.4476004851487637,\n",
              " 0.4476004851487637,\n",
              " 1.3854276880650611,\n",
              " 1.3854276880650611,\n",
              " 1.3854276880650611,\n",
              " 1.3854276880650611,\n",
              " 1.3854276880650611,\n",
              " 1.3854276880650611,\n",
              " 1.3854276880650611,\n",
              " 1.3854276880650611,\n",
              " 1.3854276880650611,\n",
              " 1.3854276880650611,\n",
              " 1.3854276880650611,\n",
              " 1.3854276880650611,\n",
              " 1.3854276880650611,\n",
              " 1.3854276880650611,\n",
              " 1.3854276880650611,\n",
              " 1.3854276880650611,\n",
              " 1.3854276880650611,\n",
              " 1.3854276880650611,\n",
              " 1.3854276880650611,\n",
              " 1.3854276880650611,\n",
              " 1.3854276880650611,\n",
              " 1.3854276880650611,\n",
              " 0.4476004851487637,\n",
              " 0.4476004851487637,\n",
              " 0.4476004851487637,\n",
              " 0.4476004851487637,\n",
              " 0.4476004851487637,\n",
              " 0.4476004851487637,\n",
              " 1.3854276880650611,\n",
              " 1.3854276880650611,\n",
              " 1.3854276880650611,\n",
              " 1.3854276880650611,\n",
              " 1.3854276880650611,\n",
              " 1.3854276880650611,\n",
              " 1.3854276880650611,\n",
              " 1.3854276880650611,\n",
              " nan,\n",
              " 0.7507639025607419,\n",
              " 1.3854276880650611,\n",
              " 0.7507639025607419,\n",
              " 0.7507639025607419,\n",
              " 1.3854276880650611,\n",
              " 1.3854276880650611,\n",
              " 1.3854276880650611,\n",
              " 1.3854276880650611,\n",
              " 1.3854276880650611,\n",
              " 1.5023394363777396,\n",
              " 1.5023394363777396,\n",
              " 1.3854276880650611,\n",
              " 1.3854276880650611,\n",
              " 1.3854276880650611]"
            ]
          },
          "metadata": {},
          "execution_count": 244
        }
      ]
    },
    {
      "cell_type": "code",
      "metadata": {
        "colab": {
          "base_uri": "https://localhost:8080/",
          "height": 225
        },
        "id": "A9ILpnhG4v5r",
        "outputId": "143f5732-53da-4969-e63a-6c05a267ceed"
      },
      "source": [
        "df_acomodacoes['dist_unicamp'] = dists_unicamp\n",
        "print(df_acomodacoes.shape)\n",
        "df_acomodacoes.sample(5)"
      ],
      "execution_count": 245,
      "outputs": [
        {
          "output_type": "stream",
          "name": "stdout",
          "text": [
            "(80, 13)\n"
          ]
        },
        {
          "output_type": "execute_result",
          "data": {
            "text/html": [
              "<div>\n",
              "<style scoped>\n",
              "    .dataframe tbody tr th:only-of-type {\n",
              "        vertical-align: middle;\n",
              "    }\n",
              "\n",
              "    .dataframe tbody tr th {\n",
              "        vertical-align: top;\n",
              "    }\n",
              "\n",
              "    .dataframe thead th {\n",
              "        text-align: right;\n",
              "    }\n",
              "</style>\n",
              "<table border=\"1\" class=\"dataframe\">\n",
              "  <thead>\n",
              "    <tr style=\"text-align: right;\">\n",
              "      <th></th>\n",
              "      <th>imob</th>\n",
              "      <th>codigo</th>\n",
              "      <th>bairro</th>\n",
              "      <th>aluguel</th>\n",
              "      <th>condominio</th>\n",
              "      <th>area</th>\n",
              "      <th>quartos</th>\n",
              "      <th>banheiros</th>\n",
              "      <th>vaga_garagem</th>\n",
              "      <th>descricao</th>\n",
              "      <th>total</th>\n",
              "      <th>preco_m2</th>\n",
              "      <th>dist_unicamp</th>\n",
              "    </tr>\n",
              "  </thead>\n",
              "  <tbody>\n",
              "    <tr>\n",
              "      <th>67</th>\n",
              "      <td>B</td>\n",
              "      <td>af6492af6c80fea75bafc9c5d3464970</td>\n",
              "      <td>JD. Cidade Universitária I</td>\n",
              "      <td>700.0</td>\n",
              "      <td>0.0</td>\n",
              "      <td>NaN</td>\n",
              "      <td>1</td>\n",
              "      <td>1</td>\n",
              "      <td>NaN</td>\n",
              "      <td>Apto com micro-ondas geladeira e fogão elétric...</td>\n",
              "      <td>700.0</td>\n",
              "      <td>NaN</td>\n",
              "      <td>1.385428</td>\n",
              "    </tr>\n",
              "    <tr>\n",
              "      <th>3</th>\n",
              "      <td>C</td>\n",
              "      <td>2d7097bf091516c6952950802bd49019</td>\n",
              "      <td>JD. Cidade Universitária I</td>\n",
              "      <td>1000.0</td>\n",
              "      <td>0.0</td>\n",
              "      <td>35.0</td>\n",
              "      <td>1</td>\n",
              "      <td>1</td>\n",
              "      <td>NaN</td>\n",
              "      <td>Kitnet próxima à Unicamp (FCA) contendo quarto...</td>\n",
              "      <td>1000.0</td>\n",
              "      <td>28.571429</td>\n",
              "      <td>1.385428</td>\n",
              "    </tr>\n",
              "    <tr>\n",
              "      <th>69</th>\n",
              "      <td>B</td>\n",
              "      <td>39a6db2728600ac4a1ef144ab6635476</td>\n",
              "      <td>JD. Morro Azul</td>\n",
              "      <td>500.0</td>\n",
              "      <td>0.0</td>\n",
              "      <td>NaN</td>\n",
              "      <td>1</td>\n",
              "      <td>1</td>\n",
              "      <td>NaN</td>\n",
              "      <td>Kitnet com 1 dormitório, 1 cozinha e 1 banheir...</td>\n",
              "      <td>500.0</td>\n",
              "      <td>NaN</td>\n",
              "      <td>0.750764</td>\n",
              "    </tr>\n",
              "    <tr>\n",
              "      <th>48</th>\n",
              "      <td>B</td>\n",
              "      <td>941707c7ec03960821a488b2754bd59a</td>\n",
              "      <td>JD. Cidade Universitária I</td>\n",
              "      <td>1000.0</td>\n",
              "      <td>0.0</td>\n",
              "      <td>NaN</td>\n",
              "      <td>1</td>\n",
              "      <td>1</td>\n",
              "      <td>NaN</td>\n",
              "      <td>Imóvel muito bem localizado Conta com sala  e ...</td>\n",
              "      <td>1000.0</td>\n",
              "      <td>NaN</td>\n",
              "      <td>1.385428</td>\n",
              "    </tr>\n",
              "    <tr>\n",
              "      <th>60</th>\n",
              "      <td>B</td>\n",
              "      <td>c3ff9f70c3bdd79c59d6a641c3d2eabc</td>\n",
              "      <td>JD. Cidade Universitária I</td>\n",
              "      <td>850.0</td>\n",
              "      <td>0.0</td>\n",
              "      <td>NaN</td>\n",
              "      <td>1</td>\n",
              "      <td>1</td>\n",
              "      <td>NaN</td>\n",
              "      <td>Kitnet localizada na Cidade Universitária próx...</td>\n",
              "      <td>850.0</td>\n",
              "      <td>NaN</td>\n",
              "      <td>1.385428</td>\n",
              "    </tr>\n",
              "  </tbody>\n",
              "</table>\n",
              "</div>"
            ],
            "text/plain": [
              "   imob                            codigo  ...   preco_m2  dist_unicamp\n",
              "67    B  af6492af6c80fea75bafc9c5d3464970  ...        NaN      1.385428\n",
              "3     C  2d7097bf091516c6952950802bd49019  ...  28.571429      1.385428\n",
              "69    B  39a6db2728600ac4a1ef144ab6635476  ...        NaN      0.750764\n",
              "48    B  941707c7ec03960821a488b2754bd59a  ...        NaN      1.385428\n",
              "60    B  c3ff9f70c3bdd79c59d6a641c3d2eabc  ...        NaN      1.385428\n",
              "\n",
              "[5 rows x 13 columns]"
            ]
          },
          "metadata": {},
          "execution_count": 245
        }
      ]
    },
    {
      "cell_type": "code",
      "metadata": {
        "colab": {
          "base_uri": "https://localhost:8080/"
        },
        "id": "PQr9khR9DB69",
        "outputId": "0b7b9a3e-820b-4f67-dd34-9beb9c05fa11"
      },
      "source": [
        "df_acomodacoes = df_acomodacoes[df_acomodacoes['aluguel'].notna()]\n",
        "df_acomodacoes['vaga_garagem'] = df_acomodacoes['vaga_garagem'].fillna(0)\n",
        "df_acomodacoes.isnull().sum()"
      ],
      "execution_count": 246,
      "outputs": [
        {
          "output_type": "stream",
          "name": "stderr",
          "text": [
            "/usr/local/lib/python3.7/dist-packages/ipykernel_launcher.py:2: SettingWithCopyWarning: \n",
            "A value is trying to be set on a copy of a slice from a DataFrame.\n",
            "Try using .loc[row_indexer,col_indexer] = value instead\n",
            "\n",
            "See the caveats in the documentation: https://pandas.pydata.org/pandas-docs/stable/user_guide/indexing.html#returning-a-view-versus-a-copy\n",
            "  \n"
          ]
        },
        {
          "output_type": "execute_result",
          "data": {
            "text/plain": [
              "imob             0\n",
              "codigo           0\n",
              "bairro           0\n",
              "aluguel          0\n",
              "condominio       0\n",
              "area            45\n",
              "quartos          0\n",
              "banheiros        0\n",
              "vaga_garagem     0\n",
              "descricao        0\n",
              "total            0\n",
              "preco_m2        45\n",
              "dist_unicamp     1\n",
              "dtype: int64"
            ]
          },
          "metadata": {},
          "execution_count": 246
        }
      ]
    },
    {
      "cell_type": "code",
      "metadata": {
        "colab": {
          "base_uri": "https://localhost:8080/"
        },
        "id": "AmWMks7l5Gyv",
        "outputId": "f8c4ec6b-4475-44ae-f28a-375d43fb22fd"
      },
      "source": [
        "df_acomodacoes.info()"
      ],
      "execution_count": 247,
      "outputs": [
        {
          "output_type": "stream",
          "name": "stdout",
          "text": [
            "<class 'pandas.core.frame.DataFrame'>\n",
            "Int64Index: 79 entries, 0 to 79\n",
            "Data columns (total 13 columns):\n",
            " #   Column        Non-Null Count  Dtype  \n",
            "---  ------        --------------  -----  \n",
            " 0   imob          79 non-null     object \n",
            " 1   codigo        79 non-null     object \n",
            " 2   bairro        79 non-null     object \n",
            " 3   aluguel       79 non-null     float64\n",
            " 4   condominio    79 non-null     float64\n",
            " 5   area          34 non-null     float64\n",
            " 6   quartos       79 non-null     int64  \n",
            " 7   banheiros     79 non-null     int64  \n",
            " 8   vaga_garagem  79 non-null     float64\n",
            " 9   descricao     79 non-null     object \n",
            " 10  total         79 non-null     float64\n",
            " 11  preco_m2      34 non-null     float64\n",
            " 12  dist_unicamp  78 non-null     float64\n",
            "dtypes: float64(7), int64(2), object(4)\n",
            "memory usage: 8.6+ KB\n"
          ]
        }
      ]
    },
    {
      "cell_type": "code",
      "metadata": {
        "colab": {
          "base_uri": "https://localhost:8080/",
          "height": 206
        },
        "id": "kIfetGOWECLI",
        "outputId": "d012b79a-9851-4d72-d4dd-5110969b2aff"
      },
      "source": [
        "df_acomodacoes.sample(5)"
      ],
      "execution_count": 248,
      "outputs": [
        {
          "output_type": "execute_result",
          "data": {
            "text/html": [
              "<div>\n",
              "<style scoped>\n",
              "    .dataframe tbody tr th:only-of-type {\n",
              "        vertical-align: middle;\n",
              "    }\n",
              "\n",
              "    .dataframe tbody tr th {\n",
              "        vertical-align: top;\n",
              "    }\n",
              "\n",
              "    .dataframe thead th {\n",
              "        text-align: right;\n",
              "    }\n",
              "</style>\n",
              "<table border=\"1\" class=\"dataframe\">\n",
              "  <thead>\n",
              "    <tr style=\"text-align: right;\">\n",
              "      <th></th>\n",
              "      <th>imob</th>\n",
              "      <th>codigo</th>\n",
              "      <th>bairro</th>\n",
              "      <th>aluguel</th>\n",
              "      <th>condominio</th>\n",
              "      <th>area</th>\n",
              "      <th>quartos</th>\n",
              "      <th>banheiros</th>\n",
              "      <th>vaga_garagem</th>\n",
              "      <th>descricao</th>\n",
              "      <th>total</th>\n",
              "      <th>preco_m2</th>\n",
              "      <th>dist_unicamp</th>\n",
              "    </tr>\n",
              "  </thead>\n",
              "  <tbody>\n",
              "    <tr>\n",
              "      <th>79</th>\n",
              "      <td>A</td>\n",
              "      <td>4cc0e019beccf19b1e1182b9e896f089</td>\n",
              "      <td>JD. Cidade Universitária I</td>\n",
              "      <td>1000.0</td>\n",
              "      <td>0.0</td>\n",
              "      <td>NaN</td>\n",
              "      <td>1</td>\n",
              "      <td>1</td>\n",
              "      <td>0.0</td>\n",
              "      <td>1 QUARTO COM ARMÁRIO E AR CONDICIONADO;1 SALA ...</td>\n",
              "      <td>1000.0</td>\n",
              "      <td>NaN</td>\n",
              "      <td>1.385428</td>\n",
              "    </tr>\n",
              "    <tr>\n",
              "      <th>47</th>\n",
              "      <td>B</td>\n",
              "      <td>475644c10a484e1b4248c595e8b15d78</td>\n",
              "      <td>JD. Cidade Universitária I</td>\n",
              "      <td>1000.0</td>\n",
              "      <td>0.0</td>\n",
              "      <td>NaN</td>\n",
              "      <td>1</td>\n",
              "      <td>1</td>\n",
              "      <td>0.0</td>\n",
              "      <td>Imóvel muito bem localizado! Conta com sala  e...</td>\n",
              "      <td>1000.0</td>\n",
              "      <td>NaN</td>\n",
              "      <td>1.385428</td>\n",
              "    </tr>\n",
              "    <tr>\n",
              "      <th>73</th>\n",
              "      <td>A</td>\n",
              "      <td>f773fe72ae9c3ae06183ea91d181347a</td>\n",
              "      <td>JD. Cidade Universitária I</td>\n",
              "      <td>800.0</td>\n",
              "      <td>80.0</td>\n",
              "      <td>20.0</td>\n",
              "      <td>1</td>\n",
              "      <td>1</td>\n",
              "      <td>0.0</td>\n",
              "      <td>COZINHA COM GELADEIRA COM DISPENSER NA PORTA, ...</td>\n",
              "      <td>880.0</td>\n",
              "      <td>44.0</td>\n",
              "      <td>1.385428</td>\n",
              "    </tr>\n",
              "    <tr>\n",
              "      <th>28</th>\n",
              "      <td>B</td>\n",
              "      <td>8ea6bceec892ab9d2467eb912385a1a9</td>\n",
              "      <td>JD. Paulista</td>\n",
              "      <td>1000.0</td>\n",
              "      <td>0.0</td>\n",
              "      <td>NaN</td>\n",
              "      <td>1</td>\n",
              "      <td>1</td>\n",
              "      <td>0.0</td>\n",
              "      <td>Kitnet com um dormitório, banheiro, cozinha, á...</td>\n",
              "      <td>1000.0</td>\n",
              "      <td>NaN</td>\n",
              "      <td>0.447600</td>\n",
              "    </tr>\n",
              "    <tr>\n",
              "      <th>65</th>\n",
              "      <td>B</td>\n",
              "      <td>907f7fdcc12a82eadaec78ffa35e4708</td>\n",
              "      <td>JD. São Paulo</td>\n",
              "      <td>780.0</td>\n",
              "      <td>0.0</td>\n",
              "      <td>50.0</td>\n",
              "      <td>1</td>\n",
              "      <td>1</td>\n",
              "      <td>0.0</td>\n",
              "      <td>Kitnet com 01 dormitório, 01 banheiro.</td>\n",
              "      <td>780.0</td>\n",
              "      <td>15.6</td>\n",
              "      <td>NaN</td>\n",
              "    </tr>\n",
              "  </tbody>\n",
              "</table>\n",
              "</div>"
            ],
            "text/plain": [
              "   imob                            codigo  ... preco_m2  dist_unicamp\n",
              "79    A  4cc0e019beccf19b1e1182b9e896f089  ...      NaN      1.385428\n",
              "47    B  475644c10a484e1b4248c595e8b15d78  ...      NaN      1.385428\n",
              "73    A  f773fe72ae9c3ae06183ea91d181347a  ...     44.0      1.385428\n",
              "28    B  8ea6bceec892ab9d2467eb912385a1a9  ...      NaN      0.447600\n",
              "65    B  907f7fdcc12a82eadaec78ffa35e4708  ...     15.6           NaN\n",
              "\n",
              "[5 rows x 13 columns]"
            ]
          },
          "metadata": {},
          "execution_count": 248
        }
      ]
    },
    {
      "cell_type": "code",
      "metadata": {
        "colab": {
          "base_uri": "https://localhost:8080/",
          "height": 17
        },
        "id": "34saboHnGWj8",
        "outputId": "f81c6bd1-3c68-45af-9978-9e71a1b796d1"
      },
      "source": [
        "df_acomodacoes.to_csv('acomodacoes_hashcode_clean.csv', index=False)\n",
        "files.download('acomodacoes_hashcode_clean.csv')"
      ],
      "execution_count": 594,
      "outputs": [
        {
          "output_type": "display_data",
          "data": {
            "application/javascript": [
              "\n",
              "    async function download(id, filename, size) {\n",
              "      if (!google.colab.kernel.accessAllowed) {\n",
              "        return;\n",
              "      }\n",
              "      const div = document.createElement('div');\n",
              "      const label = document.createElement('label');\n",
              "      label.textContent = `Downloading \"${filename}\": `;\n",
              "      div.appendChild(label);\n",
              "      const progress = document.createElement('progress');\n",
              "      progress.max = size;\n",
              "      div.appendChild(progress);\n",
              "      document.body.appendChild(div);\n",
              "\n",
              "      const buffers = [];\n",
              "      let downloaded = 0;\n",
              "\n",
              "      const channel = await google.colab.kernel.comms.open(id);\n",
              "      // Send a message to notify the kernel that we're ready.\n",
              "      channel.send({})\n",
              "\n",
              "      for await (const message of channel.messages) {\n",
              "        // Send a message to notify the kernel that we're ready.\n",
              "        channel.send({})\n",
              "        if (message.buffers) {\n",
              "          for (const buffer of message.buffers) {\n",
              "            buffers.push(buffer);\n",
              "            downloaded += buffer.byteLength;\n",
              "            progress.value = downloaded;\n",
              "          }\n",
              "        }\n",
              "      }\n",
              "      const blob = new Blob(buffers, {type: 'application/binary'});\n",
              "      const a = document.createElement('a');\n",
              "      a.href = window.URL.createObjectURL(blob);\n",
              "      a.download = filename;\n",
              "      div.appendChild(a);\n",
              "      a.click();\n",
              "      div.remove();\n",
              "    }\n",
              "  "
            ],
            "text/plain": [
              "<IPython.core.display.Javascript object>"
            ]
          },
          "metadata": {}
        },
        {
          "output_type": "display_data",
          "data": {
            "application/javascript": [
              "download(\"download_860b0e2f-c565-4f96-96d7-f681aae00a66\", \"acomodacoes_hashcode_clean.csv\", 44572)"
            ],
            "text/plain": [
              "<IPython.core.display.Javascript object>"
            ]
          },
          "metadata": {}
        }
      ]
    },
    {
      "cell_type": "markdown",
      "metadata": {
        "id": "xK7Wzzwt5Af3"
      },
      "source": [
        "### Análise"
      ]
    },
    {
      "cell_type": "code",
      "metadata": {
        "colab": {
          "base_uri": "https://localhost:8080/",
          "height": 328
        },
        "id": "Eo2oD2dT5lew",
        "outputId": "1334ccdf-92f0-4e31-b87a-d8cf3b4b262f"
      },
      "source": [
        "sns.barplot(x='bairro', y='dist', data=df_bairros)\n",
        "plt.xticks(rotation=30)\n",
        "plt.show()"
      ],
      "execution_count": 249,
      "outputs": [
        {
          "output_type": "display_data",
          "data": {
            "image/png": "[encoded data removed]",
            "text/plain": [
              "<Figure size 432x288 with 1 Axes>"
            ]
          },
          "metadata": {
            "needs_background": "light"
          }
        }
      ]
    },
    {
      "cell_type": "markdown",
      "metadata": {
        "id": "xI1_c7i8FzWm"
      },
      "source": [
        "#### Distribuições"
      ]
    },
    {
      "cell_type": "code",
      "metadata": {
        "colab": {
          "base_uri": "https://localhost:8080/",
          "height": 334
        },
        "id": "ys_rsLgwpKeB",
        "outputId": "439fba7c-9401-4891-f969-c461e7fe259a"
      },
      "source": [
        "plt.figure(figsize=(8, 5))\n",
        "sns.histplot(data=df_acomodacoes, x=\"aluguel\")\n",
        "plt.show()"
      ],
      "execution_count": 251,
      "outputs": [
        {
          "output_type": "display_data",
          "data": {
            "image/png": "[encoded data removed]",
            "text/plain": [
              "<Figure size 576x360 with 1 Axes>"
            ]
          },
          "metadata": {
            "needs_background": "light"
          }
        }
      ]
    },
    {
      "cell_type": "code",
      "metadata": {
        "colab": {
          "base_uri": "https://localhost:8080/",
          "height": 334
        },
        "id": "OQbKaxljp8Ci",
        "outputId": "6c477beb-4cd4-444d-e370-951ecf972891"
      },
      "source": [
        "plt.figure(figsize=(8, 5))\n",
        "sns.histplot(data=df_acomodacoes, x=\"condominio\")\n",
        "plt.show()"
      ],
      "execution_count": 252,
      "outputs": [
        {
          "output_type": "display_data",
          "data": {
            "image/png": "[encoded data removed]",
            "text/plain": [
              "<Figure size 576x360 with 1 Axes>"
            ]
          },
          "metadata": {
            "needs_background": "light"
          }
        }
      ]
    },
    {
      "cell_type": "code",
      "metadata": {
        "colab": {
          "base_uri": "https://localhost:8080/",
          "height": 334
        },
        "id": "1XiZGZY756Vy",
        "outputId": "cd15aeeb-dced-48c5-8750-63a4608288d1"
      },
      "source": [
        "plt.figure(figsize=(8, 5))\n",
        "sns.histplot(data=df_acomodacoes, x=\"total\")\n",
        "plt.show()"
      ],
      "execution_count": 253,
      "outputs": [
        {
          "output_type": "display_data",
          "data": {
            "image/png": "[encoded data removed]",
            "text/plain": [
              "<Figure size 576x360 with 1 Axes>"
            ]
          },
          "metadata": {
            "needs_background": "light"
          }
        }
      ]
    },
    {
      "cell_type": "code",
      "metadata": {
        "colab": {
          "base_uri": "https://localhost:8080/",
          "height": 335
        },
        "id": "oftmgLgUEdvS",
        "outputId": "7e3cc9bf-c29d-47f6-8af9-b80424f023f5"
      },
      "source": [
        "plt.figure(figsize=(8, 5))\n",
        "sns.histplot(data=df_acomodacoes, x=\"preco_m2\")\n",
        "plt.show()"
      ],
      "execution_count": 255,
      "outputs": [
        {
          "output_type": "display_data",
          "data": {
            "image/png": "[encoded data removed]",
            "text/plain": [
              "<Figure size 576x360 with 1 Axes>"
            ]
          },
          "metadata": {
            "needs_background": "light"
          }
        }
      ]
    },
    {
      "cell_type": "code",
      "metadata": {
        "colab": {
          "base_uri": "https://localhost:8080/",
          "height": 334
        },
        "id": "mHt1ywfbqpFz",
        "outputId": "a16d5e58-65ed-4b61-ed50-d9a9b75678bc"
      },
      "source": [
        "plt.figure(figsize=(8, 5))\n",
        "sns.histplot(data=df_acomodacoes, x=\"area\")\n",
        "plt.show()"
      ],
      "execution_count": 254,
      "outputs": [
        {
          "output_type": "display_data",
          "data": {
            "image/png": "[encoded data removed]",
            "text/plain": [
              "<Figure size 576x360 with 1 Axes>"
            ]
          },
          "metadata": {
            "needs_background": "light"
          }
        }
      ]
    },
    {
      "cell_type": "code",
      "metadata": {
        "colab": {
          "base_uri": "https://localhost:8080/",
          "height": 335
        },
        "id": "duRTrRMXEgXn",
        "outputId": "e7890737-880d-4b24-e4bf-70ee2c48893d"
      },
      "source": [
        "plt.figure(figsize=(8, 5))\n",
        "sns.histplot(data=df_acomodacoes, x=\"dist_unicamp\")\n",
        "plt.show()"
      ],
      "execution_count": 256,
      "outputs": [
        {
          "output_type": "display_data",
          "data": {
            "image/png": "[encoded data removed]",
            "text/plain": [
              "<Figure size 576x360 with 1 Axes>"
            ]
          },
          "metadata": {
            "needs_background": "light"
          }
        }
      ]
    },
    {
      "cell_type": "markdown",
      "metadata": {
        "id": "1237BuINF2C-"
      },
      "source": [
        "#### Correlação"
      ]
    },
    {
      "cell_type": "code",
      "metadata": {
        "colab": {
          "base_uri": "https://localhost:8080/",
          "height": 334
        },
        "id": "K-Ul2TpsqMZ5",
        "outputId": "89d7fa3c-8c03-4e69-ea56-7ecf74a4f7b8"
      },
      "source": [
        "plt.figure(figsize=(8, 5))\n",
        "sns.scatterplot(x='area', y='total', data=df_acomodacoes)\n",
        "plt.show()"
      ],
      "execution_count": 259,
      "outputs": [
        {
          "output_type": "display_data",
          "data": {
            "image/png": "[encoded data removed]",
            "text/plain": [
              "<Figure size 576x360 with 1 Axes>"
            ]
          },
          "metadata": {
            "needs_background": "light"
          }
        }
      ]
    },
    {
      "cell_type": "code",
      "metadata": {
        "colab": {
          "base_uri": "https://localhost:8080/",
          "height": 1000
        },
        "id": "whl08ZOZqfCq",
        "outputId": "abc98ae2-28d6-46bf-a6ac-e845de6b5ca0"
      },
      "source": [
        "sns.pairplot(df_acomodacoes, hue='imob')\n",
        "plt.show()"
      ],
      "execution_count": 219,
      "outputs": [
        {
          "output_type": "display_data",
          "data": {
            "image/png": "[encoded data removed]",
            "text/plain": [
              "<Figure size 1662.88x1620 with 90 Axes>"
            ]
          },
          "metadata": {
            "needs_background": "light"
          }
        }
      ]
    },
    {
      "cell_type": "code",
      "metadata": {
        "colab": {
          "base_uri": "https://localhost:8080/",
          "height": 563
        },
        "id": "JXsdU0SLFNDQ",
        "outputId": "ac2e1ef9-222e-49ad-e52e-27dbbc79b4a8"
      },
      "source": [
        "plt.figure(figsize=(12, 8))\n",
        "sns.heatmap(data=df_acomodacoes.corr(), annot=True, fmt='.2f', cmap='YlGnBu')\n",
        "\n",
        "plt.title('Correlação entre as Colunas')\n",
        "plt.show()"
      ],
      "execution_count": 260,
      "outputs": [
        {
          "output_type": "display_data",
          "data": {
            "image/png": "[encoded data removed]",
            "text/plain": [
              "<Figure size 864x576 with 2 Axes>"
            ]
          },
          "metadata": {
            "needs_background": "light"
          }
        }
      ]
    },
    {
      "cell_type": "code",
      "metadata": {
        "colab": {
          "base_uri": "https://localhost:8080/",
          "height": 175
        },
        "id": "qwCLyqJcGEdB",
        "outputId": "72a6586d-5589-4eb0-dafe-9b6d234b590f"
      },
      "source": [
        "df_acomodacoes.groupby('imob').mean()"
      ],
      "execution_count": 263,
      "outputs": [
        {
          "output_type": "execute_result",
          "data": {
            "text/html": [
              "<div>\n",
              "<style scoped>\n",
              "    .dataframe tbody tr th:only-of-type {\n",
              "        vertical-align: middle;\n",
              "    }\n",
              "\n",
              "    .dataframe tbody tr th {\n",
              "        vertical-align: top;\n",
              "    }\n",
              "\n",
              "    .dataframe thead th {\n",
              "        text-align: right;\n",
              "    }\n",
              "</style>\n",
              "<table border=\"1\" class=\"dataframe\">\n",
              "  <thead>\n",
              "    <tr style=\"text-align: right;\">\n",
              "      <th></th>\n",
              "      <th>aluguel</th>\n",
              "      <th>condominio</th>\n",
              "      <th>area</th>\n",
              "      <th>quartos</th>\n",
              "      <th>banheiros</th>\n",
              "      <th>vaga_garagem</th>\n",
              "      <th>total</th>\n",
              "      <th>preco_m2</th>\n",
              "      <th>dist_unicamp</th>\n",
              "    </tr>\n",
              "    <tr>\n",
              "      <th>imob</th>\n",
              "      <th></th>\n",
              "      <th></th>\n",
              "      <th></th>\n",
              "      <th></th>\n",
              "      <th></th>\n",
              "      <th></th>\n",
              "      <th></th>\n",
              "      <th></th>\n",
              "      <th></th>\n",
              "    </tr>\n",
              "  </thead>\n",
              "  <tbody>\n",
              "    <tr>\n",
              "      <th>A</th>\n",
              "      <td>870.000000</td>\n",
              "      <td>8.888889</td>\n",
              "      <td>23.333333</td>\n",
              "      <td>1</td>\n",
              "      <td>1</td>\n",
              "      <td>0.222222</td>\n",
              "      <td>878.888889</td>\n",
              "      <td>36.611111</td>\n",
              "      <td>1.411408</td>\n",
              "    </tr>\n",
              "    <tr>\n",
              "      <th>B</th>\n",
              "      <td>913.333333</td>\n",
              "      <td>0.000000</td>\n",
              "      <td>78.571429</td>\n",
              "      <td>1</td>\n",
              "      <td>1</td>\n",
              "      <td>0.000000</td>\n",
              "      <td>913.333333</td>\n",
              "      <td>16.342857</td>\n",
              "      <td>1.178872</td>\n",
              "    </tr>\n",
              "    <tr>\n",
              "      <th>C</th>\n",
              "      <td>971.428571</td>\n",
              "      <td>7.142857</td>\n",
              "      <td>29.523810</td>\n",
              "      <td>1</td>\n",
              "      <td>1</td>\n",
              "      <td>0.000000</td>\n",
              "      <td>978.571429</td>\n",
              "      <td>37.184524</td>\n",
              "      <td>1.184465</td>\n",
              "    </tr>\n",
              "  </tbody>\n",
              "</table>\n",
              "</div>"
            ],
            "text/plain": [
              "         aluguel  condominio       area  ...       total   preco_m2  dist_unicamp\n",
              "imob                                     ...                                     \n",
              "A     870.000000    8.888889  23.333333  ...  878.888889  36.611111      1.411408\n",
              "B     913.333333    0.000000  78.571429  ...  913.333333  16.342857      1.178872\n",
              "C     971.428571    7.142857  29.523810  ...  978.571429  37.184524      1.184465\n",
              "\n",
              "[3 rows x 9 columns]"
            ]
          },
          "metadata": {},
          "execution_count": 263
        }
      ]
    },
    {
      "cell_type": "code",
      "metadata": {
        "colab": {
          "base_uri": "https://localhost:8080/",
          "height": 332
        },
        "id": "v47sg2-gKZ1U",
        "outputId": "9e8f3471-1cfb-4cac-d2e7-e1b82e0eccf4"
      },
      "source": [
        "df_acomodacoes.groupby(['imob', 'bairro']).mean()"
      ],
      "execution_count": 275,
      "outputs": [
        {
          "output_type": "execute_result",
          "data": {
            "text/html": [
              "<div>\n",
              "<style scoped>\n",
              "    .dataframe tbody tr th:only-of-type {\n",
              "        vertical-align: middle;\n",
              "    }\n",
              "\n",
              "    .dataframe tbody tr th {\n",
              "        vertical-align: top;\n",
              "    }\n",
              "\n",
              "    .dataframe thead th {\n",
              "        text-align: right;\n",
              "    }\n",
              "</style>\n",
              "<table border=\"1\" class=\"dataframe\">\n",
              "  <thead>\n",
              "    <tr style=\"text-align: right;\">\n",
              "      <th></th>\n",
              "      <th></th>\n",
              "      <th>aluguel</th>\n",
              "      <th>condominio</th>\n",
              "      <th>area</th>\n",
              "      <th>quartos</th>\n",
              "      <th>banheiros</th>\n",
              "      <th>vaga_garagem</th>\n",
              "      <th>total</th>\n",
              "      <th>preco_m2</th>\n",
              "      <th>dist_unicamp</th>\n",
              "    </tr>\n",
              "    <tr>\n",
              "      <th>imob</th>\n",
              "      <th>bairro</th>\n",
              "      <th></th>\n",
              "      <th></th>\n",
              "      <th></th>\n",
              "      <th></th>\n",
              "      <th></th>\n",
              "      <th></th>\n",
              "      <th></th>\n",
              "      <th></th>\n",
              "      <th></th>\n",
              "    </tr>\n",
              "  </thead>\n",
              "  <tbody>\n",
              "    <tr>\n",
              "      <th rowspan=\"2\" valign=\"top\">A</th>\n",
              "      <th>Chácara Antonieta</th>\n",
              "      <td>850.000000</td>\n",
              "      <td>0.000000</td>\n",
              "      <td>30.000000</td>\n",
              "      <td>1</td>\n",
              "      <td>1</td>\n",
              "      <td>0.500000</td>\n",
              "      <td>850.000000</td>\n",
              "      <td>28.333333</td>\n",
              "      <td>1.502339</td>\n",
              "    </tr>\n",
              "    <tr>\n",
              "      <th>JD. Cidade Universitária I</th>\n",
              "      <td>875.714286</td>\n",
              "      <td>11.428571</td>\n",
              "      <td>20.000000</td>\n",
              "      <td>1</td>\n",
              "      <td>1</td>\n",
              "      <td>0.142857</td>\n",
              "      <td>887.142857</td>\n",
              "      <td>40.750000</td>\n",
              "      <td>1.385428</td>\n",
              "    </tr>\n",
              "    <tr>\n",
              "      <th rowspan=\"4\" valign=\"top\">B</th>\n",
              "      <th>JD. Cidade Universitária I</th>\n",
              "      <td>944.516129</td>\n",
              "      <td>0.000000</td>\n",
              "      <td>83.333333</td>\n",
              "      <td>1</td>\n",
              "      <td>1</td>\n",
              "      <td>0.000000</td>\n",
              "      <td>944.516129</td>\n",
              "      <td>16.466667</td>\n",
              "      <td>1.385428</td>\n",
              "    </tr>\n",
              "    <tr>\n",
              "      <th>JD. Morro Azul</th>\n",
              "      <td>633.333333</td>\n",
              "      <td>0.000000</td>\n",
              "      <td>NaN</td>\n",
              "      <td>1</td>\n",
              "      <td>1</td>\n",
              "      <td>0.000000</td>\n",
              "      <td>633.333333</td>\n",
              "      <td>NaN</td>\n",
              "      <td>0.750764</td>\n",
              "    </tr>\n",
              "    <tr>\n",
              "      <th>JD. Paulista</th>\n",
              "      <td>914.285714</td>\n",
              "      <td>0.000000</td>\n",
              "      <td>NaN</td>\n",
              "      <td>1</td>\n",
              "      <td>1</td>\n",
              "      <td>0.000000</td>\n",
              "      <td>914.285714</td>\n",
              "      <td>NaN</td>\n",
              "      <td>0.447600</td>\n",
              "    </tr>\n",
              "    <tr>\n",
              "      <th>JD. São Paulo</th>\n",
              "      <td>780.000000</td>\n",
              "      <td>0.000000</td>\n",
              "      <td>50.000000</td>\n",
              "      <td>1</td>\n",
              "      <td>1</td>\n",
              "      <td>0.000000</td>\n",
              "      <td>780.000000</td>\n",
              "      <td>15.600000</td>\n",
              "      <td>NaN</td>\n",
              "    </tr>\n",
              "    <tr>\n",
              "      <th rowspan=\"2\" valign=\"top\">C</th>\n",
              "      <th>JD. Cidade Universitária I</th>\n",
              "      <td>977.272727</td>\n",
              "      <td>9.090909</td>\n",
              "      <td>33.750000</td>\n",
              "      <td>1</td>\n",
              "      <td>1</td>\n",
              "      <td>0.000000</td>\n",
              "      <td>986.363636</td>\n",
              "      <td>30.250000</td>\n",
              "      <td>1.385428</td>\n",
              "    </tr>\n",
              "    <tr>\n",
              "      <th>JD. Paulista</th>\n",
              "      <td>950.000000</td>\n",
              "      <td>0.000000</td>\n",
              "      <td>16.000000</td>\n",
              "      <td>1</td>\n",
              "      <td>1</td>\n",
              "      <td>0.000000</td>\n",
              "      <td>950.000000</td>\n",
              "      <td>59.375000</td>\n",
              "      <td>0.447600</td>\n",
              "    </tr>\n",
              "  </tbody>\n",
              "</table>\n",
              "</div>"
            ],
            "text/plain": [
              "                                    aluguel  ...  dist_unicamp\n",
              "imob bairro                                  ...              \n",
              "A    Chácara Antonieta           850.000000  ...      1.502339\n",
              "     JD. Cidade Universitária I  875.714286  ...      1.385428\n",
              "B    JD. Cidade Universitária I  944.516129  ...      1.385428\n",
              "     JD. Morro Azul              633.333333  ...      0.750764\n",
              "     JD. Paulista                914.285714  ...      0.447600\n",
              "     JD. São Paulo               780.000000  ...           NaN\n",
              "C    JD. Cidade Universitária I  977.272727  ...      1.385428\n",
              "     JD. Paulista                950.000000  ...      0.447600\n",
              "\n",
              "[8 rows x 9 columns]"
            ]
          },
          "metadata": {},
          "execution_count": 275
        }
      ]
    },
    {
      "cell_type": "code",
      "metadata": {
        "colab": {
          "base_uri": "https://localhost:8080/",
          "height": 363
        },
        "id": "LLLE8r5nI_44",
        "outputId": "24a212ac-c49d-4ac3-fa77-e034cc7b56ff"
      },
      "source": [
        "df_acomodacoes.groupby(['imob', 'bairro']).agg(['count', 'mean'])"
      ],
      "execution_count": 274,
      "outputs": [
        {
          "output_type": "execute_result",
          "data": {
            "text/html": [
              "<div>\n",
              "<style scoped>\n",
              "    .dataframe tbody tr th:only-of-type {\n",
              "        vertical-align: middle;\n",
              "    }\n",
              "\n",
              "    .dataframe tbody tr th {\n",
              "        vertical-align: top;\n",
              "    }\n",
              "\n",
              "    .dataframe thead tr th {\n",
              "        text-align: left;\n",
              "    }\n",
              "\n",
              "    .dataframe thead tr:last-of-type th {\n",
              "        text-align: right;\n",
              "    }\n",
              "</style>\n",
              "<table border=\"1\" class=\"dataframe\">\n",
              "  <thead>\n",
              "    <tr>\n",
              "      <th></th>\n",
              "      <th></th>\n",
              "      <th colspan=\"2\" halign=\"left\">aluguel</th>\n",
              "      <th colspan=\"2\" halign=\"left\">condominio</th>\n",
              "      <th colspan=\"2\" halign=\"left\">area</th>\n",
              "      <th colspan=\"2\" halign=\"left\">quartos</th>\n",
              "      <th colspan=\"2\" halign=\"left\">banheiros</th>\n",
              "      <th colspan=\"2\" halign=\"left\">vaga_garagem</th>\n",
              "      <th colspan=\"2\" halign=\"left\">total</th>\n",
              "      <th colspan=\"2\" halign=\"left\">preco_m2</th>\n",
              "      <th colspan=\"2\" halign=\"left\">dist_unicamp</th>\n",
              "    </tr>\n",
              "    <tr>\n",
              "      <th></th>\n",
              "      <th></th>\n",
              "      <th>count</th>\n",
              "      <th>mean</th>\n",
              "      <th>count</th>\n",
              "      <th>mean</th>\n",
              "      <th>count</th>\n",
              "      <th>mean</th>\n",
              "      <th>count</th>\n",
              "      <th>mean</th>\n",
              "      <th>count</th>\n",
              "      <th>mean</th>\n",
              "      <th>count</th>\n",
              "      <th>mean</th>\n",
              "      <th>count</th>\n",
              "      <th>mean</th>\n",
              "      <th>count</th>\n",
              "      <th>mean</th>\n",
              "      <th>count</th>\n",
              "      <th>mean</th>\n",
              "    </tr>\n",
              "    <tr>\n",
              "      <th>imob</th>\n",
              "      <th>bairro</th>\n",
              "      <th></th>\n",
              "      <th></th>\n",
              "      <th></th>\n",
              "      <th></th>\n",
              "      <th></th>\n",
              "      <th></th>\n",
              "      <th></th>\n",
              "      <th></th>\n",
              "      <th></th>\n",
              "      <th></th>\n",
              "      <th></th>\n",
              "      <th></th>\n",
              "      <th></th>\n",
              "      <th></th>\n",
              "      <th></th>\n",
              "      <th></th>\n",
              "      <th></th>\n",
              "      <th></th>\n",
              "    </tr>\n",
              "  </thead>\n",
              "  <tbody>\n",
              "    <tr>\n",
              "      <th rowspan=\"2\" valign=\"top\">A</th>\n",
              "      <th>Chácara Antonieta</th>\n",
              "      <td>2</td>\n",
              "      <td>850.000000</td>\n",
              "      <td>2</td>\n",
              "      <td>0.000000</td>\n",
              "      <td>2</td>\n",
              "      <td>30.000000</td>\n",
              "      <td>2</td>\n",
              "      <td>1</td>\n",
              "      <td>2</td>\n",
              "      <td>1</td>\n",
              "      <td>2</td>\n",
              "      <td>0.500000</td>\n",
              "      <td>2</td>\n",
              "      <td>850.000000</td>\n",
              "      <td>2</td>\n",
              "      <td>28.333333</td>\n",
              "      <td>2</td>\n",
              "      <td>1.502339</td>\n",
              "    </tr>\n",
              "    <tr>\n",
              "      <th>JD. Cidade Universitária I</th>\n",
              "      <td>7</td>\n",
              "      <td>875.714286</td>\n",
              "      <td>7</td>\n",
              "      <td>11.428571</td>\n",
              "      <td>4</td>\n",
              "      <td>20.000000</td>\n",
              "      <td>7</td>\n",
              "      <td>1</td>\n",
              "      <td>7</td>\n",
              "      <td>1</td>\n",
              "      <td>7</td>\n",
              "      <td>0.142857</td>\n",
              "      <td>7</td>\n",
              "      <td>887.142857</td>\n",
              "      <td>4</td>\n",
              "      <td>40.750000</td>\n",
              "      <td>7</td>\n",
              "      <td>1.385428</td>\n",
              "    </tr>\n",
              "    <tr>\n",
              "      <th rowspan=\"4\" valign=\"top\">B</th>\n",
              "      <th>JD. Cidade Universitária I</th>\n",
              "      <td>31</td>\n",
              "      <td>944.516129</td>\n",
              "      <td>31</td>\n",
              "      <td>0.000000</td>\n",
              "      <td>6</td>\n",
              "      <td>83.333333</td>\n",
              "      <td>31</td>\n",
              "      <td>1</td>\n",
              "      <td>31</td>\n",
              "      <td>1</td>\n",
              "      <td>31</td>\n",
              "      <td>0.000000</td>\n",
              "      <td>31</td>\n",
              "      <td>944.516129</td>\n",
              "      <td>6</td>\n",
              "      <td>16.466667</td>\n",
              "      <td>31</td>\n",
              "      <td>1.385428</td>\n",
              "    </tr>\n",
              "    <tr>\n",
              "      <th>JD. Morro Azul</th>\n",
              "      <td>3</td>\n",
              "      <td>633.333333</td>\n",
              "      <td>3</td>\n",
              "      <td>0.000000</td>\n",
              "      <td>0</td>\n",
              "      <td>NaN</td>\n",
              "      <td>3</td>\n",
              "      <td>1</td>\n",
              "      <td>3</td>\n",
              "      <td>1</td>\n",
              "      <td>3</td>\n",
              "      <td>0.000000</td>\n",
              "      <td>3</td>\n",
              "      <td>633.333333</td>\n",
              "      <td>0</td>\n",
              "      <td>NaN</td>\n",
              "      <td>3</td>\n",
              "      <td>0.750764</td>\n",
              "    </tr>\n",
              "    <tr>\n",
              "      <th>JD. Paulista</th>\n",
              "      <td>7</td>\n",
              "      <td>914.285714</td>\n",
              "      <td>7</td>\n",
              "      <td>0.000000</td>\n",
              "      <td>0</td>\n",
              "      <td>NaN</td>\n",
              "      <td>7</td>\n",
              "      <td>1</td>\n",
              "      <td>7</td>\n",
              "      <td>1</td>\n",
              "      <td>7</td>\n",
              "      <td>0.000000</td>\n",
              "      <td>7</td>\n",
              "      <td>914.285714</td>\n",
              "      <td>0</td>\n",
              "      <td>NaN</td>\n",
              "      <td>7</td>\n",
              "      <td>0.447600</td>\n",
              "    </tr>\n",
              "    <tr>\n",
              "      <th>JD. São Paulo</th>\n",
              "      <td>1</td>\n",
              "      <td>780.000000</td>\n",
              "      <td>1</td>\n",
              "      <td>0.000000</td>\n",
              "      <td>1</td>\n",
              "      <td>50.000000</td>\n",
              "      <td>1</td>\n",
              "      <td>1</td>\n",
              "      <td>1</td>\n",
              "      <td>1</td>\n",
              "      <td>1</td>\n",
              "      <td>0.000000</td>\n",
              "      <td>1</td>\n",
              "      <td>780.000000</td>\n",
              "      <td>1</td>\n",
              "      <td>15.600000</td>\n",
              "      <td>0</td>\n",
              "      <td>NaN</td>\n",
              "    </tr>\n",
              "    <tr>\n",
              "      <th rowspan=\"2\" valign=\"top\">C</th>\n",
              "      <th>JD. Cidade Universitária I</th>\n",
              "      <td>22</td>\n",
              "      <td>977.272727</td>\n",
              "      <td>22</td>\n",
              "      <td>9.090909</td>\n",
              "      <td>16</td>\n",
              "      <td>33.750000</td>\n",
              "      <td>22</td>\n",
              "      <td>1</td>\n",
              "      <td>22</td>\n",
              "      <td>1</td>\n",
              "      <td>22</td>\n",
              "      <td>0.000000</td>\n",
              "      <td>22</td>\n",
              "      <td>986.363636</td>\n",
              "      <td>16</td>\n",
              "      <td>30.250000</td>\n",
              "      <td>22</td>\n",
              "      <td>1.385428</td>\n",
              "    </tr>\n",
              "    <tr>\n",
              "      <th>JD. Paulista</th>\n",
              "      <td>6</td>\n",
              "      <td>950.000000</td>\n",
              "      <td>6</td>\n",
              "      <td>0.000000</td>\n",
              "      <td>5</td>\n",
              "      <td>16.000000</td>\n",
              "      <td>6</td>\n",
              "      <td>1</td>\n",
              "      <td>6</td>\n",
              "      <td>1</td>\n",
              "      <td>6</td>\n",
              "      <td>0.000000</td>\n",
              "      <td>6</td>\n",
              "      <td>950.000000</td>\n",
              "      <td>5</td>\n",
              "      <td>59.375000</td>\n",
              "      <td>6</td>\n",
              "      <td>0.447600</td>\n",
              "    </tr>\n",
              "  </tbody>\n",
              "</table>\n",
              "</div>"
            ],
            "text/plain": [
              "                                aluguel              ... dist_unicamp          \n",
              "                                  count        mean  ...        count      mean\n",
              "imob bairro                                          ...                       \n",
              "A    Chácara Antonieta                2  850.000000  ...            2  1.502339\n",
              "     JD. Cidade Universitária I       7  875.714286  ...            7  1.385428\n",
              "B    JD. Cidade Universitária I      31  944.516129  ...           31  1.385428\n",
              "     JD. Morro Azul                   3  633.333333  ...            3  0.750764\n",
              "     JD. Paulista                     7  914.285714  ...            7  0.447600\n",
              "     JD. São Paulo                    1  780.000000  ...            0       NaN\n",
              "C    JD. Cidade Universitária I      22  977.272727  ...           22  1.385428\n",
              "     JD. Paulista                     6  950.000000  ...            6  0.447600\n",
              "\n",
              "[8 rows x 18 columns]"
            ]
          },
          "metadata": {},
          "execution_count": 274
        }
      ]
    },
    {
      "cell_type": "code",
      "metadata": {
        "colab": {
          "base_uri": "https://localhost:8080/",
          "height": 238
        },
        "id": "4t1tLbMZzMpg",
        "outputId": "bbf166d7-7343-4d19-bb3a-098f8bbcbd0a"
      },
      "source": [
        "df_acomodacoes.groupby('bairro').count()"
      ],
      "execution_count": 482,
      "outputs": [
        {
          "output_type": "execute_result",
          "data": {
            "text/html": [
              "<div>\n",
              "<style scoped>\n",
              "    .dataframe tbody tr th:only-of-type {\n",
              "        vertical-align: middle;\n",
              "    }\n",
              "\n",
              "    .dataframe tbody tr th {\n",
              "        vertical-align: top;\n",
              "    }\n",
              "\n",
              "    .dataframe thead th {\n",
              "        text-align: right;\n",
              "    }\n",
              "</style>\n",
              "<table border=\"1\" class=\"dataframe\">\n",
              "  <thead>\n",
              "    <tr style=\"text-align: right;\">\n",
              "      <th></th>\n",
              "      <th>imob</th>\n",
              "      <th>codigo</th>\n",
              "      <th>aluguel</th>\n",
              "      <th>condominio</th>\n",
              "      <th>area</th>\n",
              "      <th>quartos</th>\n",
              "      <th>banheiros</th>\n",
              "      <th>vaga_garagem</th>\n",
              "      <th>descricao</th>\n",
              "      <th>total</th>\n",
              "      <th>preco_m2</th>\n",
              "      <th>dist_unicamp</th>\n",
              "    </tr>\n",
              "    <tr>\n",
              "      <th>bairro</th>\n",
              "      <th></th>\n",
              "      <th></th>\n",
              "      <th></th>\n",
              "      <th></th>\n",
              "      <th></th>\n",
              "      <th></th>\n",
              "      <th></th>\n",
              "      <th></th>\n",
              "      <th></th>\n",
              "      <th></th>\n",
              "      <th></th>\n",
              "      <th></th>\n",
              "    </tr>\n",
              "  </thead>\n",
              "  <tbody>\n",
              "    <tr>\n",
              "      <th>Chácara Antonieta</th>\n",
              "      <td>2</td>\n",
              "      <td>2</td>\n",
              "      <td>2</td>\n",
              "      <td>2</td>\n",
              "      <td>2</td>\n",
              "      <td>2</td>\n",
              "      <td>2</td>\n",
              "      <td>2</td>\n",
              "      <td>2</td>\n",
              "      <td>2</td>\n",
              "      <td>2</td>\n",
              "      <td>2</td>\n",
              "    </tr>\n",
              "    <tr>\n",
              "      <th>JD. Cidade Universitária I</th>\n",
              "      <td>60</td>\n",
              "      <td>60</td>\n",
              "      <td>60</td>\n",
              "      <td>60</td>\n",
              "      <td>26</td>\n",
              "      <td>60</td>\n",
              "      <td>60</td>\n",
              "      <td>60</td>\n",
              "      <td>60</td>\n",
              "      <td>60</td>\n",
              "      <td>26</td>\n",
              "      <td>60</td>\n",
              "    </tr>\n",
              "    <tr>\n",
              "      <th>JD. Morro Azul</th>\n",
              "      <td>3</td>\n",
              "      <td>3</td>\n",
              "      <td>3</td>\n",
              "      <td>3</td>\n",
              "      <td>0</td>\n",
              "      <td>3</td>\n",
              "      <td>3</td>\n",
              "      <td>3</td>\n",
              "      <td>3</td>\n",
              "      <td>3</td>\n",
              "      <td>0</td>\n",
              "      <td>3</td>\n",
              "    </tr>\n",
              "    <tr>\n",
              "      <th>JD. Paulista</th>\n",
              "      <td>13</td>\n",
              "      <td>13</td>\n",
              "      <td>13</td>\n",
              "      <td>13</td>\n",
              "      <td>5</td>\n",
              "      <td>13</td>\n",
              "      <td>13</td>\n",
              "      <td>13</td>\n",
              "      <td>13</td>\n",
              "      <td>13</td>\n",
              "      <td>5</td>\n",
              "      <td>13</td>\n",
              "    </tr>\n",
              "    <tr>\n",
              "      <th>JD. São Paulo</th>\n",
              "      <td>1</td>\n",
              "      <td>1</td>\n",
              "      <td>1</td>\n",
              "      <td>1</td>\n",
              "      <td>1</td>\n",
              "      <td>1</td>\n",
              "      <td>1</td>\n",
              "      <td>1</td>\n",
              "      <td>1</td>\n",
              "      <td>1</td>\n",
              "      <td>1</td>\n",
              "      <td>0</td>\n",
              "    </tr>\n",
              "  </tbody>\n",
              "</table>\n",
              "</div>"
            ],
            "text/plain": [
              "                            imob  codigo  ...  preco_m2  dist_unicamp\n",
              "bairro                                    ...                        \n",
              "Chácara Antonieta              2       2  ...         2             2\n",
              "JD. Cidade Universitária I    60      60  ...        26            60\n",
              "JD. Morro Azul                 3       3  ...         0             3\n",
              "JD. Paulista                  13      13  ...         5            13\n",
              "JD. São Paulo                  1       1  ...         1             0\n",
              "\n",
              "[5 rows x 12 columns]"
            ]
          },
          "metadata": {},
          "execution_count": 482
        }
      ]
    },
    {
      "cell_type": "code",
      "metadata": {
        "colab": {
          "base_uri": "https://localhost:8080/",
          "height": 388
        },
        "id": "8Yc3BvqktcoH",
        "outputId": "122fda2f-92f9-4a2e-d1ee-0b990bc2f5f6"
      },
      "source": [
        "plt.figure(figsize=(10, 6))\n",
        "sns.barplot(y='total', x='imob', data=df_acomodacoes)\n",
        "plt.show()"
      ],
      "execution_count": 171,
      "outputs": [
        {
          "output_type": "display_data",
          "data": {
            "image/png": "[encoded data removed]",
            "text/plain": [
              "<Figure size 720x432 with 1 Axes>"
            ]
          },
          "metadata": {
            "needs_background": "light"
          }
        }
      ]
    },
    {
      "cell_type": "markdown",
      "metadata": {
        "id": "OrHUajuv0SGh"
      },
      "source": [
        "## Classificando acomodações em categorias"
      ]
    },
    {
      "cell_type": "markdown",
      "metadata": {
        "id": "FjPKlf-8WHpB"
      },
      "source": [
        "### Acomodações com vaga garagem"
      ]
    },
    {
      "cell_type": "code",
      "metadata": {
        "id": "CxXxZN31U3H6"
      },
      "source": [
        "def search_key_words(df_filtro, key_words):\n",
        "  search_index = []\n",
        "\n",
        "  for index in range(0, len(df_filtro)):\n",
        "    for element in df_filtro.iloc[index].values:\n",
        "      if type(element) == str:\n",
        "        if any(x in element.lower() for x in key_words):\n",
        "          search_index.append(index)\n",
        "\n",
        "  search_index = set(search_index)\n",
        "  search_index = sorted(search_index)\n",
        "\n",
        "  new_df = df_filtro.iloc[search_index, :]\n",
        "  return new_df"
      ],
      "execution_count": 340,
      "outputs": []
    },
    {
      "cell_type": "code",
      "metadata": {
        "colab": {
          "base_uri": "https://localhost:8080/"
        },
        "id": "l_KxZSb1ZUBC",
        "outputId": "fef14f2b-d904-432d-f9dd-d330e7376cb0"
      },
      "source": [
        "df_acomodacoes[df_acomodacoes['vaga_garagem'] > 0].shape[0]"
      ],
      "execution_count": 376,
      "outputs": [
        {
          "output_type": "execute_result",
          "data": {
            "text/plain": [
              "2"
            ]
          },
          "metadata": {},
          "execution_count": 376
        }
      ]
    },
    {
      "cell_type": "code",
      "metadata": {
        "colab": {
          "base_uri": "https://localhost:8080/"
        },
        "id": "-8YSdEhpU6gF",
        "outputId": "2c84c01a-4178-459f-8359-bf0421062dbb"
      },
      "source": [
        "df_filtro = search_key_words(df_acomodacoes, ['garagem', 'vaga', 'carro', 'portão'])\n",
        "print(df_filtro.shape)"
      ],
      "execution_count": 374,
      "outputs": [
        {
          "output_type": "stream",
          "name": "stdout",
          "text": [
            "(11, 13)\n"
          ]
        }
      ]
    },
    {
      "cell_type": "code",
      "metadata": {
        "colab": {
          "base_uri": "https://localhost:8080/",
          "height": 394
        },
        "id": "W5tWAXRyVY7s",
        "outputId": "dbbb243d-95e3-4e42-e0e1-0e1d9680aae7"
      },
      "source": [
        "df_filtro"
      ],
      "execution_count": 375,
      "outputs": [
        {
          "output_type": "execute_result",
          "data": {
            "text/html": [
              "<div>\n",
              "<style scoped>\n",
              "    .dataframe tbody tr th:only-of-type {\n",
              "        vertical-align: middle;\n",
              "    }\n",
              "\n",
              "    .dataframe tbody tr th {\n",
              "        vertical-align: top;\n",
              "    }\n",
              "\n",
              "    .dataframe thead th {\n",
              "        text-align: right;\n",
              "    }\n",
              "</style>\n",
              "<table border=\"1\" class=\"dataframe\">\n",
              "  <thead>\n",
              "    <tr style=\"text-align: right;\">\n",
              "      <th></th>\n",
              "      <th>imob</th>\n",
              "      <th>codigo</th>\n",
              "      <th>bairro</th>\n",
              "      <th>aluguel</th>\n",
              "      <th>condominio</th>\n",
              "      <th>area</th>\n",
              "      <th>quartos</th>\n",
              "      <th>banheiros</th>\n",
              "      <th>vaga_garagem</th>\n",
              "      <th>descricao</th>\n",
              "      <th>total</th>\n",
              "      <th>preco_m2</th>\n",
              "      <th>dist_unicamp</th>\n",
              "    </tr>\n",
              "  </thead>\n",
              "  <tbody>\n",
              "    <tr>\n",
              "      <th>25</th>\n",
              "      <td>C</td>\n",
              "      <td>48cf0deecd859f082300f8bb8f2ee7c6</td>\n",
              "      <td>JD. Cidade Universitária I</td>\n",
              "      <td>950.0</td>\n",
              "      <td>100.0</td>\n",
              "      <td>25.0</td>\n",
              "      <td>1</td>\n",
              "      <td>1</td>\n",
              "      <td>0.0</td>\n",
              "      <td>Apartamento localizado no Chacara Antonieta co...</td>\n",
              "      <td>1050.0</td>\n",
              "      <td>42.000000</td>\n",
              "      <td>1.385428</td>\n",
              "    </tr>\n",
              "    <tr>\n",
              "      <th>26</th>\n",
              "      <td>C</td>\n",
              "      <td>ded7b202961dd5bb3fd74353a755c6de</td>\n",
              "      <td>JD. Cidade Universitária I</td>\n",
              "      <td>950.0</td>\n",
              "      <td>100.0</td>\n",
              "      <td>25.0</td>\n",
              "      <td>1</td>\n",
              "      <td>1</td>\n",
              "      <td>0.0</td>\n",
              "      <td>Apartamento localizado no Chacara Antonieta co...</td>\n",
              "      <td>1050.0</td>\n",
              "      <td>42.000000</td>\n",
              "      <td>1.385428</td>\n",
              "    </tr>\n",
              "    <tr>\n",
              "      <th>63</th>\n",
              "      <td>B</td>\n",
              "      <td>c18e0e8dc2d9c9e19e50d86b8903cfa7</td>\n",
              "      <td>JD. Cidade Universitária I</td>\n",
              "      <td>800.0</td>\n",
              "      <td>0.0</td>\n",
              "      <td>NaN</td>\n",
              "      <td>1</td>\n",
              "      <td>1</td>\n",
              "      <td>0.0</td>\n",
              "      <td>Ótimo apartamento na Cidade Universitária com ...</td>\n",
              "      <td>800.0</td>\n",
              "      <td>NaN</td>\n",
              "      <td>1.385428</td>\n",
              "    </tr>\n",
              "    <tr>\n",
              "      <th>72</th>\n",
              "      <td>A</td>\n",
              "      <td>9b5801ddc55b2411554d6fb109229460</td>\n",
              "      <td>JD. Cidade Universitária I</td>\n",
              "      <td>800.0</td>\n",
              "      <td>0.0</td>\n",
              "      <td>20.0</td>\n",
              "      <td>1</td>\n",
              "      <td>1</td>\n",
              "      <td>0.0</td>\n",
              "      <td>COZINHA COM GELADEIRA COM DISPENSER NA PORTA, ...</td>\n",
              "      <td>800.0</td>\n",
              "      <td>40.000000</td>\n",
              "      <td>1.385428</td>\n",
              "    </tr>\n",
              "    <tr>\n",
              "      <th>73</th>\n",
              "      <td>A</td>\n",
              "      <td>f773fe72ae9c3ae06183ea91d181347a</td>\n",
              "      <td>JD. Cidade Universitária I</td>\n",
              "      <td>800.0</td>\n",
              "      <td>80.0</td>\n",
              "      <td>20.0</td>\n",
              "      <td>1</td>\n",
              "      <td>1</td>\n",
              "      <td>0.0</td>\n",
              "      <td>COZINHA COM GELADEIRA COM DISPENSER NA PORTA, ...</td>\n",
              "      <td>880.0</td>\n",
              "      <td>44.000000</td>\n",
              "      <td>1.385428</td>\n",
              "    </tr>\n",
              "    <tr>\n",
              "      <th>74</th>\n",
              "      <td>A</td>\n",
              "      <td>350e21033122ce335fd0fd5f0031179d</td>\n",
              "      <td>JD. Cidade Universitária I</td>\n",
              "      <td>800.0</td>\n",
              "      <td>0.0</td>\n",
              "      <td>20.0</td>\n",
              "      <td>1</td>\n",
              "      <td>1</td>\n",
              "      <td>1.0</td>\n",
              "      <td>COZINHA COM GELADEIRA COM DISPENSER NA PORTA, ...</td>\n",
              "      <td>800.0</td>\n",
              "      <td>40.000000</td>\n",
              "      <td>1.385428</td>\n",
              "    </tr>\n",
              "    <tr>\n",
              "      <th>75</th>\n",
              "      <td>A</td>\n",
              "      <td>13a10985cb92f1112ce6894b29a575e7</td>\n",
              "      <td>Chácara Antonieta</td>\n",
              "      <td>850.0</td>\n",
              "      <td>0.0</td>\n",
              "      <td>30.0</td>\n",
              "      <td>1</td>\n",
              "      <td>1</td>\n",
              "      <td>0.0</td>\n",
              "      <td>CAMA,  GUARDA-ROUPA, GELADEIRA, BANCADA, TANQU...</td>\n",
              "      <td>850.0</td>\n",
              "      <td>28.333333</td>\n",
              "      <td>1.502339</td>\n",
              "    </tr>\n",
              "    <tr>\n",
              "      <th>76</th>\n",
              "      <td>A</td>\n",
              "      <td>a92a6e35acca298c33b9d2c83bde3505</td>\n",
              "      <td>Chácara Antonieta</td>\n",
              "      <td>850.0</td>\n",
              "      <td>0.0</td>\n",
              "      <td>30.0</td>\n",
              "      <td>1</td>\n",
              "      <td>1</td>\n",
              "      <td>1.0</td>\n",
              "      <td>CAMA,  GUARDA-ROUPA, GELADEIRA, BANCADA, TANQU...</td>\n",
              "      <td>850.0</td>\n",
              "      <td>28.333333</td>\n",
              "      <td>1.502339</td>\n",
              "    </tr>\n",
              "    <tr>\n",
              "      <th>77</th>\n",
              "      <td>A</td>\n",
              "      <td>4b4adce0a87af0846fda6bdbe38d670a</td>\n",
              "      <td>JD. Cidade Universitária I</td>\n",
              "      <td>950.0</td>\n",
              "      <td>0.0</td>\n",
              "      <td>NaN</td>\n",
              "      <td>1</td>\n",
              "      <td>1</td>\n",
              "      <td>0.0</td>\n",
              "      <td>KITNET CONTENDO FOGÃO, GELADEIRA, ARMÁRIO EMBU...</td>\n",
              "      <td>950.0</td>\n",
              "      <td>NaN</td>\n",
              "      <td>1.385428</td>\n",
              "    </tr>\n",
              "    <tr>\n",
              "      <th>78</th>\n",
              "      <td>A</td>\n",
              "      <td>57c6964ba64836c81a7a7a782a4d0eb1</td>\n",
              "      <td>JD. Cidade Universitária I</td>\n",
              "      <td>1000.0</td>\n",
              "      <td>0.0</td>\n",
              "      <td>NaN</td>\n",
              "      <td>1</td>\n",
              "      <td>1</td>\n",
              "      <td>0.0</td>\n",
              "      <td>1 QUARTO COM ARMÁRIO E AR CONDICIONADO;1 SALA ...</td>\n",
              "      <td>1000.0</td>\n",
              "      <td>NaN</td>\n",
              "      <td>1.385428</td>\n",
              "    </tr>\n",
              "    <tr>\n",
              "      <th>79</th>\n",
              "      <td>A</td>\n",
              "      <td>4cc0e019beccf19b1e1182b9e896f089</td>\n",
              "      <td>JD. Cidade Universitária I</td>\n",
              "      <td>1000.0</td>\n",
              "      <td>0.0</td>\n",
              "      <td>NaN</td>\n",
              "      <td>1</td>\n",
              "      <td>1</td>\n",
              "      <td>0.0</td>\n",
              "      <td>1 QUARTO COM ARMÁRIO E AR CONDICIONADO;1 SALA ...</td>\n",
              "      <td>1000.0</td>\n",
              "      <td>NaN</td>\n",
              "      <td>1.385428</td>\n",
              "    </tr>\n",
              "  </tbody>\n",
              "</table>\n",
              "</div>"
            ],
            "text/plain": [
              "   imob                            codigo  ...   preco_m2  dist_unicamp\n",
              "25    C  48cf0deecd859f082300f8bb8f2ee7c6  ...  42.000000      1.385428\n",
              "26    C  ded7b202961dd5bb3fd74353a755c6de  ...  42.000000      1.385428\n",
              "63    B  c18e0e8dc2d9c9e19e50d86b8903cfa7  ...        NaN      1.385428\n",
              "72    A  9b5801ddc55b2411554d6fb109229460  ...  40.000000      1.385428\n",
              "73    A  f773fe72ae9c3ae06183ea91d181347a  ...  44.000000      1.385428\n",
              "74    A  350e21033122ce335fd0fd5f0031179d  ...  40.000000      1.385428\n",
              "75    A  13a10985cb92f1112ce6894b29a575e7  ...  28.333333      1.502339\n",
              "76    A  a92a6e35acca298c33b9d2c83bde3505  ...  28.333333      1.502339\n",
              "77    A  4b4adce0a87af0846fda6bdbe38d670a  ...        NaN      1.385428\n",
              "78    A  57c6964ba64836c81a7a7a782a4d0eb1  ...        NaN      1.385428\n",
              "79    A  4cc0e019beccf19b1e1182b9e896f089  ...        NaN      1.385428\n",
              "\n",
              "[11 rows x 13 columns]"
            ]
          },
          "metadata": {},
          "execution_count": 375
        }
      ]
    },
    {
      "cell_type": "code",
      "metadata": {
        "colab": {
          "base_uri": "https://localhost:8080/",
          "height": 334
        },
        "id": "vdWgi0TWYT3z",
        "outputId": "300953af-630b-4478-ea02-8be95c03e617"
      },
      "source": [
        "plt.figure(figsize=(8, 5))\n",
        "sns.histplot(data=df_filtro, x=\"total\")\n",
        "plt.show()"
      ],
      "execution_count": 369,
      "outputs": [
        {
          "output_type": "display_data",
          "data": {
            "image/png": "[encoded data removed]",
            "text/plain": [
              "<Figure size 576x360 with 1 Axes>"
            ]
          },
          "metadata": {
            "needs_background": "light"
          }
        }
      ]
    },
    {
      "cell_type": "code",
      "metadata": {
        "colab": {
          "base_uri": "https://localhost:8080/",
          "height": 72
        },
        "id": "YT1oqbgHVdp6",
        "outputId": "bf031dd7-eef8-4ed3-8a50-4739bb98e6da"
      },
      "source": [
        "df_filtro.loc[25, 'descricao']"
      ],
      "execution_count": 343,
      "outputs": [
        {
          "output_type": "execute_result",
          "data": {
            "application/vnd.google.colaboratory.intrinsic+json": {
              "type": "string"
            },
            "text/plain": [
              "'Apartamento localizado no Chacara Antonieta contendo quarto e sala conjugados com armário e painel de TV, cozinha planejada com geladeira e fogão, banheiro social, lavanderia e vaga na garagem para 01 carro com portão eletrônico. Acabamento em piso cerâmico e laje.\\n25      M2\\n1       QUARTO COM ARMÁRIO\\n1       SALA COM PAINEL\\n1       COZINHA PLANEJADA COM FOGÃO E GELADEIRA\\n1       BANHEIRO\\n1       LAVANDERIA\\n1       VAGA PARA CARRO COM PORTÃO ELETRÔNICO\\nPISO CERÂMICO\\nTETO LAJE'"
            ]
          },
          "metadata": {},
          "execution_count": 343
        }
      ]
    },
    {
      "cell_type": "code",
      "metadata": {
        "colab": {
          "base_uri": "https://localhost:8080/",
          "height": 54
        },
        "id": "0J1SK8-hVp45",
        "outputId": "04334b43-d570-4324-ea31-a103c92c9210"
      },
      "source": [
        "df_filtro.loc[63, 'descricao']"
      ],
      "execution_count": 344,
      "outputs": [
        {
          "output_type": "execute_result",
          "data": {
            "application/vnd.google.colaboratory.intrinsic+json": {
              "type": "string"
            },
            "text/plain": [
              "'Ótimo apartamento na Cidade Universitária com um dormitório com armários banheiro social com gabinete e box de blindex cozinha com armários geladeira microondas cooktop e área de serviço comum. Uma vaga de garagem.  O locatário ficará isento do consumo de água até 10 m³ mensal e faxina semanal na área comum.'"
            ]
          },
          "metadata": {},
          "execution_count": 344
        }
      ]
    },
    {
      "cell_type": "code",
      "metadata": {
        "colab": {
          "base_uri": "https://localhost:8080/",
          "height": 54
        },
        "id": "6RgcC8mNVsqb",
        "outputId": "7a4b8f55-b242-4674-eff2-4dd207c6f8e8"
      },
      "source": [
        "df_filtro.loc[72, 'descricao']"
      ],
      "execution_count": 345,
      "outputs": [
        {
          "output_type": "execute_result",
          "data": {
            "application/vnd.google.colaboratory.intrinsic+json": {
              "type": "string"
            },
            "text/plain": [
              "'COZINHA COM GELADEIRA COM DISPENSER NA PORTA, MICROONDAS, FOGÃO COOKTOP, SALA COM MESA PARA ESTUDO, AR CONDICIONADO, QUARTO COM CAMA BOX, GUARDA ROUPA EMBUTIDO.GARAGEM ROTATIVA.VALOR JÁ INCLUSO O CONDOMÍNIO: ÁGUA E LIMPEZA EXTERNA.*ENERGIA A PARTE.*OJETOS DECORATIVOS NÃO FAZEM PARTE DA LOCAÇÃO.'"
            ]
          },
          "metadata": {},
          "execution_count": 345
        }
      ]
    },
    {
      "cell_type": "code",
      "metadata": {
        "colab": {
          "base_uri": "https://localhost:8080/"
        },
        "id": "LdrZDCiSVzzQ",
        "outputId": "581e4667-ad15-4bf0-a4b2-b3577d481816"
      },
      "source": [
        "index_acomodacoes_garagem = list(df_filtro.index)\n",
        "index_acomodacoes_garagem"
      ],
      "execution_count": 346,
      "outputs": [
        {
          "output_type": "execute_result",
          "data": {
            "text/plain": [
              "[25, 26, 63, 72, 73, 74, 75, 76, 77, 78, 79]"
            ]
          },
          "metadata": {},
          "execution_count": 346
        }
      ]
    },
    {
      "cell_type": "code",
      "metadata": {
        "id": "WQWFAR7ZWyiL"
      },
      "source": [
        "def acomodacao_com_garagem(index):\n",
        "  return index in index_acomodacoes_garagem"
      ],
      "execution_count": 349,
      "outputs": []
    },
    {
      "cell_type": "markdown",
      "metadata": {
        "id": "9tjxSvQDouqh"
      },
      "source": [
        "### Acomodações com energia, água ou internet"
      ]
    },
    {
      "cell_type": "code",
      "metadata": {
        "colab": {
          "base_uri": "https://localhost:8080/"
        },
        "id": "zAR4Sf_aoynr",
        "outputId": "f8d48ec3-8121-439e-a6f9-2d3ed533f78d"
      },
      "source": [
        "df_filtro_contas = search_key_words(df_acomodacoes, ['energia', 'luz', 'água', 'agua', 'internet'])\n",
        "print(df_filtro_contas.shape)"
      ],
      "execution_count": 406,
      "outputs": [
        {
          "output_type": "stream",
          "name": "stdout",
          "text": [
            "(38, 13)\n"
          ]
        }
      ]
    },
    {
      "cell_type": "code",
      "metadata": {
        "colab": {
          "base_uri": "https://localhost:8080/",
          "height": 206
        },
        "id": "9a-krCP3o_sV",
        "outputId": "e4be7546-ffe5-4188-9aaf-d571b9572672"
      },
      "source": [
        "df_filtro_contas.sample(5)"
      ],
      "execution_count": 408,
      "outputs": [
        {
          "output_type": "execute_result",
          "data": {
            "text/html": [
              "<div>\n",
              "<style scoped>\n",
              "    .dataframe tbody tr th:only-of-type {\n",
              "        vertical-align: middle;\n",
              "    }\n",
              "\n",
              "    .dataframe tbody tr th {\n",
              "        vertical-align: top;\n",
              "    }\n",
              "\n",
              "    .dataframe thead th {\n",
              "        text-align: right;\n",
              "    }\n",
              "</style>\n",
              "<table border=\"1\" class=\"dataframe\">\n",
              "  <thead>\n",
              "    <tr style=\"text-align: right;\">\n",
              "      <th></th>\n",
              "      <th>imob</th>\n",
              "      <th>codigo</th>\n",
              "      <th>bairro</th>\n",
              "      <th>aluguel</th>\n",
              "      <th>condominio</th>\n",
              "      <th>area</th>\n",
              "      <th>quartos</th>\n",
              "      <th>banheiros</th>\n",
              "      <th>vaga_garagem</th>\n",
              "      <th>descricao</th>\n",
              "      <th>total</th>\n",
              "      <th>preco_m2</th>\n",
              "      <th>dist_unicamp</th>\n",
              "    </tr>\n",
              "  </thead>\n",
              "  <tbody>\n",
              "    <tr>\n",
              "      <th>75</th>\n",
              "      <td>A</td>\n",
              "      <td>13a10985cb92f1112ce6894b29a575e7</td>\n",
              "      <td>Chácara Antonieta</td>\n",
              "      <td>850.0</td>\n",
              "      <td>0.0</td>\n",
              "      <td>30.0</td>\n",
              "      <td>1</td>\n",
              "      <td>1</td>\n",
              "      <td>0.0</td>\n",
              "      <td>CAMA,  GUARDA-ROUPA, GELADEIRA, BANCADA, TANQU...</td>\n",
              "      <td>850.0</td>\n",
              "      <td>28.333333</td>\n",
              "      <td>1.502339</td>\n",
              "    </tr>\n",
              "    <tr>\n",
              "      <th>67</th>\n",
              "      <td>B</td>\n",
              "      <td>af6492af6c80fea75bafc9c5d3464970</td>\n",
              "      <td>JD. Cidade Universitária I</td>\n",
              "      <td>700.0</td>\n",
              "      <td>0.0</td>\n",
              "      <td>NaN</td>\n",
              "      <td>1</td>\n",
              "      <td>1</td>\n",
              "      <td>0.0</td>\n",
              "      <td>Apto com micro-ondas geladeira e fogão elétric...</td>\n",
              "      <td>700.0</td>\n",
              "      <td>NaN</td>\n",
              "      <td>1.385428</td>\n",
              "    </tr>\n",
              "    <tr>\n",
              "      <th>31</th>\n",
              "      <td>B</td>\n",
              "      <td>2c8c9e9121145fbc37ef67c0a5ea3869</td>\n",
              "      <td>JD. Cidade Universitária I</td>\n",
              "      <td>1000.0</td>\n",
              "      <td>0.0</td>\n",
              "      <td>NaN</td>\n",
              "      <td>1</td>\n",
              "      <td>1</td>\n",
              "      <td>0.0</td>\n",
              "      <td>Imóvel muito bem localizado. Conta com sala  e...</td>\n",
              "      <td>1000.0</td>\n",
              "      <td>NaN</td>\n",
              "      <td>1.385428</td>\n",
              "    </tr>\n",
              "    <tr>\n",
              "      <th>46</th>\n",
              "      <td>B</td>\n",
              "      <td>0bec22f95dda4bc6548e30e004f81d89</td>\n",
              "      <td>JD. Cidade Universitária I</td>\n",
              "      <td>1000.0</td>\n",
              "      <td>0.0</td>\n",
              "      <td>NaN</td>\n",
              "      <td>1</td>\n",
              "      <td>1</td>\n",
              "      <td>0.0</td>\n",
              "      <td>Imóvel muito bem localizado! Conta com sala  e...</td>\n",
              "      <td>1000.0</td>\n",
              "      <td>NaN</td>\n",
              "      <td>1.385428</td>\n",
              "    </tr>\n",
              "    <tr>\n",
              "      <th>45</th>\n",
              "      <td>B</td>\n",
              "      <td>c42857333ce48605664427a5dbb10ad3</td>\n",
              "      <td>JD. Cidade Universitária I</td>\n",
              "      <td>1000.0</td>\n",
              "      <td>0.0</td>\n",
              "      <td>NaN</td>\n",
              "      <td>1</td>\n",
              "      <td>1</td>\n",
              "      <td>0.0</td>\n",
              "      <td>Imóvel muito bem localizado. Conta com sala e ...</td>\n",
              "      <td>1000.0</td>\n",
              "      <td>NaN</td>\n",
              "      <td>1.385428</td>\n",
              "    </tr>\n",
              "  </tbody>\n",
              "</table>\n",
              "</div>"
            ],
            "text/plain": [
              "   imob                            codigo  ...   preco_m2  dist_unicamp\n",
              "75    A  13a10985cb92f1112ce6894b29a575e7  ...  28.333333      1.502339\n",
              "67    B  af6492af6c80fea75bafc9c5d3464970  ...        NaN      1.385428\n",
              "31    B  2c8c9e9121145fbc37ef67c0a5ea3869  ...        NaN      1.385428\n",
              "46    B  0bec22f95dda4bc6548e30e004f81d89  ...        NaN      1.385428\n",
              "45    B  c42857333ce48605664427a5dbb10ad3  ...        NaN      1.385428\n",
              "\n",
              "[5 rows x 13 columns]"
            ]
          },
          "metadata": {},
          "execution_count": 408
        }
      ]
    },
    {
      "cell_type": "code",
      "metadata": {
        "colab": {
          "base_uri": "https://localhost:8080/",
          "height": 54
        },
        "id": "t3GLbWBQpCxz",
        "outputId": "9fe63e5a-d128-48cf-c396-02b577cac349"
      },
      "source": [
        "print(acomodacao_com_garagem(75))\n",
        "df_filtro_contas.loc[75, 'descricao']"
      ],
      "execution_count": 411,
      "outputs": [
        {
          "output_type": "stream",
          "name": "stdout",
          "text": [
            "True\n"
          ]
        },
        {
          "output_type": "execute_result",
          "data": {
            "application/vnd.google.colaboratory.intrinsic+json": {
              "type": "string"
            },
            "text/plain": [
              "'CAMA,  GUARDA-ROUPA, GELADEIRA, BANCADA, TANQUE, VENTILADOR DE TETO.INCLUSO NO CONDOMINIO: AGUA, ENERGIA, LIMPEZA EXTERNA, INTERNET.1 VAGA DE GARAGEM.'"
            ]
          },
          "metadata": {},
          "execution_count": 411
        }
      ]
    },
    {
      "cell_type": "code",
      "metadata": {
        "colab": {
          "base_uri": "https://localhost:8080/",
          "height": 54
        },
        "id": "xX2DjRhXpJgc",
        "outputId": "6197a451-a231-47e1-f4ae-3181c05d5535"
      },
      "source": [
        "print(acomodacao_com_garagem(67))\n",
        "df_filtro_contas.loc[67, 'descricao']"
      ],
      "execution_count": 412,
      "outputs": [
        {
          "output_type": "stream",
          "name": "stdout",
          "text": [
            "False\n"
          ]
        },
        {
          "output_type": "execute_result",
          "data": {
            "application/vnd.google.colaboratory.intrinsic+json": {
              "type": "string"
            },
            "text/plain": [
              "'Apto com micro-ondas geladeira e fogão elétrico, banheiro com box, cozinha com gabinete, sala e quarto conjugados, cerca elétrica, interfone, ponto para internet.'"
            ]
          },
          "metadata": {},
          "execution_count": 412
        }
      ]
    },
    {
      "cell_type": "markdown",
      "metadata": {
        "id": "FlW0q8Qqp299"
      },
      "source": [
        "Acomodações com vaga de garagem e algum tipo de serviço incluído"
      ]
    },
    {
      "cell_type": "code",
      "metadata": {
        "colab": {
          "base_uri": "https://localhost:8080/"
        },
        "id": "C1OVmq_lpXfl",
        "outputId": "a6caf1a5-1a9a-4cd6-911e-5c4157cc594a"
      },
      "source": [
        "for i in list(df_filtro_contas.index):\n",
        "  if acomodacao_com_garagem(i):\n",
        "    print(f'index: {i}')\n",
        "    print(df_filtro_contas.loc[i, ['imob', 'bairro', 'total']])"
      ],
      "execution_count": 415,
      "outputs": [
        {
          "output_type": "stream",
          "name": "stdout",
          "text": [
            "index: 63\n",
            "imob                               B\n",
            "bairro    JD. Cidade Universitária I\n",
            "total                            800\n",
            "Name: 63, dtype: object\n",
            "index: 72\n",
            "imob                               A\n",
            "bairro    JD. Cidade Universitária I\n",
            "total                            800\n",
            "Name: 72, dtype: object\n",
            "index: 73\n",
            "imob                               A\n",
            "bairro    JD. Cidade Universitária I\n",
            "total                            880\n",
            "Name: 73, dtype: object\n",
            "index: 74\n",
            "imob                               A\n",
            "bairro    JD. Cidade Universitária I\n",
            "total                            800\n",
            "Name: 74, dtype: object\n",
            "index: 75\n",
            "imob                      A\n",
            "bairro    Chácara Antonieta\n",
            "total                   850\n",
            "Name: 75, dtype: object\n",
            "index: 76\n",
            "imob                      A\n",
            "bairro    Chácara Antonieta\n",
            "total                   850\n",
            "Name: 76, dtype: object\n",
            "index: 77\n",
            "imob                               A\n",
            "bairro    JD. Cidade Universitária I\n",
            "total                            950\n",
            "Name: 77, dtype: object\n",
            "index: 78\n",
            "imob                               A\n",
            "bairro    JD. Cidade Universitária I\n",
            "total                           1000\n",
            "Name: 78, dtype: object\n",
            "index: 79\n",
            "imob                               A\n",
            "bairro    JD. Cidade Universitária I\n",
            "total                           1000\n",
            "Name: 79, dtype: object\n"
          ]
        }
      ]
    },
    {
      "cell_type": "code",
      "metadata": {
        "colab": {
          "base_uri": "https://localhost:8080/"
        },
        "id": "v9jtZAUqqPBS",
        "outputId": "822c7843-68d1-485b-cb28-23f581392494"
      },
      "source": [
        "index_acomodacoes_servicos = list(df_filtro_contas.index)\n",
        "index_acomodacoes_servicos"
      ],
      "execution_count": 417,
      "outputs": [
        {
          "output_type": "execute_result",
          "data": {
            "text/plain": [
              "[5,\n",
              " 30,\n",
              " 31,\n",
              " 33,\n",
              " 35,\n",
              " 37,\n",
              " 38,\n",
              " 39,\n",
              " 40,\n",
              " 41,\n",
              " 42,\n",
              " 43,\n",
              " 44,\n",
              " 45,\n",
              " 46,\n",
              " 47,\n",
              " 48,\n",
              " 49,\n",
              " 50,\n",
              " 51,\n",
              " 52,\n",
              " 53,\n",
              " 54,\n",
              " 55,\n",
              " 61,\n",
              " 62,\n",
              " 63,\n",
              " 66,\n",
              " 67,\n",
              " 71,\n",
              " 72,\n",
              " 73,\n",
              " 74,\n",
              " 75,\n",
              " 76,\n",
              " 77,\n",
              " 78,\n",
              " 79]"
            ]
          },
          "metadata": {},
          "execution_count": 417
        }
      ]
    },
    {
      "cell_type": "code",
      "metadata": {
        "id": "VMGHLkc5qHnp"
      },
      "source": [
        "def acomodacao_com_servico(index):\n",
        "  return index in index_acomodacoes_servicos"
      ],
      "execution_count": 418,
      "outputs": []
    },
    {
      "cell_type": "markdown",
      "metadata": {
        "id": "aSF85LRrM9A3"
      },
      "source": [
        "### Filtrando bairros mais **pertos**"
      ]
    },
    {
      "cell_type": "code",
      "metadata": {
        "colab": {
          "base_uri": "https://localhost:8080/",
          "height": 319
        },
        "id": "ssNPYuKXLQDO",
        "outputId": "b59bb000-83e9-4495-b475-2579d1009cf8"
      },
      "source": [
        "filtro_bairros_pertos = (\n",
        "    (df_acomodacoes['bairro'] == 'JD. Paulista') |\n",
        "    (df_acomodacoes['bairro'] == 'JD. Morro Azul')\n",
        ")\n",
        "\n",
        "df_bairros_pertos = df_acomodacoes[filtro_bairros_pertos].copy()\n",
        "total_pertos = df_bairros_pertos.shape[0]\n",
        "print(total_pertos)\n",
        "df_bairros_pertos.sample(8)"
      ],
      "execution_count": 458,
      "outputs": [
        {
          "output_type": "stream",
          "name": "stdout",
          "text": [
            "16\n"
          ]
        },
        {
          "output_type": "execute_result",
          "data": {
            "text/html": [
              "<div>\n",
              "<style scoped>\n",
              "    .dataframe tbody tr th:only-of-type {\n",
              "        vertical-align: middle;\n",
              "    }\n",
              "\n",
              "    .dataframe tbody tr th {\n",
              "        vertical-align: top;\n",
              "    }\n",
              "\n",
              "    .dataframe thead th {\n",
              "        text-align: right;\n",
              "    }\n",
              "</style>\n",
              "<table border=\"1\" class=\"dataframe\">\n",
              "  <thead>\n",
              "    <tr style=\"text-align: right;\">\n",
              "      <th></th>\n",
              "      <th>imob</th>\n",
              "      <th>codigo</th>\n",
              "      <th>bairro</th>\n",
              "      <th>aluguel</th>\n",
              "      <th>condominio</th>\n",
              "      <th>area</th>\n",
              "      <th>quartos</th>\n",
              "      <th>banheiros</th>\n",
              "      <th>vaga_garagem</th>\n",
              "      <th>descricao</th>\n",
              "      <th>total</th>\n",
              "      <th>preco_m2</th>\n",
              "      <th>dist_unicamp</th>\n",
              "    </tr>\n",
              "  </thead>\n",
              "  <tbody>\n",
              "    <tr>\n",
              "      <th>68</th>\n",
              "      <td>B</td>\n",
              "      <td>07f6384f6c2c7d702650281e7a51f958</td>\n",
              "      <td>JD. Morro Azul</td>\n",
              "      <td>700.0</td>\n",
              "      <td>0.0</td>\n",
              "      <td>NaN</td>\n",
              "      <td>1</td>\n",
              "      <td>1</td>\n",
              "      <td>0.0</td>\n",
              "      <td>Kitnet com área de serviço, 1 dormitório, 1 co...</td>\n",
              "      <td>700.0</td>\n",
              "      <td>NaN</td>\n",
              "      <td>0.750764</td>\n",
              "    </tr>\n",
              "    <tr>\n",
              "      <th>54</th>\n",
              "      <td>B</td>\n",
              "      <td>2ca1576c1451e643b68e997da302e8ef</td>\n",
              "      <td>JD. Paulista</td>\n",
              "      <td>900.0</td>\n",
              "      <td>0.0</td>\n",
              "      <td>NaN</td>\n",
              "      <td>1</td>\n",
              "      <td>1</td>\n",
              "      <td>0.0</td>\n",
              "      <td>Imóvel totalmente reformado para atender espec...</td>\n",
              "      <td>900.0</td>\n",
              "      <td>NaN</td>\n",
              "      <td>0.447600</td>\n",
              "    </tr>\n",
              "    <tr>\n",
              "      <th>28</th>\n",
              "      <td>B</td>\n",
              "      <td>8ea6bceec892ab9d2467eb912385a1a9</td>\n",
              "      <td>JD. Paulista</td>\n",
              "      <td>1000.0</td>\n",
              "      <td>0.0</td>\n",
              "      <td>NaN</td>\n",
              "      <td>1</td>\n",
              "      <td>1</td>\n",
              "      <td>0.0</td>\n",
              "      <td>Kitnet com um dormitório, banheiro, cozinha, á...</td>\n",
              "      <td>1000.0</td>\n",
              "      <td>NaN</td>\n",
              "      <td>0.447600</td>\n",
              "    </tr>\n",
              "    <tr>\n",
              "      <th>22</th>\n",
              "      <td>C</td>\n",
              "      <td>7b17e06caa3474661e0d2ac8f44da80f</td>\n",
              "      <td>JD. Paulista</td>\n",
              "      <td>950.0</td>\n",
              "      <td>0.0</td>\n",
              "      <td>NaN</td>\n",
              "      <td>1</td>\n",
              "      <td>1</td>\n",
              "      <td>0.0</td>\n",
              "      <td>Kitnet localizada próximo à Unicamp (FCA) cont...</td>\n",
              "      <td>950.0</td>\n",
              "      <td>NaN</td>\n",
              "      <td>0.447600</td>\n",
              "    </tr>\n",
              "    <tr>\n",
              "      <th>51</th>\n",
              "      <td>B</td>\n",
              "      <td>568d1b833c4816a90df87ba89831f0ef</td>\n",
              "      <td>JD. Paulista</td>\n",
              "      <td>900.0</td>\n",
              "      <td>0.0</td>\n",
              "      <td>NaN</td>\n",
              "      <td>1</td>\n",
              "      <td>1</td>\n",
              "      <td>0.0</td>\n",
              "      <td>Imóvel totalmente reformado para atender espec...</td>\n",
              "      <td>900.0</td>\n",
              "      <td>NaN</td>\n",
              "      <td>0.447600</td>\n",
              "    </tr>\n",
              "    <tr>\n",
              "      <th>69</th>\n",
              "      <td>B</td>\n",
              "      <td>39a6db2728600ac4a1ef144ab6635476</td>\n",
              "      <td>JD. Morro Azul</td>\n",
              "      <td>500.0</td>\n",
              "      <td>0.0</td>\n",
              "      <td>NaN</td>\n",
              "      <td>1</td>\n",
              "      <td>1</td>\n",
              "      <td>0.0</td>\n",
              "      <td>Kitnet com 1 dormitório, 1 cozinha e 1 banheir...</td>\n",
              "      <td>500.0</td>\n",
              "      <td>NaN</td>\n",
              "      <td>0.750764</td>\n",
              "    </tr>\n",
              "    <tr>\n",
              "      <th>27</th>\n",
              "      <td>C</td>\n",
              "      <td>b2d83e2253d0695b33e339b8fdd48a94</td>\n",
              "      <td>JD. Paulista</td>\n",
              "      <td>950.0</td>\n",
              "      <td>0.0</td>\n",
              "      <td>16.0</td>\n",
              "      <td>1</td>\n",
              "      <td>1</td>\n",
              "      <td>0.0</td>\n",
              "      <td>Kitinet medindo 16 m² próximo à Faculdade Unic...</td>\n",
              "      <td>950.0</td>\n",
              "      <td>59.375</td>\n",
              "      <td>0.447600</td>\n",
              "    </tr>\n",
              "    <tr>\n",
              "      <th>24</th>\n",
              "      <td>C</td>\n",
              "      <td>74f4cf90ff8521e47f0acd347411dc9a</td>\n",
              "      <td>JD. Paulista</td>\n",
              "      <td>950.0</td>\n",
              "      <td>0.0</td>\n",
              "      <td>16.0</td>\n",
              "      <td>1</td>\n",
              "      <td>1</td>\n",
              "      <td>0.0</td>\n",
              "      <td>Kitnet localizada próximo à Unicamp (FCA) cont...</td>\n",
              "      <td>950.0</td>\n",
              "      <td>59.375</td>\n",
              "      <td>0.447600</td>\n",
              "    </tr>\n",
              "  </tbody>\n",
              "</table>\n",
              "</div>"
            ],
            "text/plain": [
              "   imob                            codigo  ... preco_m2  dist_unicamp\n",
              "68    B  07f6384f6c2c7d702650281e7a51f958  ...      NaN      0.750764\n",
              "54    B  2ca1576c1451e643b68e997da302e8ef  ...      NaN      0.447600\n",
              "28    B  8ea6bceec892ab9d2467eb912385a1a9  ...      NaN      0.447600\n",
              "22    C  7b17e06caa3474661e0d2ac8f44da80f  ...      NaN      0.447600\n",
              "51    B  568d1b833c4816a90df87ba89831f0ef  ...      NaN      0.447600\n",
              "69    B  39a6db2728600ac4a1ef144ab6635476  ...      NaN      0.750764\n",
              "27    C  b2d83e2253d0695b33e339b8fdd48a94  ...   59.375      0.447600\n",
              "24    C  74f4cf90ff8521e47f0acd347411dc9a  ...   59.375      0.447600\n",
              "\n",
              "[8 rows x 13 columns]"
            ]
          },
          "metadata": {},
          "execution_count": 458
        }
      ]
    },
    {
      "cell_type": "code",
      "metadata": {
        "colab": {
          "base_uri": "https://localhost:8080/",
          "height": 206
        },
        "id": "XHJLqBy1L0Yj",
        "outputId": "e160c6ac-33b5-4227-d1f3-4e4a6a4e3c2b"
      },
      "source": [
        "df_bairros_pertos.groupby(['imob', 'bairro']).agg(['count', 'mean', 'std'])"
      ],
      "execution_count": 289,
      "outputs": [
        {
          "output_type": "execute_result",
          "data": {
            "text/html": [
              "<div>\n",
              "<style scoped>\n",
              "    .dataframe tbody tr th:only-of-type {\n",
              "        vertical-align: middle;\n",
              "    }\n",
              "\n",
              "    .dataframe tbody tr th {\n",
              "        vertical-align: top;\n",
              "    }\n",
              "\n",
              "    .dataframe thead tr th {\n",
              "        text-align: left;\n",
              "    }\n",
              "\n",
              "    .dataframe thead tr:last-of-type th {\n",
              "        text-align: right;\n",
              "    }\n",
              "</style>\n",
              "<table border=\"1\" class=\"dataframe\">\n",
              "  <thead>\n",
              "    <tr>\n",
              "      <th></th>\n",
              "      <th></th>\n",
              "      <th colspan=\"3\" halign=\"left\">aluguel</th>\n",
              "      <th colspan=\"3\" halign=\"left\">condominio</th>\n",
              "      <th colspan=\"3\" halign=\"left\">area</th>\n",
              "      <th colspan=\"3\" halign=\"left\">quartos</th>\n",
              "      <th colspan=\"3\" halign=\"left\">banheiros</th>\n",
              "      <th colspan=\"3\" halign=\"left\">vaga_garagem</th>\n",
              "      <th colspan=\"3\" halign=\"left\">total</th>\n",
              "      <th colspan=\"3\" halign=\"left\">preco_m2</th>\n",
              "      <th colspan=\"3\" halign=\"left\">dist_unicamp</th>\n",
              "    </tr>\n",
              "    <tr>\n",
              "      <th></th>\n",
              "      <th></th>\n",
              "      <th>count</th>\n",
              "      <th>mean</th>\n",
              "      <th>std</th>\n",
              "      <th>count</th>\n",
              "      <th>mean</th>\n",
              "      <th>std</th>\n",
              "      <th>count</th>\n",
              "      <th>mean</th>\n",
              "      <th>std</th>\n",
              "      <th>count</th>\n",
              "      <th>mean</th>\n",
              "      <th>std</th>\n",
              "      <th>count</th>\n",
              "      <th>mean</th>\n",
              "      <th>std</th>\n",
              "      <th>count</th>\n",
              "      <th>mean</th>\n",
              "      <th>std</th>\n",
              "      <th>count</th>\n",
              "      <th>mean</th>\n",
              "      <th>std</th>\n",
              "      <th>count</th>\n",
              "      <th>mean</th>\n",
              "      <th>std</th>\n",
              "      <th>count</th>\n",
              "      <th>mean</th>\n",
              "      <th>std</th>\n",
              "    </tr>\n",
              "    <tr>\n",
              "      <th>imob</th>\n",
              "      <th>bairro</th>\n",
              "      <th></th>\n",
              "      <th></th>\n",
              "      <th></th>\n",
              "      <th></th>\n",
              "      <th></th>\n",
              "      <th></th>\n",
              "      <th></th>\n",
              "      <th></th>\n",
              "      <th></th>\n",
              "      <th></th>\n",
              "      <th></th>\n",
              "      <th></th>\n",
              "      <th></th>\n",
              "      <th></th>\n",
              "      <th></th>\n",
              "      <th></th>\n",
              "      <th></th>\n",
              "      <th></th>\n",
              "      <th></th>\n",
              "      <th></th>\n",
              "      <th></th>\n",
              "      <th></th>\n",
              "      <th></th>\n",
              "      <th></th>\n",
              "      <th></th>\n",
              "      <th></th>\n",
              "      <th></th>\n",
              "    </tr>\n",
              "  </thead>\n",
              "  <tbody>\n",
              "    <tr>\n",
              "      <th rowspan=\"2\" valign=\"top\">B</th>\n",
              "      <th>JD. Morro Azul</th>\n",
              "      <td>3</td>\n",
              "      <td>633.333333</td>\n",
              "      <td>115.470054</td>\n",
              "      <td>3</td>\n",
              "      <td>0.0</td>\n",
              "      <td>0.0</td>\n",
              "      <td>0</td>\n",
              "      <td>NaN</td>\n",
              "      <td>NaN</td>\n",
              "      <td>3</td>\n",
              "      <td>1</td>\n",
              "      <td>0.0</td>\n",
              "      <td>3</td>\n",
              "      <td>1</td>\n",
              "      <td>0.0</td>\n",
              "      <td>3</td>\n",
              "      <td>0.0</td>\n",
              "      <td>0.0</td>\n",
              "      <td>3</td>\n",
              "      <td>633.333333</td>\n",
              "      <td>115.470054</td>\n",
              "      <td>0</td>\n",
              "      <td>NaN</td>\n",
              "      <td>NaN</td>\n",
              "      <td>3</td>\n",
              "      <td>0.750764</td>\n",
              "      <td>0.0</td>\n",
              "    </tr>\n",
              "    <tr>\n",
              "      <th>JD. Paulista</th>\n",
              "      <td>7</td>\n",
              "      <td>914.285714</td>\n",
              "      <td>37.796447</td>\n",
              "      <td>7</td>\n",
              "      <td>0.0</td>\n",
              "      <td>0.0</td>\n",
              "      <td>0</td>\n",
              "      <td>NaN</td>\n",
              "      <td>NaN</td>\n",
              "      <td>7</td>\n",
              "      <td>1</td>\n",
              "      <td>0.0</td>\n",
              "      <td>7</td>\n",
              "      <td>1</td>\n",
              "      <td>0.0</td>\n",
              "      <td>7</td>\n",
              "      <td>0.0</td>\n",
              "      <td>0.0</td>\n",
              "      <td>7</td>\n",
              "      <td>914.285714</td>\n",
              "      <td>37.796447</td>\n",
              "      <td>0</td>\n",
              "      <td>NaN</td>\n",
              "      <td>NaN</td>\n",
              "      <td>7</td>\n",
              "      <td>0.447600</td>\n",
              "      <td>0.0</td>\n",
              "    </tr>\n",
              "    <tr>\n",
              "      <th>C</th>\n",
              "      <th>JD. Paulista</th>\n",
              "      <td>6</td>\n",
              "      <td>950.000000</td>\n",
              "      <td>0.000000</td>\n",
              "      <td>6</td>\n",
              "      <td>0.0</td>\n",
              "      <td>0.0</td>\n",
              "      <td>5</td>\n",
              "      <td>16.0</td>\n",
              "      <td>0.0</td>\n",
              "      <td>6</td>\n",
              "      <td>1</td>\n",
              "      <td>0.0</td>\n",
              "      <td>6</td>\n",
              "      <td>1</td>\n",
              "      <td>0.0</td>\n",
              "      <td>6</td>\n",
              "      <td>0.0</td>\n",
              "      <td>0.0</td>\n",
              "      <td>6</td>\n",
              "      <td>950.000000</td>\n",
              "      <td>0.000000</td>\n",
              "      <td>5</td>\n",
              "      <td>59.375</td>\n",
              "      <td>0.0</td>\n",
              "      <td>6</td>\n",
              "      <td>0.447600</td>\n",
              "      <td>0.0</td>\n",
              "    </tr>\n",
              "  </tbody>\n",
              "</table>\n",
              "</div>"
            ],
            "text/plain": [
              "                    aluguel                          ... dist_unicamp               \n",
              "                      count        mean         std  ...        count      mean  std\n",
              "imob bairro                                          ...                            \n",
              "B    JD. Morro Azul       3  633.333333  115.470054  ...            3  0.750764  0.0\n",
              "     JD. Paulista         7  914.285714   37.796447  ...            7  0.447600  0.0\n",
              "C    JD. Paulista         6  950.000000    0.000000  ...            6  0.447600  0.0\n",
              "\n",
              "[3 rows x 27 columns]"
            ]
          },
          "metadata": {},
          "execution_count": 289
        }
      ]
    },
    {
      "cell_type": "markdown",
      "metadata": {
        "id": "xbni_p6Uunoz"
      },
      "source": [
        "#### Acomodações mais perto e **baratas**"
      ]
    },
    {
      "cell_type": "code",
      "metadata": {
        "colab": {
          "base_uri": "https://localhost:8080/",
          "height": 162
        },
        "id": "7NtPstGbMHnp",
        "outputId": "456f076c-dfe0-4f28-a761-e959f9080f86"
      },
      "source": [
        "filtro_imobB_bairro_morro = (\n",
        "    (df_bairros_pertos['imob'] == 'B') &\n",
        "    (df_bairros_pertos['bairro'] == 'JD. Morro Azul')\n",
        ")\n",
        "\n",
        "df_bairros_pertos_baratos = df_bairros_pertos[filtro_imobB_bairro_morro]\n",
        "total_perto_barato = df_bairros_pertos_baratos.shape[0]\n",
        "print(total_perto_barato)\n",
        "df_bairros_pertos_baratos"
      ],
      "execution_count": 459,
      "outputs": [
        {
          "output_type": "stream",
          "name": "stdout",
          "text": [
            "3\n"
          ]
        },
        {
          "output_type": "execute_result",
          "data": {
            "text/html": [
              "<div>\n",
              "<style scoped>\n",
              "    .dataframe tbody tr th:only-of-type {\n",
              "        vertical-align: middle;\n",
              "    }\n",
              "\n",
              "    .dataframe tbody tr th {\n",
              "        vertical-align: top;\n",
              "    }\n",
              "\n",
              "    .dataframe thead th {\n",
              "        text-align: right;\n",
              "    }\n",
              "</style>\n",
              "<table border=\"1\" class=\"dataframe\">\n",
              "  <thead>\n",
              "    <tr style=\"text-align: right;\">\n",
              "      <th></th>\n",
              "      <th>imob</th>\n",
              "      <th>codigo</th>\n",
              "      <th>bairro</th>\n",
              "      <th>aluguel</th>\n",
              "      <th>condominio</th>\n",
              "      <th>area</th>\n",
              "      <th>quartos</th>\n",
              "      <th>banheiros</th>\n",
              "      <th>vaga_garagem</th>\n",
              "      <th>descricao</th>\n",
              "      <th>total</th>\n",
              "      <th>preco_m2</th>\n",
              "      <th>dist_unicamp</th>\n",
              "    </tr>\n",
              "  </thead>\n",
              "  <tbody>\n",
              "    <tr>\n",
              "      <th>66</th>\n",
              "      <td>B</td>\n",
              "      <td>6cb940ae9001fba36d6b120bca0fa2c1</td>\n",
              "      <td>JD. Morro Azul</td>\n",
              "      <td>700.0</td>\n",
              "      <td>0.0</td>\n",
              "      <td>NaN</td>\n",
              "      <td>1</td>\n",
              "      <td>1</td>\n",
              "      <td>0.0</td>\n",
              "      <td>Quitinete com dormitório e cozinha conjugados,...</td>\n",
              "      <td>700.0</td>\n",
              "      <td>NaN</td>\n",
              "      <td>0.750764</td>\n",
              "    </tr>\n",
              "    <tr>\n",
              "      <th>68</th>\n",
              "      <td>B</td>\n",
              "      <td>07f6384f6c2c7d702650281e7a51f958</td>\n",
              "      <td>JD. Morro Azul</td>\n",
              "      <td>700.0</td>\n",
              "      <td>0.0</td>\n",
              "      <td>NaN</td>\n",
              "      <td>1</td>\n",
              "      <td>1</td>\n",
              "      <td>0.0</td>\n",
              "      <td>Kitnet com área de serviço, 1 dormitório, 1 co...</td>\n",
              "      <td>700.0</td>\n",
              "      <td>NaN</td>\n",
              "      <td>0.750764</td>\n",
              "    </tr>\n",
              "    <tr>\n",
              "      <th>69</th>\n",
              "      <td>B</td>\n",
              "      <td>39a6db2728600ac4a1ef144ab6635476</td>\n",
              "      <td>JD. Morro Azul</td>\n",
              "      <td>500.0</td>\n",
              "      <td>0.0</td>\n",
              "      <td>NaN</td>\n",
              "      <td>1</td>\n",
              "      <td>1</td>\n",
              "      <td>0.0</td>\n",
              "      <td>Kitnet com 1 dormitório, 1 cozinha e 1 banheir...</td>\n",
              "      <td>500.0</td>\n",
              "      <td>NaN</td>\n",
              "      <td>0.750764</td>\n",
              "    </tr>\n",
              "  </tbody>\n",
              "</table>\n",
              "</div>"
            ],
            "text/plain": [
              "   imob                            codigo  ... preco_m2  dist_unicamp\n",
              "66    B  6cb940ae9001fba36d6b120bca0fa2c1  ...      NaN      0.750764\n",
              "68    B  07f6384f6c2c7d702650281e7a51f958  ...      NaN      0.750764\n",
              "69    B  39a6db2728600ac4a1ef144ab6635476  ...      NaN      0.750764\n",
              "\n",
              "[3 rows x 13 columns]"
            ]
          },
          "metadata": {},
          "execution_count": 459
        }
      ]
    },
    {
      "cell_type": "code",
      "metadata": {
        "colab": {
          "base_uri": "https://localhost:8080/",
          "height": 91
        },
        "id": "j04lnwSbMiKJ",
        "outputId": "7e4b0114-6ea9-4b1d-fb69-97b1f2a8b437"
      },
      "source": [
        "print(acomodacao_com_garagem(66))\n",
        "print(acomodacao_com_servico(66))\n",
        "df_bairros_pertos_baratos.loc[66, 'descricao']"
      ],
      "execution_count": 455,
      "outputs": [
        {
          "output_type": "stream",
          "name": "stdout",
          "text": [
            "False\n",
            "True\n"
          ]
        },
        {
          "output_type": "execute_result",
          "data": {
            "application/vnd.google.colaboratory.intrinsic+json": {
              "type": "string"
            },
            "text/plain": [
              "'Quitinete com dormitório e cozinha conjugados, banheiro com box de blindex e área de serviço de uso comum. Está incluso no valor do aluguel o consumo de agua e energia.   ***O valor de R$ 700,00 será se a locação for para uma pessoa. Caso seja para duas pessoas, o valor será de R$ 800,00.***'"
            ]
          },
          "metadata": {},
          "execution_count": 455
        }
      ]
    },
    {
      "cell_type": "code",
      "metadata": {
        "colab": {
          "base_uri": "https://localhost:8080/",
          "height": 72
        },
        "id": "kqjv0juKMqbN",
        "outputId": "c9950981-7edd-4831-b218-ffb4214d6dfd"
      },
      "source": [
        "print(acomodacao_com_garagem(68))\n",
        "print(acomodacao_com_servico(68))\n",
        "df_bairros_pertos_baratos.loc[68, 'descricao']"
      ],
      "execution_count": 456,
      "outputs": [
        {
          "output_type": "stream",
          "name": "stdout",
          "text": [
            "False\n",
            "False\n"
          ]
        },
        {
          "output_type": "execute_result",
          "data": {
            "application/vnd.google.colaboratory.intrinsic+json": {
              "type": "string"
            },
            "text/plain": [
              "'Kitnet com área de serviço, 1 dormitório, 1 cozinha e 1 banheiro.'"
            ]
          },
          "metadata": {},
          "execution_count": 456
        }
      ]
    },
    {
      "cell_type": "code",
      "metadata": {
        "colab": {
          "base_uri": "https://localhost:8080/",
          "height": 72
        },
        "id": "iM6kbUyBMqpk",
        "outputId": "5c83be17-1682-41cc-c9d2-a140730647e3"
      },
      "source": [
        "print(acomodacao_com_garagem(69))\n",
        "print(acomodacao_com_servico(69))\n",
        "df_bairros_pertos_baratos.loc[69, 'descricao']"
      ],
      "execution_count": 457,
      "outputs": [
        {
          "output_type": "stream",
          "name": "stdout",
          "text": [
            "False\n",
            "False\n"
          ]
        },
        {
          "output_type": "execute_result",
          "data": {
            "application/vnd.google.colaboratory.intrinsic+json": {
              "type": "string"
            },
            "text/plain": [
              "'Kitnet com 1 dormitório, 1 cozinha e 1 banheiro, nos fundos do imóvel.'"
            ]
          },
          "metadata": {},
          "execution_count": 457
        }
      ]
    },
    {
      "cell_type": "markdown",
      "metadata": {
        "id": "xeMbjXp-UXEn"
      },
      "source": [
        "#### Acomodações mais perto e **caras**"
      ]
    },
    {
      "cell_type": "code",
      "metadata": {
        "colab": {
          "base_uri": "https://localhost:8080/",
          "height": 476
        },
        "id": "o2YmnXjEUate",
        "outputId": "cd5d6f92-f189-46a4-d912-7ec0b41763ac"
      },
      "source": [
        "filtro_caro = (\n",
        "    (df_bairros_pertos['total'] > 700)\n",
        ")\n",
        "\n",
        "df_pertos_caros = df_bairros_pertos[filtro_caro]\n",
        "total_perto_caro = df_pertos_caros.shape[0]\n",
        "print(total_perto_caro)\n",
        "df_pertos_caros"
      ],
      "execution_count": 460,
      "outputs": [
        {
          "output_type": "stream",
          "name": "stdout",
          "text": [
            "13\n"
          ]
        },
        {
          "output_type": "execute_result",
          "data": {
            "text/html": [
              "<div>\n",
              "<style scoped>\n",
              "    .dataframe tbody tr th:only-of-type {\n",
              "        vertical-align: middle;\n",
              "    }\n",
              "\n",
              "    .dataframe tbody tr th {\n",
              "        vertical-align: top;\n",
              "    }\n",
              "\n",
              "    .dataframe thead th {\n",
              "        text-align: right;\n",
              "    }\n",
              "</style>\n",
              "<table border=\"1\" class=\"dataframe\">\n",
              "  <thead>\n",
              "    <tr style=\"text-align: right;\">\n",
              "      <th></th>\n",
              "      <th>imob</th>\n",
              "      <th>codigo</th>\n",
              "      <th>bairro</th>\n",
              "      <th>aluguel</th>\n",
              "      <th>condominio</th>\n",
              "      <th>area</th>\n",
              "      <th>quartos</th>\n",
              "      <th>banheiros</th>\n",
              "      <th>vaga_garagem</th>\n",
              "      <th>descricao</th>\n",
              "      <th>total</th>\n",
              "      <th>preco_m2</th>\n",
              "      <th>dist_unicamp</th>\n",
              "    </tr>\n",
              "  </thead>\n",
              "  <tbody>\n",
              "    <tr>\n",
              "      <th>20</th>\n",
              "      <td>C</td>\n",
              "      <td>b3b477f0632310b03bde750706df4596</td>\n",
              "      <td>JD. Paulista</td>\n",
              "      <td>950.0</td>\n",
              "      <td>0.0</td>\n",
              "      <td>16.0</td>\n",
              "      <td>1</td>\n",
              "      <td>1</td>\n",
              "      <td>0.0</td>\n",
              "      <td>Kitnet localizada próximo à Unicamp (FCA) cont...</td>\n",
              "      <td>950.0</td>\n",
              "      <td>59.375</td>\n",
              "      <td>0.4476</td>\n",
              "    </tr>\n",
              "    <tr>\n",
              "      <th>21</th>\n",
              "      <td>C</td>\n",
              "      <td>d7605883477939a58e52e551391d5dcb</td>\n",
              "      <td>JD. Paulista</td>\n",
              "      <td>950.0</td>\n",
              "      <td>0.0</td>\n",
              "      <td>16.0</td>\n",
              "      <td>1</td>\n",
              "      <td>1</td>\n",
              "      <td>0.0</td>\n",
              "      <td>Kitnet localizada próximo à Unicamp (FCA) cont...</td>\n",
              "      <td>950.0</td>\n",
              "      <td>59.375</td>\n",
              "      <td>0.4476</td>\n",
              "    </tr>\n",
              "    <tr>\n",
              "      <th>22</th>\n",
              "      <td>C</td>\n",
              "      <td>7b17e06caa3474661e0d2ac8f44da80f</td>\n",
              "      <td>JD. Paulista</td>\n",
              "      <td>950.0</td>\n",
              "      <td>0.0</td>\n",
              "      <td>NaN</td>\n",
              "      <td>1</td>\n",
              "      <td>1</td>\n",
              "      <td>0.0</td>\n",
              "      <td>Kitnet localizada próximo à Unicamp (FCA) cont...</td>\n",
              "      <td>950.0</td>\n",
              "      <td>NaN</td>\n",
              "      <td>0.4476</td>\n",
              "    </tr>\n",
              "    <tr>\n",
              "      <th>23</th>\n",
              "      <td>C</td>\n",
              "      <td>6a079dd44e0e8cc401934fe33492d0bc</td>\n",
              "      <td>JD. Paulista</td>\n",
              "      <td>950.0</td>\n",
              "      <td>0.0</td>\n",
              "      <td>16.0</td>\n",
              "      <td>1</td>\n",
              "      <td>1</td>\n",
              "      <td>0.0</td>\n",
              "      <td>Kitnet localizada próximo à Unicamp (FCA) cont...</td>\n",
              "      <td>950.0</td>\n",
              "      <td>59.375</td>\n",
              "      <td>0.4476</td>\n",
              "    </tr>\n",
              "    <tr>\n",
              "      <th>24</th>\n",
              "      <td>C</td>\n",
              "      <td>74f4cf90ff8521e47f0acd347411dc9a</td>\n",
              "      <td>JD. Paulista</td>\n",
              "      <td>950.0</td>\n",
              "      <td>0.0</td>\n",
              "      <td>16.0</td>\n",
              "      <td>1</td>\n",
              "      <td>1</td>\n",
              "      <td>0.0</td>\n",
              "      <td>Kitnet localizada próximo à Unicamp (FCA) cont...</td>\n",
              "      <td>950.0</td>\n",
              "      <td>59.375</td>\n",
              "      <td>0.4476</td>\n",
              "    </tr>\n",
              "    <tr>\n",
              "      <th>27</th>\n",
              "      <td>C</td>\n",
              "      <td>b2d83e2253d0695b33e339b8fdd48a94</td>\n",
              "      <td>JD. Paulista</td>\n",
              "      <td>950.0</td>\n",
              "      <td>0.0</td>\n",
              "      <td>16.0</td>\n",
              "      <td>1</td>\n",
              "      <td>1</td>\n",
              "      <td>0.0</td>\n",
              "      <td>Kitinet medindo 16 m² próximo à Faculdade Unic...</td>\n",
              "      <td>950.0</td>\n",
              "      <td>59.375</td>\n",
              "      <td>0.4476</td>\n",
              "    </tr>\n",
              "    <tr>\n",
              "      <th>28</th>\n",
              "      <td>B</td>\n",
              "      <td>8ea6bceec892ab9d2467eb912385a1a9</td>\n",
              "      <td>JD. Paulista</td>\n",
              "      <td>1000.0</td>\n",
              "      <td>0.0</td>\n",
              "      <td>NaN</td>\n",
              "      <td>1</td>\n",
              "      <td>1</td>\n",
              "      <td>0.0</td>\n",
              "      <td>Kitnet com um dormitório, banheiro, cozinha, á...</td>\n",
              "      <td>1000.0</td>\n",
              "      <td>NaN</td>\n",
              "      <td>0.4476</td>\n",
              "    </tr>\n",
              "    <tr>\n",
              "      <th>51</th>\n",
              "      <td>B</td>\n",
              "      <td>568d1b833c4816a90df87ba89831f0ef</td>\n",
              "      <td>JD. Paulista</td>\n",
              "      <td>900.0</td>\n",
              "      <td>0.0</td>\n",
              "      <td>NaN</td>\n",
              "      <td>1</td>\n",
              "      <td>1</td>\n",
              "      <td>0.0</td>\n",
              "      <td>Imóvel totalmente reformado para atender espec...</td>\n",
              "      <td>900.0</td>\n",
              "      <td>NaN</td>\n",
              "      <td>0.4476</td>\n",
              "    </tr>\n",
              "    <tr>\n",
              "      <th>52</th>\n",
              "      <td>B</td>\n",
              "      <td>873507a6a50bde15b658b1550f729dc1</td>\n",
              "      <td>JD. Paulista</td>\n",
              "      <td>900.0</td>\n",
              "      <td>0.0</td>\n",
              "      <td>NaN</td>\n",
              "      <td>1</td>\n",
              "      <td>1</td>\n",
              "      <td>0.0</td>\n",
              "      <td>Imóvel totalmente reformado para atender espec...</td>\n",
              "      <td>900.0</td>\n",
              "      <td>NaN</td>\n",
              "      <td>0.4476</td>\n",
              "    </tr>\n",
              "    <tr>\n",
              "      <th>53</th>\n",
              "      <td>B</td>\n",
              "      <td>d81e604fe471f170cc3cc19ee73c20dc</td>\n",
              "      <td>JD. Paulista</td>\n",
              "      <td>900.0</td>\n",
              "      <td>0.0</td>\n",
              "      <td>NaN</td>\n",
              "      <td>1</td>\n",
              "      <td>1</td>\n",
              "      <td>0.0</td>\n",
              "      <td>Imóvel totalmente reformado para atender espec...</td>\n",
              "      <td>900.0</td>\n",
              "      <td>NaN</td>\n",
              "      <td>0.4476</td>\n",
              "    </tr>\n",
              "    <tr>\n",
              "      <th>54</th>\n",
              "      <td>B</td>\n",
              "      <td>2ca1576c1451e643b68e997da302e8ef</td>\n",
              "      <td>JD. Paulista</td>\n",
              "      <td>900.0</td>\n",
              "      <td>0.0</td>\n",
              "      <td>NaN</td>\n",
              "      <td>1</td>\n",
              "      <td>1</td>\n",
              "      <td>0.0</td>\n",
              "      <td>Imóvel totalmente reformado para atender espec...</td>\n",
              "      <td>900.0</td>\n",
              "      <td>NaN</td>\n",
              "      <td>0.4476</td>\n",
              "    </tr>\n",
              "    <tr>\n",
              "      <th>55</th>\n",
              "      <td>B</td>\n",
              "      <td>60951c21f4b10552f419d83e4b3f8b73</td>\n",
              "      <td>JD. Paulista</td>\n",
              "      <td>900.0</td>\n",
              "      <td>0.0</td>\n",
              "      <td>NaN</td>\n",
              "      <td>1</td>\n",
              "      <td>1</td>\n",
              "      <td>0.0</td>\n",
              "      <td>Imóvel totalmente reformado para atender espec...</td>\n",
              "      <td>900.0</td>\n",
              "      <td>NaN</td>\n",
              "      <td>0.4476</td>\n",
              "    </tr>\n",
              "    <tr>\n",
              "      <th>56</th>\n",
              "      <td>B</td>\n",
              "      <td>92185e65b34f2224e2148eca1b18dbb9</td>\n",
              "      <td>JD. Paulista</td>\n",
              "      <td>900.0</td>\n",
              "      <td>0.0</td>\n",
              "      <td>NaN</td>\n",
              "      <td>1</td>\n",
              "      <td>1</td>\n",
              "      <td>0.0</td>\n",
              "      <td>Kitnet com 01 dormitório e 01 suíte.</td>\n",
              "      <td>900.0</td>\n",
              "      <td>NaN</td>\n",
              "      <td>0.4476</td>\n",
              "    </tr>\n",
              "  </tbody>\n",
              "</table>\n",
              "</div>"
            ],
            "text/plain": [
              "   imob                            codigo  ... preco_m2  dist_unicamp\n",
              "20    C  b3b477f0632310b03bde750706df4596  ...   59.375        0.4476\n",
              "21    C  d7605883477939a58e52e551391d5dcb  ...   59.375        0.4476\n",
              "22    C  7b17e06caa3474661e0d2ac8f44da80f  ...      NaN        0.4476\n",
              "23    C  6a079dd44e0e8cc401934fe33492d0bc  ...   59.375        0.4476\n",
              "24    C  74f4cf90ff8521e47f0acd347411dc9a  ...   59.375        0.4476\n",
              "27    C  b2d83e2253d0695b33e339b8fdd48a94  ...   59.375        0.4476\n",
              "28    B  8ea6bceec892ab9d2467eb912385a1a9  ...      NaN        0.4476\n",
              "51    B  568d1b833c4816a90df87ba89831f0ef  ...      NaN        0.4476\n",
              "52    B  873507a6a50bde15b658b1550f729dc1  ...      NaN        0.4476\n",
              "53    B  d81e604fe471f170cc3cc19ee73c20dc  ...      NaN        0.4476\n",
              "54    B  2ca1576c1451e643b68e997da302e8ef  ...      NaN        0.4476\n",
              "55    B  60951c21f4b10552f419d83e4b3f8b73  ...      NaN        0.4476\n",
              "56    B  92185e65b34f2224e2148eca1b18dbb9  ...      NaN        0.4476\n",
              "\n",
              "[13 rows x 13 columns]"
            ]
          },
          "metadata": {},
          "execution_count": 460
        }
      ]
    },
    {
      "cell_type": "markdown",
      "metadata": {
        "id": "hVwyW_5QvztR"
      },
      "source": [
        "#### **VALIDAÇÃO**"
      ]
    },
    {
      "cell_type": "code",
      "metadata": {
        "id": "SMb5981rv2rv"
      },
      "source": [
        "assert total_perto_barato + total_perto_caro == total_pertos"
      ],
      "execution_count": 461,
      "outputs": []
    },
    {
      "cell_type": "markdown",
      "metadata": {
        "id": "LAI3IdwSxWMX"
      },
      "source": [
        "Exportar **acomodações mais perto e barato**"
      ]
    },
    {
      "cell_type": "code",
      "metadata": {
        "colab": {
          "base_uri": "https://localhost:8080/",
          "height": 35
        },
        "id": "lgfK8eHYxWtM",
        "outputId": "afe053bd-766f-4141-cbca-d00171c14ad5"
      },
      "source": [
        "df_bairros_pertos_baratos = df_bairros_pertos[filtro_imobB_bairro_morro].copy()\n",
        "print(df_bairros_pertos_baratos.shape)\n",
        "df_bairros_pertos_baratos.index.name = 'index'\n",
        "df_bairros_pertos_baratos.to_csv('acomodacoes_perto_barato.csv')\n",
        "files.download('acomodacoes_perto_barato.csv')"
      ],
      "execution_count": 518,
      "outputs": [
        {
          "output_type": "stream",
          "name": "stdout",
          "text": [
            "(3, 13)\n"
          ]
        },
        {
          "output_type": "display_data",
          "data": {
            "application/javascript": [
              "\n",
              "    async function download(id, filename, size) {\n",
              "      if (!google.colab.kernel.accessAllowed) {\n",
              "        return;\n",
              "      }\n",
              "      const div = document.createElement('div');\n",
              "      const label = document.createElement('label');\n",
              "      label.textContent = `Downloading \"${filename}\": `;\n",
              "      div.appendChild(label);\n",
              "      const progress = document.createElement('progress');\n",
              "      progress.max = size;\n",
              "      div.appendChild(progress);\n",
              "      document.body.appendChild(div);\n",
              "\n",
              "      const buffers = [];\n",
              "      let downloaded = 0;\n",
              "\n",
              "      const channel = await google.colab.kernel.comms.open(id);\n",
              "      // Send a message to notify the kernel that we're ready.\n",
              "      channel.send({})\n",
              "\n",
              "      for await (const message of channel.messages) {\n",
              "        // Send a message to notify the kernel that we're ready.\n",
              "        channel.send({})\n",
              "        if (message.buffers) {\n",
              "          for (const buffer of message.buffers) {\n",
              "            buffers.push(buffer);\n",
              "            downloaded += buffer.byteLength;\n",
              "            progress.value = downloaded;\n",
              "          }\n",
              "        }\n",
              "      }\n",
              "      const blob = new Blob(buffers, {type: 'application/binary'});\n",
              "      const a = document.createElement('a');\n",
              "      a.href = window.URL.createObjectURL(blob);\n",
              "      a.download = filename;\n",
              "      div.appendChild(a);\n",
              "      a.click();\n",
              "      div.remove();\n",
              "    }\n",
              "  "
            ],
            "text/plain": [
              "<IPython.core.display.Javascript object>"
            ]
          },
          "metadata": {}
        },
        {
          "output_type": "display_data",
          "data": {
            "application/javascript": [
              "download(\"download_ca60c822-3a99-4387-8997-705d9c07e296\", \"acomodacoes_perto_barato.csv\", 861)"
            ],
            "text/plain": [
              "<IPython.core.display.Javascript object>"
            ]
          },
          "metadata": {}
        }
      ]
    },
    {
      "cell_type": "markdown",
      "metadata": {
        "id": "iSJscSPMnueF"
      },
      "source": [
        "Exportar **acomodações mais perto e caro**"
      ]
    },
    {
      "cell_type": "code",
      "metadata": {
        "colab": {
          "base_uri": "https://localhost:8080/",
          "height": 35
        },
        "id": "_gW5PkK1nv-s",
        "outputId": "e3465cd0-13d4-46f9-d4e4-554bef03bd81"
      },
      "source": [
        "print(df_pertos_caros.shape)\n",
        "df_pertos_caros.index.name = 'index'\n",
        "df_pertos_caros.to_csv('acomodacoes_perto_caro.csv')\n",
        "files.download('acomodacoes_perto_caro.csv')"
      ],
      "execution_count": 520,
      "outputs": [
        {
          "output_type": "stream",
          "name": "stdout",
          "text": [
            "(13, 13)\n"
          ]
        },
        {
          "output_type": "display_data",
          "data": {
            "application/javascript": [
              "\n",
              "    async function download(id, filename, size) {\n",
              "      if (!google.colab.kernel.accessAllowed) {\n",
              "        return;\n",
              "      }\n",
              "      const div = document.createElement('div');\n",
              "      const label = document.createElement('label');\n",
              "      label.textContent = `Downloading \"${filename}\": `;\n",
              "      div.appendChild(label);\n",
              "      const progress = document.createElement('progress');\n",
              "      progress.max = size;\n",
              "      div.appendChild(progress);\n",
              "      document.body.appendChild(div);\n",
              "\n",
              "      const buffers = [];\n",
              "      let downloaded = 0;\n",
              "\n",
              "      const channel = await google.colab.kernel.comms.open(id);\n",
              "      // Send a message to notify the kernel that we're ready.\n",
              "      channel.send({})\n",
              "\n",
              "      for await (const message of channel.messages) {\n",
              "        // Send a message to notify the kernel that we're ready.\n",
              "        channel.send({})\n",
              "        if (message.buffers) {\n",
              "          for (const buffer of message.buffers) {\n",
              "            buffers.push(buffer);\n",
              "            downloaded += buffer.byteLength;\n",
              "            progress.value = downloaded;\n",
              "          }\n",
              "        }\n",
              "      }\n",
              "      const blob = new Blob(buffers, {type: 'application/binary'});\n",
              "      const a = document.createElement('a');\n",
              "      a.href = window.URL.createObjectURL(blob);\n",
              "      a.download = filename;\n",
              "      div.appendChild(a);\n",
              "      a.click();\n",
              "      div.remove();\n",
              "    }\n",
              "  "
            ],
            "text/plain": [
              "<IPython.core.display.Javascript object>"
            ]
          },
          "metadata": {}
        },
        {
          "output_type": "display_data",
          "data": {
            "application/javascript": [
              "download(\"download_e59ff9fc-ca2c-4d30-8fe1-51e55501d4b3\", \"acomodacoes_perto_caro.csv\", 5844)"
            ],
            "text/plain": [
              "<IPython.core.display.Javascript object>"
            ]
          },
          "metadata": {}
        }
      ]
    },
    {
      "cell_type": "markdown",
      "metadata": {
        "id": "LoTLp3PONgfo"
      },
      "source": [
        "### Filtrando bairros mais **longes**"
      ]
    },
    {
      "cell_type": "code",
      "metadata": {
        "colab": {
          "base_uri": "https://localhost:8080/",
          "height": 225
        },
        "id": "0YRzebfwNgCe",
        "outputId": "5cc3b983-1cce-4dcc-d225-9c8e5d10500a"
      },
      "source": [
        "filtro_bairros_longe = (\n",
        "    (df_acomodacoes['bairro'] == 'JD. Cidade Universitária I') |\n",
        "    (df_acomodacoes['bairro'] == 'Chácara Antonieta') |\n",
        "    (df_acomodacoes['bairro'] == 'JD. São Paulo')\n",
        ")\n",
        "\n",
        "df_bairros_longe = df_acomodacoes[filtro_bairros_longe].copy()\n",
        "total_longes = df_bairros_longe.shape[0]\n",
        "print(total_longes)\n",
        "df_bairros_longe.sample(5)"
      ],
      "execution_count": 483,
      "outputs": [
        {
          "output_type": "stream",
          "name": "stdout",
          "text": [
            "63\n"
          ]
        },
        {
          "output_type": "execute_result",
          "data": {
            "text/html": [
              "<div>\n",
              "<style scoped>\n",
              "    .dataframe tbody tr th:only-of-type {\n",
              "        vertical-align: middle;\n",
              "    }\n",
              "\n",
              "    .dataframe tbody tr th {\n",
              "        vertical-align: top;\n",
              "    }\n",
              "\n",
              "    .dataframe thead th {\n",
              "        text-align: right;\n",
              "    }\n",
              "</style>\n",
              "<table border=\"1\" class=\"dataframe\">\n",
              "  <thead>\n",
              "    <tr style=\"text-align: right;\">\n",
              "      <th></th>\n",
              "      <th>imob</th>\n",
              "      <th>codigo</th>\n",
              "      <th>bairro</th>\n",
              "      <th>aluguel</th>\n",
              "      <th>condominio</th>\n",
              "      <th>area</th>\n",
              "      <th>quartos</th>\n",
              "      <th>banheiros</th>\n",
              "      <th>vaga_garagem</th>\n",
              "      <th>descricao</th>\n",
              "      <th>total</th>\n",
              "      <th>preco_m2</th>\n",
              "      <th>dist_unicamp</th>\n",
              "    </tr>\n",
              "  </thead>\n",
              "  <tbody>\n",
              "    <tr>\n",
              "      <th>58</th>\n",
              "      <td>B</td>\n",
              "      <td>97bcff626e416e4682240b08bfe240e9</td>\n",
              "      <td>JD. Cidade Universitária I</td>\n",
              "      <td>850.0</td>\n",
              "      <td>0.0</td>\n",
              "      <td>NaN</td>\n",
              "      <td>1</td>\n",
              "      <td>1</td>\n",
              "      <td>0.0</td>\n",
              "      <td>Kitnet no bairro Universitário, próximo a Unic...</td>\n",
              "      <td>850.0</td>\n",
              "      <td>NaN</td>\n",
              "      <td>1.385428</td>\n",
              "    </tr>\n",
              "    <tr>\n",
              "      <th>75</th>\n",
              "      <td>A</td>\n",
              "      <td>13a10985cb92f1112ce6894b29a575e7</td>\n",
              "      <td>Chácara Antonieta</td>\n",
              "      <td>850.0</td>\n",
              "      <td>0.0</td>\n",
              "      <td>30.0</td>\n",
              "      <td>1</td>\n",
              "      <td>1</td>\n",
              "      <td>0.0</td>\n",
              "      <td>CAMA,  GUARDA-ROUPA, GELADEIRA, BANCADA, TANQU...</td>\n",
              "      <td>850.0</td>\n",
              "      <td>28.333333</td>\n",
              "      <td>1.502339</td>\n",
              "    </tr>\n",
              "    <tr>\n",
              "      <th>32</th>\n",
              "      <td>B</td>\n",
              "      <td>358c95a5fb745563272054e6f2a14985</td>\n",
              "      <td>JD. Cidade Universitária I</td>\n",
              "      <td>1000.0</td>\n",
              "      <td>0.0</td>\n",
              "      <td>50.0</td>\n",
              "      <td>1</td>\n",
              "      <td>1</td>\n",
              "      <td>0.0</td>\n",
              "      <td>Imóvel com cozinha com gabinete, armários, mes...</td>\n",
              "      <td>1000.0</td>\n",
              "      <td>20.000000</td>\n",
              "      <td>1.385428</td>\n",
              "    </tr>\n",
              "    <tr>\n",
              "      <th>14</th>\n",
              "      <td>C</td>\n",
              "      <td>3a6973c5d2b2a8726c531a1693ea2ac1</td>\n",
              "      <td>JD. Cidade Universitária I</td>\n",
              "      <td>1000.0</td>\n",
              "      <td>0.0</td>\n",
              "      <td>NaN</td>\n",
              "      <td>1</td>\n",
              "      <td>1</td>\n",
              "      <td>0.0</td>\n",
              "      <td>Kitnet próxima à Unicamp (FCA) contendo quarto...</td>\n",
              "      <td>1000.0</td>\n",
              "      <td>NaN</td>\n",
              "      <td>1.385428</td>\n",
              "    </tr>\n",
              "    <tr>\n",
              "      <th>65</th>\n",
              "      <td>B</td>\n",
              "      <td>907f7fdcc12a82eadaec78ffa35e4708</td>\n",
              "      <td>JD. São Paulo</td>\n",
              "      <td>780.0</td>\n",
              "      <td>0.0</td>\n",
              "      <td>50.0</td>\n",
              "      <td>1</td>\n",
              "      <td>1</td>\n",
              "      <td>0.0</td>\n",
              "      <td>Kitnet com 01 dormitório, 01 banheiro.</td>\n",
              "      <td>780.0</td>\n",
              "      <td>15.600000</td>\n",
              "      <td>NaN</td>\n",
              "    </tr>\n",
              "  </tbody>\n",
              "</table>\n",
              "</div>"
            ],
            "text/plain": [
              "   imob                            codigo  ...   preco_m2  dist_unicamp\n",
              "58    B  97bcff626e416e4682240b08bfe240e9  ...        NaN      1.385428\n",
              "75    A  13a10985cb92f1112ce6894b29a575e7  ...  28.333333      1.502339\n",
              "32    B  358c95a5fb745563272054e6f2a14985  ...  20.000000      1.385428\n",
              "14    C  3a6973c5d2b2a8726c531a1693ea2ac1  ...        NaN      1.385428\n",
              "65    B  907f7fdcc12a82eadaec78ffa35e4708  ...  15.600000           NaN\n",
              "\n",
              "[5 rows x 13 columns]"
            ]
          },
          "metadata": {},
          "execution_count": 483
        }
      ]
    },
    {
      "cell_type": "code",
      "metadata": {
        "colab": {
          "base_uri": "https://localhost:8080/",
          "height": 428
        },
        "id": "4B-LSTR0Ntn5",
        "outputId": "557e1873-4383-4013-89ef-e23c9e077d34"
      },
      "source": [
        "df_bairros_longe.groupby(['imob', 'bairro']).agg(['count', 'mean', 'std'])"
      ],
      "execution_count": 484,
      "outputs": [
        {
          "output_type": "execute_result",
          "data": {
            "text/html": [
              "<div>\n",
              "<style scoped>\n",
              "    .dataframe tbody tr th:only-of-type {\n",
              "        vertical-align: middle;\n",
              "    }\n",
              "\n",
              "    .dataframe tbody tr th {\n",
              "        vertical-align: top;\n",
              "    }\n",
              "\n",
              "    .dataframe thead tr th {\n",
              "        text-align: left;\n",
              "    }\n",
              "\n",
              "    .dataframe thead tr:last-of-type th {\n",
              "        text-align: right;\n",
              "    }\n",
              "</style>\n",
              "<table border=\"1\" class=\"dataframe\">\n",
              "  <thead>\n",
              "    <tr>\n",
              "      <th></th>\n",
              "      <th></th>\n",
              "      <th colspan=\"3\" halign=\"left\">aluguel</th>\n",
              "      <th colspan=\"3\" halign=\"left\">condominio</th>\n",
              "      <th colspan=\"3\" halign=\"left\">area</th>\n",
              "      <th colspan=\"3\" halign=\"left\">quartos</th>\n",
              "      <th colspan=\"3\" halign=\"left\">banheiros</th>\n",
              "      <th colspan=\"3\" halign=\"left\">vaga_garagem</th>\n",
              "      <th colspan=\"3\" halign=\"left\">total</th>\n",
              "      <th colspan=\"3\" halign=\"left\">preco_m2</th>\n",
              "      <th colspan=\"3\" halign=\"left\">dist_unicamp</th>\n",
              "    </tr>\n",
              "    <tr>\n",
              "      <th></th>\n",
              "      <th></th>\n",
              "      <th>count</th>\n",
              "      <th>mean</th>\n",
              "      <th>std</th>\n",
              "      <th>count</th>\n",
              "      <th>mean</th>\n",
              "      <th>std</th>\n",
              "      <th>count</th>\n",
              "      <th>mean</th>\n",
              "      <th>std</th>\n",
              "      <th>count</th>\n",
              "      <th>mean</th>\n",
              "      <th>std</th>\n",
              "      <th>count</th>\n",
              "      <th>mean</th>\n",
              "      <th>std</th>\n",
              "      <th>count</th>\n",
              "      <th>mean</th>\n",
              "      <th>std</th>\n",
              "      <th>count</th>\n",
              "      <th>mean</th>\n",
              "      <th>std</th>\n",
              "      <th>count</th>\n",
              "      <th>mean</th>\n",
              "      <th>std</th>\n",
              "      <th>count</th>\n",
              "      <th>mean</th>\n",
              "      <th>std</th>\n",
              "    </tr>\n",
              "    <tr>\n",
              "      <th>imob</th>\n",
              "      <th>bairro</th>\n",
              "      <th></th>\n",
              "      <th></th>\n",
              "      <th></th>\n",
              "      <th></th>\n",
              "      <th></th>\n",
              "      <th></th>\n",
              "      <th></th>\n",
              "      <th></th>\n",
              "      <th></th>\n",
              "      <th></th>\n",
              "      <th></th>\n",
              "      <th></th>\n",
              "      <th></th>\n",
              "      <th></th>\n",
              "      <th></th>\n",
              "      <th></th>\n",
              "      <th></th>\n",
              "      <th></th>\n",
              "      <th></th>\n",
              "      <th></th>\n",
              "      <th></th>\n",
              "      <th></th>\n",
              "      <th></th>\n",
              "      <th></th>\n",
              "      <th></th>\n",
              "      <th></th>\n",
              "      <th></th>\n",
              "    </tr>\n",
              "  </thead>\n",
              "  <tbody>\n",
              "    <tr>\n",
              "      <th rowspan=\"2\" valign=\"top\">A</th>\n",
              "      <th>Chácara Antonieta</th>\n",
              "      <td>2</td>\n",
              "      <td>850.000000</td>\n",
              "      <td>0.000000</td>\n",
              "      <td>2</td>\n",
              "      <td>0.000000</td>\n",
              "      <td>0.000000</td>\n",
              "      <td>2</td>\n",
              "      <td>30.000000</td>\n",
              "      <td>0.000000</td>\n",
              "      <td>2</td>\n",
              "      <td>1</td>\n",
              "      <td>0.0</td>\n",
              "      <td>2</td>\n",
              "      <td>1</td>\n",
              "      <td>0.0</td>\n",
              "      <td>2</td>\n",
              "      <td>0.500000</td>\n",
              "      <td>0.707107</td>\n",
              "      <td>2</td>\n",
              "      <td>850.000000</td>\n",
              "      <td>0.000000</td>\n",
              "      <td>2</td>\n",
              "      <td>28.333333</td>\n",
              "      <td>0.000000</td>\n",
              "      <td>2</td>\n",
              "      <td>1.502339</td>\n",
              "      <td>0.0</td>\n",
              "    </tr>\n",
              "    <tr>\n",
              "      <th>JD. Cidade Universitária I</th>\n",
              "      <td>7</td>\n",
              "      <td>875.714286</td>\n",
              "      <td>102.283453</td>\n",
              "      <td>7</td>\n",
              "      <td>11.428571</td>\n",
              "      <td>30.237158</td>\n",
              "      <td>4</td>\n",
              "      <td>20.000000</td>\n",
              "      <td>0.000000</td>\n",
              "      <td>7</td>\n",
              "      <td>1</td>\n",
              "      <td>0.0</td>\n",
              "      <td>7</td>\n",
              "      <td>1</td>\n",
              "      <td>0.0</td>\n",
              "      <td>7</td>\n",
              "      <td>0.142857</td>\n",
              "      <td>0.377964</td>\n",
              "      <td>7</td>\n",
              "      <td>887.142857</td>\n",
              "      <td>96.732326</td>\n",
              "      <td>4</td>\n",
              "      <td>40.750000</td>\n",
              "      <td>2.217356</td>\n",
              "      <td>7</td>\n",
              "      <td>1.385428</td>\n",
              "      <td>0.0</td>\n",
              "    </tr>\n",
              "    <tr>\n",
              "      <th rowspan=\"2\" valign=\"top\">B</th>\n",
              "      <th>JD. Cidade Universitária I</th>\n",
              "      <td>31</td>\n",
              "      <td>944.516129</td>\n",
              "      <td>91.827327</td>\n",
              "      <td>31</td>\n",
              "      <td>0.000000</td>\n",
              "      <td>0.000000</td>\n",
              "      <td>6</td>\n",
              "      <td>83.333333</td>\n",
              "      <td>81.649658</td>\n",
              "      <td>31</td>\n",
              "      <td>1</td>\n",
              "      <td>0.0</td>\n",
              "      <td>31</td>\n",
              "      <td>1</td>\n",
              "      <td>0.0</td>\n",
              "      <td>31</td>\n",
              "      <td>0.000000</td>\n",
              "      <td>0.000000</td>\n",
              "      <td>31</td>\n",
              "      <td>944.516129</td>\n",
              "      <td>91.827327</td>\n",
              "      <td>6</td>\n",
              "      <td>16.466667</td>\n",
              "      <td>6.733399</td>\n",
              "      <td>31</td>\n",
              "      <td>1.385428</td>\n",
              "      <td>0.0</td>\n",
              "    </tr>\n",
              "    <tr>\n",
              "      <th>JD. São Paulo</th>\n",
              "      <td>1</td>\n",
              "      <td>780.000000</td>\n",
              "      <td>NaN</td>\n",
              "      <td>1</td>\n",
              "      <td>0.000000</td>\n",
              "      <td>NaN</td>\n",
              "      <td>1</td>\n",
              "      <td>50.000000</td>\n",
              "      <td>NaN</td>\n",
              "      <td>1</td>\n",
              "      <td>1</td>\n",
              "      <td>NaN</td>\n",
              "      <td>1</td>\n",
              "      <td>1</td>\n",
              "      <td>NaN</td>\n",
              "      <td>1</td>\n",
              "      <td>0.000000</td>\n",
              "      <td>NaN</td>\n",
              "      <td>1</td>\n",
              "      <td>780.000000</td>\n",
              "      <td>NaN</td>\n",
              "      <td>1</td>\n",
              "      <td>15.600000</td>\n",
              "      <td>NaN</td>\n",
              "      <td>0</td>\n",
              "      <td>NaN</td>\n",
              "      <td>NaN</td>\n",
              "    </tr>\n",
              "    <tr>\n",
              "      <th>C</th>\n",
              "      <th>JD. Cidade Universitária I</th>\n",
              "      <td>22</td>\n",
              "      <td>977.272727</td>\n",
              "      <td>61.193045</td>\n",
              "      <td>22</td>\n",
              "      <td>9.090909</td>\n",
              "      <td>29.424494</td>\n",
              "      <td>16</td>\n",
              "      <td>33.750000</td>\n",
              "      <td>3.415650</td>\n",
              "      <td>22</td>\n",
              "      <td>1</td>\n",
              "      <td>0.0</td>\n",
              "      <td>22</td>\n",
              "      <td>1</td>\n",
              "      <td>0.0</td>\n",
              "      <td>22</td>\n",
              "      <td>0.000000</td>\n",
              "      <td>0.000000</td>\n",
              "      <td>22</td>\n",
              "      <td>986.363636</td>\n",
              "      <td>63.960215</td>\n",
              "      <td>16</td>\n",
              "      <td>30.250000</td>\n",
              "      <td>4.586730</td>\n",
              "      <td>22</td>\n",
              "      <td>1.385428</td>\n",
              "      <td>0.0</td>\n",
              "    </tr>\n",
              "  </tbody>\n",
              "</table>\n",
              "</div>"
            ],
            "text/plain": [
              "                                aluguel              ... dist_unicamp     \n",
              "                                  count        mean  ...         mean  std\n",
              "imob bairro                                          ...                  \n",
              "A    Chácara Antonieta                2  850.000000  ...     1.502339  0.0\n",
              "     JD. Cidade Universitária I       7  875.714286  ...     1.385428  0.0\n",
              "B    JD. Cidade Universitária I      31  944.516129  ...     1.385428  0.0\n",
              "     JD. São Paulo                    1  780.000000  ...          NaN  NaN\n",
              "C    JD. Cidade Universitária I      22  977.272727  ...     1.385428  0.0\n",
              "\n",
              "[5 rows x 27 columns]"
            ]
          },
          "metadata": {},
          "execution_count": 484
        }
      ]
    },
    {
      "cell_type": "code",
      "metadata": {
        "colab": {
          "base_uri": "https://localhost:8080/",
          "height": 334
        },
        "id": "QxGP7SesOsSb",
        "outputId": "1bda40c9-533f-4df8-cba2-d6d796afe6fe"
      },
      "source": [
        "plt.figure(figsize=(8, 5))\n",
        "sns.histplot(data=df_bairros_longe, x=\"total\")\n",
        "plt.show()"
      ],
      "execution_count": 485,
      "outputs": [
        {
          "output_type": "display_data",
          "data": {
            "image/png": "[encoded data removed]",
            "text/plain": [
              "<Figure size 576x360 with 1 Axes>"
            ]
          },
          "metadata": {
            "needs_background": "light"
          }
        }
      ]
    },
    {
      "cell_type": "markdown",
      "metadata": {
        "id": "ekrMN2qeXoZ4"
      },
      "source": [
        "#### Acomodações longes e mais **baratas**"
      ]
    },
    {
      "cell_type": "code",
      "metadata": {
        "colab": {
          "base_uri": "https://localhost:8080/",
          "height": 225
        },
        "id": "Z07qpWLINxN7",
        "outputId": "49448f23-104a-45b5-ea08-fcb63e7a9031"
      },
      "source": [
        "filtro_mais_baratos = (\n",
        "    (df_bairros_longe['total'] < 1000)\n",
        ")\n",
        "\n",
        "df_bairros_longe_barato = df_bairros_longe[filtro_mais_baratos]\n",
        "total_longes_barato = df_bairros_longe_barato.shape[0]\n",
        "print(total_longes_barato)\n",
        "df_bairros_longe_barato.head()"
      ],
      "execution_count": 486,
      "outputs": [
        {
          "output_type": "stream",
          "name": "stdout",
          "text": [
            "19\n"
          ]
        },
        {
          "output_type": "execute_result",
          "data": {
            "text/html": [
              "<div>\n",
              "<style scoped>\n",
              "    .dataframe tbody tr th:only-of-type {\n",
              "        vertical-align: middle;\n",
              "    }\n",
              "\n",
              "    .dataframe tbody tr th {\n",
              "        vertical-align: top;\n",
              "    }\n",
              "\n",
              "    .dataframe thead th {\n",
              "        text-align: right;\n",
              "    }\n",
              "</style>\n",
              "<table border=\"1\" class=\"dataframe\">\n",
              "  <thead>\n",
              "    <tr style=\"text-align: right;\">\n",
              "      <th></th>\n",
              "      <th>imob</th>\n",
              "      <th>codigo</th>\n",
              "      <th>bairro</th>\n",
              "      <th>aluguel</th>\n",
              "      <th>condominio</th>\n",
              "      <th>area</th>\n",
              "      <th>quartos</th>\n",
              "      <th>banheiros</th>\n",
              "      <th>vaga_garagem</th>\n",
              "      <th>descricao</th>\n",
              "      <th>total</th>\n",
              "      <th>preco_m2</th>\n",
              "      <th>dist_unicamp</th>\n",
              "    </tr>\n",
              "  </thead>\n",
              "  <tbody>\n",
              "    <tr>\n",
              "      <th>5</th>\n",
              "      <td>C</td>\n",
              "      <td>660f29bab4766650b9e3e62aae4f6730</td>\n",
              "      <td>JD. Cidade Universitária I</td>\n",
              "      <td>850.0</td>\n",
              "      <td>0.0</td>\n",
              "      <td>NaN</td>\n",
              "      <td>1</td>\n",
              "      <td>1</td>\n",
              "      <td>0.0</td>\n",
              "      <td>Kitinet próximo à Unicamp (FCA) sendo 01 quart...</td>\n",
              "      <td>850.0</td>\n",
              "      <td>NaN</td>\n",
              "      <td>1.385428</td>\n",
              "    </tr>\n",
              "    <tr>\n",
              "      <th>11</th>\n",
              "      <td>C</td>\n",
              "      <td>17e432c6fd9c0be3a2cbf043f3bd8387</td>\n",
              "      <td>JD. Cidade Universitária I</td>\n",
              "      <td>750.0</td>\n",
              "      <td>0.0</td>\n",
              "      <td>NaN</td>\n",
              "      <td>1</td>\n",
              "      <td>1</td>\n",
              "      <td>0.0</td>\n",
              "      <td>Kitinet localizada na Cidade Universitária pró...</td>\n",
              "      <td>750.0</td>\n",
              "      <td>NaN</td>\n",
              "      <td>1.385428</td>\n",
              "    </tr>\n",
              "    <tr>\n",
              "      <th>57</th>\n",
              "      <td>B</td>\n",
              "      <td>d1f942def322fc204b6be20838e7d044</td>\n",
              "      <td>JD. Cidade Universitária I</td>\n",
              "      <td>850.0</td>\n",
              "      <td>0.0</td>\n",
              "      <td>NaN</td>\n",
              "      <td>1</td>\n",
              "      <td>1</td>\n",
              "      <td>0.0</td>\n",
              "      <td>Kitnet localizada na Cidade Universitária próx...</td>\n",
              "      <td>850.0</td>\n",
              "      <td>NaN</td>\n",
              "      <td>1.385428</td>\n",
              "    </tr>\n",
              "    <tr>\n",
              "      <th>58</th>\n",
              "      <td>B</td>\n",
              "      <td>97bcff626e416e4682240b08bfe240e9</td>\n",
              "      <td>JD. Cidade Universitária I</td>\n",
              "      <td>850.0</td>\n",
              "      <td>0.0</td>\n",
              "      <td>NaN</td>\n",
              "      <td>1</td>\n",
              "      <td>1</td>\n",
              "      <td>0.0</td>\n",
              "      <td>Kitnet no bairro Universitário, próximo a Unic...</td>\n",
              "      <td>850.0</td>\n",
              "      <td>NaN</td>\n",
              "      <td>1.385428</td>\n",
              "    </tr>\n",
              "    <tr>\n",
              "      <th>59</th>\n",
              "      <td>B</td>\n",
              "      <td>3efb8f5900d5b5dff557d6857681338a</td>\n",
              "      <td>JD. Cidade Universitária I</td>\n",
              "      <td>850.0</td>\n",
              "      <td>0.0</td>\n",
              "      <td>NaN</td>\n",
              "      <td>1</td>\n",
              "      <td>1</td>\n",
              "      <td>0.0</td>\n",
              "      <td>Kitnet localizada na Cidade Universitária próx...</td>\n",
              "      <td>850.0</td>\n",
              "      <td>NaN</td>\n",
              "      <td>1.385428</td>\n",
              "    </tr>\n",
              "  </tbody>\n",
              "</table>\n",
              "</div>"
            ],
            "text/plain": [
              "   imob                            codigo  ... preco_m2  dist_unicamp\n",
              "5     C  660f29bab4766650b9e3e62aae4f6730  ...      NaN      1.385428\n",
              "11    C  17e432c6fd9c0be3a2cbf043f3bd8387  ...      NaN      1.385428\n",
              "57    B  d1f942def322fc204b6be20838e7d044  ...      NaN      1.385428\n",
              "58    B  97bcff626e416e4682240b08bfe240e9  ...      NaN      1.385428\n",
              "59    B  3efb8f5900d5b5dff557d6857681338a  ...      NaN      1.385428\n",
              "\n",
              "[5 rows x 13 columns]"
            ]
          },
          "metadata": {},
          "execution_count": 486
        }
      ]
    },
    {
      "cell_type": "code",
      "metadata": {
        "colab": {
          "base_uri": "https://localhost:8080/"
        },
        "id": "8tJ-jGLTY27H",
        "outputId": "b5bbd38e-0473-4302-a86e-be0a9e88b829"
      },
      "source": [
        "print(search_key_words(df_bairros_longe_barato, ['garagem', 'vaga', 'carro', 'portão']).shape[0])"
      ],
      "execution_count": 487,
      "outputs": [
        {
          "output_type": "stream",
          "name": "stdout",
          "text": [
            "7\n"
          ]
        }
      ]
    },
    {
      "cell_type": "code",
      "metadata": {
        "colab": {
          "base_uri": "https://localhost:8080/",
          "height": 335
        },
        "id": "j0_2GtohQP0c",
        "outputId": "63c8bf17-7701-46b0-bd9a-2ea93c07c970"
      },
      "source": [
        "plt.figure(figsize=(8, 5))\n",
        "sns.histplot(data=df_bairros_longe_barato, x=\"preco_m2\")\n",
        "plt.show()"
      ],
      "execution_count": 488,
      "outputs": [
        {
          "output_type": "display_data",
          "data": {
            "image/png": "[encoded data removed]",
            "text/plain": [
              "<Figure size 576x360 with 1 Axes>"
            ]
          },
          "metadata": {
            "needs_background": "light"
          }
        }
      ]
    },
    {
      "cell_type": "markdown",
      "metadata": {
        "id": "xkH3TKq0Xza0"
      },
      "source": [
        "##### Acomodações mais longes, baratas e **maior** custo-benefício (preço/m2)"
      ]
    },
    {
      "cell_type": "code",
      "metadata": {
        "colab": {
          "base_uri": "https://localhost:8080/",
          "height": 538
        },
        "id": "7f0ZWv1zQdrI",
        "outputId": "c941258b-7e34-4205-e1aa-695511e33939"
      },
      "source": [
        "filtro_barato_menor_m2 = (\n",
        "    ((df_bairros_longe_barato['preco_m2'] < 35) | (df_bairros_longe_barato['preco_m2'].isnull()))\n",
        ")\n",
        "\n",
        "df_longe_barato_menor_m2 = df_bairros_longe_barato[filtro_barato_menor_m2].sort_values(by='total')\n",
        "total_longes_barato_menor_m2 = df_longe_barato_menor_m2.shape[0]\n",
        "print(total_longes_barato_menor_m2)\n",
        "df_longe_barato_menor_m2"
      ],
      "execution_count": 489,
      "outputs": [
        {
          "output_type": "stream",
          "name": "stdout",
          "text": [
            "15\n"
          ]
        },
        {
          "output_type": "execute_result",
          "data": {
            "text/html": [
              "<div>\n",
              "<style scoped>\n",
              "    .dataframe tbody tr th:only-of-type {\n",
              "        vertical-align: middle;\n",
              "    }\n",
              "\n",
              "    .dataframe tbody tr th {\n",
              "        vertical-align: top;\n",
              "    }\n",
              "\n",
              "    .dataframe thead th {\n",
              "        text-align: right;\n",
              "    }\n",
              "</style>\n",
              "<table border=\"1\" class=\"dataframe\">\n",
              "  <thead>\n",
              "    <tr style=\"text-align: right;\">\n",
              "      <th></th>\n",
              "      <th>imob</th>\n",
              "      <th>codigo</th>\n",
              "      <th>bairro</th>\n",
              "      <th>aluguel</th>\n",
              "      <th>condominio</th>\n",
              "      <th>area</th>\n",
              "      <th>quartos</th>\n",
              "      <th>banheiros</th>\n",
              "      <th>vaga_garagem</th>\n",
              "      <th>descricao</th>\n",
              "      <th>total</th>\n",
              "      <th>preco_m2</th>\n",
              "      <th>dist_unicamp</th>\n",
              "    </tr>\n",
              "  </thead>\n",
              "  <tbody>\n",
              "    <tr>\n",
              "      <th>67</th>\n",
              "      <td>B</td>\n",
              "      <td>af6492af6c80fea75bafc9c5d3464970</td>\n",
              "      <td>JD. Cidade Universitária I</td>\n",
              "      <td>700.0</td>\n",
              "      <td>0.0</td>\n",
              "      <td>NaN</td>\n",
              "      <td>1</td>\n",
              "      <td>1</td>\n",
              "      <td>0.0</td>\n",
              "      <td>Apto com micro-ondas geladeira e fogão elétric...</td>\n",
              "      <td>700.0</td>\n",
              "      <td>NaN</td>\n",
              "      <td>1.385428</td>\n",
              "    </tr>\n",
              "    <tr>\n",
              "      <th>11</th>\n",
              "      <td>C</td>\n",
              "      <td>17e432c6fd9c0be3a2cbf043f3bd8387</td>\n",
              "      <td>JD. Cidade Universitária I</td>\n",
              "      <td>750.0</td>\n",
              "      <td>0.0</td>\n",
              "      <td>NaN</td>\n",
              "      <td>1</td>\n",
              "      <td>1</td>\n",
              "      <td>0.0</td>\n",
              "      <td>Kitinet localizada na Cidade Universitária pró...</td>\n",
              "      <td>750.0</td>\n",
              "      <td>NaN</td>\n",
              "      <td>1.385428</td>\n",
              "    </tr>\n",
              "    <tr>\n",
              "      <th>64</th>\n",
              "      <td>B</td>\n",
              "      <td>4ea828c758c2c3ad996f717c4ea91ed5</td>\n",
              "      <td>JD. Cidade Universitária I</td>\n",
              "      <td>780.0</td>\n",
              "      <td>0.0</td>\n",
              "      <td>50.0</td>\n",
              "      <td>1</td>\n",
              "      <td>1</td>\n",
              "      <td>0.0</td>\n",
              "      <td>Kitnet com cozinha e sala conjugadas, um dormi...</td>\n",
              "      <td>780.0</td>\n",
              "      <td>15.600000</td>\n",
              "      <td>1.385428</td>\n",
              "    </tr>\n",
              "    <tr>\n",
              "      <th>65</th>\n",
              "      <td>B</td>\n",
              "      <td>907f7fdcc12a82eadaec78ffa35e4708</td>\n",
              "      <td>JD. São Paulo</td>\n",
              "      <td>780.0</td>\n",
              "      <td>0.0</td>\n",
              "      <td>50.0</td>\n",
              "      <td>1</td>\n",
              "      <td>1</td>\n",
              "      <td>0.0</td>\n",
              "      <td>Kitnet com 01 dormitório, 01 banheiro.</td>\n",
              "      <td>780.0</td>\n",
              "      <td>15.600000</td>\n",
              "      <td>NaN</td>\n",
              "    </tr>\n",
              "    <tr>\n",
              "      <th>61</th>\n",
              "      <td>B</td>\n",
              "      <td>ccbc8c34f1aafff2ded08a18d8826c6f</td>\n",
              "      <td>JD. Cidade Universitária I</td>\n",
              "      <td>800.0</td>\n",
              "      <td>0.0</td>\n",
              "      <td>250.0</td>\n",
              "      <td>1</td>\n",
              "      <td>1</td>\n",
              "      <td>0.0</td>\n",
              "      <td>Ótimo apartamento na Cidade Universitária com ...</td>\n",
              "      <td>800.0</td>\n",
              "      <td>3.200000</td>\n",
              "      <td>1.385428</td>\n",
              "    </tr>\n",
              "    <tr>\n",
              "      <th>62</th>\n",
              "      <td>B</td>\n",
              "      <td>decee23146cd497fccdaa119dd7f51b8</td>\n",
              "      <td>JD. Cidade Universitária I</td>\n",
              "      <td>800.0</td>\n",
              "      <td>0.0</td>\n",
              "      <td>NaN</td>\n",
              "      <td>1</td>\n",
              "      <td>1</td>\n",
              "      <td>0.0</td>\n",
              "      <td>Ótimo apartamento na Cidade Universitária com ...</td>\n",
              "      <td>800.0</td>\n",
              "      <td>NaN</td>\n",
              "      <td>1.385428</td>\n",
              "    </tr>\n",
              "    <tr>\n",
              "      <th>63</th>\n",
              "      <td>B</td>\n",
              "      <td>c18e0e8dc2d9c9e19e50d86b8903cfa7</td>\n",
              "      <td>JD. Cidade Universitária I</td>\n",
              "      <td>800.0</td>\n",
              "      <td>0.0</td>\n",
              "      <td>NaN</td>\n",
              "      <td>1</td>\n",
              "      <td>1</td>\n",
              "      <td>0.0</td>\n",
              "      <td>Ótimo apartamento na Cidade Universitária com ...</td>\n",
              "      <td>800.0</td>\n",
              "      <td>NaN</td>\n",
              "      <td>1.385428</td>\n",
              "    </tr>\n",
              "    <tr>\n",
              "      <th>5</th>\n",
              "      <td>C</td>\n",
              "      <td>660f29bab4766650b9e3e62aae4f6730</td>\n",
              "      <td>JD. Cidade Universitária I</td>\n",
              "      <td>850.0</td>\n",
              "      <td>0.0</td>\n",
              "      <td>NaN</td>\n",
              "      <td>1</td>\n",
              "      <td>1</td>\n",
              "      <td>0.0</td>\n",
              "      <td>Kitinet próximo à Unicamp (FCA) sendo 01 quart...</td>\n",
              "      <td>850.0</td>\n",
              "      <td>NaN</td>\n",
              "      <td>1.385428</td>\n",
              "    </tr>\n",
              "    <tr>\n",
              "      <th>57</th>\n",
              "      <td>B</td>\n",
              "      <td>d1f942def322fc204b6be20838e7d044</td>\n",
              "      <td>JD. Cidade Universitária I</td>\n",
              "      <td>850.0</td>\n",
              "      <td>0.0</td>\n",
              "      <td>NaN</td>\n",
              "      <td>1</td>\n",
              "      <td>1</td>\n",
              "      <td>0.0</td>\n",
              "      <td>Kitnet localizada na Cidade Universitária próx...</td>\n",
              "      <td>850.0</td>\n",
              "      <td>NaN</td>\n",
              "      <td>1.385428</td>\n",
              "    </tr>\n",
              "    <tr>\n",
              "      <th>58</th>\n",
              "      <td>B</td>\n",
              "      <td>97bcff626e416e4682240b08bfe240e9</td>\n",
              "      <td>JD. Cidade Universitária I</td>\n",
              "      <td>850.0</td>\n",
              "      <td>0.0</td>\n",
              "      <td>NaN</td>\n",
              "      <td>1</td>\n",
              "      <td>1</td>\n",
              "      <td>0.0</td>\n",
              "      <td>Kitnet no bairro Universitário, próximo a Unic...</td>\n",
              "      <td>850.0</td>\n",
              "      <td>NaN</td>\n",
              "      <td>1.385428</td>\n",
              "    </tr>\n",
              "    <tr>\n",
              "      <th>59</th>\n",
              "      <td>B</td>\n",
              "      <td>3efb8f5900d5b5dff557d6857681338a</td>\n",
              "      <td>JD. Cidade Universitária I</td>\n",
              "      <td>850.0</td>\n",
              "      <td>0.0</td>\n",
              "      <td>NaN</td>\n",
              "      <td>1</td>\n",
              "      <td>1</td>\n",
              "      <td>0.0</td>\n",
              "      <td>Kitnet localizada na Cidade Universitária próx...</td>\n",
              "      <td>850.0</td>\n",
              "      <td>NaN</td>\n",
              "      <td>1.385428</td>\n",
              "    </tr>\n",
              "    <tr>\n",
              "      <th>60</th>\n",
              "      <td>B</td>\n",
              "      <td>c3ff9f70c3bdd79c59d6a641c3d2eabc</td>\n",
              "      <td>JD. Cidade Universitária I</td>\n",
              "      <td>850.0</td>\n",
              "      <td>0.0</td>\n",
              "      <td>NaN</td>\n",
              "      <td>1</td>\n",
              "      <td>1</td>\n",
              "      <td>0.0</td>\n",
              "      <td>Kitnet localizada na Cidade Universitária próx...</td>\n",
              "      <td>850.0</td>\n",
              "      <td>NaN</td>\n",
              "      <td>1.385428</td>\n",
              "    </tr>\n",
              "    <tr>\n",
              "      <th>75</th>\n",
              "      <td>A</td>\n",
              "      <td>13a10985cb92f1112ce6894b29a575e7</td>\n",
              "      <td>Chácara Antonieta</td>\n",
              "      <td>850.0</td>\n",
              "      <td>0.0</td>\n",
              "      <td>30.0</td>\n",
              "      <td>1</td>\n",
              "      <td>1</td>\n",
              "      <td>0.0</td>\n",
              "      <td>CAMA,  GUARDA-ROUPA, GELADEIRA, BANCADA, TANQU...</td>\n",
              "      <td>850.0</td>\n",
              "      <td>28.333333</td>\n",
              "      <td>1.502339</td>\n",
              "    </tr>\n",
              "    <tr>\n",
              "      <th>76</th>\n",
              "      <td>A</td>\n",
              "      <td>a92a6e35acca298c33b9d2c83bde3505</td>\n",
              "      <td>Chácara Antonieta</td>\n",
              "      <td>850.0</td>\n",
              "      <td>0.0</td>\n",
              "      <td>30.0</td>\n",
              "      <td>1</td>\n",
              "      <td>1</td>\n",
              "      <td>1.0</td>\n",
              "      <td>CAMA,  GUARDA-ROUPA, GELADEIRA, BANCADA, TANQU...</td>\n",
              "      <td>850.0</td>\n",
              "      <td>28.333333</td>\n",
              "      <td>1.502339</td>\n",
              "    </tr>\n",
              "    <tr>\n",
              "      <th>77</th>\n",
              "      <td>A</td>\n",
              "      <td>4b4adce0a87af0846fda6bdbe38d670a</td>\n",
              "      <td>JD. Cidade Universitária I</td>\n",
              "      <td>950.0</td>\n",
              "      <td>0.0</td>\n",
              "      <td>NaN</td>\n",
              "      <td>1</td>\n",
              "      <td>1</td>\n",
              "      <td>0.0</td>\n",
              "      <td>KITNET CONTENDO FOGÃO, GELADEIRA, ARMÁRIO EMBU...</td>\n",
              "      <td>950.0</td>\n",
              "      <td>NaN</td>\n",
              "      <td>1.385428</td>\n",
              "    </tr>\n",
              "  </tbody>\n",
              "</table>\n",
              "</div>"
            ],
            "text/plain": [
              "   imob                            codigo  ...   preco_m2  dist_unicamp\n",
              "67    B  af6492af6c80fea75bafc9c5d3464970  ...        NaN      1.385428\n",
              "11    C  17e432c6fd9c0be3a2cbf043f3bd8387  ...        NaN      1.385428\n",
              "64    B  4ea828c758c2c3ad996f717c4ea91ed5  ...  15.600000      1.385428\n",
              "65    B  907f7fdcc12a82eadaec78ffa35e4708  ...  15.600000           NaN\n",
              "61    B  ccbc8c34f1aafff2ded08a18d8826c6f  ...   3.200000      1.385428\n",
              "62    B  decee23146cd497fccdaa119dd7f51b8  ...        NaN      1.385428\n",
              "63    B  c18e0e8dc2d9c9e19e50d86b8903cfa7  ...        NaN      1.385428\n",
              "5     C  660f29bab4766650b9e3e62aae4f6730  ...        NaN      1.385428\n",
              "57    B  d1f942def322fc204b6be20838e7d044  ...        NaN      1.385428\n",
              "58    B  97bcff626e416e4682240b08bfe240e9  ...        NaN      1.385428\n",
              "59    B  3efb8f5900d5b5dff557d6857681338a  ...        NaN      1.385428\n",
              "60    B  c3ff9f70c3bdd79c59d6a641c3d2eabc  ...        NaN      1.385428\n",
              "75    A  13a10985cb92f1112ce6894b29a575e7  ...  28.333333      1.502339\n",
              "76    A  a92a6e35acca298c33b9d2c83bde3505  ...  28.333333      1.502339\n",
              "77    A  4b4adce0a87af0846fda6bdbe38d670a  ...        NaN      1.385428\n",
              "\n",
              "[15 rows x 13 columns]"
            ]
          },
          "metadata": {},
          "execution_count": 489
        }
      ]
    },
    {
      "cell_type": "code",
      "metadata": {
        "colab": {
          "base_uri": "https://localhost:8080/",
          "height": 72
        },
        "id": "H6pgyFBhSteU",
        "outputId": "2c1d7833-a36a-4e9b-a629-c28142cecf97"
      },
      "source": [
        "print(acomodacao_com_garagem(67))\n",
        "print(acomodacao_com_servico(67))\n",
        "df_longe_barato_menor_m2.loc[67, 'descricao']"
      ],
      "execution_count": 490,
      "outputs": [
        {
          "output_type": "stream",
          "name": "stdout",
          "text": [
            "False\n",
            "True\n"
          ]
        },
        {
          "output_type": "execute_result",
          "data": {
            "application/vnd.google.colaboratory.intrinsic+json": {
              "type": "string"
            },
            "text/plain": [
              "'Apto com micro-ondas geladeira e fogão elétrico, banheiro com box, cozinha com gabinete, sala e quarto conjugados, cerca elétrica, interfone, ponto para internet.'"
            ]
          },
          "metadata": {},
          "execution_count": 490
        }
      ]
    },
    {
      "cell_type": "code",
      "metadata": {
        "colab": {
          "base_uri": "https://localhost:8080/",
          "height": 91
        },
        "id": "rqAZTJY5S2-O",
        "outputId": "1280d42b-a2c2-4585-a87c-00e146498a36"
      },
      "source": [
        "print(acomodacao_com_garagem(11))\n",
        "print(acomodacao_com_servico(11))\n",
        "df_longe_barato_menor_m2.loc[11, 'descricao']"
      ],
      "execution_count": 491,
      "outputs": [
        {
          "output_type": "stream",
          "name": "stdout",
          "text": [
            "False\n",
            "False\n"
          ]
        },
        {
          "output_type": "execute_result",
          "data": {
            "application/vnd.google.colaboratory.intrinsic+json": {
              "type": "string"
            },
            "text/plain": [
              "'Kitinet localizada na Cidade Universitária próximo a Unicamp (FCA) contendo 01 quarto e cozinha conjugados, banheiro e lavanderia, imóvel também possui cama e micro-ondas.\\n1       QUARTO CONJUGADO COM COZINHA\\n1       BANHEIRO\\n1       LAVANDERIA\\nPISO PORCELANATO\\nTETO LAJE E GESSO'"
            ]
          },
          "metadata": {},
          "execution_count": 491
        }
      ]
    },
    {
      "cell_type": "code",
      "metadata": {
        "colab": {
          "base_uri": "https://localhost:8080/",
          "height": 72
        },
        "id": "9oTQqb9RS4Nq",
        "outputId": "0819f0be-ae69-4caf-e19e-707461ba1a76"
      },
      "source": [
        "print(acomodacao_com_garagem(64))\n",
        "print(acomodacao_com_servico(64))\n",
        "df_longe_barato_menor_m2.loc[64, 'descricao']"
      ],
      "execution_count": 492,
      "outputs": [
        {
          "output_type": "stream",
          "name": "stdout",
          "text": [
            "False\n",
            "False\n"
          ]
        },
        {
          "output_type": "execute_result",
          "data": {
            "application/vnd.google.colaboratory.intrinsic+json": {
              "type": "string"
            },
            "text/plain": [
              "'Kitnet com cozinha e sala conjugadas, um dormitório e banheiro.'"
            ]
          },
          "metadata": {},
          "execution_count": 492
        }
      ]
    },
    {
      "cell_type": "code",
      "metadata": {
        "colab": {
          "base_uri": "https://localhost:8080/",
          "height": 91
        },
        "id": "LKDzRy5bS5-R",
        "outputId": "510d11ce-a301-417c-e59c-65d64ec0b851"
      },
      "source": [
        "print(acomodacao_com_garagem(61))\n",
        "print(acomodacao_com_servico(61))\n",
        "df_longe_barato_menor_m2.loc[61, 'descricao']"
      ],
      "execution_count": 493,
      "outputs": [
        {
          "output_type": "stream",
          "name": "stdout",
          "text": [
            "False\n",
            "True\n"
          ]
        },
        {
          "output_type": "execute_result",
          "data": {
            "application/vnd.google.colaboratory.intrinsic+json": {
              "type": "string"
            },
            "text/plain": [
              "'Ótimo apartamento na Cidade Universitária com um dormitório com armários, banheiro social com gabinete e box de blindex, sala, cozinha com armários, geladeira, microondas, cooktop e área de serviço comum.  O locatário ficará isento do consumo de água até 10 m³ mensal e faxina semanal na área comum.'"
            ]
          },
          "metadata": {},
          "execution_count": 493
        }
      ]
    },
    {
      "cell_type": "code",
      "metadata": {
        "colab": {
          "base_uri": "https://localhost:8080/",
          "height": 91
        },
        "id": "Zp0AJDZNTW6L",
        "outputId": "1f7edac9-68ec-492e-bc10-235edc8c1fc4"
      },
      "source": [
        "print(acomodacao_com_garagem(62))\n",
        "print(acomodacao_com_servico(62))\n",
        "df_longe_barato_menor_m2.loc[62, 'descricao']"
      ],
      "execution_count": 494,
      "outputs": [
        {
          "output_type": "stream",
          "name": "stdout",
          "text": [
            "False\n",
            "True\n"
          ]
        },
        {
          "output_type": "execute_result",
          "data": {
            "application/vnd.google.colaboratory.intrinsic+json": {
              "type": "string"
            },
            "text/plain": [
              "'Ótimo apartamento na Cidade Universitária com um dormitório com armários, banheiro social com gabinete e box, sala, cozinha com armários, geladeira, microondas, cooktop e área de serviço comum.  O locatário ficará isento do consumo de água (até 10 m³ mensal) e faxina semanal na área comum.'"
            ]
          },
          "metadata": {},
          "execution_count": 494
        }
      ]
    },
    {
      "cell_type": "code",
      "metadata": {
        "colab": {
          "base_uri": "https://localhost:8080/",
          "height": 91
        },
        "id": "02IxHo2PTgk0",
        "outputId": "3e32bbfa-1a37-4b02-8e91-25cd2a1f5cfc"
      },
      "source": [
        "### Vaga de garagem ###\n",
        "print(acomodacao_com_garagem(63))\n",
        "print(acomodacao_com_servico(63))\n",
        "df_longe_barato_menor_m2.loc[63, 'descricao']"
      ],
      "execution_count": 495,
      "outputs": [
        {
          "output_type": "stream",
          "name": "stdout",
          "text": [
            "True\n",
            "True\n"
          ]
        },
        {
          "output_type": "execute_result",
          "data": {
            "application/vnd.google.colaboratory.intrinsic+json": {
              "type": "string"
            },
            "text/plain": [
              "'Ótimo apartamento na Cidade Universitária com um dormitório com armários banheiro social com gabinete e box de blindex cozinha com armários geladeira microondas cooktop e área de serviço comum. Uma vaga de garagem.  O locatário ficará isento do consumo de água até 10 m³ mensal e faxina semanal na área comum.'"
            ]
          },
          "metadata": {},
          "execution_count": 495
        }
      ]
    },
    {
      "cell_type": "markdown",
      "metadata": {
        "id": "ApzUxP7Ms6ik"
      },
      "source": [
        "##### Acomodações mais longes, baratas e **menor** custo-benefício (preço/m2)"
      ]
    },
    {
      "cell_type": "code",
      "metadata": {
        "colab": {
          "base_uri": "https://localhost:8080/",
          "height": 193
        },
        "id": "i4bR5uros78M",
        "outputId": "c11a078b-7def-49ca-afe1-56ac3cd84cf2"
      },
      "source": [
        "filtro_barato_maior_m2 = (\n",
        "    (df_bairros_longe_barato['preco_m2'] >= 35)\n",
        ")\n",
        "\n",
        "df_longe_barato_maior_m2 = df_bairros_longe_barato[filtro_barato_maior_m2].sort_values(by='total')\n",
        "total_longes_barato_maior_m2 = df_longe_barato_maior_m2.shape[0]\n",
        "print(total_longes_barato_maior_m2)\n",
        "df_longe_barato_maior_m2"
      ],
      "execution_count": 496,
      "outputs": [
        {
          "output_type": "stream",
          "name": "stdout",
          "text": [
            "4\n"
          ]
        },
        {
          "output_type": "execute_result",
          "data": {
            "text/html": [
              "<div>\n",
              "<style scoped>\n",
              "    .dataframe tbody tr th:only-of-type {\n",
              "        vertical-align: middle;\n",
              "    }\n",
              "\n",
              "    .dataframe tbody tr th {\n",
              "        vertical-align: top;\n",
              "    }\n",
              "\n",
              "    .dataframe thead th {\n",
              "        text-align: right;\n",
              "    }\n",
              "</style>\n",
              "<table border=\"1\" class=\"dataframe\">\n",
              "  <thead>\n",
              "    <tr style=\"text-align: right;\">\n",
              "      <th></th>\n",
              "      <th>imob</th>\n",
              "      <th>codigo</th>\n",
              "      <th>bairro</th>\n",
              "      <th>aluguel</th>\n",
              "      <th>condominio</th>\n",
              "      <th>area</th>\n",
              "      <th>quartos</th>\n",
              "      <th>banheiros</th>\n",
              "      <th>vaga_garagem</th>\n",
              "      <th>descricao</th>\n",
              "      <th>total</th>\n",
              "      <th>preco_m2</th>\n",
              "      <th>dist_unicamp</th>\n",
              "    </tr>\n",
              "  </thead>\n",
              "  <tbody>\n",
              "    <tr>\n",
              "      <th>71</th>\n",
              "      <td>A</td>\n",
              "      <td>c5a84c8eb6b4f9c7389fd32afa1e5357</td>\n",
              "      <td>JD. Cidade Universitária I</td>\n",
              "      <td>780.0</td>\n",
              "      <td>0.0</td>\n",
              "      <td>20.0</td>\n",
              "      <td>1</td>\n",
              "      <td>1</td>\n",
              "      <td>0.0</td>\n",
              "      <td>KITNET COM CAMA, ARMÁRIOS, ESCRIVANINHA,COZINH...</td>\n",
              "      <td>780.0</td>\n",
              "      <td>39.0</td>\n",
              "      <td>1.385428</td>\n",
              "    </tr>\n",
              "    <tr>\n",
              "      <th>72</th>\n",
              "      <td>A</td>\n",
              "      <td>9b5801ddc55b2411554d6fb109229460</td>\n",
              "      <td>JD. Cidade Universitária I</td>\n",
              "      <td>800.0</td>\n",
              "      <td>0.0</td>\n",
              "      <td>20.0</td>\n",
              "      <td>1</td>\n",
              "      <td>1</td>\n",
              "      <td>0.0</td>\n",
              "      <td>COZINHA COM GELADEIRA COM DISPENSER NA PORTA, ...</td>\n",
              "      <td>800.0</td>\n",
              "      <td>40.0</td>\n",
              "      <td>1.385428</td>\n",
              "    </tr>\n",
              "    <tr>\n",
              "      <th>74</th>\n",
              "      <td>A</td>\n",
              "      <td>350e21033122ce335fd0fd5f0031179d</td>\n",
              "      <td>JD. Cidade Universitária I</td>\n",
              "      <td>800.0</td>\n",
              "      <td>0.0</td>\n",
              "      <td>20.0</td>\n",
              "      <td>1</td>\n",
              "      <td>1</td>\n",
              "      <td>1.0</td>\n",
              "      <td>COZINHA COM GELADEIRA COM DISPENSER NA PORTA, ...</td>\n",
              "      <td>800.0</td>\n",
              "      <td>40.0</td>\n",
              "      <td>1.385428</td>\n",
              "    </tr>\n",
              "    <tr>\n",
              "      <th>73</th>\n",
              "      <td>A</td>\n",
              "      <td>f773fe72ae9c3ae06183ea91d181347a</td>\n",
              "      <td>JD. Cidade Universitária I</td>\n",
              "      <td>800.0</td>\n",
              "      <td>80.0</td>\n",
              "      <td>20.0</td>\n",
              "      <td>1</td>\n",
              "      <td>1</td>\n",
              "      <td>0.0</td>\n",
              "      <td>COZINHA COM GELADEIRA COM DISPENSER NA PORTA, ...</td>\n",
              "      <td>880.0</td>\n",
              "      <td>44.0</td>\n",
              "      <td>1.385428</td>\n",
              "    </tr>\n",
              "  </tbody>\n",
              "</table>\n",
              "</div>"
            ],
            "text/plain": [
              "   imob                            codigo  ... preco_m2  dist_unicamp\n",
              "71    A  c5a84c8eb6b4f9c7389fd32afa1e5357  ...     39.0      1.385428\n",
              "72    A  9b5801ddc55b2411554d6fb109229460  ...     40.0      1.385428\n",
              "74    A  350e21033122ce335fd0fd5f0031179d  ...     40.0      1.385428\n",
              "73    A  f773fe72ae9c3ae06183ea91d181347a  ...     44.0      1.385428\n",
              "\n",
              "[4 rows x 13 columns]"
            ]
          },
          "metadata": {},
          "execution_count": 496
        }
      ]
    },
    {
      "cell_type": "markdown",
      "metadata": {
        "id": "aPNE3Ig8wuNW"
      },
      "source": [
        "##### **VALIDAÇÃO**"
      ]
    },
    {
      "cell_type": "code",
      "metadata": {
        "id": "_h3RsEDpwuv6"
      },
      "source": [
        "assert total_longes_barato_menor_m2 + total_longes_barato_maior_m2 == total_longes_barato"
      ],
      "execution_count": 497,
      "outputs": []
    },
    {
      "cell_type": "markdown",
      "metadata": {
        "id": "mSy7SNbQxBzV"
      },
      "source": [
        "Exportar **acomodações mais longe, barato e custo-benefício**"
      ]
    },
    {
      "cell_type": "code",
      "metadata": {
        "colab": {
          "base_uri": "https://localhost:8080/",
          "height": 35
        },
        "id": "gObNN1-exCbp",
        "outputId": "f5418a7e-78f6-4d32-ac4c-13d826b96424"
      },
      "source": [
        "print(df_longe_barato_menor_m2.shape)\n",
        "df_longe_barato_menor_m2.index.name = 'index'\n",
        "df_longe_barato_menor_m2.to_csv('acomodacoes_longe_barato_menor_m2.csv')\n",
        "files.download('acomodacoes_longe_barato_menor_m2.csv')"
      ],
      "execution_count": 521,
      "outputs": [
        {
          "output_type": "stream",
          "name": "stdout",
          "text": [
            "(15, 13)\n"
          ]
        },
        {
          "output_type": "display_data",
          "data": {
            "application/javascript": [
              "\n",
              "    async function download(id, filename, size) {\n",
              "      if (!google.colab.kernel.accessAllowed) {\n",
              "        return;\n",
              "      }\n",
              "      const div = document.createElement('div');\n",
              "      const label = document.createElement('label');\n",
              "      label.textContent = `Downloading \"${filename}\": `;\n",
              "      div.appendChild(label);\n",
              "      const progress = document.createElement('progress');\n",
              "      progress.max = size;\n",
              "      div.appendChild(progress);\n",
              "      document.body.appendChild(div);\n",
              "\n",
              "      const buffers = [];\n",
              "      let downloaded = 0;\n",
              "\n",
              "      const channel = await google.colab.kernel.comms.open(id);\n",
              "      // Send a message to notify the kernel that we're ready.\n",
              "      channel.send({})\n",
              "\n",
              "      for await (const message of channel.messages) {\n",
              "        // Send a message to notify the kernel that we're ready.\n",
              "        channel.send({})\n",
              "        if (message.buffers) {\n",
              "          for (const buffer of message.buffers) {\n",
              "            buffers.push(buffer);\n",
              "            downloaded += buffer.byteLength;\n",
              "            progress.value = downloaded;\n",
              "          }\n",
              "        }\n",
              "      }\n",
              "      const blob = new Blob(buffers, {type: 'application/binary'});\n",
              "      const a = document.createElement('a');\n",
              "      a.href = window.URL.createObjectURL(blob);\n",
              "      a.download = filename;\n",
              "      div.appendChild(a);\n",
              "      a.click();\n",
              "      div.remove();\n",
              "    }\n",
              "  "
            ],
            "text/plain": [
              "<IPython.core.display.Javascript object>"
            ]
          },
          "metadata": {}
        },
        {
          "output_type": "display_data",
          "data": {
            "application/javascript": [
              "download(\"download_232b072c-4080-416b-b0e9-abc6747cb025\", \"acomodacoes_longe_barato_menor_m2.csv\", 4581)"
            ],
            "text/plain": [
              "<IPython.core.display.Javascript object>"
            ]
          },
          "metadata": {}
        }
      ]
    },
    {
      "cell_type": "markdown",
      "metadata": {
        "id": "-GWTapE0tcTT"
      },
      "source": [
        "Exportar **acomodações mais longe, barato e menor custo-benefício**"
      ]
    },
    {
      "cell_type": "code",
      "metadata": {
        "colab": {
          "base_uri": "https://localhost:8080/",
          "height": 35
        },
        "id": "ZieUluhvtdkl",
        "outputId": "9426c11f-356a-4283-9ded-1dac1a0d2567"
      },
      "source": [
        "print(df_longe_barato_maior_m2.shape)\n",
        "df_longe_barato_maior_m2.index.name = 'index'\n",
        "df_longe_barato_maior_m2.to_csv('acomodacoes_longe_barato_maior_m2.csv')\n",
        "files.download('acomodacoes_longe_barato_maior_m2.csv')"
      ],
      "execution_count": 522,
      "outputs": [
        {
          "output_type": "stream",
          "name": "stdout",
          "text": [
            "(4, 13)\n"
          ]
        },
        {
          "output_type": "display_data",
          "data": {
            "application/javascript": [
              "\n",
              "    async function download(id, filename, size) {\n",
              "      if (!google.colab.kernel.accessAllowed) {\n",
              "        return;\n",
              "      }\n",
              "      const div = document.createElement('div');\n",
              "      const label = document.createElement('label');\n",
              "      label.textContent = `Downloading \"${filename}\": `;\n",
              "      div.appendChild(label);\n",
              "      const progress = document.createElement('progress');\n",
              "      progress.max = size;\n",
              "      div.appendChild(progress);\n",
              "      document.body.appendChild(div);\n",
              "\n",
              "      const buffers = [];\n",
              "      let downloaded = 0;\n",
              "\n",
              "      const channel = await google.colab.kernel.comms.open(id);\n",
              "      // Send a message to notify the kernel that we're ready.\n",
              "      channel.send({})\n",
              "\n",
              "      for await (const message of channel.messages) {\n",
              "        // Send a message to notify the kernel that we're ready.\n",
              "        channel.send({})\n",
              "        if (message.buffers) {\n",
              "          for (const buffer of message.buffers) {\n",
              "            buffers.push(buffer);\n",
              "            downloaded += buffer.byteLength;\n",
              "            progress.value = downloaded;\n",
              "          }\n",
              "        }\n",
              "      }\n",
              "      const blob = new Blob(buffers, {type: 'application/binary'});\n",
              "      const a = document.createElement('a');\n",
              "      a.href = window.URL.createObjectURL(blob);\n",
              "      a.download = filename;\n",
              "      div.appendChild(a);\n",
              "      a.click();\n",
              "      div.remove();\n",
              "    }\n",
              "  "
            ],
            "text/plain": [
              "<IPython.core.display.Javascript object>"
            ]
          },
          "metadata": {}
        },
        {
          "output_type": "display_data",
          "data": {
            "application/javascript": [
              "download(\"download_3ae5d0fc-9e4e-45e7-b953-d08ba1dc7a6d\", \"acomodacoes_longe_barato_maior_m2.csv\", 1589)"
            ],
            "text/plain": [
              "<IPython.core.display.Javascript object>"
            ]
          },
          "metadata": {}
        }
      ]
    },
    {
      "cell_type": "markdown",
      "metadata": {
        "id": "DbJ3MLtOaH4J"
      },
      "source": [
        "#### Acomodações longes e mais **caras**"
      ]
    },
    {
      "cell_type": "code",
      "metadata": {
        "colab": {
          "base_uri": "https://localhost:8080/",
          "height": 225
        },
        "id": "rlNk0LRhThQr",
        "outputId": "c0f31657-f71b-42f9-ad06-8f4ac265fc4a"
      },
      "source": [
        "filtro_mais_caros = (\n",
        "    (df_bairros_longe['total'] >= 1000)\n",
        ")\n",
        "\n",
        "df_bairros_longe_caro = df_bairros_longe[filtro_mais_caros]\n",
        "total_longes_caro = df_bairros_longe_caro.shape[0]\n",
        "print(total_longes_caro)\n",
        "df_bairros_longe_caro.head()"
      ],
      "execution_count": 500,
      "outputs": [
        {
          "output_type": "stream",
          "name": "stdout",
          "text": [
            "44\n"
          ]
        },
        {
          "output_type": "execute_result",
          "data": {
            "text/html": [
              "<div>\n",
              "<style scoped>\n",
              "    .dataframe tbody tr th:only-of-type {\n",
              "        vertical-align: middle;\n",
              "    }\n",
              "\n",
              "    .dataframe tbody tr th {\n",
              "        vertical-align: top;\n",
              "    }\n",
              "\n",
              "    .dataframe thead th {\n",
              "        text-align: right;\n",
              "    }\n",
              "</style>\n",
              "<table border=\"1\" class=\"dataframe\">\n",
              "  <thead>\n",
              "    <tr style=\"text-align: right;\">\n",
              "      <th></th>\n",
              "      <th>imob</th>\n",
              "      <th>codigo</th>\n",
              "      <th>bairro</th>\n",
              "      <th>aluguel</th>\n",
              "      <th>condominio</th>\n",
              "      <th>area</th>\n",
              "      <th>quartos</th>\n",
              "      <th>banheiros</th>\n",
              "      <th>vaga_garagem</th>\n",
              "      <th>descricao</th>\n",
              "      <th>total</th>\n",
              "      <th>preco_m2</th>\n",
              "      <th>dist_unicamp</th>\n",
              "    </tr>\n",
              "  </thead>\n",
              "  <tbody>\n",
              "    <tr>\n",
              "      <th>0</th>\n",
              "      <td>C</td>\n",
              "      <td>57544d6162644c4cec89720f0d0fb27b</td>\n",
              "      <td>JD. Cidade Universitária I</td>\n",
              "      <td>1000.0</td>\n",
              "      <td>0.0</td>\n",
              "      <td>35.0</td>\n",
              "      <td>1</td>\n",
              "      <td>1</td>\n",
              "      <td>0.0</td>\n",
              "      <td>Kitnet próxima à Unicamp (FCA) contendo quarto...</td>\n",
              "      <td>1000.0</td>\n",
              "      <td>28.571429</td>\n",
              "      <td>1.385428</td>\n",
              "    </tr>\n",
              "    <tr>\n",
              "      <th>1</th>\n",
              "      <td>C</td>\n",
              "      <td>00f33a85f39b78148f5941eac174acd2</td>\n",
              "      <td>JD. Cidade Universitária I</td>\n",
              "      <td>1000.0</td>\n",
              "      <td>0.0</td>\n",
              "      <td>35.0</td>\n",
              "      <td>1</td>\n",
              "      <td>1</td>\n",
              "      <td>0.0</td>\n",
              "      <td>Kitnet próxima à Unicamp (FCA) contendo quarto...</td>\n",
              "      <td>1000.0</td>\n",
              "      <td>28.571429</td>\n",
              "      <td>1.385428</td>\n",
              "    </tr>\n",
              "    <tr>\n",
              "      <th>2</th>\n",
              "      <td>C</td>\n",
              "      <td>b62fad32adf34709c628e9833d66b8df</td>\n",
              "      <td>JD. Cidade Universitária I</td>\n",
              "      <td>1000.0</td>\n",
              "      <td>0.0</td>\n",
              "      <td>35.0</td>\n",
              "      <td>1</td>\n",
              "      <td>1</td>\n",
              "      <td>0.0</td>\n",
              "      <td>Kitnet próxima à Unicamp (FCA) contendo quarto...</td>\n",
              "      <td>1000.0</td>\n",
              "      <td>28.571429</td>\n",
              "      <td>1.385428</td>\n",
              "    </tr>\n",
              "    <tr>\n",
              "      <th>3</th>\n",
              "      <td>C</td>\n",
              "      <td>2d7097bf091516c6952950802bd49019</td>\n",
              "      <td>JD. Cidade Universitária I</td>\n",
              "      <td>1000.0</td>\n",
              "      <td>0.0</td>\n",
              "      <td>35.0</td>\n",
              "      <td>1</td>\n",
              "      <td>1</td>\n",
              "      <td>0.0</td>\n",
              "      <td>Kitnet próxima à Unicamp (FCA) contendo quarto...</td>\n",
              "      <td>1000.0</td>\n",
              "      <td>28.571429</td>\n",
              "      <td>1.385428</td>\n",
              "    </tr>\n",
              "    <tr>\n",
              "      <th>4</th>\n",
              "      <td>C</td>\n",
              "      <td>12d0456fa8a537ce311abb5ea43c4b03</td>\n",
              "      <td>JD. Cidade Universitária I</td>\n",
              "      <td>1000.0</td>\n",
              "      <td>0.0</td>\n",
              "      <td>35.0</td>\n",
              "      <td>1</td>\n",
              "      <td>1</td>\n",
              "      <td>0.0</td>\n",
              "      <td>Kitnet próxima à Unicamp (FCA) contendo quarto...</td>\n",
              "      <td>1000.0</td>\n",
              "      <td>28.571429</td>\n",
              "      <td>1.385428</td>\n",
              "    </tr>\n",
              "  </tbody>\n",
              "</table>\n",
              "</div>"
            ],
            "text/plain": [
              "  imob                            codigo  ...   preco_m2  dist_unicamp\n",
              "0    C  57544d6162644c4cec89720f0d0fb27b  ...  28.571429      1.385428\n",
              "1    C  00f33a85f39b78148f5941eac174acd2  ...  28.571429      1.385428\n",
              "2    C  b62fad32adf34709c628e9833d66b8df  ...  28.571429      1.385428\n",
              "3    C  2d7097bf091516c6952950802bd49019  ...  28.571429      1.385428\n",
              "4    C  12d0456fa8a537ce311abb5ea43c4b03  ...  28.571429      1.385428\n",
              "\n",
              "[5 rows x 13 columns]"
            ]
          },
          "metadata": {},
          "execution_count": 500
        }
      ]
    },
    {
      "cell_type": "code",
      "metadata": {
        "colab": {
          "base_uri": "https://localhost:8080/"
        },
        "id": "f9YaOs14aQiW",
        "outputId": "b32fbb33-02fe-4cb8-d939-0401db018165"
      },
      "source": [
        "print(search_key_words(df_bairros_longe_caro, ['garagem', 'vaga', 'carro', 'portão']).shape[0])"
      ],
      "execution_count": 501,
      "outputs": [
        {
          "output_type": "stream",
          "name": "stdout",
          "text": [
            "4\n"
          ]
        }
      ]
    },
    {
      "cell_type": "code",
      "metadata": {
        "colab": {
          "base_uri": "https://localhost:8080/",
          "height": 334
        },
        "id": "ZPHCJ2CfaYhd",
        "outputId": "a0163650-a0da-4466-a6c7-1509105d1b53"
      },
      "source": [
        "plt.figure(figsize=(8, 5))\n",
        "sns.histplot(data=df_bairros_longe_caro, x=\"total\")\n",
        "plt.show()"
      ],
      "execution_count": 502,
      "outputs": [
        {
          "output_type": "display_data",
          "data": {
            "image/png": "[encoded data removed]",
            "text/plain": [
              "<Figure size 576x360 with 1 Axes>"
            ]
          },
          "metadata": {
            "needs_background": "light"
          }
        }
      ]
    },
    {
      "cell_type": "code",
      "metadata": {
        "colab": {
          "base_uri": "https://localhost:8080/",
          "height": 335
        },
        "id": "JR-QgTpGahPa",
        "outputId": "eadaab09-e911-4890-9743-1b97ebbdb70a"
      },
      "source": [
        "plt.figure(figsize=(8, 5))\n",
        "sns.histplot(data=df_bairros_longe_caro, x=\"preco_m2\")\n",
        "plt.show()"
      ],
      "execution_count": 503,
      "outputs": [
        {
          "output_type": "display_data",
          "data": {
            "image/png": "[encoded data removed]",
            "text/plain": [
              "<Figure size 576x360 with 1 Axes>"
            ]
          },
          "metadata": {
            "needs_background": "light"
          }
        }
      ]
    },
    {
      "cell_type": "markdown",
      "metadata": {
        "id": "LvWxCGc8sNtJ"
      },
      "source": [
        "##### Acomodações mais longes, caras e **maior** custo-benefício (preço/m2)"
      ]
    },
    {
      "cell_type": "code",
      "metadata": {
        "colab": {
          "base_uri": "https://localhost:8080/",
          "height": 225
        },
        "id": "iB3YbHc9sR2E",
        "outputId": "dd36dcbc-f6ae-42eb-d55d-825d109a45bd"
      },
      "source": [
        "filtro_caro_menor_m2 = (\n",
        "    ((df_bairros_longe_caro['preco_m2'] < 35) | (df_bairros_longe_caro['preco_m2'].isnull()))\n",
        ")\n",
        "\n",
        "df_longe_caro_menor_m2 = df_bairros_longe_caro[filtro_caro_menor_m2].sort_values(by='total')\n",
        "total_longes_caro_maior_m2 = df_longe_caro_menor_m2.shape[0]\n",
        "print(total_longes_caro_maior_m2)\n",
        "df_longe_caro_menor_m2.head()"
      ],
      "execution_count": 504,
      "outputs": [
        {
          "output_type": "stream",
          "name": "stdout",
          "text": [
            "42\n"
          ]
        },
        {
          "output_type": "execute_result",
          "data": {
            "text/html": [
              "<div>\n",
              "<style scoped>\n",
              "    .dataframe tbody tr th:only-of-type {\n",
              "        vertical-align: middle;\n",
              "    }\n",
              "\n",
              "    .dataframe tbody tr th {\n",
              "        vertical-align: top;\n",
              "    }\n",
              "\n",
              "    .dataframe thead th {\n",
              "        text-align: right;\n",
              "    }\n",
              "</style>\n",
              "<table border=\"1\" class=\"dataframe\">\n",
              "  <thead>\n",
              "    <tr style=\"text-align: right;\">\n",
              "      <th></th>\n",
              "      <th>imob</th>\n",
              "      <th>codigo</th>\n",
              "      <th>bairro</th>\n",
              "      <th>aluguel</th>\n",
              "      <th>condominio</th>\n",
              "      <th>area</th>\n",
              "      <th>quartos</th>\n",
              "      <th>banheiros</th>\n",
              "      <th>vaga_garagem</th>\n",
              "      <th>descricao</th>\n",
              "      <th>total</th>\n",
              "      <th>preco_m2</th>\n",
              "      <th>dist_unicamp</th>\n",
              "    </tr>\n",
              "  </thead>\n",
              "  <tbody>\n",
              "    <tr>\n",
              "      <th>0</th>\n",
              "      <td>C</td>\n",
              "      <td>57544d6162644c4cec89720f0d0fb27b</td>\n",
              "      <td>JD. Cidade Universitária I</td>\n",
              "      <td>1000.0</td>\n",
              "      <td>0.0</td>\n",
              "      <td>35.0</td>\n",
              "      <td>1</td>\n",
              "      <td>1</td>\n",
              "      <td>0.0</td>\n",
              "      <td>Kitnet próxima à Unicamp (FCA) contendo quarto...</td>\n",
              "      <td>1000.0</td>\n",
              "      <td>28.571429</td>\n",
              "      <td>1.385428</td>\n",
              "    </tr>\n",
              "    <tr>\n",
              "      <th>34</th>\n",
              "      <td>B</td>\n",
              "      <td>7ef0dfe78be61f5fd8392d3948fb860c</td>\n",
              "      <td>JD. Cidade Universitária I</td>\n",
              "      <td>1000.0</td>\n",
              "      <td>0.0</td>\n",
              "      <td>NaN</td>\n",
              "      <td>1</td>\n",
              "      <td>1</td>\n",
              "      <td>0.0</td>\n",
              "      <td>Imóvel com: geladeira, fogão, gabinete e mesa ...</td>\n",
              "      <td>1000.0</td>\n",
              "      <td>NaN</td>\n",
              "      <td>1.385428</td>\n",
              "    </tr>\n",
              "    <tr>\n",
              "      <th>35</th>\n",
              "      <td>B</td>\n",
              "      <td>5416c9b0aba5eb43b419b107d3975a76</td>\n",
              "      <td>JD. Cidade Universitária I</td>\n",
              "      <td>1000.0</td>\n",
              "      <td>0.0</td>\n",
              "      <td>50.0</td>\n",
              "      <td>1</td>\n",
              "      <td>1</td>\n",
              "      <td>0.0</td>\n",
              "      <td>Imóvel muito bem localizado Conta com sala  e ...</td>\n",
              "      <td>1000.0</td>\n",
              "      <td>20.000000</td>\n",
              "      <td>1.385428</td>\n",
              "    </tr>\n",
              "    <tr>\n",
              "      <th>36</th>\n",
              "      <td>B</td>\n",
              "      <td>e3ac2c5e0d51230d756de5db78c7452d</td>\n",
              "      <td>JD. Cidade Universitária I</td>\n",
              "      <td>1000.0</td>\n",
              "      <td>0.0</td>\n",
              "      <td>NaN</td>\n",
              "      <td>1</td>\n",
              "      <td>1</td>\n",
              "      <td>0.0</td>\n",
              "      <td>Imóvel em frente à portaria principal da Unica...</td>\n",
              "      <td>1000.0</td>\n",
              "      <td>NaN</td>\n",
              "      <td>1.385428</td>\n",
              "    </tr>\n",
              "    <tr>\n",
              "      <th>37</th>\n",
              "      <td>B</td>\n",
              "      <td>8fb0a0798b0f5b56b77aaf7df6294525</td>\n",
              "      <td>JD. Cidade Universitária I</td>\n",
              "      <td>1000.0</td>\n",
              "      <td>0.0</td>\n",
              "      <td>NaN</td>\n",
              "      <td>1</td>\n",
              "      <td>1</td>\n",
              "      <td>0.0</td>\n",
              "      <td>Imóvel próximo à Unicamp e também com entrada ...</td>\n",
              "      <td>1000.0</td>\n",
              "      <td>NaN</td>\n",
              "      <td>1.385428</td>\n",
              "    </tr>\n",
              "  </tbody>\n",
              "</table>\n",
              "</div>"
            ],
            "text/plain": [
              "   imob                            codigo  ...   preco_m2  dist_unicamp\n",
              "0     C  57544d6162644c4cec89720f0d0fb27b  ...  28.571429      1.385428\n",
              "34    B  7ef0dfe78be61f5fd8392d3948fb860c  ...        NaN      1.385428\n",
              "35    B  5416c9b0aba5eb43b419b107d3975a76  ...  20.000000      1.385428\n",
              "36    B  e3ac2c5e0d51230d756de5db78c7452d  ...        NaN      1.385428\n",
              "37    B  8fb0a0798b0f5b56b77aaf7df6294525  ...        NaN      1.385428\n",
              "\n",
              "[5 rows x 13 columns]"
            ]
          },
          "metadata": {},
          "execution_count": 504
        }
      ]
    },
    {
      "cell_type": "markdown",
      "metadata": {
        "id": "xwcBflERaw_5"
      },
      "source": [
        "##### Acomodações mais longes, caras e **menor** custo-benefício (preço/m2)"
      ]
    },
    {
      "cell_type": "code",
      "metadata": {
        "colab": {
          "base_uri": "https://localhost:8080/",
          "height": 130
        },
        "id": "WkMxcZimalR6",
        "outputId": "5dd52c52-4a1e-43fc-ef0d-00099c8ef821"
      },
      "source": [
        "filtro_caro_maior_m2 = (\n",
        "    (df_bairros_longe_caro['total'] > 1040) & \n",
        "    ((df_bairros_longe_caro['preco_m2'] > 35) | (df_bairros_longe_caro['preco_m2'].isnull()))\n",
        ")\n",
        "\n",
        "df_longe_caro_maior_m2 = df_bairros_longe_caro[filtro_caro_maior_m2].sort_values(by='total')\n",
        "total_longes_caro_menor_m2 = df_longe_caro_maior_m2.shape[0]\n",
        "print(total_longes_caro_menor_m2)\n",
        "df_longe_caro_maior_m2.head()"
      ],
      "execution_count": 505,
      "outputs": [
        {
          "output_type": "stream",
          "name": "stdout",
          "text": [
            "2\n"
          ]
        },
        {
          "output_type": "execute_result",
          "data": {
            "text/html": [
              "<div>\n",
              "<style scoped>\n",
              "    .dataframe tbody tr th:only-of-type {\n",
              "        vertical-align: middle;\n",
              "    }\n",
              "\n",
              "    .dataframe tbody tr th {\n",
              "        vertical-align: top;\n",
              "    }\n",
              "\n",
              "    .dataframe thead th {\n",
              "        text-align: right;\n",
              "    }\n",
              "</style>\n",
              "<table border=\"1\" class=\"dataframe\">\n",
              "  <thead>\n",
              "    <tr style=\"text-align: right;\">\n",
              "      <th></th>\n",
              "      <th>imob</th>\n",
              "      <th>codigo</th>\n",
              "      <th>bairro</th>\n",
              "      <th>aluguel</th>\n",
              "      <th>condominio</th>\n",
              "      <th>area</th>\n",
              "      <th>quartos</th>\n",
              "      <th>banheiros</th>\n",
              "      <th>vaga_garagem</th>\n",
              "      <th>descricao</th>\n",
              "      <th>total</th>\n",
              "      <th>preco_m2</th>\n",
              "      <th>dist_unicamp</th>\n",
              "    </tr>\n",
              "  </thead>\n",
              "  <tbody>\n",
              "    <tr>\n",
              "      <th>25</th>\n",
              "      <td>C</td>\n",
              "      <td>48cf0deecd859f082300f8bb8f2ee7c6</td>\n",
              "      <td>JD. Cidade Universitária I</td>\n",
              "      <td>950.0</td>\n",
              "      <td>100.0</td>\n",
              "      <td>25.0</td>\n",
              "      <td>1</td>\n",
              "      <td>1</td>\n",
              "      <td>0.0</td>\n",
              "      <td>Apartamento localizado no Chacara Antonieta co...</td>\n",
              "      <td>1050.0</td>\n",
              "      <td>42.0</td>\n",
              "      <td>1.385428</td>\n",
              "    </tr>\n",
              "    <tr>\n",
              "      <th>26</th>\n",
              "      <td>C</td>\n",
              "      <td>ded7b202961dd5bb3fd74353a755c6de</td>\n",
              "      <td>JD. Cidade Universitária I</td>\n",
              "      <td>950.0</td>\n",
              "      <td>100.0</td>\n",
              "      <td>25.0</td>\n",
              "      <td>1</td>\n",
              "      <td>1</td>\n",
              "      <td>0.0</td>\n",
              "      <td>Apartamento localizado no Chacara Antonieta co...</td>\n",
              "      <td>1050.0</td>\n",
              "      <td>42.0</td>\n",
              "      <td>1.385428</td>\n",
              "    </tr>\n",
              "  </tbody>\n",
              "</table>\n",
              "</div>"
            ],
            "text/plain": [
              "   imob                            codigo  ... preco_m2  dist_unicamp\n",
              "25    C  48cf0deecd859f082300f8bb8f2ee7c6  ...     42.0      1.385428\n",
              "26    C  ded7b202961dd5bb3fd74353a755c6de  ...     42.0      1.385428\n",
              "\n",
              "[2 rows x 13 columns]"
            ]
          },
          "metadata": {},
          "execution_count": 505
        }
      ]
    },
    {
      "cell_type": "code",
      "metadata": {
        "colab": {
          "base_uri": "https://localhost:8080/"
        },
        "id": "V_ZYa7fdbBXV",
        "outputId": "70ddaef2-ef5a-43e2-bd5f-0acfd6be34fd"
      },
      "source": [
        "print(search_key_words(df_longe_caro_maior_m2, ['garagem', 'vaga', 'carro', 'portão']).shape[0])"
      ],
      "execution_count": 506,
      "outputs": [
        {
          "output_type": "stream",
          "name": "stdout",
          "text": [
            "2\n"
          ]
        }
      ]
    },
    {
      "cell_type": "code",
      "metadata": {
        "colab": {
          "base_uri": "https://localhost:8080/",
          "height": 109
        },
        "id": "RbNWTZm3bKW0",
        "outputId": "677c3ff4-9142-4d95-cdf3-038b46c22285"
      },
      "source": [
        "### Vaga de garagem ###\n",
        "print(acomodacao_com_garagem(25))\n",
        "print(acomodacao_com_servico(25))\n",
        "df_longe_caro_maior_m2.loc[25, 'descricao']"
      ],
      "execution_count": 507,
      "outputs": [
        {
          "output_type": "stream",
          "name": "stdout",
          "text": [
            "True\n",
            "False\n"
          ]
        },
        {
          "output_type": "execute_result",
          "data": {
            "application/vnd.google.colaboratory.intrinsic+json": {
              "type": "string"
            },
            "text/plain": [
              "'Apartamento localizado no Chacara Antonieta contendo quarto e sala conjugados com armário e painel de TV, cozinha planejada com geladeira e fogão, banheiro social, lavanderia e vaga na garagem para 01 carro com portão eletrônico. Acabamento em piso cerâmico e laje.\\n25      M2\\n1       QUARTO COM ARMÁRIO\\n1       SALA COM PAINEL\\n1       COZINHA PLANEJADA COM FOGÃO E GELADEIRA\\n1       BANHEIRO\\n1       LAVANDERIA\\n1       VAGA PARA CARRO COM PORTÃO ELETRÔNICO\\nPISO CERÂMICO\\nTETO LAJE'"
            ]
          },
          "metadata": {},
          "execution_count": 507
        }
      ]
    },
    {
      "cell_type": "code",
      "metadata": {
        "colab": {
          "base_uri": "https://localhost:8080/",
          "height": 109
        },
        "id": "ItTEh3GNbatM",
        "outputId": "247348f1-c1db-4bd2-9ae4-ac4db432b173"
      },
      "source": [
        "### Vaga de garagem ###\n",
        "print(acomodacao_com_garagem(26))\n",
        "print(acomodacao_com_servico(26))\n",
        "df_longe_caro_maior_m2.loc[26, 'descricao']"
      ],
      "execution_count": 508,
      "outputs": [
        {
          "output_type": "stream",
          "name": "stdout",
          "text": [
            "True\n",
            "False\n"
          ]
        },
        {
          "output_type": "execute_result",
          "data": {
            "application/vnd.google.colaboratory.intrinsic+json": {
              "type": "string"
            },
            "text/plain": [
              "'Apartamento localizado no Chacara Antonieta contendo quarto e sala conjugados com armário e painel de TV, cozinha planejada com geladeira e fogão, banheiro social, lavanderia e vaga na garagem para 01 carro com portão eletrônico. Acabamento em piso cerâmico e laje.\\n25      M2\\n1       QUARTO COM ARMÁRIO\\n1       SALA COM PAINEL DE TV\\n1       COZINHA PLANEJADA COM FOGÃO E GELADEIRA\\n1       LAVANDERIA\\n1       VAGA PARA CARRO COM PORTÃO ELETRÔNICO\\nPISO CERÂMICO\\nTETO LAJE'"
            ]
          },
          "metadata": {},
          "execution_count": 508
        }
      ]
    },
    {
      "cell_type": "markdown",
      "metadata": {
        "id": "eHyWqCUAx7zp"
      },
      "source": [
        "#### **VALIDAÇÃO**"
      ]
    },
    {
      "cell_type": "code",
      "metadata": {
        "id": "GS1RikJQx8Lz"
      },
      "source": [
        "assert total_longes_caro_menor_m2 + total_longes_caro_maior_m2 == total_longes_caro"
      ],
      "execution_count": 509,
      "outputs": []
    },
    {
      "cell_type": "code",
      "metadata": {
        "id": "o5AxeiMKyEuW"
      },
      "source": [
        "assert total_longes_barato + total_longes_caro == total_longes"
      ],
      "execution_count": 510,
      "outputs": []
    },
    {
      "cell_type": "code",
      "metadata": {
        "id": "eDWO8NicyeH0"
      },
      "source": [
        "assert total_pertos + total_longes == df_acomodacoes.shape[0]"
      ],
      "execution_count": 511,
      "outputs": []
    },
    {
      "cell_type": "markdown",
      "metadata": {
        "id": "PhlWC6E6yN03"
      },
      "source": [
        "Exportar **acomodações mais longe, caros e custo-benefício**"
      ]
    },
    {
      "cell_type": "code",
      "metadata": {
        "colab": {
          "base_uri": "https://localhost:8080/",
          "height": 35
        },
        "id": "rzF1Kyy2yOIM",
        "outputId": "01129dd8-133c-449f-d066-268fff90d740"
      },
      "source": [
        "print(df_longe_caro_menor_m2.shape)\n",
        "df_longe_caro_menor_m2.index.name = 'index'\n",
        "df_longe_caro_menor_m2.to_csv('acomodacoes_longe_caro_menor_m2.csv')\n",
        "files.download('acomodacoes_longe_caro_menor_m2.csv')"
      ],
      "execution_count": 523,
      "outputs": [
        {
          "output_type": "stream",
          "name": "stdout",
          "text": [
            "(42, 13)\n"
          ]
        },
        {
          "output_type": "display_data",
          "data": {
            "application/javascript": [
              "\n",
              "    async function download(id, filename, size) {\n",
              "      if (!google.colab.kernel.accessAllowed) {\n",
              "        return;\n",
              "      }\n",
              "      const div = document.createElement('div');\n",
              "      const label = document.createElement('label');\n",
              "      label.textContent = `Downloading \"${filename}\": `;\n",
              "      div.appendChild(label);\n",
              "      const progress = document.createElement('progress');\n",
              "      progress.max = size;\n",
              "      div.appendChild(progress);\n",
              "      document.body.appendChild(div);\n",
              "\n",
              "      const buffers = [];\n",
              "      let downloaded = 0;\n",
              "\n",
              "      const channel = await google.colab.kernel.comms.open(id);\n",
              "      // Send a message to notify the kernel that we're ready.\n",
              "      channel.send({})\n",
              "\n",
              "      for await (const message of channel.messages) {\n",
              "        // Send a message to notify the kernel that we're ready.\n",
              "        channel.send({})\n",
              "        if (message.buffers) {\n",
              "          for (const buffer of message.buffers) {\n",
              "            buffers.push(buffer);\n",
              "            downloaded += buffer.byteLength;\n",
              "            progress.value = downloaded;\n",
              "          }\n",
              "        }\n",
              "      }\n",
              "      const blob = new Blob(buffers, {type: 'application/binary'});\n",
              "      const a = document.createElement('a');\n",
              "      a.href = window.URL.createObjectURL(blob);\n",
              "      a.download = filename;\n",
              "      div.appendChild(a);\n",
              "      a.click();\n",
              "      div.remove();\n",
              "    }\n",
              "  "
            ],
            "text/plain": [
              "<IPython.core.display.Javascript object>"
            ]
          },
          "metadata": {}
        },
        {
          "output_type": "display_data",
          "data": {
            "application/javascript": [
              "download(\"download_b66123e0-2084-4ee1-92da-80441f87140a\", \"acomodacoes_longe_caro_menor_m2.csv\", 31181)"
            ],
            "text/plain": [
              "<IPython.core.display.Javascript object>"
            ]
          },
          "metadata": {}
        }
      ]
    },
    {
      "cell_type": "markdown",
      "metadata": {
        "id": "mJuXZNxHoYlj"
      },
      "source": [
        "Exportar **acomodações mais longe, caros e menor custo-benefício**"
      ]
    },
    {
      "cell_type": "code",
      "metadata": {
        "colab": {
          "base_uri": "https://localhost:8080/",
          "height": 35
        },
        "id": "C6g7QxU7oa61",
        "outputId": "389668de-601c-4f65-ad19-54daf839607c"
      },
      "source": [
        "print(df_longe_caro_maior_m2.shape)\n",
        "df_longe_caro_maior_m2.index.name = 'index'\n",
        "df_longe_caro_maior_m2.to_csv('acomodacoes_longe_caro_maior_m2.csv')\n",
        "files.download('acomodacoes_longe_caro_maior_m2.csv')"
      ],
      "execution_count": 524,
      "outputs": [
        {
          "output_type": "stream",
          "name": "stdout",
          "text": [
            "(2, 13)\n"
          ]
        },
        {
          "output_type": "display_data",
          "data": {
            "application/javascript": [
              "\n",
              "    async function download(id, filename, size) {\n",
              "      if (!google.colab.kernel.accessAllowed) {\n",
              "        return;\n",
              "      }\n",
              "      const div = document.createElement('div');\n",
              "      const label = document.createElement('label');\n",
              "      label.textContent = `Downloading \"${filename}\": `;\n",
              "      div.appendChild(label);\n",
              "      const progress = document.createElement('progress');\n",
              "      progress.max = size;\n",
              "      div.appendChild(progress);\n",
              "      document.body.appendChild(div);\n",
              "\n",
              "      const buffers = [];\n",
              "      let downloaded = 0;\n",
              "\n",
              "      const channel = await google.colab.kernel.comms.open(id);\n",
              "      // Send a message to notify the kernel that we're ready.\n",
              "      channel.send({})\n",
              "\n",
              "      for await (const message of channel.messages) {\n",
              "        // Send a message to notify the kernel that we're ready.\n",
              "        channel.send({})\n",
              "        if (message.buffers) {\n",
              "          for (const buffer of message.buffers) {\n",
              "            buffers.push(buffer);\n",
              "            downloaded += buffer.byteLength;\n",
              "            progress.value = downloaded;\n",
              "          }\n",
              "        }\n",
              "      }\n",
              "      const blob = new Blob(buffers, {type: 'application/binary'});\n",
              "      const a = document.createElement('a');\n",
              "      a.href = window.URL.createObjectURL(blob);\n",
              "      a.download = filename;\n",
              "      div.appendChild(a);\n",
              "      a.click();\n",
              "      div.remove();\n",
              "    }\n",
              "  "
            ],
            "text/plain": [
              "<IPython.core.display.Javascript object>"
            ]
          },
          "metadata": {}
        },
        {
          "output_type": "display_data",
          "data": {
            "application/javascript": [
              "download(\"download_9207f68b-89c3-458f-9649-da168686aa75\", \"acomodacoes_longe_caro_maior_m2.csv\", 1339)"
            ],
            "text/plain": [
              "<IPython.core.display.Javascript object>"
            ]
          },
          "metadata": {}
        }
      ]
    },
    {
      "cell_type": "markdown",
      "metadata": {
        "id": "Mwios-3H9ObG"
      },
      "source": [
        "### Validando exportações"
      ]
    },
    {
      "cell_type": "code",
      "metadata": {
        "id": "QIBF-hTt9Q1V"
      },
      "source": [
        "df1 = pd.read_csv('/content/acomodacoes_longe_barato_maior_m2.csv', index_col='index')\n",
        "df2 = pd.read_csv('/content/acomodacoes_longe_barato_menor_m2.csv', index_col='index')\n",
        "df3 = pd.read_csv('/content/acomodacoes_longe_caro_maior_m2.csv', index_col='index')\n",
        "df4 = pd.read_csv('/content/acomodacoes_longe_caro_menor_m2.csv', index_col='index')\n",
        "df5 = pd.read_csv('/content/acomodacoes_perto_barato.csv', index_col='index')\n",
        "df6 = pd.read_csv('/content/acomodacoes_perto_caro.csv', index_col='index')"
      ],
      "execution_count": 525,
      "outputs": []
    },
    {
      "cell_type": "code",
      "metadata": {
        "id": "Z2AUcccl9pwa"
      },
      "source": [
        "total_df1 = df1.shape[0]\n",
        "total_df2 = df2.shape[0]\n",
        "total_df3 = df3.shape[0]\n",
        "total_df4 = df4.shape[0]\n",
        "total_df5 = df5.shape[0]\n",
        "total_df6 = df6.shape[0]"
      ],
      "execution_count": 527,
      "outputs": []
    },
    {
      "cell_type": "code",
      "metadata": {
        "id": "1euc3KQM9n8v"
      },
      "source": [
        "assert (total_df1 + total_df2 + total_df3 + total_df4 + total_df5 + total_df6) == df_acomodacoes.shape[0] "
      ],
      "execution_count": 528,
      "outputs": []
    },
    {
      "cell_type": "markdown",
      "metadata": {
        "id": "HvZhphFA-jF6"
      },
      "source": [
        "## Analisando categorias de acomodações"
      ]
    },
    {
      "cell_type": "code",
      "metadata": {
        "id": "DhT31pYM_JVm"
      },
      "source": [
        "def get_indexes_acomodacao_garagem(df):\n",
        "  return [i for i in list(df.index) if acomodacao_com_garagem(i)]\n",
        "\n",
        "def get_indexes_acomodacao_servicos(df):\n",
        "  return [i for i in list(df.index) if acomodacao_com_servico(i)]"
      ],
      "execution_count": 553,
      "outputs": []
    },
    {
      "cell_type": "markdown",
      "metadata": {
        "id": "wmGCEuFRB7EQ"
      },
      "source": [
        "### Acomodações **longe, barato e maior custo-benefício**"
      ]
    },
    {
      "cell_type": "markdown",
      "metadata": {
        "id": "9C-uGlcr_8pa"
      },
      "source": [
        "**DataFrame 1** possui **3 acomodações** com vaga de garagem E<br>\n",
        "**DataFrame 1** possui **4 acomodações** com algum tipo de \"serviço\" incluso (água, luz, internet)"
      ]
    },
    {
      "cell_type": "code",
      "metadata": {
        "colab": {
          "base_uri": "https://localhost:8080/"
        },
        "id": "0a47kwXR-lfV",
        "outputId": "edfcf08b-177b-43f3-cc71-95fb977667a8"
      },
      "source": [
        "print(get_indexes_acomodacao_garagem(df1))\n",
        "print(get_indexes_acomodacao_servicos(df1))"
      ],
      "execution_count": 555,
      "outputs": [
        {
          "output_type": "stream",
          "name": "stdout",
          "text": [
            "[72, 74, 73]\n",
            "[71, 72, 74, 73]\n"
          ]
        }
      ]
    },
    {
      "cell_type": "code",
      "metadata": {
        "colab": {
          "base_uri": "https://localhost:8080/"
        },
        "id": "F0NxkSBPC1oj",
        "outputId": "d8107e29-7688-4bd8-9397-63fce0a10be9"
      },
      "source": [
        "final_indexes_df1 = set(get_indexes_acomodacao_garagem(df1)).intersection(set(get_indexes_acomodacao_servicos(df1)))\n",
        "final_indexes_df1"
      ],
      "execution_count": 570,
      "outputs": [
        {
          "output_type": "execute_result",
          "data": {
            "text/plain": [
              "{72, 73, 74}"
            ]
          },
          "metadata": {},
          "execution_count": 570
        }
      ]
    },
    {
      "cell_type": "markdown",
      "metadata": {
        "id": "bKMcdPTFCBf8"
      },
      "source": [
        "### Acomodações **longe, barato e menor custo-benefício**"
      ]
    },
    {
      "cell_type": "markdown",
      "metadata": {
        "id": "Peak6NrsAHA-"
      },
      "source": [
        "**DataFrame 2** possui **4 acomodações** com vaga de garagem E<br>\n",
        "**DataFrame 2** possui **8 acomodações** com algum tipo de \"serviço\" incluso (água, luz, internet)"
      ]
    },
    {
      "cell_type": "code",
      "metadata": {
        "colab": {
          "base_uri": "https://localhost:8080/"
        },
        "id": "snOJV5p-AHYG",
        "outputId": "36c6cfec-5743-4df1-efc8-c644b652d9bb"
      },
      "source": [
        "print(get_indexes_acomodacao_garagem(df2))\n",
        "print(get_indexes_acomodacao_servicos(df2))"
      ],
      "execution_count": 556,
      "outputs": [
        {
          "output_type": "stream",
          "name": "stdout",
          "text": [
            "[63, 75, 76, 77]\n",
            "[67, 61, 62, 63, 5, 75, 76, 77]\n"
          ]
        }
      ]
    },
    {
      "cell_type": "code",
      "metadata": {
        "colab": {
          "base_uri": "https://localhost:8080/"
        },
        "id": "XgaVrnfwDG04",
        "outputId": "50183685-8d77-4692-dfb6-a32c0c1e4971"
      },
      "source": [
        "final_indexes_df2 = set(get_indexes_acomodacao_garagem(df2)).intersection(set(get_indexes_acomodacao_servicos(df2)))\n",
        "final_indexes_df2"
      ],
      "execution_count": 572,
      "outputs": [
        {
          "output_type": "execute_result",
          "data": {
            "text/plain": [
              "{63, 75, 76, 77}"
            ]
          },
          "metadata": {},
          "execution_count": 572
        }
      ]
    },
    {
      "cell_type": "markdown",
      "metadata": {
        "id": "mfDOpQRxCD9U"
      },
      "source": [
        "### Acomodações **longe, caro e maior custo-benefício**"
      ]
    },
    {
      "cell_type": "markdown",
      "metadata": {
        "id": "KL2j1RWqAO9D"
      },
      "source": [
        "**DataFrame 3** possui **2 acomodações** com vaga de garagem E<br>\n",
        "**DataFrame 3** possui **0 acomodações** com algum tipo de \"serviço\" incluso (água, luz, internet)"
      ]
    },
    {
      "cell_type": "code",
      "metadata": {
        "colab": {
          "base_uri": "https://localhost:8080/"
        },
        "id": "eTIffW2xAJDf",
        "outputId": "6abb0462-ac75-4840-9940-c898272fb9b4"
      },
      "source": [
        "print(get_indexes_acomodacao_garagem(df3))\n",
        "print(get_indexes_acomodacao_servicos(df3))"
      ],
      "execution_count": 557,
      "outputs": [
        {
          "output_type": "stream",
          "name": "stdout",
          "text": [
            "[25, 26]\n",
            "[]\n"
          ]
        }
      ]
    },
    {
      "cell_type": "code",
      "metadata": {
        "colab": {
          "base_uri": "https://localhost:8080/"
        },
        "id": "vgQkZ63HDJML",
        "outputId": "7ee8793d-8b3f-4ea7-fc40-30b2169115d9"
      },
      "source": [
        "final_indexes_df3 = set(get_indexes_acomodacao_garagem(df3)).intersection(set(get_indexes_acomodacao_servicos(df3)))\n",
        "final_indexes_df3"
      ],
      "execution_count": 573,
      "outputs": [
        {
          "output_type": "execute_result",
          "data": {
            "text/plain": [
              "set()"
            ]
          },
          "metadata": {},
          "execution_count": 573
        }
      ]
    },
    {
      "cell_type": "markdown",
      "metadata": {
        "id": "78haqhyoCGKU"
      },
      "source": [
        "### Acomodações **longe, caro e menor custo-benefício**"
      ]
    },
    {
      "cell_type": "markdown",
      "metadata": {
        "id": "r2FFNyaMAQrX"
      },
      "source": [
        "**DataFrame 4** possui **2 acomodações** com vaga de garagem E<br>\n",
        "**DataFrame 4** possui **20 acomodações** com algum tipo de \"serviço\" incluso (água, luz, internet)"
      ]
    },
    {
      "cell_type": "code",
      "metadata": {
        "colab": {
          "base_uri": "https://localhost:8080/"
        },
        "id": "IWuMQXbeAMfm",
        "outputId": "96bb486e-4c93-4a4f-a68d-a0f823f64e09"
      },
      "source": [
        "print(get_indexes_acomodacao_garagem(df4))\n",
        "print(get_indexes_acomodacao_servicos(df4))"
      ],
      "execution_count": 558,
      "outputs": [
        {
          "output_type": "stream",
          "name": "stdout",
          "text": [
            "[78, 79]\n",
            "[35, 37, 38, 39, 40, 41, 42, 43, 44, 45, 46, 47, 48, 49, 50, 33, 31, 30, 78, 79]\n"
          ]
        }
      ]
    },
    {
      "cell_type": "code",
      "metadata": {
        "colab": {
          "base_uri": "https://localhost:8080/"
        },
        "id": "AgB_99fLDKpE",
        "outputId": "4667af08-2460-4c41-e457-98a66a65fc81"
      },
      "source": [
        "final_indexes_df4 = set(get_indexes_acomodacao_garagem(df4)).intersection(set(get_indexes_acomodacao_servicos(df4)))\n",
        "final_indexes_df4"
      ],
      "execution_count": 574,
      "outputs": [
        {
          "output_type": "execute_result",
          "data": {
            "text/plain": [
              "{78, 79}"
            ]
          },
          "metadata": {},
          "execution_count": 574
        }
      ]
    },
    {
      "cell_type": "markdown",
      "metadata": {
        "id": "970A0JP8CJcW"
      },
      "source": [
        "### Acomodações **perto e barato**"
      ]
    },
    {
      "cell_type": "markdown",
      "metadata": {
        "id": "8il3Pu13ASjG"
      },
      "source": [
        "**DataFrame 5** possui **0 acomodações** com vaga de garagem E<br>\n",
        "**DataFrame 5** possui **1 acomodação** com algum tipo de \"serviço\" incluso (água, luz, internet)"
      ]
    },
    {
      "cell_type": "code",
      "metadata": {
        "colab": {
          "base_uri": "https://localhost:8080/"
        },
        "id": "EzP6njXWANCe",
        "outputId": "39327873-e5d8-4149-9b47-3ba643c147f7"
      },
      "source": [
        "print(get_indexes_acomodacao_garagem(df5))\n",
        "print(get_indexes_acomodacao_servicos(df5))"
      ],
      "execution_count": 559,
      "outputs": [
        {
          "output_type": "stream",
          "name": "stdout",
          "text": [
            "[]\n",
            "[66]\n"
          ]
        }
      ]
    },
    {
      "cell_type": "code",
      "metadata": {
        "colab": {
          "base_uri": "https://localhost:8080/"
        },
        "id": "GDCBnDkBDMGW",
        "outputId": "b6a8c0c8-bd0c-4a04-8d09-71ce7bb9b767"
      },
      "source": [
        "final_indexes_df5 = set(get_indexes_acomodacao_garagem(df5)).intersection(set(get_indexes_acomodacao_servicos(df5)))\n",
        "final_indexes_df5"
      ],
      "execution_count": 575,
      "outputs": [
        {
          "output_type": "execute_result",
          "data": {
            "text/plain": [
              "set()"
            ]
          },
          "metadata": {},
          "execution_count": 575
        }
      ]
    },
    {
      "cell_type": "markdown",
      "metadata": {
        "id": "PSSERN2ACMnU"
      },
      "source": [
        "### Acomodações **perto e caro**"
      ]
    },
    {
      "cell_type": "markdown",
      "metadata": {
        "id": "T6OyHjGGAUSG"
      },
      "source": [
        "**DataFrame 6** possui **0 acomodações** com vaga de garagem E<br>\n",
        "**DataFrame 6** possui **5 acomodações** com algum tipo de \"serviço\" incluso (água, luz, internet)"
      ]
    },
    {
      "cell_type": "code",
      "metadata": {
        "colab": {
          "base_uri": "https://localhost:8080/"
        },
        "id": "OxdJloZnANbs",
        "outputId": "d724f1a3-2e84-49b3-fc0f-ce2b392975d8"
      },
      "source": [
        "print(get_indexes_acomodacao_garagem(df6))\n",
        "print(get_indexes_acomodacao_servicos(df6))"
      ],
      "execution_count": 560,
      "outputs": [
        {
          "output_type": "stream",
          "name": "stdout",
          "text": [
            "[]\n",
            "[51, 52, 53, 54, 55]\n"
          ]
        }
      ]
    },
    {
      "cell_type": "code",
      "metadata": {
        "colab": {
          "base_uri": "https://localhost:8080/"
        },
        "id": "d2nOH1aGDNQi",
        "outputId": "00383e6b-0ad8-45e6-b585-7f325f3ddea4"
      },
      "source": [
        "final_indexes_df6 = set(get_indexes_acomodacao_garagem(df6)).intersection(set(get_indexes_acomodacao_servicos(df6)))\n",
        "final_indexes_df6"
      ],
      "execution_count": 576,
      "outputs": [
        {
          "output_type": "execute_result",
          "data": {
            "text/plain": [
              "set()"
            ]
          },
          "metadata": {},
          "execution_count": 576
        }
      ]
    },
    {
      "cell_type": "markdown",
      "metadata": {
        "id": "05rn8DGXDo1y"
      },
      "source": [
        "### Index das acomodações com vaga de garagem de algum tipo de \"serviço\" incluso"
      ]
    },
    {
      "cell_type": "code",
      "metadata": {
        "colab": {
          "base_uri": "https://localhost:8080/"
        },
        "id": "8upOqFFsDnSm",
        "outputId": "fea03484-b5e5-4e9c-ad93-2fb7fdc3903a"
      },
      "source": [
        "final_indexes = final_indexes_df1.union(final_indexes_df2).union(final_indexes_df3).union(final_indexes_df4).union(final_indexes_df5).union(final_indexes_df6)\n",
        "final_indexes = np.array(list(final_indexes))\n",
        "final_indexes = np.sort(final_indexes)\n",
        "final_indexes"
      ],
      "execution_count": 588,
      "outputs": [
        {
          "output_type": "execute_result",
          "data": {
            "text/plain": [
              "array([63, 72, 73, 74, 75, 76, 77, 78, 79])"
            ]
          },
          "metadata": {},
          "execution_count": 588
        }
      ]
    },
    {
      "cell_type": "code",
      "metadata": {
        "colab": {
          "base_uri": "https://localhost:8080/",
          "height": 17
        },
        "id": "seAlfmYLEDzF",
        "outputId": "ebc048e6-192f-4741-f9b2-c81ffdfd3afa"
      },
      "source": [
        "np.save('final_indexes', final_indexes)\n",
        "files.download('final_indexes.npy')"
      ],
      "execution_count": 591,
      "outputs": [
        {
          "output_type": "display_data",
          "data": {
            "application/javascript": [
              "\n",
              "    async function download(id, filename, size) {\n",
              "      if (!google.colab.kernel.accessAllowed) {\n",
              "        return;\n",
              "      }\n",
              "      const div = document.createElement('div');\n",
              "      const label = document.createElement('label');\n",
              "      label.textContent = `Downloading \"${filename}\": `;\n",
              "      div.appendChild(label);\n",
              "      const progress = document.createElement('progress');\n",
              "      progress.max = size;\n",
              "      div.appendChild(progress);\n",
              "      document.body.appendChild(div);\n",
              "\n",
              "      const buffers = [];\n",
              "      let downloaded = 0;\n",
              "\n",
              "      const channel = await google.colab.kernel.comms.open(id);\n",
              "      // Send a message to notify the kernel that we're ready.\n",
              "      channel.send({})\n",
              "\n",
              "      for await (const message of channel.messages) {\n",
              "        // Send a message to notify the kernel that we're ready.\n",
              "        channel.send({})\n",
              "        if (message.buffers) {\n",
              "          for (const buffer of message.buffers) {\n",
              "            buffers.push(buffer);\n",
              "            downloaded += buffer.byteLength;\n",
              "            progress.value = downloaded;\n",
              "          }\n",
              "        }\n",
              "      }\n",
              "      const blob = new Blob(buffers, {type: 'application/binary'});\n",
              "      const a = document.createElement('a');\n",
              "      a.href = window.URL.createObjectURL(blob);\n",
              "      a.download = filename;\n",
              "      div.appendChild(a);\n",
              "      a.click();\n",
              "      div.remove();\n",
              "    }\n",
              "  "
            ],
            "text/plain": [
              "<IPython.core.display.Javascript object>"
            ]
          },
          "metadata": {}
        },
        {
          "output_type": "display_data",
          "data": {
            "application/javascript": [
              "download(\"download_a6d52b87-b0b6-4595-8e1d-176b4e237556\", \"final_indexes.npy\", 200)"
            ],
            "text/plain": [
              "<IPython.core.display.Javascript object>"
            ]
          },
          "metadata": {}
        }
      ]
    },
    {
      "cell_type": "code",
      "metadata": {
        "colab": {
          "base_uri": "https://localhost:8080/"
        },
        "id": "Ma5dHH8dFK7U",
        "outputId": "64af821a-46f7-4e9c-a391-a8390ceafd82"
      },
      "source": [
        "array_import = np.load('final_indexes.npy')\n",
        "array_import"
      ],
      "execution_count": 592,
      "outputs": [
        {
          "output_type": "execute_result",
          "data": {
            "text/plain": [
              "array([63, 72, 73, 74, 75, 76, 77, 78, 79])"
            ]
          },
          "metadata": {},
          "execution_count": 592
        }
      ]
    }
  ]
}